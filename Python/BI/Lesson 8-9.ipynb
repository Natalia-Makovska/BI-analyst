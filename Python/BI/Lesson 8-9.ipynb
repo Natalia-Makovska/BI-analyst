{
 "cells": [
  {
   "cell_type": "markdown",
   "id": "13c867cd",
   "metadata": {},
   "source": [
    "  # Занятие 8"
   ]
  },
  {
   "cell_type": "markdown",
   "id": "519e062f",
   "metadata": {},
   "source": [
    "### Индексирование логического массива\n",
    "\n",
    "Создаем линейний массив:"
   ]
  },
  {
   "cell_type": "code",
   "execution_count": 1,
   "id": "081e97f3",
   "metadata": {},
   "outputs": [
    {
     "data": {
      "text/plain": [
       "array([ 0,  1,  2,  3,  4,  5,  6,  7,  8,  9, 10, 11, 12, 13, 14, 15, 16,\n",
       "       17, 18, 19])"
      ]
     },
     "execution_count": 1,
     "metadata": {},
     "output_type": "execute_result"
    }
   ],
   "source": [
    "import numpy as np\n",
    "\n",
    "linear_range = np.arange(20)\n",
    "linear_range"
   ]
  },
  {
   "cell_type": "markdown",
   "id": "c466916c",
   "metadata": {},
   "source": [
    "Применяем логические операции (`>`, `<` `==`, `<=`, `>=`) для каждого элемента массива:"
   ]
  },
  {
   "cell_type": "code",
   "execution_count": 2,
   "id": "e1d7d8d0",
   "metadata": {},
   "outputs": [
    {
     "data": {
      "text/plain": [
       "array([ True,  True,  True,  True,  True,  True,  True,  True,  True,\n",
       "        True, False, False, False, False, False, False, False, False,\n",
       "       False, False])"
      ]
     },
     "execution_count": 2,
     "metadata": {},
     "output_type": "execute_result"
    }
   ],
   "source": [
    "linear_range < 10"
   ]
  },
  {
   "cell_type": "code",
   "execution_count": 3,
   "id": "68eeaaab",
   "metadata": {},
   "outputs": [
    {
     "data": {
      "text/plain": [
       "array([False, False, False, False, False, False, False, False, False,\n",
       "       False, False,  True,  True,  True,  True,  True,  True,  True,\n",
       "        True,  True])"
      ]
     },
     "execution_count": 3,
     "metadata": {},
     "output_type": "execute_result"
    }
   ],
   "source": [
    "linear_range > 10"
   ]
  },
  {
   "cell_type": "code",
   "execution_count": 4,
   "id": "23079dce",
   "metadata": {},
   "outputs": [
    {
     "data": {
      "text/plain": [
       "array([False, False, False, False, False, False, False, False, False,\n",
       "       False, False, False, False, False, False, False, False, False,\n",
       "        True,  True])"
      ]
     },
     "execution_count": 4,
     "metadata": {},
     "output_type": "execute_result"
    }
   ],
   "source": [
    "linear_range >= 18"
   ]
  },
  {
   "cell_type": "code",
   "execution_count": 5,
   "id": "5421be42",
   "metadata": {},
   "outputs": [
    {
     "data": {
      "text/plain": [
       "array([ True,  True,  True,  True, False, False, False, False, False,\n",
       "       False, False, False, False, False, False, False, False, False,\n",
       "       False, False])"
      ]
     },
     "execution_count": 5,
     "metadata": {},
     "output_type": "execute_result"
    }
   ],
   "source": [
    "linear_range <= 3"
   ]
  },
  {
   "cell_type": "code",
   "execution_count": 6,
   "id": "0f25d42b",
   "metadata": {
    "scrolled": true
   },
   "outputs": [
    {
     "data": {
      "text/plain": [
       "array([ True, False, False, False, False, False, False, False, False,\n",
       "       False, False, False, False, False, False, False, False, False,\n",
       "       False, False])"
      ]
     },
     "execution_count": 6,
     "metadata": {},
     "output_type": "execute_result"
    }
   ],
   "source": [
    "linear_range == 0"
   ]
  },
  {
   "cell_type": "markdown",
   "id": "58527371",
   "metadata": {},
   "source": [
    "Чтобы получить элементы, которые соответствуют логическому условию, можем записать:"
   ]
  },
  {
   "cell_type": "code",
   "execution_count": 7,
   "id": "937a8eed",
   "metadata": {},
   "outputs": [
    {
     "data": {
      "text/plain": [
       "array([0, 1, 2, 3, 4, 5, 6, 7, 8, 9])"
      ]
     },
     "execution_count": 7,
     "metadata": {},
     "output_type": "execute_result"
    }
   ],
   "source": [
    "linear_range[linear_range < 10] # простое условие"
   ]
  },
  {
   "cell_type": "code",
   "execution_count": 8,
   "id": "9891ec93",
   "metadata": {},
   "outputs": [
    {
     "data": {
      "text/plain": [
       "array([0, 2, 4, 6, 8])"
      ]
     },
     "execution_count": 8,
     "metadata": {},
     "output_type": "execute_result"
    }
   ],
   "source": [
    "linear_range[(linear_range < 10) * (linear_range % 2 == 0)] # более сложное условие"
   ]
  },
  {
   "cell_type": "markdown",
   "id": "e6a4681a",
   "metadata": {},
   "source": [
    "**Для любознательных:** В NumPy массив можно передать другой массив (или обычный `list`, но не `tuple` - он работает иначе) такого же размера, \n",
    "состоящий из значений `True`/`False`. В таком случае второй массив будет использоваться \n",
    "для создания нового масива только с теми элементами, которым соответствует значение `True`."
   ]
  },
  {
   "cell_type": "code",
   "execution_count": 9,
   "id": "2f78ed4d",
   "metadata": {},
   "outputs": [
    {
     "data": {
      "text/plain": [
       "array([1, 0, 1, 0, 0])"
      ]
     },
     "execution_count": 9,
     "metadata": {},
     "output_type": "execute_result"
    }
   ],
   "source": [
    "linear_range_to_5 = np.arange(5)\n",
    "linear_range_to_5[[1, False, True, False, False]]"
   ]
  },
  {
   "cell_type": "markdown",
   "id": "438ce2b2",
   "metadata": {},
   "source": [
    "### Вещание по массиву"
   ]
  },
  {
   "cell_type": "markdown",
   "id": "91f53722",
   "metadata": {},
   "source": [
    "В некоторых случаях арифметические операции на массивах с разными формами разрешены и выполняются с помощью *широковещательной передачи*. При определенных ограничениях меньший массив «транслируется» по большему массиву, так что они имеют совместимые формы. "
   ]
  },
  {
   "cell_type": "code",
   "execution_count": 10,
   "id": "1b3470cd",
   "metadata": {},
   "outputs": [
    {
     "data": {
      "text/plain": [
       "array([[1., 1., 1., 1., 1.],\n",
       "       [1., 1., 1., 1., 1.],\n",
       "       [1., 1., 1., 1., 1.]])"
      ]
     },
     "execution_count": 10,
     "metadata": {},
     "output_type": "execute_result"
    }
   ],
   "source": [
    "first_shape = np.ones((3, 5))\n",
    "first_shape"
   ]
  },
  {
   "cell_type": "code",
   "execution_count": 11,
   "id": "98833fe5",
   "metadata": {},
   "outputs": [
    {
     "data": {
      "text/plain": [
       "array([[3., 3., 3., 3., 3., 3., 3.],\n",
       "       [3., 3., 3., 3., 3., 3., 3.]])"
      ]
     },
     "execution_count": 11,
     "metadata": {},
     "output_type": "execute_result"
    }
   ],
   "source": [
    "second_shape = np.ones((2, 7)) * 3\n",
    "second_shape"
   ]
  },
  {
   "cell_type": "markdown",
   "id": "cb9e767c",
   "metadata": {},
   "source": [
    "NumPy не понимает, как выполнить следующую операцию, ведь формы массивов совершенно разные:"
   ]
  },
  {
   "cell_type": "code",
   "execution_count": 12,
   "id": "e6d32aac",
   "metadata": {},
   "outputs": [],
   "source": [
    "# first_shape + second_shape"
   ]
  },
  {
   "cell_type": "code",
   "execution_count": 13,
   "id": "c08b04d9",
   "metadata": {},
   "outputs": [
    {
     "data": {
      "text/plain": [
       "array([1, 2, 3, 4, 5])"
      ]
     },
     "execution_count": 13,
     "metadata": {},
     "output_type": "execute_result"
    }
   ],
   "source": [
    "# third_shape = np.ones(5) * 2\n",
    "third_shape = np.array([1, 2, 3, 4, 5])\n",
    "third_shape"
   ]
  },
  {
   "cell_type": "markdown",
   "id": "9c08d480",
   "metadata": {},
   "source": [
    "В случае массивов `third_shape` (5,) и `first_shape` (3, 5) имеют одну одинаковую размерность: 5. В таком случае NumPy сможет сделать широковещательную передачу:"
   ]
  },
  {
   "cell_type": "code",
   "execution_count": 14,
   "id": "13a4e05c",
   "metadata": {},
   "outputs": [
    {
     "data": {
      "text/plain": [
       "array([[2., 3., 4., 5., 6.],\n",
       "       [2., 3., 4., 5., 6.],\n",
       "       [2., 3., 4., 5., 6.]])"
      ]
     },
     "execution_count": 14,
     "metadata": {},
     "output_type": "execute_result"
    }
   ],
   "source": [
    "third_shape + first_shape"
   ]
  },
  {
   "cell_type": "markdown",
   "id": "94c18f15",
   "metadata": {},
   "source": [
    "Но это не сработает, если массивы будут размерами (3,) и (3, 5) соответственно:"
   ]
  },
  {
   "cell_type": "code",
   "execution_count": 15,
   "id": "6c0b1aec",
   "metadata": {},
   "outputs": [
    {
     "data": {
      "text/plain": [
       "array([2., 2., 2.])"
      ]
     },
     "execution_count": 15,
     "metadata": {},
     "output_type": "execute_result"
    }
   ],
   "source": [
    "fourth_shape = np.ones(3) * 2\n",
    "fourth_shape"
   ]
  },
  {
   "cell_type": "code",
   "execution_count": 16,
   "id": "f57bd35e",
   "metadata": {},
   "outputs": [],
   "source": [
    "# fourth_shape * first_shape"
   ]
  },
  {
   "cell_type": "markdown",
   "id": "c5777593",
   "metadata": {},
   "source": [
    "Более подробно о мезанизме \"трансляции\" можно почитать в [официальной документации](https://numpy.org/doc/stable/user/basics.broadcasting.html#general-broadcasting-rules)."
   ]
  },
  {
   "cell_type": "markdown",
   "id": "12591f41",
   "metadata": {},
   "source": [
    "### Генерация случайних чисел"
   ]
  },
  {
   "cell_type": "markdown",
   "id": "8d6986b9",
   "metadata": {},
   "source": [
    "Функция `np.random.random` возвращает случайные числа с плавающей запятой в полуоткрытом интервале [0.0, 1.0):"
   ]
  },
  {
   "cell_type": "code",
   "execution_count": 17,
   "id": "9d80a81f",
   "metadata": {},
   "outputs": [
    {
     "data": {
      "text/plain": [
       "array([0.68518349, 0.53977152, 0.37745501, 0.33618044, 0.27525567,\n",
       "       0.47465213, 0.04556795, 0.92332887, 0.42613669, 0.90861963])"
      ]
     },
     "execution_count": 17,
     "metadata": {},
     "output_type": "execute_result"
    }
   ],
   "source": [
    "np.random.random(size=10)"
   ]
  },
  {
   "cell_type": "markdown",
   "id": "9232cf84",
   "metadata": {},
   "source": [
    "Параметр `size` отвечает за форму нового массива:"
   ]
  },
  {
   "cell_type": "code",
   "execution_count": 18,
   "id": "14873501",
   "metadata": {},
   "outputs": [
    {
     "data": {
      "text/plain": [
       "array([[0.32811832, 0.86399515, 0.43642066, 0.60886913, 0.09507117],\n",
       "       [0.19389543, 0.37350269, 0.20149314, 0.41486182, 0.15848894],\n",
       "       [0.92622955, 0.86220865, 0.94962188, 0.29870362, 0.91050235],\n",
       "       [0.24709663, 0.78325202, 0.90600279, 0.60065009, 0.11506721],\n",
       "       [0.33539981, 0.49070861, 0.86686043, 0.31471966, 0.694757  ]])"
      ]
     },
     "execution_count": 18,
     "metadata": {},
     "output_type": "execute_result"
    }
   ],
   "source": [
    "np.random.random(size=(5, 5))"
   ]
  },
  {
   "cell_type": "markdown",
   "id": "997354c3",
   "metadata": {},
   "source": [
    "В `np.random.randint`, помимо `size`, можно передать дипазон случайных значений:"
   ]
  },
  {
   "cell_type": "code",
   "execution_count": 19,
   "id": "44a89f1f",
   "metadata": {},
   "outputs": [
    {
     "data": {
      "text/plain": [
       "array([[5, 7, 8, 7, 8],\n",
       "       [9, 8, 7, 9, 5],\n",
       "       [5, 9, 7, 8, 5],\n",
       "       [6, 5, 8, 9, 7],\n",
       "       [6, 9, 6, 9, 5]])"
      ]
     },
     "execution_count": 19,
     "metadata": {},
     "output_type": "execute_result"
    }
   ],
   "source": [
    "np.random.randint(5, 10, size=(5, 5))"
   ]
  },
  {
   "cell_type": "code",
   "execution_count": 20,
   "id": "11b258c3",
   "metadata": {},
   "outputs": [
    {
     "data": {
      "text/plain": [
       "array([[ True,  True,  True,  True,  True],\n",
       "       [ True,  True,  True,  True,  True],\n",
       "       [False,  True,  True,  True,  True],\n",
       "       [ True,  True,  True, False,  True],\n",
       "       [ True,  True, False,  True, False]])"
      ]
     },
     "execution_count": 20,
     "metadata": {},
     "output_type": "execute_result"
    }
   ],
   "source": [
    "np.random.randint(5, 10, size=(5, 5)) > 5"
   ]
  },
  {
   "cell_type": "markdown",
   "id": "fb7861d2",
   "metadata": {},
   "source": [
    "### Методы `argmin`, `argmax`, `argsort`\n",
    "Создаём новый масив:"
   ]
  },
  {
   "cell_type": "code",
   "execution_count": 21,
   "id": "9e3ea7d5",
   "metadata": {},
   "outputs": [],
   "source": [
    "randint_arr = np.random.randint(10, 100, size=20)"
   ]
  },
  {
   "cell_type": "markdown",
   "id": "3dff272b",
   "metadata": {},
   "source": [
    "`argmin` возвращает **индексы** минимальных значений по оси. Найдем **ИНДЕКС** минимального числа."
   ]
  },
  {
   "cell_type": "code",
   "execution_count": 22,
   "id": "0f3b12cb",
   "metadata": {},
   "outputs": [
    {
     "data": {
      "text/plain": [
       "1"
      ]
     },
     "execution_count": 22,
     "metadata": {},
     "output_type": "execute_result"
    }
   ],
   "source": [
    "randint_arr.argmin(axis=0)"
   ]
  },
  {
   "cell_type": "markdown",
   "id": "6f33d1ee",
   "metadata": {},
   "source": [
    "Теперь, используя этот индекс, получаем само минимальное число:"
   ]
  },
  {
   "cell_type": "code",
   "execution_count": 23,
   "id": "187cbbfe",
   "metadata": {},
   "outputs": [
    {
     "data": {
      "text/plain": [
       "10"
      ]
     },
     "execution_count": 23,
     "metadata": {},
     "output_type": "execute_result"
    }
   ],
   "source": [
    "randint_arr[randint_arr.argmin()]"
   ]
  },
  {
   "cell_type": "markdown",
   "id": "dee51240",
   "metadata": {},
   "source": [
    "Если индекс не важен и надо просто получить минимальное число, можно использовать метод `min`, который сразу возвразает минимальное число."
   ]
  },
  {
   "cell_type": "code",
   "execution_count": 24,
   "id": "cbbde22d",
   "metadata": {},
   "outputs": [
    {
     "data": {
      "text/plain": [
       "10"
      ]
     },
     "execution_count": 24,
     "metadata": {},
     "output_type": "execute_result"
    }
   ],
   "source": [
    "randint_arr.min()"
   ]
  },
  {
   "cell_type": "markdown",
   "id": "466e7388",
   "metadata": {},
   "source": [
    "Аналогично работают `argmax` и `max`:"
   ]
  },
  {
   "cell_type": "code",
   "execution_count": 25,
   "id": "b58adad2",
   "metadata": {},
   "outputs": [
    {
     "data": {
      "text/plain": [
       "15"
      ]
     },
     "execution_count": 25,
     "metadata": {},
     "output_type": "execute_result"
    }
   ],
   "source": [
    "randint_arr.argmax()"
   ]
  },
  {
   "cell_type": "code",
   "execution_count": 26,
   "id": "a9949e15",
   "metadata": {},
   "outputs": [
    {
     "data": {
      "text/plain": [
       "(98, 98)"
      ]
     },
     "execution_count": 26,
     "metadata": {},
     "output_type": "execute_result"
    }
   ],
   "source": [
    "randint_arr.max(), randint_arr[randint_arr.argmax()]"
   ]
  },
  {
   "cell_type": "markdown",
   "id": "2f1f086c",
   "metadata": {},
   "source": [
    "Метод `argsort` возвращает упорядоченные **ИНДЕКСЫ** от самого большого числа, до самого маленького:"
   ]
  },
  {
   "cell_type": "code",
   "execution_count": 27,
   "id": "37f0bbd8",
   "metadata": {},
   "outputs": [
    {
     "data": {
      "text/plain": [
       "array([ 1,  5, 16, 19,  8,  9,  2, 17, 10,  6, 12,  0, 18, 14, 11, 13,  4,\n",
       "        7,  3, 15])"
      ]
     },
     "execution_count": 27,
     "metadata": {},
     "output_type": "execute_result"
    }
   ],
   "source": [
    "randint_arr.argsort()"
   ]
  },
  {
   "cell_type": "code",
   "execution_count": 28,
   "id": "a7f7c68a",
   "metadata": {},
   "outputs": [
    {
     "data": {
      "text/plain": [
       "array([1, 3, 5, 7, 9])"
      ]
     },
     "execution_count": 28,
     "metadata": {},
     "output_type": "execute_result"
    }
   ],
   "source": [
    "np.array([5, 3, 7, 1, 9])[[3, 1, 0, 2, 4]]"
   ]
  },
  {
   "cell_type": "code",
   "execution_count": 29,
   "id": "dc01c1b2",
   "metadata": {},
   "outputs": [
    {
     "data": {
      "text/plain": [
       "array([10, 12, 29, 33, 39, 39, 48, 53, 55, 63, 64, 66, 69, 71, 86, 90, 91,\n",
       "       93, 95, 98])"
      ]
     },
     "execution_count": 29,
     "metadata": {},
     "output_type": "execute_result"
    }
   ],
   "source": [
    "randint_arr[randint_arr.argsort()]"
   ]
  },
  {
   "cell_type": "markdown",
   "id": "24ad4603",
   "metadata": {},
   "source": [
    "### Percentile (Процентиль)"
   ]
  },
  {
   "cell_type": "markdown",
   "id": "1eb62098",
   "metadata": {},
   "source": [
    "Процентиль — мера, в которой процентное значение общих значений равно этой мере или меньше ее. Например, 90 % значений данных находятся ниже 90-го процентиля, а 10 % значений данных находятся ниже 10-го процентиля. Занимательная [статья](https://habr.com/ru/post/274303/) на тему проценетелей.\n",
    "![](https://www.obzorzarplat.ru/_img/forum6.JPG)"
   ]
  },
  {
   "cell_type": "code",
   "execution_count": 30,
   "id": "74cb6f38",
   "metadata": {},
   "outputs": [
    {
     "data": {
      "text/plain": [
       "array([   0,    5,    2,    9,    0,    4,    9,    5,    6,    2,    1,\n",
       "          0,    2,    2,    1,    5,    8,    1,    1,    8, 1000, 1000,\n",
       "       1000, 1000, 1000])"
      ]
     },
     "execution_count": 30,
     "metadata": {},
     "output_type": "execute_result"
    }
   ],
   "source": [
    "randint_arr = np.array([*np.random.randint(0, 10, size=20), 1000, 1000, 1000, 1000, 1000])\n",
    "randint_arr"
   ]
  },
  {
   "cell_type": "code",
   "execution_count": 31,
   "id": "892e2dc0",
   "metadata": {},
   "outputs": [
    {
     "data": {
      "text/plain": [
       "0.40000000000000036"
      ]
     },
     "execution_count": 31,
     "metadata": {},
     "output_type": "execute_result"
    }
   ],
   "source": [
    "np.percentile(randint_arr, 10)"
   ]
  },
  {
   "cell_type": "code",
   "execution_count": 32,
   "id": "ad64050c",
   "metadata": {},
   "outputs": [
    {
     "data": {
      "text/plain": [
       "9.0"
      ]
     },
     "execution_count": 32,
     "metadata": {},
     "output_type": "execute_result"
    }
   ],
   "source": [
    "np.percentile(randint_arr, 75)"
   ]
  },
  {
   "cell_type": "code",
   "execution_count": 33,
   "id": "34bb440b",
   "metadata": {},
   "outputs": [
    {
     "data": {
      "text/plain": [
       "5.0"
      ]
     },
     "execution_count": 33,
     "metadata": {},
     "output_type": "execute_result"
    }
   ],
   "source": [
    "np.percentile(randint_arr, 50)"
   ]
  },
  {
   "cell_type": "markdown",
   "id": "a64f8570",
   "metadata": {},
   "source": [
    "Проверим медиану массива и наглядно убедимся, что она равна 50 персентелю. Чтобы освежить в памяти, что такое медиана: [сслыка](https://pythobyte.com/numpy-median-21908/)."
   ]
  },
  {
   "cell_type": "code",
   "execution_count": 34,
   "id": "6125736b",
   "metadata": {},
   "outputs": [
    {
     "data": {
      "text/plain": [
       "5.0"
      ]
     },
     "execution_count": 34,
     "metadata": {},
     "output_type": "execute_result"
    }
   ],
   "source": [
    "np.median(randint_arr)"
   ]
  },
  {
   "cell_type": "code",
   "execution_count": 35,
   "id": "58020797",
   "metadata": {},
   "outputs": [
    {
     "data": {
      "text/plain": [
       "array([   0,    0,    0,    1,    1,    1,    1,    2,    2,    2,    2,\n",
       "          4,    5,    5,    5,    6,    8,    8,    9,    9, 1000, 1000,\n",
       "       1000, 1000, 1000])"
      ]
     },
     "execution_count": 35,
     "metadata": {},
     "output_type": "execute_result"
    }
   ],
   "source": [
    "np.sort(randint_arr)"
   ]
  },
  {
   "cell_type": "code",
   "execution_count": 36,
   "id": "0f40b5a5",
   "metadata": {},
   "outputs": [
    {
     "data": {
      "text/plain": [
       "0.0"
      ]
     },
     "execution_count": 36,
     "metadata": {},
     "output_type": "execute_result"
    }
   ],
   "source": [
    "np.percentile(randint_arr, 0)"
   ]
  },
  {
   "cell_type": "code",
   "execution_count": 37,
   "id": "625b6045",
   "metadata": {},
   "outputs": [
    {
     "data": {
      "text/plain": [
       "0"
      ]
     },
     "execution_count": 37,
     "metadata": {},
     "output_type": "execute_result"
    }
   ],
   "source": [
    "randint_arr.min()"
   ]
  },
  {
   "cell_type": "code",
   "execution_count": 38,
   "id": "218af0c3",
   "metadata": {},
   "outputs": [
    {
     "data": {
      "text/plain": [
       "1000.0"
      ]
     },
     "execution_count": 38,
     "metadata": {},
     "output_type": "execute_result"
    }
   ],
   "source": [
    "np.percentile(randint_arr, 100)"
   ]
  },
  {
   "cell_type": "code",
   "execution_count": 39,
   "id": "4d6ecf85",
   "metadata": {},
   "outputs": [
    {
     "data": {
      "text/plain": [
       "1000"
      ]
     },
     "execution_count": 39,
     "metadata": {},
     "output_type": "execute_result"
    }
   ],
   "source": [
    "randint_arr.max()"
   ]
  },
  {
   "cell_type": "code",
   "execution_count": 40,
   "id": "8af2456c",
   "metadata": {},
   "outputs": [
    {
     "data": {
      "text/plain": [
       "array([   0,    5,    2,    9,    0,    4,    9,    5,    6,    2,    1,\n",
       "          0,    2,    2,    1,    5,    8,    1,    1,    8, 1000, 1000,\n",
       "       1000, 1000, 1000])"
      ]
     },
     "execution_count": 40,
     "metadata": {},
     "output_type": "execute_result"
    }
   ],
   "source": [
    "randint_arr[randint_arr <= np.percentile(randint_arr, 99)]"
   ]
  },
  {
   "cell_type": "markdown",
   "id": "97fbbbb2",
   "metadata": {},
   "source": [
    "### Сохранение / загрузка массивов в файлы"
   ]
  },
  {
   "cell_type": "markdown",
   "id": "6e698fe6",
   "metadata": {},
   "source": [
    "Задача: сохранить массив NumPy в файл и загрузить массив из файла в новый масив, чтобы убедиться, что мы можем сохранять массивы для дальнейшей работы с ним.\n",
    "\n",
    "Сначала создаем исходный массив:"
   ]
  },
  {
   "cell_type": "code",
   "execution_count": 41,
   "id": "807a9da6",
   "metadata": {},
   "outputs": [
    {
     "data": {
      "text/plain": [
       "array([0, 1, 2, 3, 4, 5, 6, 7, 8, 9])"
      ]
     },
     "execution_count": 41,
     "metadata": {},
     "output_type": "execute_result"
    }
   ],
   "source": [
    "x = np.arange(10)\n",
    "x"
   ]
  },
  {
   "cell_type": "markdown",
   "id": "d8397665",
   "metadata": {},
   "source": [
    "Чтобы сохранить массив, используем функцию `np.save`, в которую передаем имя файла (без расширения или с расширением `.npy`) и сам массив. Если не указать расширение `.npy`, NumPy сам его установит."
   ]
  },
  {
   "cell_type": "code",
   "execution_count": 42,
   "id": "b708b201",
   "metadata": {},
   "outputs": [],
   "source": [
    "np.save('', x)"
   ]
  },
  {
   "cell_type": "markdown",
   "id": "4319f19a",
   "metadata": {},
   "source": [
    "После этого файл сохранён. Загрузим его в другой массив, не используя исходный. Для этого используем функцию `np.load`, в которую передаём название файла:"
   ]
  },
  {
   "cell_type": "code",
   "execution_count": 43,
   "id": "3e24e4b7",
   "metadata": {},
   "outputs": [
    {
     "data": {
      "text/plain": [
       "array([0, 1, 2, 3, 4, 5, 6, 7, 8, 9])"
      ]
     },
     "execution_count": 43,
     "metadata": {},
     "output_type": "execute_result"
    }
   ],
   "source": [
    "y = np.load('array_file.npy')\n",
    "y"
   ]
  },
  {
   "cell_type": "markdown",
   "id": "5297ec2c",
   "metadata": {},
   "source": [
    "Во время закрузки файла с массива **важно** указывать расширение!"
   ]
  },
  {
   "cell_type": "markdown",
   "id": "e5410581",
   "metadata": {},
   "source": [
    "## Pandas - Python data analysis library"
   ]
  },
  {
   "cell_type": "markdown",
   "id": "468ba81d",
   "metadata": {},
   "source": [
    "Чтобы эффективно работать с Pandas, необходимо освоить самые главные структуры данных библиотеки: *DataFrame* и *Series*.\n",
    "\n",
    "Для установки библиотеки напишите в терминале:\n",
    "```shell\n",
    "pip install pandas\n",
    "```"
   ]
  },
  {
   "cell_type": "markdown",
   "id": "40b77471",
   "metadata": {},
   "source": [
    "### Series\n",
    "\n",
    "Структура/объект **Series** представляет из себя объект, похожий на одномерный массив (Python `list`, например), но отличительной его чертой является наличие ассоциированных меток, т.н. индексов, вдоль каждого элемента из списка. Такая особенность делает его похожим на ассоциативный массив или словарь в Python.\n",
    "\n",
    "Импортируем Pandas и создадим Series объект:"
   ]
  },
  {
   "cell_type": "code",
   "execution_count": 44,
   "id": "51fdcb1c",
   "metadata": {},
   "outputs": [],
   "source": [
    "import pandas as pd"
   ]
  },
  {
   "cell_type": "code",
   "execution_count": 45,
   "id": "b731938b",
   "metadata": {},
   "outputs": [
    {
     "data": {
      "text/plain": [
       "0    1\n",
       "1    2\n",
       "2    3\n",
       "3    4\n",
       "4    5\n",
       "dtype: int16"
      ]
     },
     "execution_count": 45,
     "metadata": {},
     "output_type": "execute_result"
    }
   ],
   "source": [
    "series = pd.Series([1, 2, 3, 4, 5], dtype=np.int16)\n",
    "series"
   ]
  },
  {
   "cell_type": "markdown",
   "id": "3abcc33e",
   "metadata": {},
   "source": [
    "В строковом представлении объекта Series, индекс находится слева, а сам элемент справа. Если индекс явно не задан, то pandas автоматически создаёт RangeIndex от 0 до N-1, где N общее количество элементов. Также стоит обратить, что у Series есть тип хранимых элементов, в нашем случае это int64, т.к. мы передали целочисленные значения.\n",
    "\n",
    "У объекта Series есть атрибуты через которые можно получить список элементов и индексы, это values и index соответственно."
   ]
  },
  {
   "cell_type": "code",
   "execution_count": 46,
   "id": "a22e93bf",
   "metadata": {},
   "outputs": [
    {
     "data": {
      "text/plain": [
       "RangeIndex(start=0, stop=5, step=1)"
      ]
     },
     "execution_count": 46,
     "metadata": {},
     "output_type": "execute_result"
    }
   ],
   "source": [
    "series.index"
   ]
  },
  {
   "cell_type": "code",
   "execution_count": 47,
   "id": "588478bd",
   "metadata": {},
   "outputs": [
    {
     "data": {
      "text/plain": [
       "(array([1, 2, 3, 4, 5], dtype=int16), numpy.ndarray)"
      ]
     },
     "execution_count": 47,
     "metadata": {},
     "output_type": "execute_result"
    }
   ],
   "source": [
    "series.values, type(series.values)"
   ]
  },
  {
   "cell_type": "code",
   "execution_count": 48,
   "id": "5a1a0b16",
   "metadata": {},
   "outputs": [
    {
     "data": {
      "text/plain": [
       "5"
      ]
     },
     "execution_count": 48,
     "metadata": {},
     "output_type": "execute_result"
    }
   ],
   "source": [
    "series[4] # series[-1] - не поддерживается"
   ]
  },
  {
   "cell_type": "markdown",
   "id": "ee5b1cba",
   "metadata": {},
   "source": [
    "Индексы можно задавать явно:"
   ]
  },
  {
   "cell_type": "code",
   "execution_count": 49,
   "id": "d2bfce94",
   "metadata": {
    "scrolled": true
   },
   "outputs": [
    {
     "data": {
      "text/plain": [
       "a     5\n",
       "b     6\n",
       "c     7\n",
       "d     8\n",
       "e     9\n",
       "f    10\n",
       "dtype: int64"
      ]
     },
     "execution_count": 49,
     "metadata": {},
     "output_type": "execute_result"
    }
   ],
   "source": [
    "indexed_series = pd.Series([5, 6, 7, 8, 9, 10], index=['a', 'b', 'c', 'd', 'e', 'f'])\n",
    "indexed_series"
   ]
  },
  {
   "cell_type": "code",
   "execution_count": 50,
   "id": "297896d3",
   "metadata": {},
   "outputs": [
    {
     "data": {
      "text/plain": [
       "5"
      ]
     },
     "execution_count": 50,
     "metadata": {},
     "output_type": "execute_result"
    }
   ],
   "source": [
    "indexed_series['a']"
   ]
  },
  {
   "cell_type": "markdown",
   "id": "9be0b8c0",
   "metadata": {},
   "source": [
    "Так же можно делать выборку по нескольким индексам и осуществлять групповое присваивание:"
   ]
  },
  {
   "cell_type": "code",
   "execution_count": 51,
   "id": "2e58b03c",
   "metadata": {},
   "outputs": [
    {
     "data": {
      "text/plain": [
       "a     5\n",
       "b     6\n",
       "f    10\n",
       "dtype: int64"
      ]
     },
     "execution_count": 51,
     "metadata": {},
     "output_type": "execute_result"
    }
   ],
   "source": [
    "indexed_series[['a', 'b', 'f']]"
   ]
  },
  {
   "cell_type": "code",
   "execution_count": 52,
   "id": "54cd00b6",
   "metadata": {},
   "outputs": [
    {
     "data": {
      "text/plain": [
       "a    42\n",
       "b    42\n",
       "c     7\n",
       "d     8\n",
       "e     9\n",
       "f    42\n",
       "dtype: int64"
      ]
     },
     "execution_count": 52,
     "metadata": {},
     "output_type": "execute_result"
    }
   ],
   "source": [
    "indexed_series[['a', 'b', 'f']] = 42\n",
    "indexed_series"
   ]
  },
  {
   "cell_type": "markdown",
   "id": "4b6646d9",
   "metadata": {},
   "source": [
    "Много операций, что справедливы для массивов NumPy, справедливы и для Series:"
   ]
  },
  {
   "cell_type": "code",
   "execution_count": 53,
   "id": "ec028a52",
   "metadata": {},
   "outputs": [
    {
     "data": {
      "text/plain": [
       "a    42\n",
       "b    42\n",
       "e     9\n",
       "f    42\n",
       "dtype: int64"
      ]
     },
     "execution_count": 53,
     "metadata": {},
     "output_type": "execute_result"
    }
   ],
   "source": [
    "indexed_series[indexed_series >= 9]"
   ]
  },
  {
   "cell_type": "code",
   "execution_count": 54,
   "id": "679d314b",
   "metadata": {},
   "outputs": [
    {
     "data": {
      "text/plain": [
       "a    210\n",
       "b    210\n",
       "c     35\n",
       "d     40\n",
       "e     45\n",
       "f    210\n",
       "dtype: int64"
      ]
     },
     "execution_count": 54,
     "metadata": {},
     "output_type": "execute_result"
    }
   ],
   "source": [
    "indexed_series[indexed_series >= 9] * 5\n",
    "indexed_series * 5"
   ]
  },
  {
   "cell_type": "markdown",
   "id": "08ef5dd2",
   "metadata": {},
   "source": [
    "Series умеет работать со словарями, где ключом является индекс, а значением сам элемент, то можно сделать так:"
   ]
  },
  {
   "cell_type": "code",
   "execution_count": 55,
   "id": "bec907f3",
   "metadata": {},
   "outputs": [
    {
     "data": {
      "text/plain": [
       "a    5\n",
       "b    6\n",
       "c    7\n",
       "d    8\n",
       "dtype: int64"
      ]
     },
     "execution_count": 55,
     "metadata": {},
     "output_type": "execute_result"
    }
   ],
   "source": [
    "dict_series = pd.Series({'a': 5, 'b': 6, 'c': 7, 'd': 8})\n",
    "dict_series"
   ]
  },
  {
   "cell_type": "code",
   "execution_count": 56,
   "id": "2dd788aa",
   "metadata": {},
   "outputs": [
    {
     "data": {
      "text/plain": [
       "True"
      ]
     },
     "execution_count": 56,
     "metadata": {},
     "output_type": "execute_result"
    }
   ],
   "source": [
    "'b' in dict_series"
   ]
  },
  {
   "cell_type": "markdown",
   "id": "9cc19b83",
   "metadata": {},
   "source": [
    "У объекта Series и его индекса есть атрибут name, задающий имя объекту и индексу соответственно."
   ]
  },
  {
   "cell_type": "code",
   "execution_count": 57,
   "id": "0be816d9",
   "metadata": {},
   "outputs": [
    {
     "data": {
      "text/plain": [
       "letters\n",
       "a    5\n",
       "b    6\n",
       "c    7\n",
       "d    8\n",
       "Name: Series from dictionary, dtype: int64"
      ]
     },
     "execution_count": 57,
     "metadata": {},
     "output_type": "execute_result"
    }
   ],
   "source": [
    "dict_series.name = 'Series from dictionary'\n",
    "dict_series.index.name = 'letters'\n",
    "dict_series"
   ]
  },
  {
   "cell_type": "markdown",
   "id": "f4d22dc0",
   "metadata": {},
   "source": [
    "Индекс можно поменять \"на лету\", присвоив список атрибуту index объекта Series"
   ]
  },
  {
   "cell_type": "code",
   "execution_count": 58,
   "id": "6966d369",
   "metadata": {},
   "outputs": [
    {
     "data": {
      "text/plain": [
       "1    5\n",
       "2    6\n",
       "3    7\n",
       "4    8\n",
       "Name: Series from dictionary, dtype: int64"
      ]
     },
     "execution_count": 58,
     "metadata": {},
     "output_type": "execute_result"
    }
   ],
   "source": [
    "dict_series.index = [1, 2, 3, 4]\n",
    "dict_series"
   ]
  },
  {
   "cell_type": "markdown",
   "id": "fd1c78a3",
   "metadata": {},
   "source": [
    "**ВАЖНО**: список с индексами по длине должен совпадать с количеством элементов в Series."
   ]
  },
  {
   "cell_type": "markdown",
   "id": "5ac07f8e",
   "metadata": {},
   "source": [
    "### DataFrame"
   ]
  },
  {
   "cell_type": "markdown",
   "id": "51e6abaa",
   "metadata": {},
   "source": [
    "Объект DataFrame лучше всего представлять себе в виде обычной таблицы и это правильно, ведь DataFrame является табличной структурой данных. В любой таблице всегда присутствуют строки и столбцы. Столбцами в объекте DataFrame выступают объекты Series, строки которых являются их непосредственными элементами.\n",
    "\n",
    "DataFrame проще всего понять на примере Python словаря:"
   ]
  },
  {
   "cell_type": "code",
   "execution_count": 59,
   "id": "89278840",
   "metadata": {},
   "outputs": [
    {
     "data": {
      "text/html": [
       "<div>\n",
       "<style scoped>\n",
       "    .dataframe tbody tr th:only-of-type {\n",
       "        vertical-align: middle;\n",
       "    }\n",
       "\n",
       "    .dataframe tbody tr th {\n",
       "        vertical-align: top;\n",
       "    }\n",
       "\n",
       "    .dataframe thead th {\n",
       "        text-align: right;\n",
       "    }\n",
       "</style>\n",
       "<table border=\"1\" class=\"dataframe\">\n",
       "  <thead>\n",
       "    <tr style=\"text-align: right;\">\n",
       "      <th></th>\n",
       "      <th>element</th>\n",
       "      <th>symbol</th>\n",
       "      <th>atomic_number</th>\n",
       "    </tr>\n",
       "  </thead>\n",
       "  <tbody>\n",
       "    <tr>\n",
       "      <th>0</th>\n",
       "      <td>Helium</td>\n",
       "      <td>He</td>\n",
       "      <td>2</td>\n",
       "    </tr>\n",
       "    <tr>\n",
       "      <th>1</th>\n",
       "      <td>Magnesium</td>\n",
       "      <td>Mg</td>\n",
       "      <td>12</td>\n",
       "    </tr>\n",
       "  </tbody>\n",
       "</table>\n",
       "</div>"
      ],
      "text/plain": [
       "     element symbol  atomic_number\n",
       "0     Helium     He              2\n",
       "1  Magnesium     Mg             12"
      ]
     },
     "execution_count": 59,
     "metadata": {},
     "output_type": "execute_result"
    }
   ],
   "source": [
    "df = pd.DataFrame(\n",
    "    [\n",
    "        {\n",
    "            'element': 'Helium', \n",
    "            'symbol': 'He', \n",
    "            'atomic_number': 2\n",
    "        }, \n",
    "        {\n",
    "            'element': 'Magnesium',\n",
    "            'symbol': 'Mg',\n",
    "            'atomic_number': 12\n",
    "        }\n",
    "    ]\n",
    ")\n",
    "df"
   ]
  },
  {
   "cell_type": "markdown",
   "id": "27c04fd6",
   "metadata": {},
   "source": [
    "Чтобы убедиться, что столбец в DataFrame это Series, извлекаем столбец \"symbol\":"
   ]
  },
  {
   "cell_type": "code",
   "execution_count": 60,
   "id": "507eb2cd",
   "metadata": {},
   "outputs": [
    {
     "data": {
      "text/plain": [
       "(0    He\n",
       " 1    Mg\n",
       " Name: symbol, dtype: object,\n",
       " 0    He\n",
       " 1    Mg\n",
       " Name: symbol, dtype: object,\n",
       " pandas.core.series.Series)"
      ]
     },
     "execution_count": 60,
     "metadata": {},
     "output_type": "execute_result"
    }
   ],
   "source": [
    "df['symbol'], df.symbol, type(df.symbol)"
   ]
  },
  {
   "cell_type": "markdown",
   "id": "bc35a944",
   "metadata": {},
   "source": [
    "Объект DataFrame имеет 2 индекса: по строкам и по столбцам. Если индекс по строкам явно не задан (например, колонка по которой нужно их строить), то pandas задаёт целочисленный индекс RangeIndex от 0 до N-1, где N это количество строк в таблице."
   ]
  },
  {
   "cell_type": "code",
   "execution_count": 61,
   "id": "e4b8ca4f",
   "metadata": {},
   "outputs": [
    {
     "data": {
      "text/plain": [
       "Index(['element', 'symbol', 'atomic_number'], dtype='object')"
      ]
     },
     "execution_count": 61,
     "metadata": {},
     "output_type": "execute_result"
    }
   ],
   "source": [
    "df.columns"
   ]
  },
  {
   "cell_type": "code",
   "execution_count": 62,
   "id": "80ed4627",
   "metadata": {},
   "outputs": [
    {
     "data": {
      "text/plain": [
       "RangeIndex(start=0, stop=2, step=1)"
      ]
     },
     "execution_count": 62,
     "metadata": {},
     "output_type": "execute_result"
    }
   ],
   "source": [
    "df.index"
   ]
  },
  {
   "cell_type": "markdown",
   "id": "4c493d45",
   "metadata": {},
   "source": [
    "В таблице у нас 2 элемента от 0 до 1."
   ]
  },
  {
   "cell_type": "markdown",
   "id": "8ee0d550",
   "metadata": {},
   "source": [
    "Признаки NumPy:"
   ]
  },
  {
   "cell_type": "code",
   "execution_count": 63,
   "id": "a6a6e337",
   "metadata": {},
   "outputs": [
    {
     "data": {
      "text/plain": [
       "(2, 3)"
      ]
     },
     "execution_count": 63,
     "metadata": {},
     "output_type": "execute_result"
    }
   ],
   "source": [
    "df.shape"
   ]
  },
  {
   "cell_type": "code",
   "execution_count": 64,
   "id": "30e00005",
   "metadata": {},
   "outputs": [
    {
     "data": {
      "text/html": [
       "<div>\n",
       "<style scoped>\n",
       "    .dataframe tbody tr th:only-of-type {\n",
       "        vertical-align: middle;\n",
       "    }\n",
       "\n",
       "    .dataframe tbody tr th {\n",
       "        vertical-align: top;\n",
       "    }\n",
       "\n",
       "    .dataframe thead th {\n",
       "        text-align: right;\n",
       "    }\n",
       "</style>\n",
       "<table border=\"1\" class=\"dataframe\">\n",
       "  <thead>\n",
       "    <tr style=\"text-align: right;\">\n",
       "      <th></th>\n",
       "      <th>element</th>\n",
       "      <th>symbol</th>\n",
       "    </tr>\n",
       "  </thead>\n",
       "  <tbody>\n",
       "    <tr>\n",
       "      <th>0</th>\n",
       "      <td>Helium</td>\n",
       "      <td>He</td>\n",
       "    </tr>\n",
       "    <tr>\n",
       "      <th>1</th>\n",
       "      <td>Magnesium</td>\n",
       "      <td>Mg</td>\n",
       "    </tr>\n",
       "  </tbody>\n",
       "</table>\n",
       "</div>"
      ],
      "text/plain": [
       "     element symbol\n",
       "0     Helium     He\n",
       "1  Magnesium     Mg"
      ]
     },
     "execution_count": 64,
     "metadata": {},
     "output_type": "execute_result"
    }
   ],
   "source": [
    "df[['element', 'symbol']]"
   ]
  },
  {
   "cell_type": "markdown",
   "id": "4cf7efae",
   "metadata": {},
   "source": [
    "#### Доступ по индексу в DataFrame\n",
    "Индекс по строкам можно задать разными способами, например, при формировании самого объекта DataFrame:"
   ]
  },
  {
   "cell_type": "code",
   "execution_count": 65,
   "id": "fe99265f",
   "metadata": {},
   "outputs": [
    {
     "data": {
      "text/html": [
       "<div>\n",
       "<style scoped>\n",
       "    .dataframe tbody tr th:only-of-type {\n",
       "        vertical-align: middle;\n",
       "    }\n",
       "\n",
       "    .dataframe tbody tr th {\n",
       "        vertical-align: top;\n",
       "    }\n",
       "\n",
       "    .dataframe thead th {\n",
       "        text-align: right;\n",
       "    }\n",
       "</style>\n",
       "<table border=\"1\" class=\"dataframe\">\n",
       "  <thead>\n",
       "    <tr style=\"text-align: right;\">\n",
       "      <th></th>\n",
       "      <th>element</th>\n",
       "      <th>symbol</th>\n",
       "      <th>atomic_number</th>\n",
       "    </tr>\n",
       "  </thead>\n",
       "  <tbody>\n",
       "    <tr>\n",
       "      <th>HE</th>\n",
       "      <td>Helium</td>\n",
       "      <td>He</td>\n",
       "      <td>2</td>\n",
       "    </tr>\n",
       "    <tr>\n",
       "      <th>MG</th>\n",
       "      <td>Magnesium</td>\n",
       "      <td>Mg</td>\n",
       "      <td>12</td>\n",
       "    </tr>\n",
       "  </tbody>\n",
       "</table>\n",
       "</div>"
      ],
      "text/plain": [
       "      element symbol  atomic_number\n",
       "HE     Helium     He              2\n",
       "MG  Magnesium     Mg             12"
      ]
     },
     "execution_count": 65,
     "metadata": {},
     "output_type": "execute_result"
    }
   ],
   "source": [
    "data = [\n",
    "    {\n",
    "        'element': 'Helium', \n",
    "        'symbol': 'He', \n",
    "        'atomic_number': 2\n",
    "    }, \n",
    "    {\n",
    "        'element': 'Magnesium',\n",
    "        'symbol': 'Mg',\n",
    "        'atomic_number': 12\n",
    "    }\n",
    "]\n",
    "indexes = ['HE', 'MG']\n",
    "\n",
    "df = pd.DataFrame(data, index=indexes)\n",
    "df"
   ]
  },
  {
   "cell_type": "markdown",
   "id": "642dbfb8",
   "metadata": {},
   "source": [
    "Или \"на лету\":"
   ]
  },
  {
   "cell_type": "code",
   "execution_count": 66,
   "id": "da6d2afc",
   "metadata": {},
   "outputs": [
    {
     "data": {
      "text/html": [
       "<div>\n",
       "<style scoped>\n",
       "    .dataframe tbody tr th:only-of-type {\n",
       "        vertical-align: middle;\n",
       "    }\n",
       "\n",
       "    .dataframe tbody tr th {\n",
       "        vertical-align: top;\n",
       "    }\n",
       "\n",
       "    .dataframe thead th {\n",
       "        text-align: right;\n",
       "    }\n",
       "</style>\n",
       "<table border=\"1\" class=\"dataframe\">\n",
       "  <thead>\n",
       "    <tr style=\"text-align: right;\">\n",
       "      <th></th>\n",
       "      <th>element</th>\n",
       "      <th>symbol</th>\n",
       "      <th>atomic_number</th>\n",
       "    </tr>\n",
       "    <tr>\n",
       "      <th>Element code</th>\n",
       "      <th></th>\n",
       "      <th></th>\n",
       "      <th></th>\n",
       "    </tr>\n",
       "  </thead>\n",
       "  <tbody>\n",
       "    <tr>\n",
       "      <th>HE</th>\n",
       "      <td>Helium</td>\n",
       "      <td>He</td>\n",
       "      <td>2</td>\n",
       "    </tr>\n",
       "    <tr>\n",
       "      <th>MG</th>\n",
       "      <td>Magnesium</td>\n",
       "      <td>Mg</td>\n",
       "      <td>12</td>\n",
       "    </tr>\n",
       "  </tbody>\n",
       "</table>\n",
       "</div>"
      ],
      "text/plain": [
       "                element symbol  atomic_number\n",
       "Element code                                 \n",
       "HE               Helium     He              2\n",
       "MG            Magnesium     Mg             12"
      ]
     },
     "execution_count": 66,
     "metadata": {},
     "output_type": "execute_result"
    }
   ],
   "source": [
    "df.index = ['HE', 'MG']\n",
    "df.index.name = 'Element code'\n",
    "df"
   ]
  },
  {
   "cell_type": "markdown",
   "id": "75dab4a2",
   "metadata": {},
   "source": [
    "Индексу было задано имя - \"Element code\". \n",
    "\n",
    "**ВАЖНО**: Объекты Series из DataFrame будут иметь те же индексы, что и объект DataFrame:"
   ]
  },
  {
   "cell_type": "code",
   "execution_count": 67,
   "id": "a3400274",
   "metadata": {},
   "outputs": [
    {
     "data": {
      "text/plain": [
       "Element code\n",
       "HE       Helium\n",
       "MG    Magnesium\n",
       "Name: element, dtype: object"
      ]
     },
     "execution_count": 67,
     "metadata": {},
     "output_type": "execute_result"
    }
   ],
   "source": [
    "df['element']"
   ]
  },
  {
   "cell_type": "markdown",
   "id": "8bc89500",
   "metadata": {},
   "source": [
    "#### Доступ по индексу\n",
    "\n",
    "Доступ по индексу возможен несколькими способами:\n",
    "\n",
    "* `.loc` - используется для доступа по строковой метке индекса\n",
    "* `.iloc` - используется для доступа по числовому значению индекса (начиная от 0)"
   ]
  },
  {
   "cell_type": "code",
   "execution_count": 68,
   "id": "42e6c1d0",
   "metadata": {},
   "outputs": [
    {
     "data": {
      "text/plain": [
       "element          Magnesium\n",
       "symbol                  Mg\n",
       "atomic_number           12\n",
       "Name: MG, dtype: object"
      ]
     },
     "execution_count": 68,
     "metadata": {},
     "output_type": "execute_result"
    }
   ],
   "source": [
    "df.loc['MG']"
   ]
  },
  {
   "cell_type": "code",
   "execution_count": 69,
   "id": "72e47022",
   "metadata": {},
   "outputs": [
    {
     "data": {
      "text/plain": [
       "element          Magnesium\n",
       "symbol                  Mg\n",
       "atomic_number           12\n",
       "Name: MG, dtype: object"
      ]
     },
     "execution_count": 69,
     "metadata": {},
     "output_type": "execute_result"
    }
   ],
   "source": [
    "df.iloc[1]"
   ]
  },
  {
   "cell_type": "markdown",
   "id": "8c8d93df",
   "metadata": {},
   "source": [
    "Можно делать выборку по индексу и интересующим колонкам:"
   ]
  },
  {
   "cell_type": "code",
   "execution_count": 70,
   "id": "20a7f7bb",
   "metadata": {},
   "outputs": [
    {
     "data": {
      "text/plain": [
       "Element code\n",
       "HE       Helium\n",
       "MG    Magnesium\n",
       "Name: element, dtype: object"
      ]
     },
     "execution_count": 70,
     "metadata": {},
     "output_type": "execute_result"
    }
   ],
   "source": [
    "df.loc[['HE', 'MG'], 'element']"
   ]
  },
  {
   "cell_type": "code",
   "execution_count": 71,
   "id": "e647121d",
   "metadata": {},
   "outputs": [
    {
     "data": {
      "text/plain": [
       "Element code\n",
       "MG    Mg\n",
       "HE    He\n",
       "Name: symbol, dtype: object"
      ]
     },
     "execution_count": 71,
     "metadata": {},
     "output_type": "execute_result"
    }
   ],
   "source": [
    "df.loc[['MG', 'HE'], 'symbol']"
   ]
  },
  {
   "cell_type": "markdown",
   "id": "a0f7aebe",
   "metadata": {},
   "source": [
    "Как можно заметить, `.loc` в квадратных скобках принимает 2 аргумента: интересующий индекс, в том числе поддерживается slice и колонки:"
   ]
  },
  {
   "cell_type": "code",
   "execution_count": 72,
   "id": "7ae9eee1",
   "metadata": {},
   "outputs": [
    {
     "data": {
      "text/plain": [
       "Element code\n",
       "HE    He\n",
       "MG    Mg\n",
       "Name: symbol, dtype: object"
      ]
     },
     "execution_count": 72,
     "metadata": {},
     "output_type": "execute_result"
    }
   ],
   "source": [
    "df.loc['HE':'MG', 'symbol']"
   ]
  },
  {
   "cell_type": "markdown",
   "id": "d2d8e94b",
   "metadata": {},
   "source": [
    "Обратите внимание, что в последнем примере порядок индексов важен!\n",
    "\n",
    "Можем указать список колонок:"
   ]
  },
  {
   "cell_type": "code",
   "execution_count": 73,
   "id": "14e34f8c",
   "metadata": {},
   "outputs": [
    {
     "data": {
      "text/html": [
       "<div>\n",
       "<style scoped>\n",
       "    .dataframe tbody tr th:only-of-type {\n",
       "        vertical-align: middle;\n",
       "    }\n",
       "\n",
       "    .dataframe tbody tr th {\n",
       "        vertical-align: top;\n",
       "    }\n",
       "\n",
       "    .dataframe thead th {\n",
       "        text-align: right;\n",
       "    }\n",
       "</style>\n",
       "<table border=\"1\" class=\"dataframe\">\n",
       "  <thead>\n",
       "    <tr style=\"text-align: right;\">\n",
       "      <th></th>\n",
       "      <th>symbol</th>\n",
       "    </tr>\n",
       "    <tr>\n",
       "      <th>Element code</th>\n",
       "      <th></th>\n",
       "    </tr>\n",
       "  </thead>\n",
       "  <tbody>\n",
       "    <tr>\n",
       "      <th>HE</th>\n",
       "      <td>He</td>\n",
       "    </tr>\n",
       "    <tr>\n",
       "      <th>MG</th>\n",
       "      <td>Mg</td>\n",
       "    </tr>\n",
       "  </tbody>\n",
       "</table>\n",
       "</div>"
      ],
      "text/plain": [
       "             symbol\n",
       "Element code       \n",
       "HE               He\n",
       "MG               Mg"
      ]
     },
     "execution_count": 73,
     "metadata": {},
     "output_type": "execute_result"
    }
   ],
   "source": [
    "df.loc['HE':'MG', ['symbol']]"
   ]
  },
  {
   "cell_type": "markdown",
   "id": "fad9601c",
   "metadata": {},
   "source": [
    "Или тоже использовать slice для колонок:"
   ]
  },
  {
   "cell_type": "code",
   "execution_count": 74,
   "id": "21819574",
   "metadata": {},
   "outputs": [
    {
     "data": {
      "text/html": [
       "<div>\n",
       "<style scoped>\n",
       "    .dataframe tbody tr th:only-of-type {\n",
       "        vertical-align: middle;\n",
       "    }\n",
       "\n",
       "    .dataframe tbody tr th {\n",
       "        vertical-align: top;\n",
       "    }\n",
       "\n",
       "    .dataframe thead th {\n",
       "        text-align: right;\n",
       "    }\n",
       "</style>\n",
       "<table border=\"1\" class=\"dataframe\">\n",
       "  <thead>\n",
       "    <tr style=\"text-align: right;\">\n",
       "      <th></th>\n",
       "      <th>symbol</th>\n",
       "      <th>atomic_number</th>\n",
       "    </tr>\n",
       "    <tr>\n",
       "      <th>Element code</th>\n",
       "      <th></th>\n",
       "      <th></th>\n",
       "    </tr>\n",
       "  </thead>\n",
       "  <tbody>\n",
       "    <tr>\n",
       "      <th>HE</th>\n",
       "      <td>He</td>\n",
       "      <td>2</td>\n",
       "    </tr>\n",
       "    <tr>\n",
       "      <th>MG</th>\n",
       "      <td>Mg</td>\n",
       "      <td>12</td>\n",
       "    </tr>\n",
       "  </tbody>\n",
       "</table>\n",
       "</div>"
      ],
      "text/plain": [
       "             symbol  atomic_number\n",
       "Element code                      \n",
       "HE               He              2\n",
       "MG               Mg             12"
      ]
     },
     "execution_count": 74,
     "metadata": {},
     "output_type": "execute_result"
    }
   ],
   "source": [
    "df.loc['HE':'MG', 'symbol':'atomic_number']"
   ]
  },
  {
   "cell_type": "markdown",
   "id": "2631b9ec",
   "metadata": {},
   "source": [
    "Фильтровать DataFrame с помощью т.н. булевых массивов:"
   ]
  },
  {
   "cell_type": "code",
   "execution_count": 75,
   "id": "abb0710c",
   "metadata": {},
   "outputs": [
    {
     "data": {
      "text/html": [
       "<div>\n",
       "<style scoped>\n",
       "    .dataframe tbody tr th:only-of-type {\n",
       "        vertical-align: middle;\n",
       "    }\n",
       "\n",
       "    .dataframe tbody tr th {\n",
       "        vertical-align: top;\n",
       "    }\n",
       "\n",
       "    .dataframe thead th {\n",
       "        text-align: right;\n",
       "    }\n",
       "</style>\n",
       "<table border=\"1\" class=\"dataframe\">\n",
       "  <thead>\n",
       "    <tr style=\"text-align: right;\">\n",
       "      <th></th>\n",
       "      <th>element</th>\n",
       "      <th>symbol</th>\n",
       "      <th>atomic_number</th>\n",
       "    </tr>\n",
       "    <tr>\n",
       "      <th>Element code</th>\n",
       "      <th></th>\n",
       "      <th></th>\n",
       "      <th></th>\n",
       "    </tr>\n",
       "  </thead>\n",
       "  <tbody>\n",
       "    <tr>\n",
       "      <th>MG</th>\n",
       "      <td>Magnesium</td>\n",
       "      <td>Mg</td>\n",
       "      <td>12</td>\n",
       "    </tr>\n",
       "  </tbody>\n",
       "</table>\n",
       "</div>"
      ],
      "text/plain": [
       "                element symbol  atomic_number\n",
       "Element code                                 \n",
       "MG            Magnesium     Mg             12"
      ]
     },
     "execution_count": 75,
     "metadata": {},
     "output_type": "execute_result"
    }
   ],
   "source": [
    "df[df.atomic_number > 5]"
   ]
  },
  {
   "cell_type": "markdown",
   "id": "7b3ff4e5",
   "metadata": {},
   "source": [
    "Pandas при операциях над DataFrame, возвращает новый объект DataFrame."
   ]
  },
  {
   "cell_type": "markdown",
   "id": "cb67ea11",
   "metadata": {},
   "source": [
    "Создадим DataFrame с большим колличеством данных. В работах стоит избегать вставки огромного колличества данных в код, вместо этого загружайте эти данных из соответствующих файлов."
   ]
  },
  {
   "cell_type": "code",
   "execution_count": 76,
   "id": "e44bb6e6",
   "metadata": {},
   "outputs": [
    {
     "data": {
      "text/html": [
       "<div>\n",
       "<style scoped>\n",
       "    .dataframe tbody tr th:only-of-type {\n",
       "        vertical-align: middle;\n",
       "    }\n",
       "\n",
       "    .dataframe tbody tr th {\n",
       "        vertical-align: top;\n",
       "    }\n",
       "\n",
       "    .dataframe thead th {\n",
       "        text-align: right;\n",
       "    }\n",
       "</style>\n",
       "<table border=\"1\" class=\"dataframe\">\n",
       "  <thead>\n",
       "    <tr style=\"text-align: right;\">\n",
       "      <th></th>\n",
       "      <th>name</th>\n",
       "      <th>appearance</th>\n",
       "      <th>atomic_mass</th>\n",
       "      <th>boil</th>\n",
       "      <th>category</th>\n",
       "      <th>density</th>\n",
       "      <th>discovered_by</th>\n",
       "      <th>melt</th>\n",
       "      <th>molar_heat</th>\n",
       "      <th>named_by</th>\n",
       "      <th>...</th>\n",
       "      <th>symbol</th>\n",
       "      <th>xpos</th>\n",
       "      <th>ypos</th>\n",
       "      <th>shells</th>\n",
       "      <th>electron_configuration</th>\n",
       "      <th>electron_configuration_semantic</th>\n",
       "      <th>electron_affinity</th>\n",
       "      <th>electronegativity_pauling</th>\n",
       "      <th>ionization_energies</th>\n",
       "      <th>cpk-hex</th>\n",
       "    </tr>\n",
       "  </thead>\n",
       "  <tbody>\n",
       "    <tr>\n",
       "      <th>0</th>\n",
       "      <td>Hydrogen</td>\n",
       "      <td>colorless gas</td>\n",
       "      <td>1.008</td>\n",
       "      <td>20.271</td>\n",
       "      <td>diatomic nonmetal</td>\n",
       "      <td>0.08988</td>\n",
       "      <td>Henry Cavendish</td>\n",
       "      <td>13.99</td>\n",
       "      <td>28.836</td>\n",
       "      <td>Antoine Lavoisier</td>\n",
       "      <td>...</td>\n",
       "      <td>H</td>\n",
       "      <td>1</td>\n",
       "      <td>1</td>\n",
       "      <td>[1]</td>\n",
       "      <td>1s1</td>\n",
       "      <td>1s1</td>\n",
       "      <td>72.769</td>\n",
       "      <td>2.2</td>\n",
       "      <td>[1312]</td>\n",
       "      <td>ffffff</td>\n",
       "    </tr>\n",
       "    <tr>\n",
       "      <th>1</th>\n",
       "      <td>Helium</td>\n",
       "      <td>colorless gas, exhibiting a red-orange glow wh...</td>\n",
       "      <td>4.0026022</td>\n",
       "      <td>4.222</td>\n",
       "      <td>noble gas</td>\n",
       "      <td>0.1786</td>\n",
       "      <td>Pierre Janssen</td>\n",
       "      <td>0.95</td>\n",
       "      <td></td>\n",
       "      <td></td>\n",
       "      <td>...</td>\n",
       "      <td>He</td>\n",
       "      <td>18</td>\n",
       "      <td>1</td>\n",
       "      <td>[2]</td>\n",
       "      <td>1s2</td>\n",
       "      <td>1s2</td>\n",
       "      <td>-48</td>\n",
       "      <td></td>\n",
       "      <td>[2372.3, 5250.5]</td>\n",
       "      <td>d9ffff</td>\n",
       "    </tr>\n",
       "    <tr>\n",
       "      <th>2</th>\n",
       "      <td>Lithium</td>\n",
       "      <td>silvery-white</td>\n",
       "      <td>6.94</td>\n",
       "      <td>1603</td>\n",
       "      <td>alkali metal</td>\n",
       "      <td>0.534</td>\n",
       "      <td>Johan August Arfwedson</td>\n",
       "      <td>453.65</td>\n",
       "      <td>24.86</td>\n",
       "      <td></td>\n",
       "      <td>...</td>\n",
       "      <td>Li</td>\n",
       "      <td>1</td>\n",
       "      <td>2</td>\n",
       "      <td>[2, 1]</td>\n",
       "      <td>1s2 2s1</td>\n",
       "      <td>[He] 2s1</td>\n",
       "      <td>59.6326</td>\n",
       "      <td>0.98</td>\n",
       "      <td>[520.2, 7298.1, 11815]</td>\n",
       "      <td>cc80ff</td>\n",
       "    </tr>\n",
       "    <tr>\n",
       "      <th>3</th>\n",
       "      <td>Beryllium</td>\n",
       "      <td>white-gray metallic</td>\n",
       "      <td>9.01218315</td>\n",
       "      <td>2742</td>\n",
       "      <td>alkaline earth metal</td>\n",
       "      <td>1.85</td>\n",
       "      <td>Louis Nicolas Vauquelin</td>\n",
       "      <td>1560</td>\n",
       "      <td>16.443</td>\n",
       "      <td></td>\n",
       "      <td>...</td>\n",
       "      <td>Be</td>\n",
       "      <td>2</td>\n",
       "      <td>2</td>\n",
       "      <td>[2, 2]</td>\n",
       "      <td>1s2 2s2</td>\n",
       "      <td>[He] 2s2</td>\n",
       "      <td>-48</td>\n",
       "      <td>1.57</td>\n",
       "      <td>[899.5, 1757.1, 14848.7, 21006.6]</td>\n",
       "      <td>c2ff00</td>\n",
       "    </tr>\n",
       "    <tr>\n",
       "      <th>4</th>\n",
       "      <td>Boron</td>\n",
       "      <td>black-brown</td>\n",
       "      <td>10.81</td>\n",
       "      <td>4200</td>\n",
       "      <td>metalloid</td>\n",
       "      <td>2.08</td>\n",
       "      <td>Joseph Louis Gay-Lussac</td>\n",
       "      <td>2349</td>\n",
       "      <td>11.087</td>\n",
       "      <td></td>\n",
       "      <td>...</td>\n",
       "      <td>B</td>\n",
       "      <td>13</td>\n",
       "      <td>2</td>\n",
       "      <td>[2, 3]</td>\n",
       "      <td>1s2 2s2 2p1</td>\n",
       "      <td>[He] 2s2 2p1</td>\n",
       "      <td>26.989</td>\n",
       "      <td>2.04</td>\n",
       "      <td>[800.6, 2427.1, 3659.7, 25025.8, 32826.7]</td>\n",
       "      <td>ffb5b5</td>\n",
       "    </tr>\n",
       "    <tr>\n",
       "      <th>...</th>\n",
       "      <td>...</td>\n",
       "      <td>...</td>\n",
       "      <td>...</td>\n",
       "      <td>...</td>\n",
       "      <td>...</td>\n",
       "      <td>...</td>\n",
       "      <td>...</td>\n",
       "      <td>...</td>\n",
       "      <td>...</td>\n",
       "      <td>...</td>\n",
       "      <td>...</td>\n",
       "      <td>...</td>\n",
       "      <td>...</td>\n",
       "      <td>...</td>\n",
       "      <td>...</td>\n",
       "      <td>...</td>\n",
       "      <td>...</td>\n",
       "      <td>...</td>\n",
       "      <td>...</td>\n",
       "      <td>...</td>\n",
       "      <td>...</td>\n",
       "    </tr>\n",
       "    <tr>\n",
       "      <th>114</th>\n",
       "      <td>Moscovium</td>\n",
       "      <td></td>\n",
       "      <td>289</td>\n",
       "      <td>1400</td>\n",
       "      <td>unknown, probably post-transition metal</td>\n",
       "      <td>13.5</td>\n",
       "      <td>Joint Institute for Nuclear Research</td>\n",
       "      <td>670</td>\n",
       "      <td></td>\n",
       "      <td></td>\n",
       "      <td>...</td>\n",
       "      <td>Mc</td>\n",
       "      <td>15</td>\n",
       "      <td>7</td>\n",
       "      <td>[2, 8, 18, 32, 32, 18, 5]</td>\n",
       "      <td>1s2 2s2 2p6 3s2 3p6 4s2 3d10 4p6 5s2 4d10 5p6 ...</td>\n",
       "      <td>*[Rn] 5f14 6d10 7s2 7p3</td>\n",
       "      <td>35.3</td>\n",
       "      <td></td>\n",
       "      <td>[]</td>\n",
       "      <td></td>\n",
       "    </tr>\n",
       "    <tr>\n",
       "      <th>115</th>\n",
       "      <td>Livermorium</td>\n",
       "      <td></td>\n",
       "      <td>293</td>\n",
       "      <td>1085</td>\n",
       "      <td>unknown, probably post-transition metal</td>\n",
       "      <td>12.9</td>\n",
       "      <td>Joint Institute for Nuclear Research</td>\n",
       "      <td>709</td>\n",
       "      <td></td>\n",
       "      <td></td>\n",
       "      <td>...</td>\n",
       "      <td>Lv</td>\n",
       "      <td>16</td>\n",
       "      <td>7</td>\n",
       "      <td>[2, 8, 18, 32, 32, 18, 6]</td>\n",
       "      <td>1s2 2s2 2p6 3s2 3p6 4s2 3d10 4p6 5s2 4d10 5p6 ...</td>\n",
       "      <td>*[Rn] 5f14 6d10 7s2 7p4</td>\n",
       "      <td>74.9</td>\n",
       "      <td></td>\n",
       "      <td>[]</td>\n",
       "      <td></td>\n",
       "    </tr>\n",
       "    <tr>\n",
       "      <th>116</th>\n",
       "      <td>Tennessine</td>\n",
       "      <td></td>\n",
       "      <td>294</td>\n",
       "      <td>883</td>\n",
       "      <td>unknown, probably metalloid</td>\n",
       "      <td>7.17</td>\n",
       "      <td>Joint Institute for Nuclear Research</td>\n",
       "      <td>723</td>\n",
       "      <td></td>\n",
       "      <td></td>\n",
       "      <td>...</td>\n",
       "      <td>Ts</td>\n",
       "      <td>17</td>\n",
       "      <td>7</td>\n",
       "      <td>[2, 8, 18, 32, 32, 18, 7]</td>\n",
       "      <td>1s2 2s2 2p6 3s2 3p6 4s2 3d10 4p6 5s2 4d10 5p6 ...</td>\n",
       "      <td>*[Rn] 5f14 6d10 7s2 7p5</td>\n",
       "      <td>165.9</td>\n",
       "      <td></td>\n",
       "      <td>[]</td>\n",
       "      <td></td>\n",
       "    </tr>\n",
       "    <tr>\n",
       "      <th>117</th>\n",
       "      <td>Oganesson</td>\n",
       "      <td></td>\n",
       "      <td>294</td>\n",
       "      <td>350</td>\n",
       "      <td>unknown, predicted to be noble gas</td>\n",
       "      <td>4.95</td>\n",
       "      <td>Joint Institute for Nuclear Research</td>\n",
       "      <td></td>\n",
       "      <td></td>\n",
       "      <td></td>\n",
       "      <td>...</td>\n",
       "      <td>Og</td>\n",
       "      <td>18</td>\n",
       "      <td>7</td>\n",
       "      <td>[2, 8, 18, 32, 32, 18, 8]</td>\n",
       "      <td>1s2 2s2 2p6 3s2 3p6 4s2 3d10 4p6 5s2 4d10 5p6 ...</td>\n",
       "      <td>*[Rn] 5f14 6d10 7s2 7p6</td>\n",
       "      <td>5.40318</td>\n",
       "      <td></td>\n",
       "      <td>[]</td>\n",
       "      <td></td>\n",
       "    </tr>\n",
       "    <tr>\n",
       "      <th>118</th>\n",
       "      <td>Ununennium</td>\n",
       "      <td></td>\n",
       "      <td>315</td>\n",
       "      <td>630</td>\n",
       "      <td>unknown, but predicted to be an alkali metal</td>\n",
       "      <td>3</td>\n",
       "      <td>GSI Helmholtz Centre for Heavy Ion Research</td>\n",
       "      <td></td>\n",
       "      <td></td>\n",
       "      <td></td>\n",
       "      <td>...</td>\n",
       "      <td>Uue</td>\n",
       "      <td>1</td>\n",
       "      <td>8</td>\n",
       "      <td>[2, 8, 18, 32, 32, 18, 8, 1]</td>\n",
       "      <td>1s2 2s2 2p6 3s2 3p6 4s2 3d10 4p6 5s2 4d10 5p6 ...</td>\n",
       "      <td>*[Uuo] 8s1</td>\n",
       "      <td>63.87</td>\n",
       "      <td></td>\n",
       "      <td>[]</td>\n",
       "      <td></td>\n",
       "    </tr>\n",
       "  </tbody>\n",
       "</table>\n",
       "<p>119 rows × 26 columns</p>\n",
       "</div>"
      ],
      "text/plain": [
       "            name                                         appearance  \\\n",
       "0       Hydrogen                                      colorless gas   \n",
       "1         Helium  colorless gas, exhibiting a red-orange glow wh...   \n",
       "2        Lithium                                      silvery-white   \n",
       "3      Beryllium                                white-gray metallic   \n",
       "4          Boron                                        black-brown   \n",
       "..           ...                                                ...   \n",
       "114    Moscovium                                                      \n",
       "115  Livermorium                                                      \n",
       "116   Tennessine                                                      \n",
       "117    Oganesson                                                      \n",
       "118   Ununennium                                                      \n",
       "\n",
       "    atomic_mass    boil                                      category  \\\n",
       "0         1.008  20.271                             diatomic nonmetal   \n",
       "1     4.0026022   4.222                                     noble gas   \n",
       "2          6.94    1603                                  alkali metal   \n",
       "3    9.01218315    2742                          alkaline earth metal   \n",
       "4         10.81    4200                                     metalloid   \n",
       "..          ...     ...                                           ...   \n",
       "114         289    1400       unknown, probably post-transition metal   \n",
       "115         293    1085       unknown, probably post-transition metal   \n",
       "116         294     883                   unknown, probably metalloid   \n",
       "117         294     350            unknown, predicted to be noble gas   \n",
       "118         315     630  unknown, but predicted to be an alkali metal   \n",
       "\n",
       "     density                                discovered_by    melt molar_heat  \\\n",
       "0    0.08988                              Henry Cavendish   13.99     28.836   \n",
       "1     0.1786                               Pierre Janssen    0.95              \n",
       "2      0.534                       Johan August Arfwedson  453.65      24.86   \n",
       "3       1.85                      Louis Nicolas Vauquelin    1560     16.443   \n",
       "4       2.08                      Joseph Louis Gay-Lussac    2349     11.087   \n",
       "..       ...                                          ...     ...        ...   \n",
       "114     13.5         Joint Institute for Nuclear Research     670              \n",
       "115     12.9         Joint Institute for Nuclear Research     709              \n",
       "116     7.17         Joint Institute for Nuclear Research     723              \n",
       "117     4.95         Joint Institute for Nuclear Research                      \n",
       "118        3  GSI Helmholtz Centre for Heavy Ion Research                      \n",
       "\n",
       "              named_by  ... symbol xpos ypos                        shells  \\\n",
       "0    Antoine Lavoisier  ...      H    1    1                           [1]   \n",
       "1                       ...     He   18    1                           [2]   \n",
       "2                       ...     Li    1    2                        [2, 1]   \n",
       "3                       ...     Be    2    2                        [2, 2]   \n",
       "4                       ...      B   13    2                        [2, 3]   \n",
       "..                 ...  ...    ...  ...  ...                           ...   \n",
       "114                     ...     Mc   15    7     [2, 8, 18, 32, 32, 18, 5]   \n",
       "115                     ...     Lv   16    7     [2, 8, 18, 32, 32, 18, 6]   \n",
       "116                     ...     Ts   17    7     [2, 8, 18, 32, 32, 18, 7]   \n",
       "117                     ...     Og   18    7     [2, 8, 18, 32, 32, 18, 8]   \n",
       "118                     ...    Uue    1    8  [2, 8, 18, 32, 32, 18, 8, 1]   \n",
       "\n",
       "                                electron_configuration  \\\n",
       "0                                                  1s1   \n",
       "1                                                  1s2   \n",
       "2                                              1s2 2s1   \n",
       "3                                              1s2 2s2   \n",
       "4                                          1s2 2s2 2p1   \n",
       "..                                                 ...   \n",
       "114  1s2 2s2 2p6 3s2 3p6 4s2 3d10 4p6 5s2 4d10 5p6 ...   \n",
       "115  1s2 2s2 2p6 3s2 3p6 4s2 3d10 4p6 5s2 4d10 5p6 ...   \n",
       "116  1s2 2s2 2p6 3s2 3p6 4s2 3d10 4p6 5s2 4d10 5p6 ...   \n",
       "117  1s2 2s2 2p6 3s2 3p6 4s2 3d10 4p6 5s2 4d10 5p6 ...   \n",
       "118  1s2 2s2 2p6 3s2 3p6 4s2 3d10 4p6 5s2 4d10 5p6 ...   \n",
       "\n",
       "    electron_configuration_semantic electron_affinity  \\\n",
       "0                               1s1            72.769   \n",
       "1                               1s2               -48   \n",
       "2                          [He] 2s1           59.6326   \n",
       "3                          [He] 2s2               -48   \n",
       "4                      [He] 2s2 2p1            26.989   \n",
       "..                              ...               ...   \n",
       "114         *[Rn] 5f14 6d10 7s2 7p3              35.3   \n",
       "115         *[Rn] 5f14 6d10 7s2 7p4              74.9   \n",
       "116         *[Rn] 5f14 6d10 7s2 7p5             165.9   \n",
       "117         *[Rn] 5f14 6d10 7s2 7p6           5.40318   \n",
       "118                      *[Uuo] 8s1             63.87   \n",
       "\n",
       "    electronegativity_pauling                        ionization_energies  \\\n",
       "0                         2.2                                     [1312]   \n",
       "1                                                       [2372.3, 5250.5]   \n",
       "2                        0.98                     [520.2, 7298.1, 11815]   \n",
       "3                        1.57          [899.5, 1757.1, 14848.7, 21006.6]   \n",
       "4                        2.04  [800.6, 2427.1, 3659.7, 25025.8, 32826.7]   \n",
       "..                        ...                                        ...   \n",
       "114                                                                   []   \n",
       "115                                                                   []   \n",
       "116                                                                   []   \n",
       "117                                                                   []   \n",
       "118                                                                   []   \n",
       "\n",
       "    cpk-hex  \n",
       "0    ffffff  \n",
       "1    d9ffff  \n",
       "2    cc80ff  \n",
       "3    c2ff00  \n",
       "4    ffb5b5  \n",
       "..      ...  \n",
       "114          \n",
       "115          \n",
       "116          \n",
       "117          \n",
       "118          \n",
       "\n",
       "[119 rows x 26 columns]"
      ]
     },
     "execution_count": 76,
     "metadata": {},
     "output_type": "execute_result"
    }
   ],
   "source": [
    "import json\n",
    "with open('periodic-table.json') as file:\n",
    "    periodic_table_df = pd.DataFrame(json.load(file))\n",
    "    \n",
    "periodic_table_df"
   ]
  },
  {
   "cell_type": "markdown",
   "id": "f279d7db",
   "metadata": {},
   "source": [
    "### Datatypes, type casts\n",
    "\n",
    "В файле таблице выше все отображается корректно, но если мы проверим через код типы данных, то увидим неточности:"
   ]
  },
  {
   "cell_type": "code",
   "execution_count": 77,
   "id": "0e7d59b6",
   "metadata": {},
   "outputs": [
    {
     "data": {
      "text/plain": [
       "0      20.271\n",
       "1       4.222\n",
       "2        1603\n",
       "3        2742\n",
       "4        4200\n",
       "        ...  \n",
       "114      1400\n",
       "115      1085\n",
       "116       883\n",
       "117       350\n",
       "118       630\n",
       "Name: boil, Length: 119, dtype: object"
      ]
     },
     "execution_count": 77,
     "metadata": {},
     "output_type": "execute_result"
    }
   ],
   "source": [
    "periodic_table_df.boil"
   ]
  },
  {
   "cell_type": "code",
   "execution_count": 78,
   "id": "b2e4ec0a",
   "metadata": {},
   "outputs": [
    {
     "data": {
      "text/plain": [
       "0           1.008\n",
       "1       4.0026022\n",
       "2            6.94\n",
       "3      9.01218315\n",
       "4           10.81\n",
       "          ...    \n",
       "114           289\n",
       "115           293\n",
       "116           294\n",
       "117           294\n",
       "118           315\n",
       "Name: atomic_mass, Length: 119, dtype: object"
      ]
     },
     "execution_count": 78,
     "metadata": {},
     "output_type": "execute_result"
    }
   ],
   "source": [
    "periodic_table_df.atomic_mass"
   ]
  },
  {
   "cell_type": "markdown",
   "id": "98c8b40c",
   "metadata": {},
   "source": [
    "Обратите внимание, на `dtype: object`. Это не похоже на `int` или `float` и мы в этом убедимся, если попытаемся выполнить некоторые математические операции с этими данными: `periodic_table_df.atomic_mass / 2`.\n",
    "\n",
    "Все дело в том, что файл из которого загружались данные (json) содержал как значение только строки, даже там где находятся числа, поэтому для Pandas (Numpy) это все просто строки-object.\n",
    "\n",
    "Иногда это просто вызывает ошибки, а иногда это очень опасно, как например в этом случае:"
   ]
  },
  {
   "cell_type": "code",
   "execution_count": 79,
   "id": "ba3bc76f",
   "metadata": {},
   "outputs": [
    {
     "data": {
      "text/plain": [
       "0                1.0081.008\n",
       "1        4.00260224.0026022\n",
       "2                  6.946.94\n",
       "3      9.012183159.01218315\n",
       "4                10.8110.81\n",
       "               ...         \n",
       "114                  289289\n",
       "115                  293293\n",
       "116                  294294\n",
       "117                  294294\n",
       "118                  315315\n",
       "Name: atomic_mass, Length: 119, dtype: object"
      ]
     },
     "execution_count": 79,
     "metadata": {},
     "output_type": "execute_result"
    }
   ],
   "source": [
    "periodic_table_df.atomic_mass * 2"
   ]
  },
  {
   "cell_type": "markdown",
   "id": "93c932c2",
   "metadata": {},
   "source": [
    "Попробуйте ответить, почему это опасно?\n",
    "\n",
    "Чтобы исправить эту проблему, мы можем использовать следующую запись:"
   ]
  },
  {
   "cell_type": "code",
   "execution_count": 80,
   "id": "d790e0bb",
   "metadata": {},
   "outputs": [
    {
     "data": {
      "text/plain": [
       "0        40.531250\n",
       "1         8.445312\n",
       "2      3206.000000\n",
       "3      5484.000000\n",
       "4      8400.000000\n",
       "          ...     \n",
       "114    2800.000000\n",
       "115    2170.000000\n",
       "116    1766.000000\n",
       "117     700.000000\n",
       "118    1260.000000\n",
       "Name: boil, Length: 105, dtype: float16"
      ]
     },
     "execution_count": 80,
     "metadata": {},
     "output_type": "execute_result"
    }
   ],
   "source": [
    "periodic_table_df.boil[periodic_table_df.boil != ''].astype(np.float16) * 2"
   ]
  },
  {
   "cell_type": "markdown",
   "id": "7267bae9",
   "metadata": {},
   "source": [
    "Так же можно использовать типы данных от NumPy:"
   ]
  },
  {
   "cell_type": "code",
   "execution_count": 81,
   "id": "d4a6ffe4",
   "metadata": {},
   "outputs": [
    {
     "data": {
      "text/plain": [
       "0        2.015625\n",
       "1        8.007812\n",
       "2       13.882812\n",
       "3       18.031250\n",
       "4       21.625000\n",
       "          ...    \n",
       "114    578.000000\n",
       "115    586.000000\n",
       "116    588.000000\n",
       "117    588.000000\n",
       "118    630.000000\n",
       "Name: atomic_mass, Length: 119, dtype: float16"
      ]
     },
     "execution_count": 81,
     "metadata": {},
     "output_type": "execute_result"
    }
   ],
   "source": [
    "periodic_table_df.atomic_mass.astype(np.float16) * 2"
   ]
  },
  {
   "cell_type": "markdown",
   "id": "5e172128",
   "metadata": {},
   "source": [
    "### Чтение файлов CSV с помощью Pandas"
   ]
  },
  {
   "cell_type": "code",
   "execution_count": 82,
   "id": "c91aafa8",
   "metadata": {},
   "outputs": [
    {
     "data": {
      "text/html": [
       "<div>\n",
       "<style scoped>\n",
       "    .dataframe tbody tr th:only-of-type {\n",
       "        vertical-align: middle;\n",
       "    }\n",
       "\n",
       "    .dataframe tbody tr th {\n",
       "        vertical-align: top;\n",
       "    }\n",
       "\n",
       "    .dataframe thead th {\n",
       "        text-align: right;\n",
       "    }\n",
       "</style>\n",
       "<table border=\"1\" class=\"dataframe\">\n",
       "  <thead>\n",
       "    <tr style=\"text-align: right;\">\n",
       "      <th></th>\n",
       "      <th>name</th>\n",
       "      <th>appearance</th>\n",
       "      <th>atomic_mass</th>\n",
       "      <th>boil</th>\n",
       "      <th>category</th>\n",
       "      <th>density</th>\n",
       "      <th>discovered_by</th>\n",
       "      <th>melt</th>\n",
       "      <th>molar_heat</th>\n",
       "      <th>named_by</th>\n",
       "      <th>...</th>\n",
       "      <th>symbol</th>\n",
       "      <th>xpos</th>\n",
       "      <th>ypos</th>\n",
       "      <th>shells</th>\n",
       "      <th>electron_configuration</th>\n",
       "      <th>electron_configuration_semantic</th>\n",
       "      <th>electron_affinity</th>\n",
       "      <th>electronegativity_pauling</th>\n",
       "      <th>ionization_energies</th>\n",
       "      <th>cpk-hex</th>\n",
       "    </tr>\n",
       "  </thead>\n",
       "  <tbody>\n",
       "    <tr>\n",
       "      <th>0</th>\n",
       "      <td>Hydrogen</td>\n",
       "      <td>colorless gas</td>\n",
       "      <td>1.008000</td>\n",
       "      <td>20.271</td>\n",
       "      <td>diatomic nonmetal</td>\n",
       "      <td>0.08988</td>\n",
       "      <td>Henry Cavendish</td>\n",
       "      <td>13.99</td>\n",
       "      <td>28.836</td>\n",
       "      <td>Antoine Lavoisier</td>\n",
       "      <td>...</td>\n",
       "      <td>H</td>\n",
       "      <td>1</td>\n",
       "      <td>1</td>\n",
       "      <td>[1]</td>\n",
       "      <td>1s1</td>\n",
       "      <td>1s1</td>\n",
       "      <td>72.7690</td>\n",
       "      <td>2.20</td>\n",
       "      <td>[1312]</td>\n",
       "      <td>ffffff</td>\n",
       "    </tr>\n",
       "    <tr>\n",
       "      <th>1</th>\n",
       "      <td>Helium</td>\n",
       "      <td>colorless gas, exhibiting a red-orange glow wh...</td>\n",
       "      <td>4.002602</td>\n",
       "      <td>4.222</td>\n",
       "      <td>noble gas</td>\n",
       "      <td>0.17860</td>\n",
       "      <td>Pierre Janssen</td>\n",
       "      <td>0.95</td>\n",
       "      <td>NaN</td>\n",
       "      <td>NaN</td>\n",
       "      <td>...</td>\n",
       "      <td>He</td>\n",
       "      <td>18</td>\n",
       "      <td>1</td>\n",
       "      <td>[2]</td>\n",
       "      <td>1s2</td>\n",
       "      <td>1s2</td>\n",
       "      <td>-48.0000</td>\n",
       "      <td>NaN</td>\n",
       "      <td>[2372.3, 5250.5]</td>\n",
       "      <td>d9ffff</td>\n",
       "    </tr>\n",
       "    <tr>\n",
       "      <th>2</th>\n",
       "      <td>Lithium</td>\n",
       "      <td>silvery-white</td>\n",
       "      <td>6.940000</td>\n",
       "      <td>1603.000</td>\n",
       "      <td>alkali metal</td>\n",
       "      <td>0.53400</td>\n",
       "      <td>Johan August Arfwedson</td>\n",
       "      <td>453.65</td>\n",
       "      <td>24.860</td>\n",
       "      <td>NaN</td>\n",
       "      <td>...</td>\n",
       "      <td>Li</td>\n",
       "      <td>1</td>\n",
       "      <td>2</td>\n",
       "      <td>[2, 1]</td>\n",
       "      <td>1s2 2s1</td>\n",
       "      <td>[He] 2s1</td>\n",
       "      <td>59.6326</td>\n",
       "      <td>0.98</td>\n",
       "      <td>[520.2, 7298.1, 11815]</td>\n",
       "      <td>cc80ff</td>\n",
       "    </tr>\n",
       "    <tr>\n",
       "      <th>3</th>\n",
       "      <td>Beryllium</td>\n",
       "      <td>white-gray metallic</td>\n",
       "      <td>9.012183</td>\n",
       "      <td>2742.000</td>\n",
       "      <td>alkaline earth metal</td>\n",
       "      <td>1.85000</td>\n",
       "      <td>Louis Nicolas Vauquelin</td>\n",
       "      <td>1560.00</td>\n",
       "      <td>16.443</td>\n",
       "      <td>NaN</td>\n",
       "      <td>...</td>\n",
       "      <td>Be</td>\n",
       "      <td>2</td>\n",
       "      <td>2</td>\n",
       "      <td>[2, 2]</td>\n",
       "      <td>1s2 2s2</td>\n",
       "      <td>[He] 2s2</td>\n",
       "      <td>-48.0000</td>\n",
       "      <td>1.57</td>\n",
       "      <td>[899.5, 1757.1, 14848.7, 21006.6]</td>\n",
       "      <td>c2ff00</td>\n",
       "    </tr>\n",
       "    <tr>\n",
       "      <th>4</th>\n",
       "      <td>Boron</td>\n",
       "      <td>black-brown</td>\n",
       "      <td>10.810000</td>\n",
       "      <td>4200.000</td>\n",
       "      <td>metalloid</td>\n",
       "      <td>2.08000</td>\n",
       "      <td>Joseph Louis Gay-Lussac</td>\n",
       "      <td>2349.00</td>\n",
       "      <td>11.087</td>\n",
       "      <td>NaN</td>\n",
       "      <td>...</td>\n",
       "      <td>B</td>\n",
       "      <td>13</td>\n",
       "      <td>2</td>\n",
       "      <td>[2, 3]</td>\n",
       "      <td>1s2 2s2 2p1</td>\n",
       "      <td>[He] 2s2 2p1</td>\n",
       "      <td>26.9890</td>\n",
       "      <td>2.04</td>\n",
       "      <td>[800.6, 2427.1, 3659.7, 25025.8, 32826.7]</td>\n",
       "      <td>ffb5b5</td>\n",
       "    </tr>\n",
       "  </tbody>\n",
       "</table>\n",
       "<p>5 rows × 26 columns</p>\n",
       "</div>"
      ],
      "text/plain": [
       "        name                                         appearance  atomic_mass  \\\n",
       "0   Hydrogen                                      colorless gas     1.008000   \n",
       "1     Helium  colorless gas, exhibiting a red-orange glow wh...     4.002602   \n",
       "2    Lithium                                      silvery-white     6.940000   \n",
       "3  Beryllium                                white-gray metallic     9.012183   \n",
       "4      Boron                                        black-brown    10.810000   \n",
       "\n",
       "       boil              category  density            discovered_by     melt  \\\n",
       "0    20.271     diatomic nonmetal  0.08988          Henry Cavendish    13.99   \n",
       "1     4.222             noble gas  0.17860           Pierre Janssen     0.95   \n",
       "2  1603.000          alkali metal  0.53400   Johan August Arfwedson   453.65   \n",
       "3  2742.000  alkaline earth metal  1.85000  Louis Nicolas Vauquelin  1560.00   \n",
       "4  4200.000             metalloid  2.08000  Joseph Louis Gay-Lussac  2349.00   \n",
       "\n",
       "   molar_heat           named_by  ...  symbol  xpos ypos  shells  \\\n",
       "0      28.836  Antoine Lavoisier  ...       H     1    1     [1]   \n",
       "1         NaN                NaN  ...      He    18    1     [2]   \n",
       "2      24.860                NaN  ...      Li     1    2  [2, 1]   \n",
       "3      16.443                NaN  ...      Be     2    2  [2, 2]   \n",
       "4      11.087                NaN  ...       B    13    2  [2, 3]   \n",
       "\n",
       "  electron_configuration electron_configuration_semantic electron_affinity  \\\n",
       "0                    1s1                             1s1           72.7690   \n",
       "1                    1s2                             1s2          -48.0000   \n",
       "2                1s2 2s1                        [He] 2s1           59.6326   \n",
       "3                1s2 2s2                        [He] 2s2          -48.0000   \n",
       "4            1s2 2s2 2p1                    [He] 2s2 2p1           26.9890   \n",
       "\n",
       "   electronegativity_pauling                        ionization_energies  \\\n",
       "0                       2.20                                     [1312]   \n",
       "1                        NaN                           [2372.3, 5250.5]   \n",
       "2                       0.98                     [520.2, 7298.1, 11815]   \n",
       "3                       1.57          [899.5, 1757.1, 14848.7, 21006.6]   \n",
       "4                       2.04  [800.6, 2427.1, 3659.7, 25025.8, 32826.7]   \n",
       "\n",
       "  cpk-hex  \n",
       "0  ffffff  \n",
       "1  d9ffff  \n",
       "2  cc80ff  \n",
       "3  c2ff00  \n",
       "4  ffb5b5  \n",
       "\n",
       "[5 rows x 26 columns]"
      ]
     },
     "execution_count": 82,
     "metadata": {},
     "output_type": "execute_result"
    }
   ],
   "source": [
    "df = pd.read_csv('periodic-table.csv')\n",
    "df.head(5)"
   ]
  },
  {
   "cell_type": "markdown",
   "id": "3078bccb",
   "metadata": {},
   "source": [
    "#### Генерация общей статистики\n",
    "\n",
    "Генерация общей статистики использует числовые значения и объекты, которые могут быть сведены к числу, и генерирует общие показатели:"
   ]
  },
  {
   "cell_type": "code",
   "execution_count": 83,
   "id": "fc35ea23",
   "metadata": {
    "scrolled": true
   },
   "outputs": [
    {
     "data": {
      "text/html": [
       "<div>\n",
       "<style scoped>\n",
       "    .dataframe tbody tr th:only-of-type {\n",
       "        vertical-align: middle;\n",
       "    }\n",
       "\n",
       "    .dataframe tbody tr th {\n",
       "        vertical-align: top;\n",
       "    }\n",
       "\n",
       "    .dataframe thead th {\n",
       "        text-align: right;\n",
       "    }\n",
       "</style>\n",
       "<table border=\"1\" class=\"dataframe\">\n",
       "  <thead>\n",
       "    <tr style=\"text-align: right;\">\n",
       "      <th></th>\n",
       "      <th>atomic_mass</th>\n",
       "      <th>boil</th>\n",
       "      <th>density</th>\n",
       "      <th>melt</th>\n",
       "      <th>molar_heat</th>\n",
       "      <th>number</th>\n",
       "      <th>period</th>\n",
       "      <th>xpos</th>\n",
       "      <th>ypos</th>\n",
       "      <th>electron_affinity</th>\n",
       "      <th>electronegativity_pauling</th>\n",
       "    </tr>\n",
       "  </thead>\n",
       "  <tbody>\n",
       "    <tr>\n",
       "      <th>count</th>\n",
       "      <td>119.000000</td>\n",
       "      <td>105.000000</td>\n",
       "      <td>115.000000</td>\n",
       "      <td>107.000000</td>\n",
       "      <td>78.000000</td>\n",
       "      <td>119.000000</td>\n",
       "      <td>119.000000</td>\n",
       "      <td>119.000000</td>\n",
       "      <td>119.000000</td>\n",
       "      <td>110.000000</td>\n",
       "      <td>100.000000</td>\n",
       "    </tr>\n",
       "    <tr>\n",
       "      <th>mean</th>\n",
       "      <td>147.904483</td>\n",
       "      <td>2457.306981</td>\n",
       "      <td>9.972500</td>\n",
       "      <td>1233.424281</td>\n",
       "      <td>26.305090</td>\n",
       "      <td>60.000000</td>\n",
       "      <td>5.277311</td>\n",
       "      <td>10.000000</td>\n",
       "      <td>6.033613</td>\n",
       "      <td>56.087864</td>\n",
       "      <td>1.707400</td>\n",
       "    </tr>\n",
       "    <tr>\n",
       "      <th>std</th>\n",
       "      <td>90.613592</td>\n",
       "      <td>1595.480116</td>\n",
       "      <td>8.599184</td>\n",
       "      <td>855.956156</td>\n",
       "      <td>5.623312</td>\n",
       "      <td>34.496377</td>\n",
       "      <td>1.630869</td>\n",
       "      <td>5.313877</td>\n",
       "      <td>2.497228</td>\n",
       "      <td>93.660585</td>\n",
       "      <td>0.629298</td>\n",
       "    </tr>\n",
       "    <tr>\n",
       "      <th>min</th>\n",
       "      <td>1.008000</td>\n",
       "      <td>4.222000</td>\n",
       "      <td>0.089880</td>\n",
       "      <td>0.950000</td>\n",
       "      <td>8.517000</td>\n",
       "      <td>1.000000</td>\n",
       "      <td>1.000000</td>\n",
       "      <td>1.000000</td>\n",
       "      <td>1.000000</td>\n",
       "      <td>-223.220000</td>\n",
       "      <td>0.790000</td>\n",
       "    </tr>\n",
       "    <tr>\n",
       "      <th>25%</th>\n",
       "      <td>67.552550</td>\n",
       "      <td>1085.000000</td>\n",
       "      <td>4.110500</td>\n",
       "      <td>516.040000</td>\n",
       "      <td>24.874250</td>\n",
       "      <td>30.500000</td>\n",
       "      <td>4.000000</td>\n",
       "      <td>5.500000</td>\n",
       "      <td>4.000000</td>\n",
       "      <td>11.512500</td>\n",
       "      <td>1.237500</td>\n",
       "    </tr>\n",
       "    <tr>\n",
       "      <th>50%</th>\n",
       "      <td>144.242300</td>\n",
       "      <td>2673.000000</td>\n",
       "      <td>7.520000</td>\n",
       "      <td>1173.000000</td>\n",
       "      <td>25.894500</td>\n",
       "      <td>60.000000</td>\n",
       "      <td>6.000000</td>\n",
       "      <td>10.000000</td>\n",
       "      <td>6.000000</td>\n",
       "      <td>46.887000</td>\n",
       "      <td>1.605000</td>\n",
       "    </tr>\n",
       "    <tr>\n",
       "      <th>75%</th>\n",
       "      <td>229.017941</td>\n",
       "      <td>3505.000000</td>\n",
       "      <td>12.675000</td>\n",
       "      <td>1801.000000</td>\n",
       "      <td>27.187500</td>\n",
       "      <td>89.500000</td>\n",
       "      <td>7.000000</td>\n",
       "      <td>15.000000</td>\n",
       "      <td>8.500000</td>\n",
       "      <td>101.034250</td>\n",
       "      <td>2.115000</td>\n",
       "    </tr>\n",
       "    <tr>\n",
       "      <th>max</th>\n",
       "      <td>315.000000</td>\n",
       "      <td>6203.000000</td>\n",
       "      <td>40.700000</td>\n",
       "      <td>3695.000000</td>\n",
       "      <td>62.700000</td>\n",
       "      <td>119.000000</td>\n",
       "      <td>8.000000</td>\n",
       "      <td>18.000000</td>\n",
       "      <td>10.000000</td>\n",
       "      <td>348.575000</td>\n",
       "      <td>3.980000</td>\n",
       "    </tr>\n",
       "  </tbody>\n",
       "</table>\n",
       "</div>"
      ],
      "text/plain": [
       "       atomic_mass         boil     density         melt  molar_heat  \\\n",
       "count   119.000000   105.000000  115.000000   107.000000   78.000000   \n",
       "mean    147.904483  2457.306981    9.972500  1233.424281   26.305090   \n",
       "std      90.613592  1595.480116    8.599184   855.956156    5.623312   \n",
       "min       1.008000     4.222000    0.089880     0.950000    8.517000   \n",
       "25%      67.552550  1085.000000    4.110500   516.040000   24.874250   \n",
       "50%     144.242300  2673.000000    7.520000  1173.000000   25.894500   \n",
       "75%     229.017941  3505.000000   12.675000  1801.000000   27.187500   \n",
       "max     315.000000  6203.000000   40.700000  3695.000000   62.700000   \n",
       "\n",
       "           number      period        xpos        ypos  electron_affinity  \\\n",
       "count  119.000000  119.000000  119.000000  119.000000         110.000000   \n",
       "mean    60.000000    5.277311   10.000000    6.033613          56.087864   \n",
       "std     34.496377    1.630869    5.313877    2.497228          93.660585   \n",
       "min      1.000000    1.000000    1.000000    1.000000        -223.220000   \n",
       "25%     30.500000    4.000000    5.500000    4.000000          11.512500   \n",
       "50%     60.000000    6.000000   10.000000    6.000000          46.887000   \n",
       "75%     89.500000    7.000000   15.000000    8.500000         101.034250   \n",
       "max    119.000000    8.000000   18.000000   10.000000         348.575000   \n",
       "\n",
       "       electronegativity_pauling  \n",
       "count                 100.000000  \n",
       "mean                    1.707400  \n",
       "std                     0.629298  \n",
       "min                     0.790000  \n",
       "25%                     1.237500  \n",
       "50%                     1.605000  \n",
       "75%                     2.115000  \n",
       "max                     3.980000  "
      ]
     },
     "execution_count": 83,
     "metadata": {},
     "output_type": "execute_result"
    }
   ],
   "source": [
    "df.describe()"
   ]
  },
  {
   "cell_type": "markdown",
   "id": "41169a6c",
   "metadata": {},
   "source": [
    "Мы так же можем посчитать колличество повторений значений в таблице:"
   ]
  },
  {
   "cell_type": "code",
   "execution_count": 84,
   "id": "8f99ff9e",
   "metadata": {},
   "outputs": [
    {
     "data": {
      "text/plain": [
       "Joint Institute for Nuclear Research     8\n",
       "Lawrence Berkeley National Laboratory    7\n",
       "Gesellschaft für Schwerionenforschung    6\n",
       "Carl Wilhelm Scheele                     5\n",
       "Glenn T. Seaborg                         3\n",
       "                                        ..\n",
       "Claude François Geoffroy                 1\n",
       "RIKEN                                    1\n",
       "5000 BC                                  1\n",
       "Franz-Joseph Müller von Reichenstein     1\n",
       "William Cruickshank (chemist)            1\n",
       "Name: discovered_by, Length: 74, dtype: int64"
      ]
     },
     "execution_count": 84,
     "metadata": {},
     "output_type": "execute_result"
    }
   ],
   "source": [
    "values = df.discovered_by.value_counts()\n",
    "values.sort_values(ascending=False)"
   ]
  },
  {
   "cell_type": "code",
   "execution_count": 85,
   "id": "a92feba3",
   "metadata": {},
   "outputs": [
    {
     "data": {
      "text/plain": [
       "Solid     105\n",
       "Gas        12\n",
       "Liquid      2\n",
       "Name: phase, dtype: int64"
      ]
     },
     "execution_count": 85,
     "metadata": {},
     "output_type": "execute_result"
    }
   ],
   "source": [
    "df.phase.value_counts().sort_values(ascending=False)"
   ]
  },
  {
   "cell_type": "markdown",
   "id": "1e216362",
   "metadata": {},
   "source": [
    "### Векторные операции"
   ]
  },
  {
   "cell_type": "code",
   "execution_count": 86,
   "id": "30b8a866",
   "metadata": {},
   "outputs": [
    {
     "data": {
      "text/plain": [
       "0                  1008.0 grams\n",
       "1      4002.6022000000003 grams\n",
       "2                  6940.0 grams\n",
       "3              9012.18315 grams\n",
       "4                 10810.0 grams\n",
       "                 ...           \n",
       "114              289000.0 grams\n",
       "115              293000.0 grams\n",
       "116              294000.0 grams\n",
       "117              294000.0 grams\n",
       "118              315000.0 grams\n",
       "Name: atomic_mass, Length: 119, dtype: object"
      ]
     },
     "execution_count": 86,
     "metadata": {},
     "output_type": "execute_result"
    }
   ],
   "source": [
    "(df.atomic_mass * 1000).astype(str) + ' grams'"
   ]
  },
  {
   "cell_type": "markdown",
   "id": "0c2d9568",
   "metadata": {},
   "source": [
    "### Сохранение результатов в CSV"
   ]
  },
  {
   "cell_type": "code",
   "execution_count": 87,
   "id": "6bb25dfe",
   "metadata": {},
   "outputs": [],
   "source": [
    "df.phase.value_counts().sort_values(ascending=False).to_csv('periodic-statistics.csv')"
   ]
  },
  {
   "cell_type": "code",
   "execution_count": 88,
   "id": "17c19aed",
   "metadata": {},
   "outputs": [
    {
     "name": "stdout",
     "output_type": "stream",
     "text": [
      ",phase\n",
      "Solid,105\n",
      "Gas,12\n",
      "Liquid,2\n",
      "\n"
     ]
    }
   ],
   "source": [
    "with open('periodic-statistics.csv') as file:\n",
    "    print(file.read())"
   ]
  },
  {
   "cell_type": "markdown",
   "id": "deb25281",
   "metadata": {},
   "source": [
    "### Обработка пустых значений"
   ]
  },
  {
   "cell_type": "code",
   "execution_count": 89,
   "id": "01366c9d",
   "metadata": {},
   "outputs": [
    {
     "data": {
      "text/html": [
       "<div>\n",
       "<style scoped>\n",
       "    .dataframe tbody tr th:only-of-type {\n",
       "        vertical-align: middle;\n",
       "    }\n",
       "\n",
       "    .dataframe tbody tr th {\n",
       "        vertical-align: top;\n",
       "    }\n",
       "\n",
       "    .dataframe thead th {\n",
       "        text-align: right;\n",
       "    }\n",
       "</style>\n",
       "<table border=\"1\" class=\"dataframe\">\n",
       "  <thead>\n",
       "    <tr style=\"text-align: right;\">\n",
       "      <th></th>\n",
       "      <th>name</th>\n",
       "      <th>appearance</th>\n",
       "      <th>atomic_mass</th>\n",
       "      <th>boil</th>\n",
       "      <th>category</th>\n",
       "      <th>density</th>\n",
       "      <th>discovered_by</th>\n",
       "      <th>melt</th>\n",
       "      <th>molar_heat</th>\n",
       "      <th>named_by</th>\n",
       "      <th>...</th>\n",
       "      <th>symbol</th>\n",
       "      <th>xpos</th>\n",
       "      <th>ypos</th>\n",
       "      <th>shells</th>\n",
       "      <th>electron_configuration</th>\n",
       "      <th>electron_configuration_semantic</th>\n",
       "      <th>electron_affinity</th>\n",
       "      <th>electronegativity_pauling</th>\n",
       "      <th>ionization_energies</th>\n",
       "      <th>cpk-hex</th>\n",
       "    </tr>\n",
       "  </thead>\n",
       "  <tbody>\n",
       "    <tr>\n",
       "      <th>0</th>\n",
       "      <td>False</td>\n",
       "      <td>False</td>\n",
       "      <td>False</td>\n",
       "      <td>False</td>\n",
       "      <td>False</td>\n",
       "      <td>False</td>\n",
       "      <td>False</td>\n",
       "      <td>False</td>\n",
       "      <td>False</td>\n",
       "      <td>False</td>\n",
       "      <td>...</td>\n",
       "      <td>False</td>\n",
       "      <td>False</td>\n",
       "      <td>False</td>\n",
       "      <td>False</td>\n",
       "      <td>False</td>\n",
       "      <td>False</td>\n",
       "      <td>False</td>\n",
       "      <td>False</td>\n",
       "      <td>False</td>\n",
       "      <td>False</td>\n",
       "    </tr>\n",
       "    <tr>\n",
       "      <th>1</th>\n",
       "      <td>False</td>\n",
       "      <td>False</td>\n",
       "      <td>False</td>\n",
       "      <td>False</td>\n",
       "      <td>False</td>\n",
       "      <td>False</td>\n",
       "      <td>False</td>\n",
       "      <td>False</td>\n",
       "      <td>True</td>\n",
       "      <td>True</td>\n",
       "      <td>...</td>\n",
       "      <td>False</td>\n",
       "      <td>False</td>\n",
       "      <td>False</td>\n",
       "      <td>False</td>\n",
       "      <td>False</td>\n",
       "      <td>False</td>\n",
       "      <td>False</td>\n",
       "      <td>True</td>\n",
       "      <td>False</td>\n",
       "      <td>False</td>\n",
       "    </tr>\n",
       "    <tr>\n",
       "      <th>2</th>\n",
       "      <td>False</td>\n",
       "      <td>False</td>\n",
       "      <td>False</td>\n",
       "      <td>False</td>\n",
       "      <td>False</td>\n",
       "      <td>False</td>\n",
       "      <td>False</td>\n",
       "      <td>False</td>\n",
       "      <td>False</td>\n",
       "      <td>True</td>\n",
       "      <td>...</td>\n",
       "      <td>False</td>\n",
       "      <td>False</td>\n",
       "      <td>False</td>\n",
       "      <td>False</td>\n",
       "      <td>False</td>\n",
       "      <td>False</td>\n",
       "      <td>False</td>\n",
       "      <td>False</td>\n",
       "      <td>False</td>\n",
       "      <td>False</td>\n",
       "    </tr>\n",
       "    <tr>\n",
       "      <th>3</th>\n",
       "      <td>False</td>\n",
       "      <td>False</td>\n",
       "      <td>False</td>\n",
       "      <td>False</td>\n",
       "      <td>False</td>\n",
       "      <td>False</td>\n",
       "      <td>False</td>\n",
       "      <td>False</td>\n",
       "      <td>False</td>\n",
       "      <td>True</td>\n",
       "      <td>...</td>\n",
       "      <td>False</td>\n",
       "      <td>False</td>\n",
       "      <td>False</td>\n",
       "      <td>False</td>\n",
       "      <td>False</td>\n",
       "      <td>False</td>\n",
       "      <td>False</td>\n",
       "      <td>False</td>\n",
       "      <td>False</td>\n",
       "      <td>False</td>\n",
       "    </tr>\n",
       "    <tr>\n",
       "      <th>4</th>\n",
       "      <td>False</td>\n",
       "      <td>False</td>\n",
       "      <td>False</td>\n",
       "      <td>False</td>\n",
       "      <td>False</td>\n",
       "      <td>False</td>\n",
       "      <td>False</td>\n",
       "      <td>False</td>\n",
       "      <td>False</td>\n",
       "      <td>True</td>\n",
       "      <td>...</td>\n",
       "      <td>False</td>\n",
       "      <td>False</td>\n",
       "      <td>False</td>\n",
       "      <td>False</td>\n",
       "      <td>False</td>\n",
       "      <td>False</td>\n",
       "      <td>False</td>\n",
       "      <td>False</td>\n",
       "      <td>False</td>\n",
       "      <td>False</td>\n",
       "    </tr>\n",
       "    <tr>\n",
       "      <th>...</th>\n",
       "      <td>...</td>\n",
       "      <td>...</td>\n",
       "      <td>...</td>\n",
       "      <td>...</td>\n",
       "      <td>...</td>\n",
       "      <td>...</td>\n",
       "      <td>...</td>\n",
       "      <td>...</td>\n",
       "      <td>...</td>\n",
       "      <td>...</td>\n",
       "      <td>...</td>\n",
       "      <td>...</td>\n",
       "      <td>...</td>\n",
       "      <td>...</td>\n",
       "      <td>...</td>\n",
       "      <td>...</td>\n",
       "      <td>...</td>\n",
       "      <td>...</td>\n",
       "      <td>...</td>\n",
       "      <td>...</td>\n",
       "      <td>...</td>\n",
       "    </tr>\n",
       "    <tr>\n",
       "      <th>114</th>\n",
       "      <td>False</td>\n",
       "      <td>True</td>\n",
       "      <td>False</td>\n",
       "      <td>False</td>\n",
       "      <td>False</td>\n",
       "      <td>False</td>\n",
       "      <td>False</td>\n",
       "      <td>False</td>\n",
       "      <td>True</td>\n",
       "      <td>True</td>\n",
       "      <td>...</td>\n",
       "      <td>False</td>\n",
       "      <td>False</td>\n",
       "      <td>False</td>\n",
       "      <td>False</td>\n",
       "      <td>False</td>\n",
       "      <td>False</td>\n",
       "      <td>False</td>\n",
       "      <td>True</td>\n",
       "      <td>False</td>\n",
       "      <td>True</td>\n",
       "    </tr>\n",
       "    <tr>\n",
       "      <th>115</th>\n",
       "      <td>False</td>\n",
       "      <td>True</td>\n",
       "      <td>False</td>\n",
       "      <td>False</td>\n",
       "      <td>False</td>\n",
       "      <td>False</td>\n",
       "      <td>False</td>\n",
       "      <td>False</td>\n",
       "      <td>True</td>\n",
       "      <td>True</td>\n",
       "      <td>...</td>\n",
       "      <td>False</td>\n",
       "      <td>False</td>\n",
       "      <td>False</td>\n",
       "      <td>False</td>\n",
       "      <td>False</td>\n",
       "      <td>False</td>\n",
       "      <td>False</td>\n",
       "      <td>True</td>\n",
       "      <td>False</td>\n",
       "      <td>True</td>\n",
       "    </tr>\n",
       "    <tr>\n",
       "      <th>116</th>\n",
       "      <td>False</td>\n",
       "      <td>True</td>\n",
       "      <td>False</td>\n",
       "      <td>False</td>\n",
       "      <td>False</td>\n",
       "      <td>False</td>\n",
       "      <td>False</td>\n",
       "      <td>False</td>\n",
       "      <td>True</td>\n",
       "      <td>True</td>\n",
       "      <td>...</td>\n",
       "      <td>False</td>\n",
       "      <td>False</td>\n",
       "      <td>False</td>\n",
       "      <td>False</td>\n",
       "      <td>False</td>\n",
       "      <td>False</td>\n",
       "      <td>False</td>\n",
       "      <td>True</td>\n",
       "      <td>False</td>\n",
       "      <td>True</td>\n",
       "    </tr>\n",
       "    <tr>\n",
       "      <th>117</th>\n",
       "      <td>False</td>\n",
       "      <td>True</td>\n",
       "      <td>False</td>\n",
       "      <td>False</td>\n",
       "      <td>False</td>\n",
       "      <td>False</td>\n",
       "      <td>False</td>\n",
       "      <td>True</td>\n",
       "      <td>True</td>\n",
       "      <td>True</td>\n",
       "      <td>...</td>\n",
       "      <td>False</td>\n",
       "      <td>False</td>\n",
       "      <td>False</td>\n",
       "      <td>False</td>\n",
       "      <td>False</td>\n",
       "      <td>False</td>\n",
       "      <td>False</td>\n",
       "      <td>True</td>\n",
       "      <td>False</td>\n",
       "      <td>True</td>\n",
       "    </tr>\n",
       "    <tr>\n",
       "      <th>118</th>\n",
       "      <td>False</td>\n",
       "      <td>True</td>\n",
       "      <td>False</td>\n",
       "      <td>False</td>\n",
       "      <td>False</td>\n",
       "      <td>False</td>\n",
       "      <td>False</td>\n",
       "      <td>True</td>\n",
       "      <td>True</td>\n",
       "      <td>True</td>\n",
       "      <td>...</td>\n",
       "      <td>False</td>\n",
       "      <td>False</td>\n",
       "      <td>False</td>\n",
       "      <td>False</td>\n",
       "      <td>False</td>\n",
       "      <td>False</td>\n",
       "      <td>False</td>\n",
       "      <td>True</td>\n",
       "      <td>False</td>\n",
       "      <td>True</td>\n",
       "    </tr>\n",
       "  </tbody>\n",
       "</table>\n",
       "<p>119 rows × 26 columns</p>\n",
       "</div>"
      ],
      "text/plain": [
       "      name  appearance  atomic_mass   boil  category  density  discovered_by  \\\n",
       "0    False       False        False  False     False    False          False   \n",
       "1    False       False        False  False     False    False          False   \n",
       "2    False       False        False  False     False    False          False   \n",
       "3    False       False        False  False     False    False          False   \n",
       "4    False       False        False  False     False    False          False   \n",
       "..     ...         ...          ...    ...       ...      ...            ...   \n",
       "114  False        True        False  False     False    False          False   \n",
       "115  False        True        False  False     False    False          False   \n",
       "116  False        True        False  False     False    False          False   \n",
       "117  False        True        False  False     False    False          False   \n",
       "118  False        True        False  False     False    False          False   \n",
       "\n",
       "      melt  molar_heat  named_by  ...  symbol   xpos   ypos  shells  \\\n",
       "0    False       False     False  ...   False  False  False   False   \n",
       "1    False        True      True  ...   False  False  False   False   \n",
       "2    False       False      True  ...   False  False  False   False   \n",
       "3    False       False      True  ...   False  False  False   False   \n",
       "4    False       False      True  ...   False  False  False   False   \n",
       "..     ...         ...       ...  ...     ...    ...    ...     ...   \n",
       "114  False        True      True  ...   False  False  False   False   \n",
       "115  False        True      True  ...   False  False  False   False   \n",
       "116  False        True      True  ...   False  False  False   False   \n",
       "117   True        True      True  ...   False  False  False   False   \n",
       "118   True        True      True  ...   False  False  False   False   \n",
       "\n",
       "     electron_configuration  electron_configuration_semantic  \\\n",
       "0                     False                            False   \n",
       "1                     False                            False   \n",
       "2                     False                            False   \n",
       "3                     False                            False   \n",
       "4                     False                            False   \n",
       "..                      ...                              ...   \n",
       "114                   False                            False   \n",
       "115                   False                            False   \n",
       "116                   False                            False   \n",
       "117                   False                            False   \n",
       "118                   False                            False   \n",
       "\n",
       "     electron_affinity  electronegativity_pauling  ionization_energies  \\\n",
       "0                False                      False                False   \n",
       "1                False                       True                False   \n",
       "2                False                      False                False   \n",
       "3                False                      False                False   \n",
       "4                False                      False                False   \n",
       "..                 ...                        ...                  ...   \n",
       "114              False                       True                False   \n",
       "115              False                       True                False   \n",
       "116              False                       True                False   \n",
       "117              False                       True                False   \n",
       "118              False                       True                False   \n",
       "\n",
       "     cpk-hex  \n",
       "0      False  \n",
       "1      False  \n",
       "2      False  \n",
       "3      False  \n",
       "4      False  \n",
       "..       ...  \n",
       "114     True  \n",
       "115     True  \n",
       "116     True  \n",
       "117     True  \n",
       "118     True  \n",
       "\n",
       "[119 rows x 26 columns]"
      ]
     },
     "execution_count": 89,
     "metadata": {},
     "output_type": "execute_result"
    }
   ],
   "source": [
    "df.isna()"
   ]
  },
  {
   "cell_type": "code",
   "execution_count": 90,
   "id": "b0fbc162",
   "metadata": {},
   "outputs": [
    {
     "data": {
      "text/plain": [
       "name                                 0\n",
       "appearance                          33\n",
       "atomic_mass                          0\n",
       "boil                                14\n",
       "category                             0\n",
       "density                              4\n",
       "discovered_by                        1\n",
       "melt                                12\n",
       "molar_heat                          41\n",
       "named_by                           107\n",
       "number                               0\n",
       "period                               0\n",
       "phase                                0\n",
       "source                               0\n",
       "spectral_img                        98\n",
       "summary                              0\n",
       "symbol                               0\n",
       "xpos                                 0\n",
       "ypos                                 0\n",
       "shells                               0\n",
       "electron_configuration               0\n",
       "electron_configuration_semantic      0\n",
       "electron_affinity                    9\n",
       "electronegativity_pauling           19\n",
       "ionization_energies                  0\n",
       "cpk-hex                             10\n",
       "dtype: int64"
      ]
     },
     "execution_count": 90,
     "metadata": {},
     "output_type": "execute_result"
    }
   ],
   "source": [
    "df.isna().sum()"
   ]
  },
  {
   "cell_type": "markdown",
   "id": "c08b3102",
   "metadata": {},
   "source": [
    "### Удаление дубликатов"
   ]
  },
  {
   "cell_type": "code",
   "execution_count": 91,
   "id": "064112b3",
   "metadata": {},
   "outputs": [
    {
     "data": {
      "text/html": [
       "<div>\n",
       "<style scoped>\n",
       "    .dataframe tbody tr th:only-of-type {\n",
       "        vertical-align: middle;\n",
       "    }\n",
       "\n",
       "    .dataframe tbody tr th {\n",
       "        vertical-align: top;\n",
       "    }\n",
       "\n",
       "    .dataframe thead th {\n",
       "        text-align: right;\n",
       "    }\n",
       "</style>\n",
       "<table border=\"1\" class=\"dataframe\">\n",
       "  <thead>\n",
       "    <tr style=\"text-align: right;\">\n",
       "      <th></th>\n",
       "      <th>a</th>\n",
       "      <th>b</th>\n",
       "      <th>c</th>\n",
       "    </tr>\n",
       "  </thead>\n",
       "  <tbody>\n",
       "    <tr>\n",
       "      <th>0</th>\n",
       "      <td>1</td>\n",
       "      <td>2</td>\n",
       "      <td>3</td>\n",
       "    </tr>\n",
       "    <tr>\n",
       "      <th>1</th>\n",
       "      <td>1</td>\n",
       "      <td>2</td>\n",
       "      <td>4</td>\n",
       "    </tr>\n",
       "    <tr>\n",
       "      <th>2</th>\n",
       "      <td>1</td>\n",
       "      <td>100</td>\n",
       "      <td>1000</td>\n",
       "    </tr>\n",
       "    <tr>\n",
       "      <th>3</th>\n",
       "      <td>1</td>\n",
       "      <td>2</td>\n",
       "      <td>3</td>\n",
       "    </tr>\n",
       "  </tbody>\n",
       "</table>\n",
       "</div>"
      ],
      "text/plain": [
       "   a    b     c\n",
       "0  1    2     3\n",
       "1  1    2     4\n",
       "2  1  100  1000\n",
       "3  1    2     3"
      ]
     },
     "execution_count": 91,
     "metadata": {},
     "output_type": "execute_result"
    }
   ],
   "source": [
    "df = pd.DataFrame([\n",
    "    {'a': 1, 'b': 2, 'c': 3}, \n",
    "    {'a': 1, 'b': 2, 'c': 4}, \n",
    "    {'a': 1, 'b': 100, 'c': 1000}, \n",
    "    {'a': 1, 'b': 2, 'c': 3}\n",
    "])\n",
    "df"
   ]
  },
  {
   "cell_type": "code",
   "execution_count": 92,
   "id": "26ca8c55",
   "metadata": {},
   "outputs": [
    {
     "data": {
      "text/html": [
       "<div>\n",
       "<style scoped>\n",
       "    .dataframe tbody tr th:only-of-type {\n",
       "        vertical-align: middle;\n",
       "    }\n",
       "\n",
       "    .dataframe tbody tr th {\n",
       "        vertical-align: top;\n",
       "    }\n",
       "\n",
       "    .dataframe thead th {\n",
       "        text-align: right;\n",
       "    }\n",
       "</style>\n",
       "<table border=\"1\" class=\"dataframe\">\n",
       "  <thead>\n",
       "    <tr style=\"text-align: right;\">\n",
       "      <th></th>\n",
       "      <th>a</th>\n",
       "      <th>b</th>\n",
       "      <th>c</th>\n",
       "    </tr>\n",
       "  </thead>\n",
       "  <tbody>\n",
       "    <tr>\n",
       "      <th>0</th>\n",
       "      <td>1</td>\n",
       "      <td>2</td>\n",
       "      <td>3</td>\n",
       "    </tr>\n",
       "    <tr>\n",
       "      <th>1</th>\n",
       "      <td>1</td>\n",
       "      <td>2</td>\n",
       "      <td>4</td>\n",
       "    </tr>\n",
       "    <tr>\n",
       "      <th>2</th>\n",
       "      <td>1</td>\n",
       "      <td>100</td>\n",
       "      <td>1000</td>\n",
       "    </tr>\n",
       "  </tbody>\n",
       "</table>\n",
       "</div>"
      ],
      "text/plain": [
       "   a    b     c\n",
       "0  1    2     3\n",
       "1  1    2     4\n",
       "2  1  100  1000"
      ]
     },
     "execution_count": 92,
     "metadata": {},
     "output_type": "execute_result"
    }
   ],
   "source": [
    "df.drop_duplicates() # это новая таблица!"
   ]
  },
  {
   "cell_type": "code",
   "execution_count": 93,
   "id": "689cc8f0",
   "metadata": {},
   "outputs": [
    {
     "data": {
      "text/plain": [
       "1"
      ]
     },
     "execution_count": 93,
     "metadata": {},
     "output_type": "execute_result"
    }
   ],
   "source": [
    "df.duplicated().sum()"
   ]
  },
  {
   "cell_type": "markdown",
   "id": "98cd8c64",
   "metadata": {},
   "source": [
    "### Сортировка значений"
   ]
  },
  {
   "cell_type": "markdown",
   "id": "d0f4a6e0",
   "metadata": {},
   "source": [
    "Во время сортировки значений методом `sort_values` мы получаем индексы которые соответствуют сортировке.\n",
    "![](https://www.sharpsightlabs.com/wp-content/uploads/2022/01/pandas-sort-values_syntax-explanation.png)"
   ]
  },
  {
   "cell_type": "code",
   "execution_count": 94,
   "id": "4503b573",
   "metadata": {},
   "outputs": [
    {
     "data": {
      "text/html": [
       "<div>\n",
       "<style scoped>\n",
       "    .dataframe tbody tr th:only-of-type {\n",
       "        vertical-align: middle;\n",
       "    }\n",
       "\n",
       "    .dataframe tbody tr th {\n",
       "        vertical-align: top;\n",
       "    }\n",
       "\n",
       "    .dataframe thead th {\n",
       "        text-align: right;\n",
       "    }\n",
       "</style>\n",
       "<table border=\"1\" class=\"dataframe\">\n",
       "  <thead>\n",
       "    <tr style=\"text-align: right;\">\n",
       "      <th></th>\n",
       "      <th>name</th>\n",
       "      <th>appearance</th>\n",
       "      <th>atomic_mass</th>\n",
       "      <th>boil</th>\n",
       "      <th>category</th>\n",
       "      <th>density</th>\n",
       "      <th>discovered_by</th>\n",
       "      <th>melt</th>\n",
       "      <th>molar_heat</th>\n",
       "      <th>named_by</th>\n",
       "      <th>...</th>\n",
       "      <th>symbol</th>\n",
       "      <th>xpos</th>\n",
       "      <th>ypos</th>\n",
       "      <th>shells</th>\n",
       "      <th>electron_configuration</th>\n",
       "      <th>electron_configuration_semantic</th>\n",
       "      <th>electron_affinity</th>\n",
       "      <th>electronegativity_pauling</th>\n",
       "      <th>ionization_energies</th>\n",
       "      <th>cpk-hex</th>\n",
       "    </tr>\n",
       "  </thead>\n",
       "  <tbody>\n",
       "    <tr>\n",
       "      <th>0</th>\n",
       "      <td>Hydrogen</td>\n",
       "      <td>colorless gas</td>\n",
       "      <td>1.008</td>\n",
       "      <td>20.271</td>\n",
       "      <td>diatomic nonmetal</td>\n",
       "      <td>0.08988</td>\n",
       "      <td>Henry Cavendish</td>\n",
       "      <td>13.99</td>\n",
       "      <td>28.836</td>\n",
       "      <td>Antoine Lavoisier</td>\n",
       "      <td>...</td>\n",
       "      <td>H</td>\n",
       "      <td>1</td>\n",
       "      <td>1</td>\n",
       "      <td>[1]</td>\n",
       "      <td>1s1</td>\n",
       "      <td>1s1</td>\n",
       "      <td>72.769</td>\n",
       "      <td>2.2</td>\n",
       "      <td>[1312]</td>\n",
       "      <td>ffffff</td>\n",
       "    </tr>\n",
       "    <tr>\n",
       "      <th>1</th>\n",
       "      <td>Helium</td>\n",
       "      <td>colorless gas, exhibiting a red-orange glow wh...</td>\n",
       "      <td>4.0026022</td>\n",
       "      <td>4.222</td>\n",
       "      <td>noble gas</td>\n",
       "      <td>0.1786</td>\n",
       "      <td>Pierre Janssen</td>\n",
       "      <td>0.95</td>\n",
       "      <td></td>\n",
       "      <td></td>\n",
       "      <td>...</td>\n",
       "      <td>He</td>\n",
       "      <td>18</td>\n",
       "      <td>1</td>\n",
       "      <td>[2]</td>\n",
       "      <td>1s2</td>\n",
       "      <td>1s2</td>\n",
       "      <td>-48</td>\n",
       "      <td></td>\n",
       "      <td>[2372.3, 5250.5]</td>\n",
       "      <td>d9ffff</td>\n",
       "    </tr>\n",
       "    <tr>\n",
       "      <th>2</th>\n",
       "      <td>Lithium</td>\n",
       "      <td>silvery-white</td>\n",
       "      <td>6.94</td>\n",
       "      <td>1603</td>\n",
       "      <td>alkali metal</td>\n",
       "      <td>0.534</td>\n",
       "      <td>Johan August Arfwedson</td>\n",
       "      <td>453.65</td>\n",
       "      <td>24.86</td>\n",
       "      <td></td>\n",
       "      <td>...</td>\n",
       "      <td>Li</td>\n",
       "      <td>1</td>\n",
       "      <td>2</td>\n",
       "      <td>[2, 1]</td>\n",
       "      <td>1s2 2s1</td>\n",
       "      <td>[He] 2s1</td>\n",
       "      <td>59.6326</td>\n",
       "      <td>0.98</td>\n",
       "      <td>[520.2, 7298.1, 11815]</td>\n",
       "      <td>cc80ff</td>\n",
       "    </tr>\n",
       "    <tr>\n",
       "      <th>3</th>\n",
       "      <td>Beryllium</td>\n",
       "      <td>white-gray metallic</td>\n",
       "      <td>9.01218315</td>\n",
       "      <td>2742</td>\n",
       "      <td>alkaline earth metal</td>\n",
       "      <td>1.85</td>\n",
       "      <td>Louis Nicolas Vauquelin</td>\n",
       "      <td>1560</td>\n",
       "      <td>16.443</td>\n",
       "      <td></td>\n",
       "      <td>...</td>\n",
       "      <td>Be</td>\n",
       "      <td>2</td>\n",
       "      <td>2</td>\n",
       "      <td>[2, 2]</td>\n",
       "      <td>1s2 2s2</td>\n",
       "      <td>[He] 2s2</td>\n",
       "      <td>-48</td>\n",
       "      <td>1.57</td>\n",
       "      <td>[899.5, 1757.1, 14848.7, 21006.6]</td>\n",
       "      <td>c2ff00</td>\n",
       "    </tr>\n",
       "    <tr>\n",
       "      <th>4</th>\n",
       "      <td>Boron</td>\n",
       "      <td>black-brown</td>\n",
       "      <td>10.81</td>\n",
       "      <td>4200</td>\n",
       "      <td>metalloid</td>\n",
       "      <td>2.08</td>\n",
       "      <td>Joseph Louis Gay-Lussac</td>\n",
       "      <td>2349</td>\n",
       "      <td>11.087</td>\n",
       "      <td></td>\n",
       "      <td>...</td>\n",
       "      <td>B</td>\n",
       "      <td>13</td>\n",
       "      <td>2</td>\n",
       "      <td>[2, 3]</td>\n",
       "      <td>1s2 2s2 2p1</td>\n",
       "      <td>[He] 2s2 2p1</td>\n",
       "      <td>26.989</td>\n",
       "      <td>2.04</td>\n",
       "      <td>[800.6, 2427.1, 3659.7, 25025.8, 32826.7]</td>\n",
       "      <td>ffb5b5</td>\n",
       "    </tr>\n",
       "    <tr>\n",
       "      <th>...</th>\n",
       "      <td>...</td>\n",
       "      <td>...</td>\n",
       "      <td>...</td>\n",
       "      <td>...</td>\n",
       "      <td>...</td>\n",
       "      <td>...</td>\n",
       "      <td>...</td>\n",
       "      <td>...</td>\n",
       "      <td>...</td>\n",
       "      <td>...</td>\n",
       "      <td>...</td>\n",
       "      <td>...</td>\n",
       "      <td>...</td>\n",
       "      <td>...</td>\n",
       "      <td>...</td>\n",
       "      <td>...</td>\n",
       "      <td>...</td>\n",
       "      <td>...</td>\n",
       "      <td>...</td>\n",
       "      <td>...</td>\n",
       "      <td>...</td>\n",
       "    </tr>\n",
       "    <tr>\n",
       "      <th>114</th>\n",
       "      <td>Moscovium</td>\n",
       "      <td></td>\n",
       "      <td>289</td>\n",
       "      <td>1400</td>\n",
       "      <td>unknown, probably post-transition metal</td>\n",
       "      <td>13.5</td>\n",
       "      <td>Joint Institute for Nuclear Research</td>\n",
       "      <td>670</td>\n",
       "      <td></td>\n",
       "      <td></td>\n",
       "      <td>...</td>\n",
       "      <td>Mc</td>\n",
       "      <td>15</td>\n",
       "      <td>7</td>\n",
       "      <td>[2, 8, 18, 32, 32, 18, 5]</td>\n",
       "      <td>1s2 2s2 2p6 3s2 3p6 4s2 3d10 4p6 5s2 4d10 5p6 ...</td>\n",
       "      <td>*[Rn] 5f14 6d10 7s2 7p3</td>\n",
       "      <td>35.3</td>\n",
       "      <td></td>\n",
       "      <td>[]</td>\n",
       "      <td></td>\n",
       "    </tr>\n",
       "    <tr>\n",
       "      <th>115</th>\n",
       "      <td>Livermorium</td>\n",
       "      <td></td>\n",
       "      <td>293</td>\n",
       "      <td>1085</td>\n",
       "      <td>unknown, probably post-transition metal</td>\n",
       "      <td>12.9</td>\n",
       "      <td>Joint Institute for Nuclear Research</td>\n",
       "      <td>709</td>\n",
       "      <td></td>\n",
       "      <td></td>\n",
       "      <td>...</td>\n",
       "      <td>Lv</td>\n",
       "      <td>16</td>\n",
       "      <td>7</td>\n",
       "      <td>[2, 8, 18, 32, 32, 18, 6]</td>\n",
       "      <td>1s2 2s2 2p6 3s2 3p6 4s2 3d10 4p6 5s2 4d10 5p6 ...</td>\n",
       "      <td>*[Rn] 5f14 6d10 7s2 7p4</td>\n",
       "      <td>74.9</td>\n",
       "      <td></td>\n",
       "      <td>[]</td>\n",
       "      <td></td>\n",
       "    </tr>\n",
       "    <tr>\n",
       "      <th>116</th>\n",
       "      <td>Tennessine</td>\n",
       "      <td></td>\n",
       "      <td>294</td>\n",
       "      <td>883</td>\n",
       "      <td>unknown, probably metalloid</td>\n",
       "      <td>7.17</td>\n",
       "      <td>Joint Institute for Nuclear Research</td>\n",
       "      <td>723</td>\n",
       "      <td></td>\n",
       "      <td></td>\n",
       "      <td>...</td>\n",
       "      <td>Ts</td>\n",
       "      <td>17</td>\n",
       "      <td>7</td>\n",
       "      <td>[2, 8, 18, 32, 32, 18, 7]</td>\n",
       "      <td>1s2 2s2 2p6 3s2 3p6 4s2 3d10 4p6 5s2 4d10 5p6 ...</td>\n",
       "      <td>*[Rn] 5f14 6d10 7s2 7p5</td>\n",
       "      <td>165.9</td>\n",
       "      <td></td>\n",
       "      <td>[]</td>\n",
       "      <td></td>\n",
       "    </tr>\n",
       "    <tr>\n",
       "      <th>117</th>\n",
       "      <td>Oganesson</td>\n",
       "      <td></td>\n",
       "      <td>294</td>\n",
       "      <td>350</td>\n",
       "      <td>unknown, predicted to be noble gas</td>\n",
       "      <td>4.95</td>\n",
       "      <td>Joint Institute for Nuclear Research</td>\n",
       "      <td></td>\n",
       "      <td></td>\n",
       "      <td></td>\n",
       "      <td>...</td>\n",
       "      <td>Og</td>\n",
       "      <td>18</td>\n",
       "      <td>7</td>\n",
       "      <td>[2, 8, 18, 32, 32, 18, 8]</td>\n",
       "      <td>1s2 2s2 2p6 3s2 3p6 4s2 3d10 4p6 5s2 4d10 5p6 ...</td>\n",
       "      <td>*[Rn] 5f14 6d10 7s2 7p6</td>\n",
       "      <td>5.40318</td>\n",
       "      <td></td>\n",
       "      <td>[]</td>\n",
       "      <td></td>\n",
       "    </tr>\n",
       "    <tr>\n",
       "      <th>118</th>\n",
       "      <td>Ununennium</td>\n",
       "      <td></td>\n",
       "      <td>315</td>\n",
       "      <td>630</td>\n",
       "      <td>unknown, but predicted to be an alkali metal</td>\n",
       "      <td>3</td>\n",
       "      <td>GSI Helmholtz Centre for Heavy Ion Research</td>\n",
       "      <td></td>\n",
       "      <td></td>\n",
       "      <td></td>\n",
       "      <td>...</td>\n",
       "      <td>Uue</td>\n",
       "      <td>1</td>\n",
       "      <td>8</td>\n",
       "      <td>[2, 8, 18, 32, 32, 18, 8, 1]</td>\n",
       "      <td>1s2 2s2 2p6 3s2 3p6 4s2 3d10 4p6 5s2 4d10 5p6 ...</td>\n",
       "      <td>*[Uuo] 8s1</td>\n",
       "      <td>63.87</td>\n",
       "      <td></td>\n",
       "      <td>[]</td>\n",
       "      <td></td>\n",
       "    </tr>\n",
       "  </tbody>\n",
       "</table>\n",
       "<p>119 rows × 26 columns</p>\n",
       "</div>"
      ],
      "text/plain": [
       "            name                                         appearance  \\\n",
       "0       Hydrogen                                      colorless gas   \n",
       "1         Helium  colorless gas, exhibiting a red-orange glow wh...   \n",
       "2        Lithium                                      silvery-white   \n",
       "3      Beryllium                                white-gray metallic   \n",
       "4          Boron                                        black-brown   \n",
       "..           ...                                                ...   \n",
       "114    Moscovium                                                      \n",
       "115  Livermorium                                                      \n",
       "116   Tennessine                                                      \n",
       "117    Oganesson                                                      \n",
       "118   Ununennium                                                      \n",
       "\n",
       "    atomic_mass    boil                                      category  \\\n",
       "0         1.008  20.271                             diatomic nonmetal   \n",
       "1     4.0026022   4.222                                     noble gas   \n",
       "2          6.94    1603                                  alkali metal   \n",
       "3    9.01218315    2742                          alkaline earth metal   \n",
       "4         10.81    4200                                     metalloid   \n",
       "..          ...     ...                                           ...   \n",
       "114         289    1400       unknown, probably post-transition metal   \n",
       "115         293    1085       unknown, probably post-transition metal   \n",
       "116         294     883                   unknown, probably metalloid   \n",
       "117         294     350            unknown, predicted to be noble gas   \n",
       "118         315     630  unknown, but predicted to be an alkali metal   \n",
       "\n",
       "     density                                discovered_by    melt molar_heat  \\\n",
       "0    0.08988                              Henry Cavendish   13.99     28.836   \n",
       "1     0.1786                               Pierre Janssen    0.95              \n",
       "2      0.534                       Johan August Arfwedson  453.65      24.86   \n",
       "3       1.85                      Louis Nicolas Vauquelin    1560     16.443   \n",
       "4       2.08                      Joseph Louis Gay-Lussac    2349     11.087   \n",
       "..       ...                                          ...     ...        ...   \n",
       "114     13.5         Joint Institute for Nuclear Research     670              \n",
       "115     12.9         Joint Institute for Nuclear Research     709              \n",
       "116     7.17         Joint Institute for Nuclear Research     723              \n",
       "117     4.95         Joint Institute for Nuclear Research                      \n",
       "118        3  GSI Helmholtz Centre for Heavy Ion Research                      \n",
       "\n",
       "              named_by  ... symbol xpos ypos                        shells  \\\n",
       "0    Antoine Lavoisier  ...      H    1    1                           [1]   \n",
       "1                       ...     He   18    1                           [2]   \n",
       "2                       ...     Li    1    2                        [2, 1]   \n",
       "3                       ...     Be    2    2                        [2, 2]   \n",
       "4                       ...      B   13    2                        [2, 3]   \n",
       "..                 ...  ...    ...  ...  ...                           ...   \n",
       "114                     ...     Mc   15    7     [2, 8, 18, 32, 32, 18, 5]   \n",
       "115                     ...     Lv   16    7     [2, 8, 18, 32, 32, 18, 6]   \n",
       "116                     ...     Ts   17    7     [2, 8, 18, 32, 32, 18, 7]   \n",
       "117                     ...     Og   18    7     [2, 8, 18, 32, 32, 18, 8]   \n",
       "118                     ...    Uue    1    8  [2, 8, 18, 32, 32, 18, 8, 1]   \n",
       "\n",
       "                                electron_configuration  \\\n",
       "0                                                  1s1   \n",
       "1                                                  1s2   \n",
       "2                                              1s2 2s1   \n",
       "3                                              1s2 2s2   \n",
       "4                                          1s2 2s2 2p1   \n",
       "..                                                 ...   \n",
       "114  1s2 2s2 2p6 3s2 3p6 4s2 3d10 4p6 5s2 4d10 5p6 ...   \n",
       "115  1s2 2s2 2p6 3s2 3p6 4s2 3d10 4p6 5s2 4d10 5p6 ...   \n",
       "116  1s2 2s2 2p6 3s2 3p6 4s2 3d10 4p6 5s2 4d10 5p6 ...   \n",
       "117  1s2 2s2 2p6 3s2 3p6 4s2 3d10 4p6 5s2 4d10 5p6 ...   \n",
       "118  1s2 2s2 2p6 3s2 3p6 4s2 3d10 4p6 5s2 4d10 5p6 ...   \n",
       "\n",
       "    electron_configuration_semantic electron_affinity  \\\n",
       "0                               1s1            72.769   \n",
       "1                               1s2               -48   \n",
       "2                          [He] 2s1           59.6326   \n",
       "3                          [He] 2s2               -48   \n",
       "4                      [He] 2s2 2p1            26.989   \n",
       "..                              ...               ...   \n",
       "114         *[Rn] 5f14 6d10 7s2 7p3              35.3   \n",
       "115         *[Rn] 5f14 6d10 7s2 7p4              74.9   \n",
       "116         *[Rn] 5f14 6d10 7s2 7p5             165.9   \n",
       "117         *[Rn] 5f14 6d10 7s2 7p6           5.40318   \n",
       "118                      *[Uuo] 8s1             63.87   \n",
       "\n",
       "    electronegativity_pauling                        ionization_energies  \\\n",
       "0                         2.2                                     [1312]   \n",
       "1                                                       [2372.3, 5250.5]   \n",
       "2                        0.98                     [520.2, 7298.1, 11815]   \n",
       "3                        1.57          [899.5, 1757.1, 14848.7, 21006.6]   \n",
       "4                        2.04  [800.6, 2427.1, 3659.7, 25025.8, 32826.7]   \n",
       "..                        ...                                        ...   \n",
       "114                                                                   []   \n",
       "115                                                                   []   \n",
       "116                                                                   []   \n",
       "117                                                                   []   \n",
       "118                                                                   []   \n",
       "\n",
       "    cpk-hex  \n",
       "0    ffffff  \n",
       "1    d9ffff  \n",
       "2    cc80ff  \n",
       "3    c2ff00  \n",
       "4    ffb5b5  \n",
       "..      ...  \n",
       "114          \n",
       "115          \n",
       "116          \n",
       "117          \n",
       "118          \n",
       "\n",
       "[119 rows x 26 columns]"
      ]
     },
     "execution_count": 94,
     "metadata": {},
     "output_type": "execute_result"
    }
   ],
   "source": [
    "periodic_table_df.sort_values('atomic_mass').sort_index()"
   ]
  },
  {
   "cell_type": "code",
   "execution_count": 95,
   "id": "9da3e74e",
   "metadata": {},
   "outputs": [
    {
     "data": {
      "text/plain": [
       "0"
      ]
     },
     "execution_count": 95,
     "metadata": {},
     "output_type": "execute_result"
    }
   ],
   "source": [
    "periodic_table_df.duplicated().sum()"
   ]
  },
  {
   "cell_type": "code",
   "execution_count": 96,
   "id": "5f2e97e8",
   "metadata": {},
   "outputs": [
    {
     "data": {
      "text/plain": [
       "3"
      ]
     },
     "execution_count": 96,
     "metadata": {},
     "output_type": "execute_result"
    }
   ],
   "source": [
    "pd.Series([None, 1, 2, 3, None, None, 4, 5]).isna().sum()"
   ]
  },
  {
   "cell_type": "code",
   "execution_count": 97,
   "id": "cc560de5",
   "metadata": {},
   "outputs": [
    {
     "data": {
      "text/plain": [
       "1608336000000"
      ]
     },
     "execution_count": 97,
     "metadata": {},
     "output_type": "execute_result"
    }
   ],
   "source": [
    "1000 * 60 * 60 * 24 * 365 * 51"
   ]
  },
  {
   "cell_type": "code",
   "execution_count": 98,
   "id": "ceb494ed",
   "metadata": {},
   "outputs": [
    {
     "data": {
      "text/plain": [
       "Timestamp('2021-10-30 02:12:20.100000')"
      ]
     },
     "execution_count": 98,
     "metadata": {},
     "output_type": "execute_result"
    }
   ],
   "source": [
    "pd.to_datetime('30.10.2021 02:12:20.1000')"
   ]
  },
  {
   "cell_type": "code",
   "execution_count": 103,
   "id": "b4949e3f",
   "metadata": {},
   "outputs": [],
   "source": [
    "Out[98] - pd.to_datetime('30.10.2021 01:12:20.1000');"
   ]
  },
  {
   "cell_type": "code",
   "execution_count": 104,
   "id": "66312028",
   "metadata": {},
   "outputs": [
    {
     "data": {
      "text/plain": [
       "DatetimeIndex(['2020-01-01', '2020-02-01', '2020-03-01', '2020-04-01'], dtype='datetime64[ns]', freq=None)"
      ]
     },
     "execution_count": 104,
     "metadata": {},
     "output_type": "execute_result"
    }
   ],
   "source": [
    "pd.to_datetime(['01/01/2020', '02/01/2020', '03/01/2020', '04/01/2020'])"
   ]
  },
  {
   "cell_type": "code",
   "execution_count": 123,
   "id": "2eceb7c2",
   "metadata": {},
   "outputs": [
    {
     "data": {
      "text/html": [
       "<div>\n",
       "<style scoped>\n",
       "    .dataframe tbody tr th:only-of-type {\n",
       "        vertical-align: middle;\n",
       "    }\n",
       "\n",
       "    .dataframe tbody tr th {\n",
       "        vertical-align: top;\n",
       "    }\n",
       "\n",
       "    .dataframe thead th {\n",
       "        text-align: right;\n",
       "    }\n",
       "</style>\n",
       "<table border=\"1\" class=\"dataframe\">\n",
       "  <thead>\n",
       "    <tr style=\"text-align: right;\">\n",
       "      <th></th>\n",
       "      <th>name</th>\n",
       "    </tr>\n",
       "  </thead>\n",
       "  <tbody>\n",
       "    <tr>\n",
       "      <th>0</th>\n",
       "      <td>1</td>\n",
       "    </tr>\n",
       "    <tr>\n",
       "      <th>1</th>\n",
       "      <td>mac n cheese</td>\n",
       "    </tr>\n",
       "    <tr>\n",
       "      <th>2</th>\n",
       "      <td>fried fish</td>\n",
       "    </tr>\n",
       "    <tr>\n",
       "      <th>3</th>\n",
       "      <td>fish n chips</td>\n",
       "    </tr>\n",
       "  </tbody>\n",
       "</table>\n",
       "</div>"
      ],
      "text/plain": [
       "           name\n",
       "0             1\n",
       "1  mac n cheese\n",
       "2    fried fish\n",
       "3  fish n chips"
      ]
     },
     "execution_count": 123,
     "metadata": {},
     "output_type": "execute_result"
    }
   ],
   "source": [
    "strings_table = pd.DataFrame(data=[['1'], ['mac n cheese'], ['fried fish'], ['fish n chips']], columns=['name'])\n",
    "strings_table"
   ]
  },
  {
   "cell_type": "code",
   "execution_count": 113,
   "id": "7d1495c4",
   "metadata": {},
   "outputs": [
    {
     "data": {
      "text/plain": [
       "0             NaN\n",
       "1    MAC N CHEESE\n",
       "2      FRIED FISH\n",
       "3    FISH N CHIPS\n",
       "Name: name, dtype: object"
      ]
     },
     "execution_count": 113,
     "metadata": {},
     "output_type": "execute_result"
    }
   ],
   "source": [
    "strings_table.name.str.upper()"
   ]
  },
  {
   "cell_type": "code",
   "execution_count": 114,
   "id": "93ca2700",
   "metadata": {},
   "outputs": [
    {
     "data": {
      "text/plain": [
       "0             NaN\n",
       "1    *** n cheese\n",
       "2      fried fish\n",
       "3    fish n chips\n",
       "Name: name, dtype: object"
      ]
     },
     "execution_count": 114,
     "metadata": {},
     "output_type": "execute_result"
    }
   ],
   "source": [
    "strings_table.name.str.replace('mac', '***')"
   ]
  },
  {
   "cell_type": "code",
   "execution_count": 115,
   "id": "d9298b7a",
   "metadata": {},
   "outputs": [
    {
     "data": {
      "text/html": [
       "<div>\n",
       "<style scoped>\n",
       "    .dataframe tbody tr th:only-of-type {\n",
       "        vertical-align: middle;\n",
       "    }\n",
       "\n",
       "    .dataframe tbody tr th {\n",
       "        vertical-align: top;\n",
       "    }\n",
       "\n",
       "    .dataframe thead th {\n",
       "        text-align: right;\n",
       "    }\n",
       "</style>\n",
       "<table border=\"1\" class=\"dataframe\">\n",
       "  <thead>\n",
       "    <tr style=\"text-align: right;\">\n",
       "      <th></th>\n",
       "      <th>name</th>\n",
       "    </tr>\n",
       "  </thead>\n",
       "  <tbody>\n",
       "    <tr>\n",
       "      <th>0</th>\n",
       "      <td>1</td>\n",
       "    </tr>\n",
       "    <tr>\n",
       "      <th>1</th>\n",
       "      <td>mac n cheese</td>\n",
       "    </tr>\n",
       "    <tr>\n",
       "      <th>2</th>\n",
       "      <td>fried fish</td>\n",
       "    </tr>\n",
       "    <tr>\n",
       "      <th>3</th>\n",
       "      <td>fish n chips</td>\n",
       "    </tr>\n",
       "  </tbody>\n",
       "</table>\n",
       "</div>"
      ],
      "text/plain": [
       "           name\n",
       "0             1\n",
       "1  mac n cheese\n",
       "2    fried fish\n",
       "3  fish n chips"
      ]
     },
     "execution_count": 115,
     "metadata": {},
     "output_type": "execute_result"
    }
   ],
   "source": [
    "strings_table"
   ]
  },
  {
   "cell_type": "code",
   "execution_count": 116,
   "id": "5deff242",
   "metadata": {},
   "outputs": [
    {
     "data": {
      "text/plain": [
       "0      NaN\n",
       "1     True\n",
       "2    False\n",
       "3    False\n",
       "Name: name, dtype: object"
      ]
     },
     "execution_count": 116,
     "metadata": {},
     "output_type": "execute_result"
    }
   ],
   "source": [
    "strings_table.name.str.contains('mac')"
   ]
  },
  {
   "cell_type": "code",
   "execution_count": 124,
   "id": "0b348d68",
   "metadata": {},
   "outputs": [
    {
     "data": {
      "text/plain": [
       "0               1foo\n",
       "1    mac n cheesefoo\n",
       "2      fried fishfoo\n",
       "3    fish n chipsfoo\n",
       "Name: name, dtype: object"
      ]
     },
     "execution_count": 124,
     "metadata": {},
     "output_type": "execute_result"
    }
   ],
   "source": [
    "strings_table.name + 'foo'"
   ]
  },
  {
   "cell_type": "code",
   "execution_count": 126,
   "id": "65c28d9f",
   "metadata": {},
   "outputs": [
    {
     "data": {
      "text/plain": [
       "0     True\n",
       "1    False\n",
       "2    False\n",
       "3    False\n",
       "Name: name, dtype: bool"
      ]
     },
     "execution_count": 126,
     "metadata": {},
     "output_type": "execute_result"
    }
   ],
   "source": [
    "strings_table.name.isin(['1'])"
   ]
  },
  {
   "cell_type": "code",
   "execution_count": 130,
   "id": "0a63dc18",
   "metadata": {},
   "outputs": [
    {
     "data": {
      "text/plain": [
       "array([11, 44, 24, 80, 58, 91, 68, 46, 67, 27, 75, 50, 13, 47, 49, 47, 78,\n",
       "       53, 55, 38, 85, 32, 49, 59, 45, 34, 23, 38, 66, 53, 84, 86, 74, 22,\n",
       "       79, 78, 68, 78, 25, 75])"
      ]
     },
     "execution_count": 130,
     "metadata": {},
     "output_type": "execute_result"
    }
   ],
   "source": [
    "marks = np.random.randint(5, 101, size=40)\n",
    "marks"
   ]
  },
  {
   "cell_type": "code",
   "execution_count": 131,
   "id": "3d01ae89",
   "metadata": {},
   "outputs": [],
   "source": [
    "def to_american_system(number):\n",
    "    if 80 < number <= 100:\n",
    "        return 'A'\n",
    "    elif 60 < number <= 80:\n",
    "        return 'B'\n",
    "    elif 40 < number <= 60:\n",
    "        return 'C'\n",
    "    elif 20 < number <=40:\n",
    "        return 'D'\n",
    "    elif 0 <= number <= 20:\n",
    "        return 'E'"
   ]
  },
  {
   "cell_type": "code",
   "execution_count": 136,
   "id": "260aa39b",
   "metadata": {},
   "outputs": [
    {
     "data": {
      "text/html": [
       "<div>\n",
       "<style scoped>\n",
       "    .dataframe tbody tr th:only-of-type {\n",
       "        vertical-align: middle;\n",
       "    }\n",
       "\n",
       "    .dataframe tbody tr th {\n",
       "        vertical-align: top;\n",
       "    }\n",
       "\n",
       "    .dataframe thead th {\n",
       "        text-align: right;\n",
       "    }\n",
       "</style>\n",
       "<table border=\"1\" class=\"dataframe\">\n",
       "  <thead>\n",
       "    <tr style=\"text-align: right;\">\n",
       "      <th></th>\n",
       "      <th>mark</th>\n",
       "    </tr>\n",
       "  </thead>\n",
       "  <tbody>\n",
       "    <tr>\n",
       "      <th>0</th>\n",
       "      <td>11</td>\n",
       "    </tr>\n",
       "    <tr>\n",
       "      <th>1</th>\n",
       "      <td>44</td>\n",
       "    </tr>\n",
       "    <tr>\n",
       "      <th>2</th>\n",
       "      <td>24</td>\n",
       "    </tr>\n",
       "    <tr>\n",
       "      <th>3</th>\n",
       "      <td>80</td>\n",
       "    </tr>\n",
       "    <tr>\n",
       "      <th>4</th>\n",
       "      <td>58</td>\n",
       "    </tr>\n",
       "    <tr>\n",
       "      <th>5</th>\n",
       "      <td>91</td>\n",
       "    </tr>\n",
       "    <tr>\n",
       "      <th>6</th>\n",
       "      <td>68</td>\n",
       "    </tr>\n",
       "    <tr>\n",
       "      <th>7</th>\n",
       "      <td>46</td>\n",
       "    </tr>\n",
       "    <tr>\n",
       "      <th>8</th>\n",
       "      <td>67</td>\n",
       "    </tr>\n",
       "    <tr>\n",
       "      <th>9</th>\n",
       "      <td>27</td>\n",
       "    </tr>\n",
       "    <tr>\n",
       "      <th>10</th>\n",
       "      <td>75</td>\n",
       "    </tr>\n",
       "    <tr>\n",
       "      <th>11</th>\n",
       "      <td>50</td>\n",
       "    </tr>\n",
       "    <tr>\n",
       "      <th>12</th>\n",
       "      <td>13</td>\n",
       "    </tr>\n",
       "    <tr>\n",
       "      <th>13</th>\n",
       "      <td>47</td>\n",
       "    </tr>\n",
       "    <tr>\n",
       "      <th>14</th>\n",
       "      <td>49</td>\n",
       "    </tr>\n",
       "    <tr>\n",
       "      <th>15</th>\n",
       "      <td>47</td>\n",
       "    </tr>\n",
       "    <tr>\n",
       "      <th>16</th>\n",
       "      <td>78</td>\n",
       "    </tr>\n",
       "    <tr>\n",
       "      <th>17</th>\n",
       "      <td>53</td>\n",
       "    </tr>\n",
       "    <tr>\n",
       "      <th>18</th>\n",
       "      <td>55</td>\n",
       "    </tr>\n",
       "    <tr>\n",
       "      <th>19</th>\n",
       "      <td>38</td>\n",
       "    </tr>\n",
       "    <tr>\n",
       "      <th>20</th>\n",
       "      <td>85</td>\n",
       "    </tr>\n",
       "    <tr>\n",
       "      <th>21</th>\n",
       "      <td>32</td>\n",
       "    </tr>\n",
       "    <tr>\n",
       "      <th>22</th>\n",
       "      <td>49</td>\n",
       "    </tr>\n",
       "    <tr>\n",
       "      <th>23</th>\n",
       "      <td>59</td>\n",
       "    </tr>\n",
       "    <tr>\n",
       "      <th>24</th>\n",
       "      <td>45</td>\n",
       "    </tr>\n",
       "    <tr>\n",
       "      <th>25</th>\n",
       "      <td>34</td>\n",
       "    </tr>\n",
       "    <tr>\n",
       "      <th>26</th>\n",
       "      <td>23</td>\n",
       "    </tr>\n",
       "    <tr>\n",
       "      <th>27</th>\n",
       "      <td>38</td>\n",
       "    </tr>\n",
       "    <tr>\n",
       "      <th>28</th>\n",
       "      <td>66</td>\n",
       "    </tr>\n",
       "    <tr>\n",
       "      <th>29</th>\n",
       "      <td>53</td>\n",
       "    </tr>\n",
       "    <tr>\n",
       "      <th>30</th>\n",
       "      <td>84</td>\n",
       "    </tr>\n",
       "    <tr>\n",
       "      <th>31</th>\n",
       "      <td>86</td>\n",
       "    </tr>\n",
       "    <tr>\n",
       "      <th>32</th>\n",
       "      <td>74</td>\n",
       "    </tr>\n",
       "    <tr>\n",
       "      <th>33</th>\n",
       "      <td>22</td>\n",
       "    </tr>\n",
       "    <tr>\n",
       "      <th>34</th>\n",
       "      <td>79</td>\n",
       "    </tr>\n",
       "    <tr>\n",
       "      <th>35</th>\n",
       "      <td>78</td>\n",
       "    </tr>\n",
       "    <tr>\n",
       "      <th>36</th>\n",
       "      <td>68</td>\n",
       "    </tr>\n",
       "    <tr>\n",
       "      <th>37</th>\n",
       "      <td>78</td>\n",
       "    </tr>\n",
       "    <tr>\n",
       "      <th>38</th>\n",
       "      <td>25</td>\n",
       "    </tr>\n",
       "    <tr>\n",
       "      <th>39</th>\n",
       "      <td>75</td>\n",
       "    </tr>\n",
       "  </tbody>\n",
       "</table>\n",
       "</div>"
      ],
      "text/plain": [
       "    mark\n",
       "0     11\n",
       "1     44\n",
       "2     24\n",
       "3     80\n",
       "4     58\n",
       "5     91\n",
       "6     68\n",
       "7     46\n",
       "8     67\n",
       "9     27\n",
       "10    75\n",
       "11    50\n",
       "12    13\n",
       "13    47\n",
       "14    49\n",
       "15    47\n",
       "16    78\n",
       "17    53\n",
       "18    55\n",
       "19    38\n",
       "20    85\n",
       "21    32\n",
       "22    49\n",
       "23    59\n",
       "24    45\n",
       "25    34\n",
       "26    23\n",
       "27    38\n",
       "28    66\n",
       "29    53\n",
       "30    84\n",
       "31    86\n",
       "32    74\n",
       "33    22\n",
       "34    79\n",
       "35    78\n",
       "36    68\n",
       "37    78\n",
       "38    25\n",
       "39    75"
      ]
     },
     "execution_count": 136,
     "metadata": {},
     "output_type": "execute_result"
    }
   ],
   "source": [
    "marks_df = pd.DataFrame(marks, columns=['mark'])\n",
    "marks_df"
   ]
  },
  {
   "cell_type": "code",
   "execution_count": 137,
   "id": "ac7d42f8",
   "metadata": {},
   "outputs": [
    {
     "data": {
      "text/plain": [
       "0     E\n",
       "1     C\n",
       "2     D\n",
       "3     B\n",
       "4     C\n",
       "5     A\n",
       "6     B\n",
       "7     C\n",
       "8     B\n",
       "9     D\n",
       "10    B\n",
       "11    C\n",
       "12    E\n",
       "13    C\n",
       "14    C\n",
       "15    C\n",
       "16    B\n",
       "17    C\n",
       "18    C\n",
       "19    D\n",
       "20    A\n",
       "21    D\n",
       "22    C\n",
       "23    C\n",
       "24    C\n",
       "25    D\n",
       "26    D\n",
       "27    D\n",
       "28    B\n",
       "29    C\n",
       "30    A\n",
       "31    A\n",
       "32    B\n",
       "33    D\n",
       "34    B\n",
       "35    B\n",
       "36    B\n",
       "37    B\n",
       "38    D\n",
       "39    B\n",
       "Name: mark, dtype: object"
      ]
     },
     "execution_count": 137,
     "metadata": {},
     "output_type": "execute_result"
    }
   ],
   "source": [
    "marks_df.mark.apply(to_american_system)"
   ]
  },
  {
   "cell_type": "code",
   "execution_count": 155,
   "id": "3667c18e",
   "metadata": {},
   "outputs": [
    {
     "data": {
      "text/html": [
       "<div>\n",
       "<style scoped>\n",
       "    .dataframe tbody tr th:only-of-type {\n",
       "        vertical-align: middle;\n",
       "    }\n",
       "\n",
       "    .dataframe tbody tr th {\n",
       "        vertical-align: top;\n",
       "    }\n",
       "\n",
       "    .dataframe thead th {\n",
       "        text-align: right;\n",
       "    }\n",
       "</style>\n",
       "<table border=\"1\" class=\"dataframe\">\n",
       "  <thead>\n",
       "    <tr style=\"text-align: right;\">\n",
       "      <th></th>\n",
       "      <th>A</th>\n",
       "      <th>B</th>\n",
       "    </tr>\n",
       "  </thead>\n",
       "  <tbody>\n",
       "    <tr>\n",
       "      <th>0</th>\n",
       "      <td>1</td>\n",
       "      <td>5.0</td>\n",
       "    </tr>\n",
       "    <tr>\n",
       "      <th>1</th>\n",
       "      <td>2</td>\n",
       "      <td>6.0</td>\n",
       "    </tr>\n",
       "    <tr>\n",
       "      <th>2</th>\n",
       "      <td>3</td>\n",
       "      <td>7.0</td>\n",
       "    </tr>\n",
       "    <tr>\n",
       "      <th>3</th>\n",
       "      <td>4</td>\n",
       "      <td>8.0</td>\n",
       "    </tr>\n",
       "    <tr>\n",
       "      <th>0</th>\n",
       "      <td>9</td>\n",
       "      <td>NaN</td>\n",
       "    </tr>\n",
       "    <tr>\n",
       "      <th>1</th>\n",
       "      <td>10</td>\n",
       "      <td>NaN</td>\n",
       "    </tr>\n",
       "    <tr>\n",
       "      <th>2</th>\n",
       "      <td>11</td>\n",
       "      <td>NaN</td>\n",
       "    </tr>\n",
       "    <tr>\n",
       "      <th>3</th>\n",
       "      <td>12</td>\n",
       "      <td>NaN</td>\n",
       "    </tr>\n",
       "  </tbody>\n",
       "</table>\n",
       "</div>"
      ],
      "text/plain": [
       "    A    B\n",
       "0   1  5.0\n",
       "1   2  6.0\n",
       "2   3  7.0\n",
       "3   4  8.0\n",
       "0   9  NaN\n",
       "1  10  NaN\n",
       "2  11  NaN\n",
       "3  12  NaN"
      ]
     },
     "execution_count": 155,
     "metadata": {},
     "output_type": "execute_result"
    }
   ],
   "source": [
    "df1 = pd.DataFrame({'A': [1, 2, 3, 4], 'B': [5, 6, 7, 8]})\n",
    "df2 = pd.DataFrame({'A': [9, 10, 11, 12]})\n",
    "\n",
    "pd.concat([df1, df2], axis='index')"
   ]
  },
  {
   "cell_type": "code",
   "execution_count": 160,
   "id": "96b5e3b0",
   "metadata": {},
   "outputs": [
    {
     "data": {
      "text/html": [
       "<div>\n",
       "<style scoped>\n",
       "    .dataframe tbody tr th:only-of-type {\n",
       "        vertical-align: middle;\n",
       "    }\n",
       "\n",
       "    .dataframe tbody tr th {\n",
       "        vertical-align: top;\n",
       "    }\n",
       "\n",
       "    .dataframe thead th {\n",
       "        text-align: right;\n",
       "    }\n",
       "</style>\n",
       "<table border=\"1\" class=\"dataframe\">\n",
       "  <thead>\n",
       "    <tr style=\"text-align: right;\">\n",
       "      <th></th>\n",
       "      <th>A</th>\n",
       "      <th>B</th>\n",
       "      <th>A</th>\n",
       "      <th>B</th>\n",
       "    </tr>\n",
       "  </thead>\n",
       "  <tbody>\n",
       "    <tr>\n",
       "      <th>0</th>\n",
       "      <td>1</td>\n",
       "      <td>5</td>\n",
       "      <td>9</td>\n",
       "      <td>13</td>\n",
       "    </tr>\n",
       "    <tr>\n",
       "      <th>1</th>\n",
       "      <td>2</td>\n",
       "      <td>6</td>\n",
       "      <td>10</td>\n",
       "      <td>14</td>\n",
       "    </tr>\n",
       "    <tr>\n",
       "      <th>2</th>\n",
       "      <td>3</td>\n",
       "      <td>7</td>\n",
       "      <td>11</td>\n",
       "      <td>15</td>\n",
       "    </tr>\n",
       "    <tr>\n",
       "      <th>3</th>\n",
       "      <td>4</td>\n",
       "      <td>8</td>\n",
       "      <td>12</td>\n",
       "      <td>16</td>\n",
       "    </tr>\n",
       "  </tbody>\n",
       "</table>\n",
       "</div>"
      ],
      "text/plain": [
       "   A  B   A   B\n",
       "0  1  5   9  13\n",
       "1  2  6  10  14\n",
       "2  3  7  11  15\n",
       "3  4  8  12  16"
      ]
     },
     "execution_count": 160,
     "metadata": {},
     "output_type": "execute_result"
    }
   ],
   "source": [
    "df1 = pd.DataFrame({'A': [1, 2, 3, 4], 'B': [5, 6, 7, 8]})\n",
    "df2 = pd.DataFrame({'A': [9, 10, 11, 12], 'B': [13, 14, 15, 16]})\n",
    "\n",
    "pd.concat([df1, df2], axis='columns')"
   ]
  },
  {
   "cell_type": "code",
   "execution_count": 161,
   "id": "71fac089",
   "metadata": {},
   "outputs": [
    {
     "data": {
      "text/html": [
       "<div>\n",
       "<style scoped>\n",
       "    .dataframe tbody tr th:only-of-type {\n",
       "        vertical-align: middle;\n",
       "    }\n",
       "\n",
       "    .dataframe tbody tr th {\n",
       "        vertical-align: top;\n",
       "    }\n",
       "\n",
       "    .dataframe thead th {\n",
       "        text-align: right;\n",
       "    }\n",
       "</style>\n",
       "<table border=\"1\" class=\"dataframe\">\n",
       "  <thead>\n",
       "    <tr style=\"text-align: right;\">\n",
       "      <th></th>\n",
       "      <th>mark</th>\n",
       "      <th>mark</th>\n",
       "    </tr>\n",
       "  </thead>\n",
       "  <tbody>\n",
       "    <tr>\n",
       "      <th>0</th>\n",
       "      <td>11</td>\n",
       "      <td>E</td>\n",
       "    </tr>\n",
       "    <tr>\n",
       "      <th>1</th>\n",
       "      <td>44</td>\n",
       "      <td>C</td>\n",
       "    </tr>\n",
       "    <tr>\n",
       "      <th>2</th>\n",
       "      <td>24</td>\n",
       "      <td>D</td>\n",
       "    </tr>\n",
       "    <tr>\n",
       "      <th>3</th>\n",
       "      <td>80</td>\n",
       "      <td>B</td>\n",
       "    </tr>\n",
       "    <tr>\n",
       "      <th>4</th>\n",
       "      <td>58</td>\n",
       "      <td>C</td>\n",
       "    </tr>\n",
       "    <tr>\n",
       "      <th>5</th>\n",
       "      <td>91</td>\n",
       "      <td>A</td>\n",
       "    </tr>\n",
       "    <tr>\n",
       "      <th>6</th>\n",
       "      <td>68</td>\n",
       "      <td>B</td>\n",
       "    </tr>\n",
       "    <tr>\n",
       "      <th>7</th>\n",
       "      <td>46</td>\n",
       "      <td>C</td>\n",
       "    </tr>\n",
       "    <tr>\n",
       "      <th>8</th>\n",
       "      <td>67</td>\n",
       "      <td>B</td>\n",
       "    </tr>\n",
       "    <tr>\n",
       "      <th>9</th>\n",
       "      <td>27</td>\n",
       "      <td>D</td>\n",
       "    </tr>\n",
       "    <tr>\n",
       "      <th>10</th>\n",
       "      <td>75</td>\n",
       "      <td>B</td>\n",
       "    </tr>\n",
       "    <tr>\n",
       "      <th>11</th>\n",
       "      <td>50</td>\n",
       "      <td>C</td>\n",
       "    </tr>\n",
       "    <tr>\n",
       "      <th>12</th>\n",
       "      <td>13</td>\n",
       "      <td>E</td>\n",
       "    </tr>\n",
       "    <tr>\n",
       "      <th>13</th>\n",
       "      <td>47</td>\n",
       "      <td>C</td>\n",
       "    </tr>\n",
       "    <tr>\n",
       "      <th>14</th>\n",
       "      <td>49</td>\n",
       "      <td>C</td>\n",
       "    </tr>\n",
       "    <tr>\n",
       "      <th>15</th>\n",
       "      <td>47</td>\n",
       "      <td>C</td>\n",
       "    </tr>\n",
       "    <tr>\n",
       "      <th>16</th>\n",
       "      <td>78</td>\n",
       "      <td>B</td>\n",
       "    </tr>\n",
       "    <tr>\n",
       "      <th>17</th>\n",
       "      <td>53</td>\n",
       "      <td>C</td>\n",
       "    </tr>\n",
       "    <tr>\n",
       "      <th>18</th>\n",
       "      <td>55</td>\n",
       "      <td>C</td>\n",
       "    </tr>\n",
       "    <tr>\n",
       "      <th>19</th>\n",
       "      <td>38</td>\n",
       "      <td>D</td>\n",
       "    </tr>\n",
       "    <tr>\n",
       "      <th>20</th>\n",
       "      <td>85</td>\n",
       "      <td>A</td>\n",
       "    </tr>\n",
       "    <tr>\n",
       "      <th>21</th>\n",
       "      <td>32</td>\n",
       "      <td>D</td>\n",
       "    </tr>\n",
       "    <tr>\n",
       "      <th>22</th>\n",
       "      <td>49</td>\n",
       "      <td>C</td>\n",
       "    </tr>\n",
       "    <tr>\n",
       "      <th>23</th>\n",
       "      <td>59</td>\n",
       "      <td>C</td>\n",
       "    </tr>\n",
       "    <tr>\n",
       "      <th>24</th>\n",
       "      <td>45</td>\n",
       "      <td>C</td>\n",
       "    </tr>\n",
       "    <tr>\n",
       "      <th>25</th>\n",
       "      <td>34</td>\n",
       "      <td>D</td>\n",
       "    </tr>\n",
       "    <tr>\n",
       "      <th>26</th>\n",
       "      <td>23</td>\n",
       "      <td>D</td>\n",
       "    </tr>\n",
       "    <tr>\n",
       "      <th>27</th>\n",
       "      <td>38</td>\n",
       "      <td>D</td>\n",
       "    </tr>\n",
       "    <tr>\n",
       "      <th>28</th>\n",
       "      <td>66</td>\n",
       "      <td>B</td>\n",
       "    </tr>\n",
       "    <tr>\n",
       "      <th>29</th>\n",
       "      <td>53</td>\n",
       "      <td>C</td>\n",
       "    </tr>\n",
       "    <tr>\n",
       "      <th>30</th>\n",
       "      <td>84</td>\n",
       "      <td>A</td>\n",
       "    </tr>\n",
       "    <tr>\n",
       "      <th>31</th>\n",
       "      <td>86</td>\n",
       "      <td>A</td>\n",
       "    </tr>\n",
       "    <tr>\n",
       "      <th>32</th>\n",
       "      <td>74</td>\n",
       "      <td>B</td>\n",
       "    </tr>\n",
       "    <tr>\n",
       "      <th>33</th>\n",
       "      <td>22</td>\n",
       "      <td>D</td>\n",
       "    </tr>\n",
       "    <tr>\n",
       "      <th>34</th>\n",
       "      <td>79</td>\n",
       "      <td>B</td>\n",
       "    </tr>\n",
       "    <tr>\n",
       "      <th>35</th>\n",
       "      <td>78</td>\n",
       "      <td>B</td>\n",
       "    </tr>\n",
       "    <tr>\n",
       "      <th>36</th>\n",
       "      <td>68</td>\n",
       "      <td>B</td>\n",
       "    </tr>\n",
       "    <tr>\n",
       "      <th>37</th>\n",
       "      <td>78</td>\n",
       "      <td>B</td>\n",
       "    </tr>\n",
       "    <tr>\n",
       "      <th>38</th>\n",
       "      <td>25</td>\n",
       "      <td>D</td>\n",
       "    </tr>\n",
       "    <tr>\n",
       "      <th>39</th>\n",
       "      <td>75</td>\n",
       "      <td>B</td>\n",
       "    </tr>\n",
       "  </tbody>\n",
       "</table>\n",
       "</div>"
      ],
      "text/plain": [
       "   mark mark\n",
       "0    11    E\n",
       "1    44    C\n",
       "2    24    D\n",
       "3    80    B\n",
       "4    58    C\n",
       "5    91    A\n",
       "6    68    B\n",
       "7    46    C\n",
       "8    67    B\n",
       "9    27    D\n",
       "10   75    B\n",
       "11   50    C\n",
       "12   13    E\n",
       "13   47    C\n",
       "14   49    C\n",
       "15   47    C\n",
       "16   78    B\n",
       "17   53    C\n",
       "18   55    C\n",
       "19   38    D\n",
       "20   85    A\n",
       "21   32    D\n",
       "22   49    C\n",
       "23   59    C\n",
       "24   45    C\n",
       "25   34    D\n",
       "26   23    D\n",
       "27   38    D\n",
       "28   66    B\n",
       "29   53    C\n",
       "30   84    A\n",
       "31   86    A\n",
       "32   74    B\n",
       "33   22    D\n",
       "34   79    B\n",
       "35   78    B\n",
       "36   68    B\n",
       "37   78    B\n",
       "38   25    D\n",
       "39   75    B"
      ]
     },
     "execution_count": 161,
     "metadata": {},
     "output_type": "execute_result"
    }
   ],
   "source": [
    "pd.concat([marks_df, Out[137]], axis='columns')"
   ]
  },
  {
   "cell_type": "code",
   "execution_count": 165,
   "id": "bfef06e1",
   "metadata": {},
   "outputs": [],
   "source": [
    "import pandas as pd"
   ]
  },
  {
   "cell_type": "code",
   "execution_count": 177,
   "id": "22ee97d9",
   "metadata": {},
   "outputs": [
    {
     "data": {
      "text/plain": [
       "0            коди\n",
       "1      0000000000\n",
       "2      0100000000\n",
       "3      0500000000\n",
       "4      0700000000\n",
       "          ...    \n",
       "472    7100000000\n",
       "473    7300000000\n",
       "474    7400000000\n",
       "475    8000000000\n",
       "476    8500000000\n",
       "Name: code, Length: 477, dtype: object"
      ]
     },
     "execution_count": 177,
     "metadata": {},
     "output_type": "execute_result"
    }
   ],
   "source": [
    "df = pd.read_excel('https://data.gov.ua/dataset/6e24b7d1-218f-4899-b187-19de3ad1ded6/resource/85b0bf89-1021-4e07-bafc-f7b7c5125555/download/14-valovii-regionalnii-produkt-u-faktichnikh-tsinakh-mln-grn.xlsx', sheet_name='Валовий регіональний продукт en', index_col=[0, 1, 2])\n",
    "df"
   ]
  },
  {
   "cell_type": "code",
   "execution_count": null,
   "id": "80230384",
   "metadata": {},
   "outputs": [],
   "source": []
  }
 ],
 "metadata": {
  "kernelspec": {
   "display_name": "Python 3",
   "language": "python",
   "name": "python3"
  },
  "language_info": {
   "codemirror_mode": {
    "name": "ipython",
    "version": 3
   },
   "file_extension": ".py",
   "mimetype": "text/x-python",
   "name": "python",
   "nbconvert_exporter": "python",
   "pygments_lexer": "ipython3",
   "version": "3.8.8"
  }
 },
 "nbformat": 4,
 "nbformat_minor": 5
}
