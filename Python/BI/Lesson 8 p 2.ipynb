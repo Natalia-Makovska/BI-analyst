{
 "cells": [
  {
   "cell_type": "markdown",
   "id": "dba2fa7c",
   "metadata": {},
   "source": [
    "# Lesson 8.\n"
   ]
  },
  {
   "cell_type": "markdown",
   "id": "e2179845",
   "metadata": {},
   "source": [
    "## PANDAS"
   ]
  },
  {
   "cell_type": "code",
   "execution_count": 1,
   "id": "6fe4d1d8",
   "metadata": {},
   "outputs": [],
   "source": [
    "import pandas as pd"
   ]
  },
  {
   "cell_type": "code",
   "execution_count": 2,
   "id": "4be6f01e",
   "metadata": {},
   "outputs": [
    {
     "data": {
      "text/plain": [
       "0    1\n",
       "1    2\n",
       "2    3\n",
       "3    4\n",
       "4    5\n",
       "dtype: int64"
      ]
     },
     "execution_count": 2,
     "metadata": {},
     "output_type": "execute_result"
    }
   ],
   "source": [
    "series = pd.Series([1, 2, 3, 4, 5])\n",
    "series"
   ]
  },
  {
   "cell_type": "code",
   "execution_count": 4,
   "id": "c87ecaa8",
   "metadata": {},
   "outputs": [
    {
     "data": {
      "text/plain": [
       "RangeIndex(start=0, stop=5, step=1)"
      ]
     },
     "execution_count": 4,
     "metadata": {},
     "output_type": "execute_result"
    }
   ],
   "source": [
    "series.index"
   ]
  },
  {
   "cell_type": "code",
   "execution_count": 5,
   "id": "c33048f2",
   "metadata": {},
   "outputs": [
    {
     "data": {
      "text/plain": [
       "(array([1, 2, 3, 4, 5], dtype=int64), numpy.ndarray)"
      ]
     },
     "execution_count": 5,
     "metadata": {},
     "output_type": "execute_result"
    }
   ],
   "source": [
    "series.values, type(series.values)"
   ]
  },
  {
   "cell_type": "code",
   "execution_count": 6,
   "id": "6aaa3bcd",
   "metadata": {},
   "outputs": [
    {
     "data": {
      "text/plain": [
       "5"
      ]
     },
     "execution_count": 6,
     "metadata": {},
     "output_type": "execute_result"
    }
   ],
   "source": [
    "series[4]"
   ]
  },
  {
   "cell_type": "code",
   "execution_count": 8,
   "id": "0d653622",
   "metadata": {},
   "outputs": [
    {
     "data": {
      "text/plain": [
       "a     5\n",
       "b     6\n",
       "c     7\n",
       "d     8\n",
       "e     9\n",
       "f    10\n",
       "dtype: int64"
      ]
     },
     "execution_count": 8,
     "metadata": {},
     "output_type": "execute_result"
    }
   ],
   "source": [
    "indexed_series = pd.Series([5, 6, 7, 8, 9, 10], index=['a','b','c','d','e','f'])\n",
    "indexed_series"
   ]
  },
  {
   "cell_type": "code",
   "execution_count": 9,
   "id": "23cce626",
   "metadata": {},
   "outputs": [],
   "source": [
    "import numpy as np"
   ]
  },
  {
   "cell_type": "code",
   "execution_count": 11,
   "id": "7d2f6c84",
   "metadata": {},
   "outputs": [
    {
     "data": {
      "text/plain": [
       "5"
      ]
     },
     "execution_count": 11,
     "metadata": {},
     "output_type": "execute_result"
    }
   ],
   "source": [
    "indexed_series['a']"
   ]
  },
  {
   "cell_type": "code",
   "execution_count": 14,
   "id": "4f7e0f8a",
   "metadata": {},
   "outputs": [
    {
     "data": {
      "text/plain": [
       "a     5\n",
       "b     6\n",
       "f    10\n",
       "dtype: int64"
      ]
     },
     "execution_count": 14,
     "metadata": {},
     "output_type": "execute_result"
    }
   ],
   "source": [
    "indexed_series[['a', 'b', 'f']]"
   ]
  },
  {
   "cell_type": "code",
   "execution_count": 16,
   "id": "5d49fe40",
   "metadata": {},
   "outputs": [
    {
     "data": {
      "text/plain": [
       "a    42\n",
       "b    42\n",
       "c     7\n",
       "d     8\n",
       "e     9\n",
       "f    42\n",
       "dtype: int64"
      ]
     },
     "execution_count": 16,
     "metadata": {},
     "output_type": "execute_result"
    }
   ],
   "source": [
    "indexed_series[['a', 'b', 'f']] = 42\n",
    "indexed_series"
   ]
  },
  {
   "cell_type": "code",
   "execution_count": 17,
   "id": "87e196c3",
   "metadata": {},
   "outputs": [
    {
     "data": {
      "text/plain": [
       "a    42\n",
       "b    42\n",
       "e     9\n",
       "f    42\n",
       "dtype: int64"
      ]
     },
     "execution_count": 17,
     "metadata": {},
     "output_type": "execute_result"
    }
   ],
   "source": [
    "indexed_series[indexed_series >=9]"
   ]
  },
  {
   "cell_type": "code",
   "execution_count": 18,
   "id": "466ea940",
   "metadata": {},
   "outputs": [
    {
     "data": {
      "text/plain": [
       "a    6.480741\n",
       "b    6.480741\n",
       "e    3.000000\n",
       "f    6.480741\n",
       "dtype: float64"
      ]
     },
     "execution_count": 18,
     "metadata": {},
     "output_type": "execute_result"
    }
   ],
   "source": [
    "indexed_series[indexed_series >= 9] ** .5"
   ]
  },
  {
   "cell_type": "code",
   "execution_count": 19,
   "id": "3852a245",
   "metadata": {},
   "outputs": [
    {
     "data": {
      "text/plain": [
       "a    5\n",
       "b    6\n",
       "c    7\n",
       "d    8\n",
       "dtype: int64"
      ]
     },
     "execution_count": 19,
     "metadata": {},
     "output_type": "execute_result"
    }
   ],
   "source": [
    "dict_series = pd.Series({'a': 5, 'b' : 6, 'c': 7, 'd': 8})\n",
    "dict_series"
   ]
  },
  {
   "cell_type": "code",
   "execution_count": 20,
   "id": "b20c9667",
   "metadata": {},
   "outputs": [
    {
     "data": {
      "text/plain": [
       "letters\n",
       "a    5\n",
       "b    6\n",
       "c    7\n",
       "d    8\n",
       "Name: Series from dictionary , dtype: int64"
      ]
     },
     "execution_count": 20,
     "metadata": {},
     "output_type": "execute_result"
    }
   ],
   "source": [
    "dict_series.name = 'Series from dictionary '\n",
    "dict_series.index.name = 'letters'\n",
    "dict_series"
   ]
  },
  {
   "cell_type": "code",
   "execution_count": 21,
   "id": "2d1d7003",
   "metadata": {},
   "outputs": [
    {
     "data": {
      "text/plain": [
       "1    5\n",
       "2    6\n",
       "3    7\n",
       "4    8\n",
       "Name: Series from dictionary , dtype: int64"
      ]
     },
     "execution_count": 21,
     "metadata": {},
     "output_type": "execute_result"
    }
   ],
   "source": [
    "dict_series.index = [1, 2, 3, 4]\n",
    "dict_series"
   ]
  },
  {
   "cell_type": "markdown",
   "id": "da7e9e93",
   "metadata": {},
   "source": [
    "DataFrame"
   ]
  },
  {
   "cell_type": "code",
   "execution_count": 22,
   "id": "2d6d0ed2",
   "metadata": {},
   "outputs": [
    {
     "data": {
      "text/html": [
       "<div>\n",
       "<style scoped>\n",
       "    .dataframe tbody tr th:only-of-type {\n",
       "        vertical-align: middle;\n",
       "    }\n",
       "\n",
       "    .dataframe tbody tr th {\n",
       "        vertical-align: top;\n",
       "    }\n",
       "\n",
       "    .dataframe thead th {\n",
       "        text-align: right;\n",
       "    }\n",
       "</style>\n",
       "<table border=\"1\" class=\"dataframe\">\n",
       "  <thead>\n",
       "    <tr style=\"text-align: right;\">\n",
       "      <th></th>\n",
       "      <th>element</th>\n",
       "      <th>symbol</th>\n",
       "      <th>atomic_number</th>\n",
       "    </tr>\n",
       "  </thead>\n",
       "  <tbody>\n",
       "    <tr>\n",
       "      <th>0</th>\n",
       "      <td>Helium</td>\n",
       "      <td>He</td>\n",
       "      <td>2</td>\n",
       "    </tr>\n",
       "    <tr>\n",
       "      <th>1</th>\n",
       "      <td>Magnesium</td>\n",
       "      <td>Mg</td>\n",
       "      <td>12</td>\n",
       "    </tr>\n",
       "  </tbody>\n",
       "</table>\n",
       "</div>"
      ],
      "text/plain": [
       "     element symbol  atomic_number\n",
       "0     Helium     He              2\n",
       "1  Magnesium     Mg             12"
      ]
     },
     "execution_count": 22,
     "metadata": {},
     "output_type": "execute_result"
    }
   ],
   "source": [
    "df = pd.DataFrame(\n",
    "    [\n",
    "        {\n",
    "            'element': 'Helium', \n",
    "            'symbol': 'He', \n",
    "            'atomic_number': 2\n",
    "        }, \n",
    "        {\n",
    "            'element': 'Magnesium',\n",
    "            'symbol': 'Mg',\n",
    "            'atomic_number': 12\n",
    "        }\n",
    "    ]\n",
    ")\n",
    "df"
   ]
  },
  {
   "cell_type": "code",
   "execution_count": 23,
   "id": "1ddf54e2",
   "metadata": {},
   "outputs": [
    {
     "data": {
      "text/plain": [
       "(0    He\n",
       " 1    Mg\n",
       " Name: symbol, dtype: object,\n",
       " 0    He\n",
       " 1    Mg\n",
       " Name: symbol, dtype: object,\n",
       " pandas.core.series.Series)"
      ]
     },
     "execution_count": 23,
     "metadata": {},
     "output_type": "execute_result"
    }
   ],
   "source": [
    "df['symbol'], df.symbol, type(df.symbol)"
   ]
  },
  {
   "cell_type": "code",
   "execution_count": 24,
   "id": "61c19906",
   "metadata": {},
   "outputs": [
    {
     "data": {
      "text/plain": [
       "Index(['element', 'symbol', 'atomic_number'], dtype='object')"
      ]
     },
     "execution_count": 24,
     "metadata": {},
     "output_type": "execute_result"
    }
   ],
   "source": [
    "df.columns"
   ]
  },
  {
   "cell_type": "code",
   "execution_count": 25,
   "id": "a8dfe2df",
   "metadata": {},
   "outputs": [
    {
     "data": {
      "text/plain": [
       "RangeIndex(start=0, stop=2, step=1)"
      ]
     },
     "execution_count": 25,
     "metadata": {},
     "output_type": "execute_result"
    }
   ],
   "source": [
    "df.index"
   ]
  },
  {
   "cell_type": "code",
   "execution_count": 26,
   "id": "33c12c5d",
   "metadata": {},
   "outputs": [
    {
     "data": {
      "text/plain": [
       "(2, 3)"
      ]
     },
     "execution_count": 26,
     "metadata": {},
     "output_type": "execute_result"
    }
   ],
   "source": [
    "df.shape"
   ]
  },
  {
   "cell_type": "code",
   "execution_count": 28,
   "id": "2ed0ee9d",
   "metadata": {},
   "outputs": [
    {
     "data": {
      "text/html": [
       "<div>\n",
       "<style scoped>\n",
       "    .dataframe tbody tr th:only-of-type {\n",
       "        vertical-align: middle;\n",
       "    }\n",
       "\n",
       "    .dataframe tbody tr th {\n",
       "        vertical-align: top;\n",
       "    }\n",
       "\n",
       "    .dataframe thead th {\n",
       "        text-align: right;\n",
       "    }\n",
       "</style>\n",
       "<table border=\"1\" class=\"dataframe\">\n",
       "  <thead>\n",
       "    <tr style=\"text-align: right;\">\n",
       "      <th></th>\n",
       "      <th>element</th>\n",
       "      <th>symbol</th>\n",
       "    </tr>\n",
       "  </thead>\n",
       "  <tbody>\n",
       "    <tr>\n",
       "      <th>0</th>\n",
       "      <td>Helium</td>\n",
       "      <td>He</td>\n",
       "    </tr>\n",
       "    <tr>\n",
       "      <th>1</th>\n",
       "      <td>Magnesium</td>\n",
       "      <td>Mg</td>\n",
       "    </tr>\n",
       "  </tbody>\n",
       "</table>\n",
       "</div>"
      ],
      "text/plain": [
       "     element symbol\n",
       "0     Helium     He\n",
       "1  Magnesium     Mg"
      ]
     },
     "execution_count": 28,
     "metadata": {},
     "output_type": "execute_result"
    }
   ],
   "source": [
    "df[['element', 'symbol']]"
   ]
  },
  {
   "cell_type": "code",
   "execution_count": 29,
   "id": "26228086",
   "metadata": {},
   "outputs": [
    {
     "data": {
      "text/html": [
       "<div>\n",
       "<style scoped>\n",
       "    .dataframe tbody tr th:only-of-type {\n",
       "        vertical-align: middle;\n",
       "    }\n",
       "\n",
       "    .dataframe tbody tr th {\n",
       "        vertical-align: top;\n",
       "    }\n",
       "\n",
       "    .dataframe thead th {\n",
       "        text-align: right;\n",
       "    }\n",
       "</style>\n",
       "<table border=\"1\" class=\"dataframe\">\n",
       "  <thead>\n",
       "    <tr style=\"text-align: right;\">\n",
       "      <th></th>\n",
       "      <th>element</th>\n",
       "      <th>symbol</th>\n",
       "      <th>atomic_number</th>\n",
       "    </tr>\n",
       "  </thead>\n",
       "  <tbody>\n",
       "    <tr>\n",
       "      <th>HE</th>\n",
       "      <td>Helium</td>\n",
       "      <td>He</td>\n",
       "      <td>2</td>\n",
       "    </tr>\n",
       "    <tr>\n",
       "      <th>MG</th>\n",
       "      <td>Magnesium</td>\n",
       "      <td>Mg</td>\n",
       "      <td>12</td>\n",
       "    </tr>\n",
       "  </tbody>\n",
       "</table>\n",
       "</div>"
      ],
      "text/plain": [
       "      element symbol  atomic_number\n",
       "HE     Helium     He              2\n",
       "MG  Magnesium     Mg             12"
      ]
     },
     "execution_count": 29,
     "metadata": {},
     "output_type": "execute_result"
    }
   ],
   "source": [
    "df = pd.DataFrame(\n",
    "    [\n",
    "        {\n",
    "            'element': 'Helium', \n",
    "            'symbol': 'He', \n",
    "            'atomic_number': 2\n",
    "        }, \n",
    "        {\n",
    "            'element': 'Magnesium',\n",
    "            'symbol': 'Mg',\n",
    "            'atomic_number': 12\n",
    "        }\n",
    "    ],\n",
    "    index=['HE', 'MG']\n",
    ")\n",
    "df"
   ]
  },
  {
   "cell_type": "code",
   "execution_count": 30,
   "id": "4674735b",
   "metadata": {},
   "outputs": [
    {
     "data": {
      "text/html": [
       "<div>\n",
       "<style scoped>\n",
       "    .dataframe tbody tr th:only-of-type {\n",
       "        vertical-align: middle;\n",
       "    }\n",
       "\n",
       "    .dataframe tbody tr th {\n",
       "        vertical-align: top;\n",
       "    }\n",
       "\n",
       "    .dataframe thead th {\n",
       "        text-align: right;\n",
       "    }\n",
       "</style>\n",
       "<table border=\"1\" class=\"dataframe\">\n",
       "  <thead>\n",
       "    <tr style=\"text-align: right;\">\n",
       "      <th></th>\n",
       "      <th>element</th>\n",
       "      <th>symbol</th>\n",
       "      <th>atomic_number</th>\n",
       "    </tr>\n",
       "    <tr>\n",
       "      <th>Element code</th>\n",
       "      <th></th>\n",
       "      <th></th>\n",
       "      <th></th>\n",
       "    </tr>\n",
       "  </thead>\n",
       "  <tbody>\n",
       "    <tr>\n",
       "      <th>HE</th>\n",
       "      <td>Helium</td>\n",
       "      <td>He</td>\n",
       "      <td>2</td>\n",
       "    </tr>\n",
       "    <tr>\n",
       "      <th>MG</th>\n",
       "      <td>Magnesium</td>\n",
       "      <td>Mg</td>\n",
       "      <td>12</td>\n",
       "    </tr>\n",
       "  </tbody>\n",
       "</table>\n",
       "</div>"
      ],
      "text/plain": [
       "                element symbol  atomic_number\n",
       "Element code                                 \n",
       "HE               Helium     He              2\n",
       "MG            Magnesium     Mg             12"
      ]
     },
     "execution_count": 30,
     "metadata": {},
     "output_type": "execute_result"
    }
   ],
   "source": [
    "df.index = ['HE', 'MG']\n",
    "df.index.name = 'Element code'\n",
    "df"
   ]
  },
  {
   "cell_type": "code",
   "execution_count": 31,
   "id": "952c8bc9",
   "metadata": {},
   "outputs": [
    {
     "data": {
      "text/plain": [
       "Element code\n",
       "HE       Helium\n",
       "MG    Magnesium\n",
       "Name: element, dtype: object"
      ]
     },
     "execution_count": 31,
     "metadata": {},
     "output_type": "execute_result"
    }
   ],
   "source": [
    "df['element']"
   ]
  },
  {
   "cell_type": "code",
   "execution_count": 32,
   "id": "ff0ddb7b",
   "metadata": {},
   "outputs": [
    {
     "data": {
      "text/plain": [
       "element          Helium\n",
       "symbol               He\n",
       "atomic_number         2\n",
       "Name: HE, dtype: object"
      ]
     },
     "execution_count": 32,
     "metadata": {},
     "output_type": "execute_result"
    }
   ],
   "source": [
    "df.loc['HE']"
   ]
  },
  {
   "cell_type": "code",
   "execution_count": 33,
   "id": "0ea5927d",
   "metadata": {
    "scrolled": true
   },
   "outputs": [
    {
     "data": {
      "text/plain": [
       "element          Helium\n",
       "symbol               He\n",
       "atomic_number         2\n",
       "Name: HE, dtype: object"
      ]
     },
     "execution_count": 33,
     "metadata": {},
     "output_type": "execute_result"
    }
   ],
   "source": [
    "df.iloc[0]  # доступ по числовому значенню"
   ]
  },
  {
   "cell_type": "code",
   "execution_count": 34,
   "id": "fe340c6c",
   "metadata": {},
   "outputs": [],
   "source": [
    "import json"
   ]
  },
  {
   "cell_type": "code",
   "execution_count": 41,
   "id": "83bacd3a",
   "metadata": {},
   "outputs": [
    {
     "data": {
      "text/html": [
       "<div>\n",
       "<style scoped>\n",
       "    .dataframe tbody tr th:only-of-type {\n",
       "        vertical-align: middle;\n",
       "    }\n",
       "\n",
       "    .dataframe tbody tr th {\n",
       "        vertical-align: top;\n",
       "    }\n",
       "\n",
       "    .dataframe thead th {\n",
       "        text-align: right;\n",
       "    }\n",
       "</style>\n",
       "<table border=\"1\" class=\"dataframe\">\n",
       "  <thead>\n",
       "    <tr style=\"text-align: right;\">\n",
       "      <th></th>\n",
       "      <th>name</th>\n",
       "      <th>appearance</th>\n",
       "      <th>atomic_mass</th>\n",
       "      <th>boil</th>\n",
       "      <th>category</th>\n",
       "      <th>density</th>\n",
       "      <th>discovered_by</th>\n",
       "      <th>melt</th>\n",
       "      <th>molar_heat</th>\n",
       "      <th>named_by</th>\n",
       "      <th>...</th>\n",
       "      <th>symbol</th>\n",
       "      <th>xpos</th>\n",
       "      <th>ypos</th>\n",
       "      <th>shells</th>\n",
       "      <th>electron_configuration</th>\n",
       "      <th>electron_configuration_semantic</th>\n",
       "      <th>electron_affinity</th>\n",
       "      <th>electronegativity_pauling</th>\n",
       "      <th>ionization_energies</th>\n",
       "      <th>cpk-hex</th>\n",
       "    </tr>\n",
       "  </thead>\n",
       "  <tbody>\n",
       "    <tr>\n",
       "      <th>0</th>\n",
       "      <td>Hydrogen</td>\n",
       "      <td>colorless gas</td>\n",
       "      <td>1.008</td>\n",
       "      <td>20.271</td>\n",
       "      <td>diatomic nonmetal</td>\n",
       "      <td>0.08988</td>\n",
       "      <td>Henry Cavendish</td>\n",
       "      <td>13.99</td>\n",
       "      <td>28.836</td>\n",
       "      <td>Antoine Lavoisier</td>\n",
       "      <td>...</td>\n",
       "      <td>H</td>\n",
       "      <td>1</td>\n",
       "      <td>1</td>\n",
       "      <td>[1]</td>\n",
       "      <td>1s1</td>\n",
       "      <td>1s1</td>\n",
       "      <td>72.769</td>\n",
       "      <td>2.2</td>\n",
       "      <td>[1312]</td>\n",
       "      <td>ffffff</td>\n",
       "    </tr>\n",
       "    <tr>\n",
       "      <th>1</th>\n",
       "      <td>Helium</td>\n",
       "      <td>colorless gas, exhibiting a red-orange glow wh...</td>\n",
       "      <td>4.0026022</td>\n",
       "      <td>4.222</td>\n",
       "      <td>noble gas</td>\n",
       "      <td>0.1786</td>\n",
       "      <td>Pierre Janssen</td>\n",
       "      <td>0.95</td>\n",
       "      <td></td>\n",
       "      <td></td>\n",
       "      <td>...</td>\n",
       "      <td>He</td>\n",
       "      <td>18</td>\n",
       "      <td>1</td>\n",
       "      <td>[2]</td>\n",
       "      <td>1s2</td>\n",
       "      <td>1s2</td>\n",
       "      <td>-48</td>\n",
       "      <td></td>\n",
       "      <td>[2372.3, 5250.5]</td>\n",
       "      <td>d9ffff</td>\n",
       "    </tr>\n",
       "    <tr>\n",
       "      <th>2</th>\n",
       "      <td>Lithium</td>\n",
       "      <td>silvery-white</td>\n",
       "      <td>6.94</td>\n",
       "      <td>1603</td>\n",
       "      <td>alkali metal</td>\n",
       "      <td>0.534</td>\n",
       "      <td>Johan August Arfwedson</td>\n",
       "      <td>453.65</td>\n",
       "      <td>24.86</td>\n",
       "      <td></td>\n",
       "      <td>...</td>\n",
       "      <td>Li</td>\n",
       "      <td>1</td>\n",
       "      <td>2</td>\n",
       "      <td>[2, 1]</td>\n",
       "      <td>1s2 2s1</td>\n",
       "      <td>[He] 2s1</td>\n",
       "      <td>59.6326</td>\n",
       "      <td>0.98</td>\n",
       "      <td>[520.2, 7298.1, 11815]</td>\n",
       "      <td>cc80ff</td>\n",
       "    </tr>\n",
       "    <tr>\n",
       "      <th>3</th>\n",
       "      <td>Beryllium</td>\n",
       "      <td>white-gray metallic</td>\n",
       "      <td>9.01218315</td>\n",
       "      <td>2742</td>\n",
       "      <td>alkaline earth metal</td>\n",
       "      <td>1.85</td>\n",
       "      <td>Louis Nicolas Vauquelin</td>\n",
       "      <td>1560</td>\n",
       "      <td>16.443</td>\n",
       "      <td></td>\n",
       "      <td>...</td>\n",
       "      <td>Be</td>\n",
       "      <td>2</td>\n",
       "      <td>2</td>\n",
       "      <td>[2, 2]</td>\n",
       "      <td>1s2 2s2</td>\n",
       "      <td>[He] 2s2</td>\n",
       "      <td>-48</td>\n",
       "      <td>1.57</td>\n",
       "      <td>[899.5, 1757.1, 14848.7, 21006.6]</td>\n",
       "      <td>c2ff00</td>\n",
       "    </tr>\n",
       "    <tr>\n",
       "      <th>4</th>\n",
       "      <td>Boron</td>\n",
       "      <td>black-brown</td>\n",
       "      <td>10.81</td>\n",
       "      <td>4200</td>\n",
       "      <td>metalloid</td>\n",
       "      <td>2.08</td>\n",
       "      <td>Joseph Louis Gay-Lussac</td>\n",
       "      <td>2349</td>\n",
       "      <td>11.087</td>\n",
       "      <td></td>\n",
       "      <td>...</td>\n",
       "      <td>B</td>\n",
       "      <td>13</td>\n",
       "      <td>2</td>\n",
       "      <td>[2, 3]</td>\n",
       "      <td>1s2 2s2 2p1</td>\n",
       "      <td>[He] 2s2 2p1</td>\n",
       "      <td>26.989</td>\n",
       "      <td>2.04</td>\n",
       "      <td>[800.6, 2427.1, 3659.7, 25025.8, 32826.7]</td>\n",
       "      <td>ffb5b5</td>\n",
       "    </tr>\n",
       "    <tr>\n",
       "      <th>...</th>\n",
       "      <td>...</td>\n",
       "      <td>...</td>\n",
       "      <td>...</td>\n",
       "      <td>...</td>\n",
       "      <td>...</td>\n",
       "      <td>...</td>\n",
       "      <td>...</td>\n",
       "      <td>...</td>\n",
       "      <td>...</td>\n",
       "      <td>...</td>\n",
       "      <td>...</td>\n",
       "      <td>...</td>\n",
       "      <td>...</td>\n",
       "      <td>...</td>\n",
       "      <td>...</td>\n",
       "      <td>...</td>\n",
       "      <td>...</td>\n",
       "      <td>...</td>\n",
       "      <td>...</td>\n",
       "      <td>...</td>\n",
       "      <td>...</td>\n",
       "    </tr>\n",
       "    <tr>\n",
       "      <th>114</th>\n",
       "      <td>Moscovium</td>\n",
       "      <td></td>\n",
       "      <td>289</td>\n",
       "      <td>1400</td>\n",
       "      <td>unknown, probably post-transition metal</td>\n",
       "      <td>13.5</td>\n",
       "      <td>Joint Institute for Nuclear Research</td>\n",
       "      <td>670</td>\n",
       "      <td></td>\n",
       "      <td></td>\n",
       "      <td>...</td>\n",
       "      <td>Mc</td>\n",
       "      <td>15</td>\n",
       "      <td>7</td>\n",
       "      <td>[2, 8, 18, 32, 32, 18, 5]</td>\n",
       "      <td>1s2 2s2 2p6 3s2 3p6 4s2 3d10 4p6 5s2 4d10 5p6 ...</td>\n",
       "      <td>*[Rn] 5f14 6d10 7s2 7p3</td>\n",
       "      <td>35.3</td>\n",
       "      <td></td>\n",
       "      <td>[]</td>\n",
       "      <td></td>\n",
       "    </tr>\n",
       "    <tr>\n",
       "      <th>115</th>\n",
       "      <td>Livermorium</td>\n",
       "      <td></td>\n",
       "      <td>293</td>\n",
       "      <td>1085</td>\n",
       "      <td>unknown, probably post-transition metal</td>\n",
       "      <td>12.9</td>\n",
       "      <td>Joint Institute for Nuclear Research</td>\n",
       "      <td>709</td>\n",
       "      <td></td>\n",
       "      <td></td>\n",
       "      <td>...</td>\n",
       "      <td>Lv</td>\n",
       "      <td>16</td>\n",
       "      <td>7</td>\n",
       "      <td>[2, 8, 18, 32, 32, 18, 6]</td>\n",
       "      <td>1s2 2s2 2p6 3s2 3p6 4s2 3d10 4p6 5s2 4d10 5p6 ...</td>\n",
       "      <td>*[Rn] 5f14 6d10 7s2 7p4</td>\n",
       "      <td>74.9</td>\n",
       "      <td></td>\n",
       "      <td>[]</td>\n",
       "      <td></td>\n",
       "    </tr>\n",
       "    <tr>\n",
       "      <th>116</th>\n",
       "      <td>Tennessine</td>\n",
       "      <td></td>\n",
       "      <td>294</td>\n",
       "      <td>883</td>\n",
       "      <td>unknown, probably metalloid</td>\n",
       "      <td>7.17</td>\n",
       "      <td>Joint Institute for Nuclear Research</td>\n",
       "      <td>723</td>\n",
       "      <td></td>\n",
       "      <td></td>\n",
       "      <td>...</td>\n",
       "      <td>Ts</td>\n",
       "      <td>17</td>\n",
       "      <td>7</td>\n",
       "      <td>[2, 8, 18, 32, 32, 18, 7]</td>\n",
       "      <td>1s2 2s2 2p6 3s2 3p6 4s2 3d10 4p6 5s2 4d10 5p6 ...</td>\n",
       "      <td>*[Rn] 5f14 6d10 7s2 7p5</td>\n",
       "      <td>165.9</td>\n",
       "      <td></td>\n",
       "      <td>[]</td>\n",
       "      <td></td>\n",
       "    </tr>\n",
       "    <tr>\n",
       "      <th>117</th>\n",
       "      <td>Oganesson</td>\n",
       "      <td></td>\n",
       "      <td>294</td>\n",
       "      <td>350</td>\n",
       "      <td>unknown, predicted to be noble gas</td>\n",
       "      <td>4.95</td>\n",
       "      <td>Joint Institute for Nuclear Research</td>\n",
       "      <td></td>\n",
       "      <td></td>\n",
       "      <td></td>\n",
       "      <td>...</td>\n",
       "      <td>Og</td>\n",
       "      <td>18</td>\n",
       "      <td>7</td>\n",
       "      <td>[2, 8, 18, 32, 32, 18, 8]</td>\n",
       "      <td>1s2 2s2 2p6 3s2 3p6 4s2 3d10 4p6 5s2 4d10 5p6 ...</td>\n",
       "      <td>*[Rn] 5f14 6d10 7s2 7p6</td>\n",
       "      <td>5.40318</td>\n",
       "      <td></td>\n",
       "      <td>[]</td>\n",
       "      <td></td>\n",
       "    </tr>\n",
       "    <tr>\n",
       "      <th>118</th>\n",
       "      <td>Ununennium</td>\n",
       "      <td></td>\n",
       "      <td>315</td>\n",
       "      <td>630</td>\n",
       "      <td>unknown, but predicted to be an alkali metal</td>\n",
       "      <td>3</td>\n",
       "      <td>GSI Helmholtz Centre for Heavy Ion Research</td>\n",
       "      <td></td>\n",
       "      <td></td>\n",
       "      <td></td>\n",
       "      <td>...</td>\n",
       "      <td>Uue</td>\n",
       "      <td>1</td>\n",
       "      <td>8</td>\n",
       "      <td>[2, 8, 18, 32, 32, 18, 8, 1]</td>\n",
       "      <td>1s2 2s2 2p6 3s2 3p6 4s2 3d10 4p6 5s2 4d10 5p6 ...</td>\n",
       "      <td>*[Uuo] 8s1</td>\n",
       "      <td>63.87</td>\n",
       "      <td></td>\n",
       "      <td>[]</td>\n",
       "      <td></td>\n",
       "    </tr>\n",
       "  </tbody>\n",
       "</table>\n",
       "<p>119 rows × 26 columns</p>\n",
       "</div>"
      ],
      "text/plain": [
       "            name                                         appearance  \\\n",
       "0       Hydrogen                                      colorless gas   \n",
       "1         Helium  colorless gas, exhibiting a red-orange glow wh...   \n",
       "2        Lithium                                      silvery-white   \n",
       "3      Beryllium                                white-gray metallic   \n",
       "4          Boron                                        black-brown   \n",
       "..           ...                                                ...   \n",
       "114    Moscovium                                                      \n",
       "115  Livermorium                                                      \n",
       "116   Tennessine                                                      \n",
       "117    Oganesson                                                      \n",
       "118   Ununennium                                                      \n",
       "\n",
       "    atomic_mass    boil                                      category  \\\n",
       "0         1.008  20.271                             diatomic nonmetal   \n",
       "1     4.0026022   4.222                                     noble gas   \n",
       "2          6.94    1603                                  alkali metal   \n",
       "3    9.01218315    2742                          alkaline earth metal   \n",
       "4         10.81    4200                                     metalloid   \n",
       "..          ...     ...                                           ...   \n",
       "114         289    1400       unknown, probably post-transition metal   \n",
       "115         293    1085       unknown, probably post-transition metal   \n",
       "116         294     883                   unknown, probably metalloid   \n",
       "117         294     350            unknown, predicted to be noble gas   \n",
       "118         315     630  unknown, but predicted to be an alkali metal   \n",
       "\n",
       "     density                                discovered_by    melt molar_heat  \\\n",
       "0    0.08988                              Henry Cavendish   13.99     28.836   \n",
       "1     0.1786                               Pierre Janssen    0.95              \n",
       "2      0.534                       Johan August Arfwedson  453.65      24.86   \n",
       "3       1.85                      Louis Nicolas Vauquelin    1560     16.443   \n",
       "4       2.08                      Joseph Louis Gay-Lussac    2349     11.087   \n",
       "..       ...                                          ...     ...        ...   \n",
       "114     13.5         Joint Institute for Nuclear Research     670              \n",
       "115     12.9         Joint Institute for Nuclear Research     709              \n",
       "116     7.17         Joint Institute for Nuclear Research     723              \n",
       "117     4.95         Joint Institute for Nuclear Research                      \n",
       "118        3  GSI Helmholtz Centre for Heavy Ion Research                      \n",
       "\n",
       "              named_by  ... symbol xpos ypos                        shells  \\\n",
       "0    Antoine Lavoisier  ...      H    1    1                           [1]   \n",
       "1                       ...     He   18    1                           [2]   \n",
       "2                       ...     Li    1    2                        [2, 1]   \n",
       "3                       ...     Be    2    2                        [2, 2]   \n",
       "4                       ...      B   13    2                        [2, 3]   \n",
       "..                 ...  ...    ...  ...  ...                           ...   \n",
       "114                     ...     Mc   15    7     [2, 8, 18, 32, 32, 18, 5]   \n",
       "115                     ...     Lv   16    7     [2, 8, 18, 32, 32, 18, 6]   \n",
       "116                     ...     Ts   17    7     [2, 8, 18, 32, 32, 18, 7]   \n",
       "117                     ...     Og   18    7     [2, 8, 18, 32, 32, 18, 8]   \n",
       "118                     ...    Uue    1    8  [2, 8, 18, 32, 32, 18, 8, 1]   \n",
       "\n",
       "                                electron_configuration  \\\n",
       "0                                                  1s1   \n",
       "1                                                  1s2   \n",
       "2                                              1s2 2s1   \n",
       "3                                              1s2 2s2   \n",
       "4                                          1s2 2s2 2p1   \n",
       "..                                                 ...   \n",
       "114  1s2 2s2 2p6 3s2 3p6 4s2 3d10 4p6 5s2 4d10 5p6 ...   \n",
       "115  1s2 2s2 2p6 3s2 3p6 4s2 3d10 4p6 5s2 4d10 5p6 ...   \n",
       "116  1s2 2s2 2p6 3s2 3p6 4s2 3d10 4p6 5s2 4d10 5p6 ...   \n",
       "117  1s2 2s2 2p6 3s2 3p6 4s2 3d10 4p6 5s2 4d10 5p6 ...   \n",
       "118  1s2 2s2 2p6 3s2 3p6 4s2 3d10 4p6 5s2 4d10 5p6 ...   \n",
       "\n",
       "    electron_configuration_semantic electron_affinity  \\\n",
       "0                               1s1            72.769   \n",
       "1                               1s2               -48   \n",
       "2                          [He] 2s1           59.6326   \n",
       "3                          [He] 2s2               -48   \n",
       "4                      [He] 2s2 2p1            26.989   \n",
       "..                              ...               ...   \n",
       "114         *[Rn] 5f14 6d10 7s2 7p3              35.3   \n",
       "115         *[Rn] 5f14 6d10 7s2 7p4              74.9   \n",
       "116         *[Rn] 5f14 6d10 7s2 7p5             165.9   \n",
       "117         *[Rn] 5f14 6d10 7s2 7p6           5.40318   \n",
       "118                      *[Uuo] 8s1             63.87   \n",
       "\n",
       "    electronegativity_pauling                        ionization_energies  \\\n",
       "0                         2.2                                     [1312]   \n",
       "1                                                       [2372.3, 5250.5]   \n",
       "2                        0.98                     [520.2, 7298.1, 11815]   \n",
       "3                        1.57          [899.5, 1757.1, 14848.7, 21006.6]   \n",
       "4                        2.04  [800.6, 2427.1, 3659.7, 25025.8, 32826.7]   \n",
       "..                        ...                                        ...   \n",
       "114                                                                   []   \n",
       "115                                                                   []   \n",
       "116                                                                   []   \n",
       "117                                                                   []   \n",
       "118                                                                   []   \n",
       "\n",
       "    cpk-hex  \n",
       "0    ffffff  \n",
       "1    d9ffff  \n",
       "2    cc80ff  \n",
       "3    c2ff00  \n",
       "4    ffb5b5  \n",
       "..      ...  \n",
       "114          \n",
       "115          \n",
       "116          \n",
       "117          \n",
       "118          \n",
       "\n",
       "[119 rows x 26 columns]"
      ]
     },
     "execution_count": 41,
     "metadata": {},
     "output_type": "execute_result"
    }
   ],
   "source": [
    "with open('periodic-table.json', 'r') as file:\n",
    "   periodic_table_df  = pd.DataFrame(json.load(file))\n",
    "periodic_table_df "
   ]
  },
  {
   "cell_type": "markdown",
   "id": "0c7e4bab",
   "metadata": {},
   "source": [
    "type"
   ]
  },
  {
   "cell_type": "code",
   "execution_count": 45,
   "id": "bc1f0aea",
   "metadata": {},
   "outputs": [
    {
     "data": {
      "text/plain": [
       "0           1.008\n",
       "1       4.0026022\n",
       "2            6.94\n",
       "3      9.01218315\n",
       "4           10.81\n",
       "          ...    \n",
       "114           289\n",
       "115           293\n",
       "116           294\n",
       "117           294\n",
       "118           315\n",
       "Name: atomic_mass, Length: 119, dtype: object"
      ]
     },
     "execution_count": 45,
     "metadata": {},
     "output_type": "execute_result"
    }
   ],
   "source": [
    "periodic_table_df.atomic_mass"
   ]
  },
  {
   "cell_type": "code",
   "execution_count": 48,
   "id": "7321b05d",
   "metadata": {},
   "outputs": [
    {
     "data": {
      "text/plain": [
       "0        2.016000\n",
       "1        8.005204\n",
       "2       13.880000\n",
       "3       18.024366\n",
       "4       21.620000\n",
       "          ...    \n",
       "114    578.000000\n",
       "115    586.000000\n",
       "116    588.000000\n",
       "117    588.000000\n",
       "118    630.000000\n",
       "Name: atomic_mass, Length: 119, dtype: float64"
      ]
     },
     "execution_count": 48,
     "metadata": {},
     "output_type": "execute_result"
    }
   ],
   "source": [
    "periodic_table_df.atomic_mass.astype(float) * 2"
   ]
  },
  {
   "cell_type": "code",
   "execution_count": 49,
   "id": "0d6a6188",
   "metadata": {},
   "outputs": [
    {
     "data": {
      "text/plain": [
       "0        40.531250\n",
       "1         8.445312\n",
       "2      3206.000000\n",
       "3      5484.000000\n",
       "4      8400.000000\n",
       "          ...     \n",
       "114    2800.000000\n",
       "115    2170.000000\n",
       "116    1766.000000\n",
       "117     700.000000\n",
       "118    1260.000000\n",
       "Name: boil, Length: 105, dtype: float16"
      ]
     },
     "execution_count": 49,
     "metadata": {},
     "output_type": "execute_result"
    }
   ],
   "source": [
    "periodic_table_df.boil[periodic_table_df.boil != ''].astype(np.float16) * 2 \n",
    "# задали умову перетворення boil у флот, але пропустивши порожні строки"
   ]
  },
  {
   "cell_type": "code",
   "execution_count": 79,
   "id": "05515122",
   "metadata": {},
   "outputs": [
    {
     "data": {
      "text/html": [
       "<div>\n",
       "<style scoped>\n",
       "    .dataframe tbody tr th:only-of-type {\n",
       "        vertical-align: middle;\n",
       "    }\n",
       "\n",
       "    .dataframe tbody tr th {\n",
       "        vertical-align: top;\n",
       "    }\n",
       "\n",
       "    .dataframe thead th {\n",
       "        text-align: right;\n",
       "    }\n",
       "</style>\n",
       "<table border=\"1\" class=\"dataframe\">\n",
       "  <thead>\n",
       "    <tr style=\"text-align: right;\">\n",
       "      <th></th>\n",
       "      <th>name</th>\n",
       "      <th>appearance</th>\n",
       "      <th>atomic_mass</th>\n",
       "      <th>boil</th>\n",
       "      <th>category</th>\n",
       "      <th>density</th>\n",
       "      <th>discovered_by</th>\n",
       "      <th>melt</th>\n",
       "      <th>molar_heat</th>\n",
       "      <th>named_by</th>\n",
       "      <th>...</th>\n",
       "      <th>symbol</th>\n",
       "      <th>xpos</th>\n",
       "      <th>ypos</th>\n",
       "      <th>shells</th>\n",
       "      <th>electron_configuration</th>\n",
       "      <th>electron_configuration_semantic</th>\n",
       "      <th>electron_affinity</th>\n",
       "      <th>electronegativity_pauling</th>\n",
       "      <th>ionization_energies</th>\n",
       "      <th>cpk-hex</th>\n",
       "    </tr>\n",
       "  </thead>\n",
       "  <tbody>\n",
       "    <tr>\n",
       "      <th>0</th>\n",
       "      <td>Hydrogen</td>\n",
       "      <td>colorless gas</td>\n",
       "      <td>1.008000</td>\n",
       "      <td>20.271</td>\n",
       "      <td>diatomic nonmetal</td>\n",
       "      <td>0.08988</td>\n",
       "      <td>Henry Cavendish</td>\n",
       "      <td>13.99</td>\n",
       "      <td>28.836</td>\n",
       "      <td>Antoine Lavoisier</td>\n",
       "      <td>...</td>\n",
       "      <td>H</td>\n",
       "      <td>1</td>\n",
       "      <td>1</td>\n",
       "      <td>[1]</td>\n",
       "      <td>1s1</td>\n",
       "      <td>1s1</td>\n",
       "      <td>72.7690</td>\n",
       "      <td>2.20</td>\n",
       "      <td>[1312]</td>\n",
       "      <td>ffffff</td>\n",
       "    </tr>\n",
       "    <tr>\n",
       "      <th>1</th>\n",
       "      <td>Helium</td>\n",
       "      <td>colorless gas, exhibiting a red-orange glow wh...</td>\n",
       "      <td>4.002602</td>\n",
       "      <td>4.222</td>\n",
       "      <td>noble gas</td>\n",
       "      <td>0.17860</td>\n",
       "      <td>Pierre Janssen</td>\n",
       "      <td>0.95</td>\n",
       "      <td>NaN</td>\n",
       "      <td>NaN</td>\n",
       "      <td>...</td>\n",
       "      <td>He</td>\n",
       "      <td>18</td>\n",
       "      <td>1</td>\n",
       "      <td>[2]</td>\n",
       "      <td>1s2</td>\n",
       "      <td>1s2</td>\n",
       "      <td>-48.0000</td>\n",
       "      <td>NaN</td>\n",
       "      <td>[2372.3, 5250.5]</td>\n",
       "      <td>d9ffff</td>\n",
       "    </tr>\n",
       "    <tr>\n",
       "      <th>2</th>\n",
       "      <td>Lithium</td>\n",
       "      <td>silvery-white</td>\n",
       "      <td>6.940000</td>\n",
       "      <td>1603.000</td>\n",
       "      <td>alkali metal</td>\n",
       "      <td>0.53400</td>\n",
       "      <td>Johan August Arfwedson</td>\n",
       "      <td>453.65</td>\n",
       "      <td>24.860</td>\n",
       "      <td>NaN</td>\n",
       "      <td>...</td>\n",
       "      <td>Li</td>\n",
       "      <td>1</td>\n",
       "      <td>2</td>\n",
       "      <td>[2, 1]</td>\n",
       "      <td>1s2 2s1</td>\n",
       "      <td>[He] 2s1</td>\n",
       "      <td>59.6326</td>\n",
       "      <td>0.98</td>\n",
       "      <td>[520.2, 7298.1, 11815]</td>\n",
       "      <td>cc80ff</td>\n",
       "    </tr>\n",
       "    <tr>\n",
       "      <th>3</th>\n",
       "      <td>Beryllium</td>\n",
       "      <td>white-gray metallic</td>\n",
       "      <td>9.012183</td>\n",
       "      <td>2742.000</td>\n",
       "      <td>alkaline earth metal</td>\n",
       "      <td>1.85000</td>\n",
       "      <td>Louis Nicolas Vauquelin</td>\n",
       "      <td>1560.00</td>\n",
       "      <td>16.443</td>\n",
       "      <td>NaN</td>\n",
       "      <td>...</td>\n",
       "      <td>Be</td>\n",
       "      <td>2</td>\n",
       "      <td>2</td>\n",
       "      <td>[2, 2]</td>\n",
       "      <td>1s2 2s2</td>\n",
       "      <td>[He] 2s2</td>\n",
       "      <td>-48.0000</td>\n",
       "      <td>1.57</td>\n",
       "      <td>[899.5, 1757.1, 14848.7, 21006.6]</td>\n",
       "      <td>c2ff00</td>\n",
       "    </tr>\n",
       "    <tr>\n",
       "      <th>4</th>\n",
       "      <td>Boron</td>\n",
       "      <td>black-brown</td>\n",
       "      <td>10.810000</td>\n",
       "      <td>4200.000</td>\n",
       "      <td>metalloid</td>\n",
       "      <td>2.08000</td>\n",
       "      <td>Joseph Louis Gay-Lussac</td>\n",
       "      <td>2349.00</td>\n",
       "      <td>11.087</td>\n",
       "      <td>NaN</td>\n",
       "      <td>...</td>\n",
       "      <td>B</td>\n",
       "      <td>13</td>\n",
       "      <td>2</td>\n",
       "      <td>[2, 3]</td>\n",
       "      <td>1s2 2s2 2p1</td>\n",
       "      <td>[He] 2s2 2p1</td>\n",
       "      <td>26.9890</td>\n",
       "      <td>2.04</td>\n",
       "      <td>[800.6, 2427.1, 3659.7, 25025.8, 32826.7]</td>\n",
       "      <td>ffb5b5</td>\n",
       "    </tr>\n",
       "  </tbody>\n",
       "</table>\n",
       "<p>5 rows × 26 columns</p>\n",
       "</div>"
      ],
      "text/plain": [
       "        name                                         appearance  atomic_mass  \\\n",
       "0   Hydrogen                                      colorless gas     1.008000   \n",
       "1     Helium  colorless gas, exhibiting a red-orange glow wh...     4.002602   \n",
       "2    Lithium                                      silvery-white     6.940000   \n",
       "3  Beryllium                                white-gray metallic     9.012183   \n",
       "4      Boron                                        black-brown    10.810000   \n",
       "\n",
       "       boil              category  density            discovered_by     melt  \\\n",
       "0    20.271     diatomic nonmetal  0.08988          Henry Cavendish    13.99   \n",
       "1     4.222             noble gas  0.17860           Pierre Janssen     0.95   \n",
       "2  1603.000          alkali metal  0.53400   Johan August Arfwedson   453.65   \n",
       "3  2742.000  alkaline earth metal  1.85000  Louis Nicolas Vauquelin  1560.00   \n",
       "4  4200.000             metalloid  2.08000  Joseph Louis Gay-Lussac  2349.00   \n",
       "\n",
       "   molar_heat           named_by  ...  symbol  xpos ypos  shells  \\\n",
       "0      28.836  Antoine Lavoisier  ...       H     1    1     [1]   \n",
       "1         NaN                NaN  ...      He    18    1     [2]   \n",
       "2      24.860                NaN  ...      Li     1    2  [2, 1]   \n",
       "3      16.443                NaN  ...      Be     2    2  [2, 2]   \n",
       "4      11.087                NaN  ...       B    13    2  [2, 3]   \n",
       "\n",
       "  electron_configuration electron_configuration_semantic electron_affinity  \\\n",
       "0                    1s1                             1s1           72.7690   \n",
       "1                    1s2                             1s2          -48.0000   \n",
       "2                1s2 2s1                        [He] 2s1           59.6326   \n",
       "3                1s2 2s2                        [He] 2s2          -48.0000   \n",
       "4            1s2 2s2 2p1                    [He] 2s2 2p1           26.9890   \n",
       "\n",
       "   electronegativity_pauling                        ionization_energies  \\\n",
       "0                       2.20                                     [1312]   \n",
       "1                        NaN                           [2372.3, 5250.5]   \n",
       "2                       0.98                     [520.2, 7298.1, 11815]   \n",
       "3                       1.57          [899.5, 1757.1, 14848.7, 21006.6]   \n",
       "4                       2.04  [800.6, 2427.1, 3659.7, 25025.8, 32826.7]   \n",
       "\n",
       "  cpk-hex  \n",
       "0  ffffff  \n",
       "1  d9ffff  \n",
       "2  cc80ff  \n",
       "3  c2ff00  \n",
       "4  ffb5b5  \n",
       "\n",
       "[5 rows x 26 columns]"
      ]
     },
     "execution_count": 79,
     "metadata": {},
     "output_type": "execute_result"
    }
   ],
   "source": [
    "df = pd.read_csv('periodic-table.csv')\n",
    "df.head(5)\n",
    "#df.head?"
   ]
  },
  {
   "cell_type": "code",
   "execution_count": 80,
   "id": "27a3be3d",
   "metadata": {},
   "outputs": [
    {
     "data": {
      "text/html": [
       "<div>\n",
       "<style scoped>\n",
       "    .dataframe tbody tr th:only-of-type {\n",
       "        vertical-align: middle;\n",
       "    }\n",
       "\n",
       "    .dataframe tbody tr th {\n",
       "        vertical-align: top;\n",
       "    }\n",
       "\n",
       "    .dataframe thead th {\n",
       "        text-align: right;\n",
       "    }\n",
       "</style>\n",
       "<table border=\"1\" class=\"dataframe\">\n",
       "  <thead>\n",
       "    <tr style=\"text-align: right;\">\n",
       "      <th></th>\n",
       "      <th>atomic_mass</th>\n",
       "      <th>boil</th>\n",
       "      <th>density</th>\n",
       "      <th>melt</th>\n",
       "      <th>molar_heat</th>\n",
       "      <th>number</th>\n",
       "      <th>period</th>\n",
       "      <th>xpos</th>\n",
       "      <th>ypos</th>\n",
       "      <th>electron_affinity</th>\n",
       "      <th>electronegativity_pauling</th>\n",
       "    </tr>\n",
       "  </thead>\n",
       "  <tbody>\n",
       "    <tr>\n",
       "      <th>count</th>\n",
       "      <td>119.000000</td>\n",
       "      <td>105.000000</td>\n",
       "      <td>115.000000</td>\n",
       "      <td>107.000000</td>\n",
       "      <td>78.000000</td>\n",
       "      <td>119.000000</td>\n",
       "      <td>119.000000</td>\n",
       "      <td>119.000000</td>\n",
       "      <td>119.000000</td>\n",
       "      <td>110.000000</td>\n",
       "      <td>100.000000</td>\n",
       "    </tr>\n",
       "    <tr>\n",
       "      <th>mean</th>\n",
       "      <td>147.904483</td>\n",
       "      <td>2457.306981</td>\n",
       "      <td>9.972500</td>\n",
       "      <td>1233.424281</td>\n",
       "      <td>26.305090</td>\n",
       "      <td>60.000000</td>\n",
       "      <td>5.277311</td>\n",
       "      <td>10.000000</td>\n",
       "      <td>6.033613</td>\n",
       "      <td>56.087864</td>\n",
       "      <td>1.707400</td>\n",
       "    </tr>\n",
       "    <tr>\n",
       "      <th>std</th>\n",
       "      <td>90.613592</td>\n",
       "      <td>1595.480116</td>\n",
       "      <td>8.599184</td>\n",
       "      <td>855.956156</td>\n",
       "      <td>5.623312</td>\n",
       "      <td>34.496377</td>\n",
       "      <td>1.630869</td>\n",
       "      <td>5.313877</td>\n",
       "      <td>2.497228</td>\n",
       "      <td>93.660585</td>\n",
       "      <td>0.629298</td>\n",
       "    </tr>\n",
       "    <tr>\n",
       "      <th>min</th>\n",
       "      <td>1.008000</td>\n",
       "      <td>4.222000</td>\n",
       "      <td>0.089880</td>\n",
       "      <td>0.950000</td>\n",
       "      <td>8.517000</td>\n",
       "      <td>1.000000</td>\n",
       "      <td>1.000000</td>\n",
       "      <td>1.000000</td>\n",
       "      <td>1.000000</td>\n",
       "      <td>-223.220000</td>\n",
       "      <td>0.790000</td>\n",
       "    </tr>\n",
       "    <tr>\n",
       "      <th>25%</th>\n",
       "      <td>67.552550</td>\n",
       "      <td>1085.000000</td>\n",
       "      <td>4.110500</td>\n",
       "      <td>516.040000</td>\n",
       "      <td>24.874250</td>\n",
       "      <td>30.500000</td>\n",
       "      <td>4.000000</td>\n",
       "      <td>5.500000</td>\n",
       "      <td>4.000000</td>\n",
       "      <td>11.512500</td>\n",
       "      <td>1.237500</td>\n",
       "    </tr>\n",
       "    <tr>\n",
       "      <th>50%</th>\n",
       "      <td>144.242300</td>\n",
       "      <td>2673.000000</td>\n",
       "      <td>7.520000</td>\n",
       "      <td>1173.000000</td>\n",
       "      <td>25.894500</td>\n",
       "      <td>60.000000</td>\n",
       "      <td>6.000000</td>\n",
       "      <td>10.000000</td>\n",
       "      <td>6.000000</td>\n",
       "      <td>46.887000</td>\n",
       "      <td>1.605000</td>\n",
       "    </tr>\n",
       "    <tr>\n",
       "      <th>75%</th>\n",
       "      <td>229.017941</td>\n",
       "      <td>3505.000000</td>\n",
       "      <td>12.675000</td>\n",
       "      <td>1801.000000</td>\n",
       "      <td>27.187500</td>\n",
       "      <td>89.500000</td>\n",
       "      <td>7.000000</td>\n",
       "      <td>15.000000</td>\n",
       "      <td>8.500000</td>\n",
       "      <td>101.034250</td>\n",
       "      <td>2.115000</td>\n",
       "    </tr>\n",
       "    <tr>\n",
       "      <th>max</th>\n",
       "      <td>315.000000</td>\n",
       "      <td>6203.000000</td>\n",
       "      <td>40.700000</td>\n",
       "      <td>3695.000000</td>\n",
       "      <td>62.700000</td>\n",
       "      <td>119.000000</td>\n",
       "      <td>8.000000</td>\n",
       "      <td>18.000000</td>\n",
       "      <td>10.000000</td>\n",
       "      <td>348.575000</td>\n",
       "      <td>3.980000</td>\n",
       "    </tr>\n",
       "  </tbody>\n",
       "</table>\n",
       "</div>"
      ],
      "text/plain": [
       "       atomic_mass         boil     density         melt  molar_heat  \\\n",
       "count   119.000000   105.000000  115.000000   107.000000   78.000000   \n",
       "mean    147.904483  2457.306981    9.972500  1233.424281   26.305090   \n",
       "std      90.613592  1595.480116    8.599184   855.956156    5.623312   \n",
       "min       1.008000     4.222000    0.089880     0.950000    8.517000   \n",
       "25%      67.552550  1085.000000    4.110500   516.040000   24.874250   \n",
       "50%     144.242300  2673.000000    7.520000  1173.000000   25.894500   \n",
       "75%     229.017941  3505.000000   12.675000  1801.000000   27.187500   \n",
       "max     315.000000  6203.000000   40.700000  3695.000000   62.700000   \n",
       "\n",
       "           number      period        xpos        ypos  electron_affinity  \\\n",
       "count  119.000000  119.000000  119.000000  119.000000         110.000000   \n",
       "mean    60.000000    5.277311   10.000000    6.033613          56.087864   \n",
       "std     34.496377    1.630869    5.313877    2.497228          93.660585   \n",
       "min      1.000000    1.000000    1.000000    1.000000        -223.220000   \n",
       "25%     30.500000    4.000000    5.500000    4.000000          11.512500   \n",
       "50%     60.000000    6.000000   10.000000    6.000000          46.887000   \n",
       "75%     89.500000    7.000000   15.000000    8.500000         101.034250   \n",
       "max    119.000000    8.000000   18.000000   10.000000         348.575000   \n",
       "\n",
       "       electronegativity_pauling  \n",
       "count                 100.000000  \n",
       "mean                    1.707400  \n",
       "std                     0.629298  \n",
       "min                     0.790000  \n",
       "25%                     1.237500  \n",
       "50%                     1.605000  \n",
       "75%                     2.115000  \n",
       "max                     3.980000  "
      ]
     },
     "execution_count": 80,
     "metadata": {},
     "output_type": "execute_result"
    }
   ],
   "source": [
    "df.describe()"
   ]
  },
  {
   "cell_type": "code",
   "execution_count": 81,
   "id": "544fdf05",
   "metadata": {},
   "outputs": [
    {
     "data": {
      "text/plain": [
       "Joint Institute for Nuclear Research           8\n",
       "Lawrence Berkeley National Laboratory          7\n",
       "Gesellschaft für Schwerionenforschung          6\n",
       "Carl Wilhelm Scheele                           5\n",
       "Martin Heinrich Klaproth                       3\n",
       "                                              ..\n",
       "unknown, before 3000 BC                        1\n",
       "Karl Ernst Claus                               1\n",
       "Ferdinand Reich                                1\n",
       "Andrés Manuel del Río                          1\n",
       "GSI Helmholtz Centre for Heavy Ion Research    1\n",
       "Name: discovered_by, Length: 74, dtype: int64"
      ]
     },
     "execution_count": 81,
     "metadata": {},
     "output_type": "execute_result"
    }
   ],
   "source": [
    "values = df.discovered_by.value_counts()\n",
    "values.sort_values(ascending = False)"
   ]
  },
  {
   "cell_type": "code",
   "execution_count": 82,
   "id": "05ca93eb",
   "metadata": {},
   "outputs": [
    {
     "data": {
      "text/plain": [
       "Solid     105\n",
       "Gas        12\n",
       "Liquid      2\n",
       "Name: phase, dtype: int64"
      ]
     },
     "execution_count": 82,
     "metadata": {},
     "output_type": "execute_result"
    }
   ],
   "source": [
    "df.phase.value_counts().sort_values(ascending = False)"
   ]
  },
  {
   "cell_type": "code",
   "execution_count": 83,
   "id": "bb392a00",
   "metadata": {},
   "outputs": [
    {
     "data": {
      "text/plain": [
       "0                  1008.0 grams\n",
       "1      4002.6022000000003 grams\n",
       "2                  6940.0 grams\n",
       "3              9012.18315 grams\n",
       "4                 10810.0 grams\n",
       "                 ...           \n",
       "114              289000.0 grams\n",
       "115              293000.0 grams\n",
       "116              294000.0 grams\n",
       "117              294000.0 grams\n",
       "118              315000.0 grams\n",
       "Name: atomic_mass, Length: 119, dtype: object"
      ]
     },
     "execution_count": 83,
     "metadata": {},
     "output_type": "execute_result"
    }
   ],
   "source": [
    "(df.atomic_mass*1000).astype(str) + ' grams'"
   ]
  },
  {
   "cell_type": "markdown",
   "id": "9e8cd3ac",
   "metadata": {},
   "source": [
    "Збереження\n"
   ]
  },
  {
   "cell_type": "code",
   "execution_count": 1,
   "id": "e85e9c59",
   "metadata": {},
   "outputs": [
    {
     "ename": "NameError",
     "evalue": "name 'df' is not defined",
     "output_type": "error",
     "traceback": [
      "\u001b[1;31m---------------------------------------------------------------------------\u001b[0m",
      "\u001b[1;31mNameError\u001b[0m                                 Traceback (most recent call last)",
      "\u001b[1;32mC:\\Temp/ipykernel_6024/1505114038.py\u001b[0m in \u001b[0;36m<module>\u001b[1;34m\u001b[0m\n\u001b[1;32m----> 1\u001b[1;33m \u001b[0mdf\u001b[0m\u001b[1;33m.\u001b[0m\u001b[0mphase\u001b[0m\u001b[1;33m.\u001b[0m\u001b[0mvalue_counts\u001b[0m\u001b[1;33m(\u001b[0m\u001b[1;33m)\u001b[0m\u001b[1;33m.\u001b[0m\u001b[0msort_values\u001b[0m\u001b[1;33m(\u001b[0m\u001b[0mascending\u001b[0m\u001b[1;33m=\u001b[0m\u001b[1;32mFalse\u001b[0m\u001b[1;33m)\u001b[0m\u001b[1;33m.\u001b[0m\u001b[0mto_csv\u001b[0m\u001b[1;33m(\u001b[0m\u001b[1;34m'periodic-statistics.csv'\u001b[0m\u001b[1;33m,\u001b[0m \u001b[0mindex\u001b[0m\u001b[1;33m=\u001b[0m\u001b[1;32mTrue\u001b[0m\u001b[1;33m)\u001b[0m\u001b[1;33m\u001b[0m\u001b[1;33m\u001b[0m\u001b[0m\n\u001b[0m",
      "\u001b[1;31mNameError\u001b[0m: name 'df' is not defined"
     ]
    }
   ],
   "source": [
    "df.phase.value_counts().sort_values(ascending=False).to_csv('periodic-statistics.csv', index=True)"
   ]
  },
  {
   "cell_type": "code",
   "execution_count": 67,
   "id": "6a03624d",
   "metadata": {},
   "outputs": [
    {
     "name": "stdout",
     "output_type": "stream",
     "text": [
      ",phase\n",
      "Solid,105\n",
      "Gas,12\n",
      "Liquid,2\n",
      "\n"
     ]
    }
   ],
   "source": [
    "with open ('periodic-statistics.csv') as file:\n",
    "    print(file.read())"
   ]
  },
  {
   "cell_type": "markdown",
   "id": "c055c1ec",
   "metadata": {},
   "source": [
    "Обробка простих значень"
   ]
  },
  {
   "cell_type": "code",
   "execution_count": 69,
   "id": "cd070d98",
   "metadata": {},
   "outputs": [
    {
     "data": {
      "text/plain": [
       "name                                 0\n",
       "appearance                          33\n",
       "atomic_mass                          0\n",
       "boil                                14\n",
       "category                             0\n",
       "density                              4\n",
       "discovered_by                        1\n",
       "melt                                12\n",
       "molar_heat                          41\n",
       "named_by                           107\n",
       "number                               0\n",
       "period                               0\n",
       "phase                                0\n",
       "source                               0\n",
       "spectral_img                        98\n",
       "summary                              0\n",
       "symbol                               0\n",
       "xpos                                 0\n",
       "ypos                                 0\n",
       "shells                               0\n",
       "electron_configuration               0\n",
       "electron_configuration_semantic      0\n",
       "electron_affinity                    9\n",
       "electronegativity_pauling           19\n",
       "ionization_energies                  0\n",
       "cpk-hex                             10\n",
       "dtype: int64"
      ]
     },
     "execution_count": 69,
     "metadata": {},
     "output_type": "execute_result"
    }
   ],
   "source": [
    "df.isna().sum()"
   ]
  },
  {
   "cell_type": "markdown",
   "id": "1f5550a3",
   "metadata": {},
   "source": [
    "Видалення дублікатів"
   ]
  },
  {
   "cell_type": "code",
   "execution_count": 70,
   "id": "590b650a",
   "metadata": {},
   "outputs": [
    {
     "data": {
      "text/html": [
       "<div>\n",
       "<style scoped>\n",
       "    .dataframe tbody tr th:only-of-type {\n",
       "        vertical-align: middle;\n",
       "    }\n",
       "\n",
       "    .dataframe tbody tr th {\n",
       "        vertical-align: top;\n",
       "    }\n",
       "\n",
       "    .dataframe thead th {\n",
       "        text-align: right;\n",
       "    }\n",
       "</style>\n",
       "<table border=\"1\" class=\"dataframe\">\n",
       "  <thead>\n",
       "    <tr style=\"text-align: right;\">\n",
       "      <th></th>\n",
       "      <th>a</th>\n",
       "      <th>b</th>\n",
       "      <th>c</th>\n",
       "    </tr>\n",
       "  </thead>\n",
       "  <tbody>\n",
       "    <tr>\n",
       "      <th>0</th>\n",
       "      <td>1</td>\n",
       "      <td>2</td>\n",
       "      <td>3</td>\n",
       "    </tr>\n",
       "    <tr>\n",
       "      <th>1</th>\n",
       "      <td>1</td>\n",
       "      <td>2</td>\n",
       "      <td>4</td>\n",
       "    </tr>\n",
       "    <tr>\n",
       "      <th>2</th>\n",
       "      <td>1</td>\n",
       "      <td>100</td>\n",
       "      <td>1000</td>\n",
       "    </tr>\n",
       "    <tr>\n",
       "      <th>3</th>\n",
       "      <td>1</td>\n",
       "      <td>2</td>\n",
       "      <td>3</td>\n",
       "    </tr>\n",
       "  </tbody>\n",
       "</table>\n",
       "</div>"
      ],
      "text/plain": [
       "   a    b     c\n",
       "0  1    2     3\n",
       "1  1    2     4\n",
       "2  1  100  1000\n",
       "3  1    2     3"
      ]
     },
     "execution_count": 70,
     "metadata": {},
     "output_type": "execute_result"
    }
   ],
   "source": [
    "df = pd.DataFrame([\n",
    "    {'a': 1, 'b': 2, 'c': 3}, \n",
    "    {'a': 1, 'b': 2, 'c': 4}, \n",
    "    {'a': 1, 'b': 100, 'c': 1000}, \n",
    "    {'a': 1, 'b': 2, 'c': 3}\n",
    "])\n",
    "df"
   ]
  },
  {
   "cell_type": "code",
   "execution_count": 72,
   "id": "678f6fcc",
   "metadata": {},
   "outputs": [
    {
     "data": {
      "text/html": [
       "<div>\n",
       "<style scoped>\n",
       "    .dataframe tbody tr th:only-of-type {\n",
       "        vertical-align: middle;\n",
       "    }\n",
       "\n",
       "    .dataframe tbody tr th {\n",
       "        vertical-align: top;\n",
       "    }\n",
       "\n",
       "    .dataframe thead th {\n",
       "        text-align: right;\n",
       "    }\n",
       "</style>\n",
       "<table border=\"1\" class=\"dataframe\">\n",
       "  <thead>\n",
       "    <tr style=\"text-align: right;\">\n",
       "      <th></th>\n",
       "      <th>a</th>\n",
       "      <th>b</th>\n",
       "      <th>c</th>\n",
       "    </tr>\n",
       "  </thead>\n",
       "  <tbody>\n",
       "    <tr>\n",
       "      <th>0</th>\n",
       "      <td>1</td>\n",
       "      <td>2</td>\n",
       "      <td>3</td>\n",
       "    </tr>\n",
       "    <tr>\n",
       "      <th>1</th>\n",
       "      <td>1</td>\n",
       "      <td>2</td>\n",
       "      <td>4</td>\n",
       "    </tr>\n",
       "    <tr>\n",
       "      <th>2</th>\n",
       "      <td>1</td>\n",
       "      <td>100</td>\n",
       "      <td>1000</td>\n",
       "    </tr>\n",
       "  </tbody>\n",
       "</table>\n",
       "</div>"
      ],
      "text/plain": [
       "   a    b     c\n",
       "0  1    2     3\n",
       "1  1    2     4\n",
       "2  1  100  1000"
      ]
     },
     "execution_count": 72,
     "metadata": {},
     "output_type": "execute_result"
    }
   ],
   "source": [
    "df.drop_duplicates()"
   ]
  },
  {
   "cell_type": "code",
   "execution_count": 73,
   "id": "eb48ae5a",
   "metadata": {},
   "outputs": [
    {
     "data": {
      "text/html": [
       "<div>\n",
       "<style scoped>\n",
       "    .dataframe tbody tr th:only-of-type {\n",
       "        vertical-align: middle;\n",
       "    }\n",
       "\n",
       "    .dataframe tbody tr th {\n",
       "        vertical-align: top;\n",
       "    }\n",
       "\n",
       "    .dataframe thead th {\n",
       "        text-align: right;\n",
       "    }\n",
       "</style>\n",
       "<table border=\"1\" class=\"dataframe\">\n",
       "  <thead>\n",
       "    <tr style=\"text-align: right;\">\n",
       "      <th></th>\n",
       "      <th>a</th>\n",
       "      <th>b</th>\n",
       "      <th>c</th>\n",
       "    </tr>\n",
       "  </thead>\n",
       "  <tbody>\n",
       "    <tr>\n",
       "      <th>0</th>\n",
       "      <td>1</td>\n",
       "      <td>2</td>\n",
       "      <td>3</td>\n",
       "    </tr>\n",
       "    <tr>\n",
       "      <th>1</th>\n",
       "      <td>1</td>\n",
       "      <td>2</td>\n",
       "      <td>4</td>\n",
       "    </tr>\n",
       "    <tr>\n",
       "      <th>2</th>\n",
       "      <td>1</td>\n",
       "      <td>100</td>\n",
       "      <td>1000</td>\n",
       "    </tr>\n",
       "    <tr>\n",
       "      <th>3</th>\n",
       "      <td>1</td>\n",
       "      <td>2</td>\n",
       "      <td>3</td>\n",
       "    </tr>\n",
       "  </tbody>\n",
       "</table>\n",
       "</div>"
      ],
      "text/plain": [
       "   a    b     c\n",
       "0  1    2     3\n",
       "1  1    2     4\n",
       "2  1  100  1000\n",
       "3  1    2     3"
      ]
     },
     "execution_count": 73,
     "metadata": {},
     "output_type": "execute_result"
    }
   ],
   "source": [
    "df"
   ]
  },
  {
   "cell_type": "code",
   "execution_count": 74,
   "id": "bb45bdf3",
   "metadata": {},
   "outputs": [
    {
     "data": {
      "text/html": [
       "<div>\n",
       "<style scoped>\n",
       "    .dataframe tbody tr th:only-of-type {\n",
       "        vertical-align: middle;\n",
       "    }\n",
       "\n",
       "    .dataframe tbody tr th {\n",
       "        vertical-align: top;\n",
       "    }\n",
       "\n",
       "    .dataframe thead th {\n",
       "        text-align: right;\n",
       "    }\n",
       "</style>\n",
       "<table border=\"1\" class=\"dataframe\">\n",
       "  <thead>\n",
       "    <tr style=\"text-align: right;\">\n",
       "      <th></th>\n",
       "      <th>name</th>\n",
       "      <th>appearance</th>\n",
       "      <th>atomic_mass</th>\n",
       "      <th>boil</th>\n",
       "      <th>category</th>\n",
       "      <th>density</th>\n",
       "      <th>discovered_by</th>\n",
       "      <th>melt</th>\n",
       "      <th>molar_heat</th>\n",
       "      <th>named_by</th>\n",
       "      <th>...</th>\n",
       "      <th>symbol</th>\n",
       "      <th>xpos</th>\n",
       "      <th>ypos</th>\n",
       "      <th>shells</th>\n",
       "      <th>electron_configuration</th>\n",
       "      <th>electron_configuration_semantic</th>\n",
       "      <th>electron_affinity</th>\n",
       "      <th>electronegativity_pauling</th>\n",
       "      <th>ionization_energies</th>\n",
       "      <th>cpk-hex</th>\n",
       "    </tr>\n",
       "  </thead>\n",
       "  <tbody>\n",
       "    <tr>\n",
       "      <th>0</th>\n",
       "      <td>Hydrogen</td>\n",
       "      <td>colorless gas</td>\n",
       "      <td>1.008</td>\n",
       "      <td>20.271</td>\n",
       "      <td>diatomic nonmetal</td>\n",
       "      <td>0.08988</td>\n",
       "      <td>Henry Cavendish</td>\n",
       "      <td>13.99</td>\n",
       "      <td>28.836</td>\n",
       "      <td>Antoine Lavoisier</td>\n",
       "      <td>...</td>\n",
       "      <td>H</td>\n",
       "      <td>1</td>\n",
       "      <td>1</td>\n",
       "      <td>[1]</td>\n",
       "      <td>1s1</td>\n",
       "      <td>1s1</td>\n",
       "      <td>72.769</td>\n",
       "      <td>2.2</td>\n",
       "      <td>[1312]</td>\n",
       "      <td>ffffff</td>\n",
       "    </tr>\n",
       "    <tr>\n",
       "      <th>4</th>\n",
       "      <td>Boron</td>\n",
       "      <td>black-brown</td>\n",
       "      <td>10.81</td>\n",
       "      <td>4200</td>\n",
       "      <td>metalloid</td>\n",
       "      <td>2.08</td>\n",
       "      <td>Joseph Louis Gay-Lussac</td>\n",
       "      <td>2349</td>\n",
       "      <td>11.087</td>\n",
       "      <td></td>\n",
       "      <td>...</td>\n",
       "      <td>B</td>\n",
       "      <td>13</td>\n",
       "      <td>2</td>\n",
       "      <td>[2, 3]</td>\n",
       "      <td>1s2 2s2 2p1</td>\n",
       "      <td>[He] 2s2 2p1</td>\n",
       "      <td>26.989</td>\n",
       "      <td>2.04</td>\n",
       "      <td>[800.6, 2427.1, 3659.7, 25025.8, 32826.7]</td>\n",
       "      <td>ffb5b5</td>\n",
       "    </tr>\n",
       "    <tr>\n",
       "      <th>43</th>\n",
       "      <td>Ruthenium</td>\n",
       "      <td>silvery white metallic</td>\n",
       "      <td>101.072</td>\n",
       "      <td>4423</td>\n",
       "      <td>transition metal</td>\n",
       "      <td>12.45</td>\n",
       "      <td>Karl Ernst Claus</td>\n",
       "      <td>2607</td>\n",
       "      <td>24.06</td>\n",
       "      <td></td>\n",
       "      <td>...</td>\n",
       "      <td>Ru</td>\n",
       "      <td>8</td>\n",
       "      <td>5</td>\n",
       "      <td>[2, 8, 18, 15, 1]</td>\n",
       "      <td>1s2 2s2 2p6 3s2 3p6 4s2 3d10 4p6 5s1 4d7</td>\n",
       "      <td>[Kr] 4d7 5s1</td>\n",
       "      <td>100.96</td>\n",
       "      <td>2.2</td>\n",
       "      <td>[710.2, 1620, 2747]</td>\n",
       "      <td>248f8f</td>\n",
       "    </tr>\n",
       "    <tr>\n",
       "      <th>44</th>\n",
       "      <td>Rhodium</td>\n",
       "      <td>silvery white metallic</td>\n",
       "      <td>102.905502</td>\n",
       "      <td>3968</td>\n",
       "      <td>transition metal</td>\n",
       "      <td>12.41</td>\n",
       "      <td>William Hyde Wollaston</td>\n",
       "      <td>2237</td>\n",
       "      <td>24.98</td>\n",
       "      <td></td>\n",
       "      <td>...</td>\n",
       "      <td>Rh</td>\n",
       "      <td>9</td>\n",
       "      <td>5</td>\n",
       "      <td>[2, 8, 18, 16, 1]</td>\n",
       "      <td>1s2 2s2 2p6 3s2 3p6 4s2 3d10 4p6 5s1 4d8</td>\n",
       "      <td>[Kr] 4d8 5s1</td>\n",
       "      <td>110.27</td>\n",
       "      <td>2.28</td>\n",
       "      <td>[719.7, 1740, 2997]</td>\n",
       "      <td>0a7d8c</td>\n",
       "    </tr>\n",
       "    <tr>\n",
       "      <th>45</th>\n",
       "      <td>Palladium</td>\n",
       "      <td>silvery white</td>\n",
       "      <td>106.421</td>\n",
       "      <td>3236</td>\n",
       "      <td>transition metal</td>\n",
       "      <td>12.023</td>\n",
       "      <td>William Hyde Wollaston</td>\n",
       "      <td>1828.05</td>\n",
       "      <td>25.98</td>\n",
       "      <td></td>\n",
       "      <td>...</td>\n",
       "      <td>Pd</td>\n",
       "      <td>10</td>\n",
       "      <td>5</td>\n",
       "      <td>[2, 8, 18, 18]</td>\n",
       "      <td>1s2 2s2 2p6 3s2 3p6 4s2 3d10 4p6 4d10</td>\n",
       "      <td>[Kr] 4d10</td>\n",
       "      <td>54.24</td>\n",
       "      <td>2.2</td>\n",
       "      <td>[804.4, 1870, 3177]</td>\n",
       "      <td>6985</td>\n",
       "    </tr>\n",
       "    <tr>\n",
       "      <th>...</th>\n",
       "      <td>...</td>\n",
       "      <td>...</td>\n",
       "      <td>...</td>\n",
       "      <td>...</td>\n",
       "      <td>...</td>\n",
       "      <td>...</td>\n",
       "      <td>...</td>\n",
       "      <td>...</td>\n",
       "      <td>...</td>\n",
       "      <td>...</td>\n",
       "      <td>...</td>\n",
       "      <td>...</td>\n",
       "      <td>...</td>\n",
       "      <td>...</td>\n",
       "      <td>...</td>\n",
       "      <td>...</td>\n",
       "      <td>...</td>\n",
       "      <td>...</td>\n",
       "      <td>...</td>\n",
       "      <td>...</td>\n",
       "      <td>...</td>\n",
       "    </tr>\n",
       "    <tr>\n",
       "      <th>3</th>\n",
       "      <td>Beryllium</td>\n",
       "      <td>white-gray metallic</td>\n",
       "      <td>9.01218315</td>\n",
       "      <td>2742</td>\n",
       "      <td>alkaline earth metal</td>\n",
       "      <td>1.85</td>\n",
       "      <td>Louis Nicolas Vauquelin</td>\n",
       "      <td>1560</td>\n",
       "      <td>16.443</td>\n",
       "      <td></td>\n",
       "      <td>...</td>\n",
       "      <td>Be</td>\n",
       "      <td>2</td>\n",
       "      <td>2</td>\n",
       "      <td>[2, 2]</td>\n",
       "      <td>1s2 2s2</td>\n",
       "      <td>[He] 2s2</td>\n",
       "      <td>-48</td>\n",
       "      <td>1.57</td>\n",
       "      <td>[899.5, 1757.1, 14848.7, 21006.6]</td>\n",
       "      <td>c2ff00</td>\n",
       "    </tr>\n",
       "    <tr>\n",
       "      <th>39</th>\n",
       "      <td>Zirconium</td>\n",
       "      <td>silvery white</td>\n",
       "      <td>91.2242</td>\n",
       "      <td>4650</td>\n",
       "      <td>transition metal</td>\n",
       "      <td>6.52</td>\n",
       "      <td>Martin Heinrich Klaproth</td>\n",
       "      <td>2128</td>\n",
       "      <td>25.36</td>\n",
       "      <td></td>\n",
       "      <td>...</td>\n",
       "      <td>Zr</td>\n",
       "      <td>4</td>\n",
       "      <td>5</td>\n",
       "      <td>[2, 8, 18, 10, 2]</td>\n",
       "      <td>1s2 2s2 2p6 3s2 3p6 4s2 3d10 4p6 5s2 4d2</td>\n",
       "      <td>[Kr] 4d2 5s2</td>\n",
       "      <td>41.806</td>\n",
       "      <td>1.33</td>\n",
       "      <td>[640.1, 1270, 2218, 3313, 7752, 9500]</td>\n",
       "      <td>94e0e0</td>\n",
       "    </tr>\n",
       "    <tr>\n",
       "      <th>40</th>\n",
       "      <td>Niobium</td>\n",
       "      <td>gray metallic, bluish when oxidized</td>\n",
       "      <td>92.906372</td>\n",
       "      <td>5017</td>\n",
       "      <td>transition metal</td>\n",
       "      <td>8.57</td>\n",
       "      <td>Charles Hatchett</td>\n",
       "      <td>2750</td>\n",
       "      <td>24.6</td>\n",
       "      <td></td>\n",
       "      <td>...</td>\n",
       "      <td>Nb</td>\n",
       "      <td>5</td>\n",
       "      <td>5</td>\n",
       "      <td>[2, 8, 18, 12, 1]</td>\n",
       "      <td>1s2 2s2 2p6 3s2 3p6 4s2 3d10 4p6 5s1 4d4</td>\n",
       "      <td>[Kr] 4d4 5s1</td>\n",
       "      <td>88.516</td>\n",
       "      <td>1.6</td>\n",
       "      <td>[652.1, 1380, 2416, 3700, 4877, 9847, 12100]</td>\n",
       "      <td>73c2c9</td>\n",
       "    </tr>\n",
       "    <tr>\n",
       "      <th>41</th>\n",
       "      <td>Molybdenum</td>\n",
       "      <td>gray metallic</td>\n",
       "      <td>95.951</td>\n",
       "      <td>4912</td>\n",
       "      <td>transition metal</td>\n",
       "      <td>10.28</td>\n",
       "      <td>Carl Wilhelm Scheele</td>\n",
       "      <td>2896</td>\n",
       "      <td>24.06</td>\n",
       "      <td></td>\n",
       "      <td>...</td>\n",
       "      <td>Mo</td>\n",
       "      <td>6</td>\n",
       "      <td>5</td>\n",
       "      <td>[2, 8, 18, 13, 1]</td>\n",
       "      <td>1s2 2s2 2p6 3s2 3p6 4s2 3d10 4p6 5s1 4d5</td>\n",
       "      <td>[Kr] 4d5 5s1</td>\n",
       "      <td>72.1</td>\n",
       "      <td>2.16</td>\n",
       "      <td>[684.3, 1560, 2618, 4480, 5257, 6640.8, 12125,...</td>\n",
       "      <td>54b5b5</td>\n",
       "    </tr>\n",
       "    <tr>\n",
       "      <th>42</th>\n",
       "      <td>Technetium</td>\n",
       "      <td>shiny gray metal</td>\n",
       "      <td>98</td>\n",
       "      <td>4538</td>\n",
       "      <td>transition metal</td>\n",
       "      <td>11</td>\n",
       "      <td>Emilio Segrè</td>\n",
       "      <td>2430</td>\n",
       "      <td>24.27</td>\n",
       "      <td></td>\n",
       "      <td>...</td>\n",
       "      <td>Tc</td>\n",
       "      <td>7</td>\n",
       "      <td>5</td>\n",
       "      <td>[2, 8, 18, 13, 2]</td>\n",
       "      <td>1s2 2s2 2p6 3s2 3p6 4s2 3d10 4p6 5s2 4d5</td>\n",
       "      <td>[Kr] 4d5 5s2</td>\n",
       "      <td>53</td>\n",
       "      <td>1.9</td>\n",
       "      <td>[702, 1470, 2850]</td>\n",
       "      <td>3b9e9e</td>\n",
       "    </tr>\n",
       "  </tbody>\n",
       "</table>\n",
       "<p>119 rows × 26 columns</p>\n",
       "</div>"
      ],
      "text/plain": [
       "          name                           appearance atomic_mass    boil  \\\n",
       "0     Hydrogen                        colorless gas       1.008  20.271   \n",
       "4        Boron                          black-brown       10.81    4200   \n",
       "43   Ruthenium               silvery white metallic     101.072    4423   \n",
       "44     Rhodium               silvery white metallic  102.905502    3968   \n",
       "45   Palladium                        silvery white     106.421    3236   \n",
       "..         ...                                  ...         ...     ...   \n",
       "3    Beryllium                  white-gray metallic  9.01218315    2742   \n",
       "39   Zirconium                        silvery white     91.2242    4650   \n",
       "40     Niobium  gray metallic, bluish when oxidized   92.906372    5017   \n",
       "41  Molybdenum                        gray metallic      95.951    4912   \n",
       "42  Technetium                     shiny gray metal          98    4538   \n",
       "\n",
       "                category  density             discovered_by     melt  \\\n",
       "0      diatomic nonmetal  0.08988           Henry Cavendish    13.99   \n",
       "4              metalloid     2.08   Joseph Louis Gay-Lussac     2349   \n",
       "43      transition metal    12.45          Karl Ernst Claus     2607   \n",
       "44      transition metal    12.41    William Hyde Wollaston     2237   \n",
       "45      transition metal   12.023    William Hyde Wollaston  1828.05   \n",
       "..                   ...      ...                       ...      ...   \n",
       "3   alkaline earth metal     1.85   Louis Nicolas Vauquelin     1560   \n",
       "39      transition metal     6.52  Martin Heinrich Klaproth     2128   \n",
       "40      transition metal     8.57          Charles Hatchett     2750   \n",
       "41      transition metal    10.28      Carl Wilhelm Scheele     2896   \n",
       "42      transition metal       11              Emilio Segrè     2430   \n",
       "\n",
       "   molar_heat           named_by  ... symbol xpos ypos             shells  \\\n",
       "0      28.836  Antoine Lavoisier  ...      H    1    1                [1]   \n",
       "4      11.087                     ...      B   13    2             [2, 3]   \n",
       "43      24.06                     ...     Ru    8    5  [2, 8, 18, 15, 1]   \n",
       "44      24.98                     ...     Rh    9    5  [2, 8, 18, 16, 1]   \n",
       "45      25.98                     ...     Pd   10    5     [2, 8, 18, 18]   \n",
       "..        ...                ...  ...    ...  ...  ...                ...   \n",
       "3      16.443                     ...     Be    2    2             [2, 2]   \n",
       "39      25.36                     ...     Zr    4    5  [2, 8, 18, 10, 2]   \n",
       "40       24.6                     ...     Nb    5    5  [2, 8, 18, 12, 1]   \n",
       "41      24.06                     ...     Mo    6    5  [2, 8, 18, 13, 1]   \n",
       "42      24.27                     ...     Tc    7    5  [2, 8, 18, 13, 2]   \n",
       "\n",
       "                      electron_configuration electron_configuration_semantic  \\\n",
       "0                                        1s1                             1s1   \n",
       "4                                1s2 2s2 2p1                    [He] 2s2 2p1   \n",
       "43  1s2 2s2 2p6 3s2 3p6 4s2 3d10 4p6 5s1 4d7                    [Kr] 4d7 5s1   \n",
       "44  1s2 2s2 2p6 3s2 3p6 4s2 3d10 4p6 5s1 4d8                    [Kr] 4d8 5s1   \n",
       "45     1s2 2s2 2p6 3s2 3p6 4s2 3d10 4p6 4d10                       [Kr] 4d10   \n",
       "..                                       ...                             ...   \n",
       "3                                    1s2 2s2                        [He] 2s2   \n",
       "39  1s2 2s2 2p6 3s2 3p6 4s2 3d10 4p6 5s2 4d2                    [Kr] 4d2 5s2   \n",
       "40  1s2 2s2 2p6 3s2 3p6 4s2 3d10 4p6 5s1 4d4                    [Kr] 4d4 5s1   \n",
       "41  1s2 2s2 2p6 3s2 3p6 4s2 3d10 4p6 5s1 4d5                    [Kr] 4d5 5s1   \n",
       "42  1s2 2s2 2p6 3s2 3p6 4s2 3d10 4p6 5s2 4d5                    [Kr] 4d5 5s2   \n",
       "\n",
       "   electron_affinity electronegativity_pauling  \\\n",
       "0             72.769                       2.2   \n",
       "4             26.989                      2.04   \n",
       "43            100.96                       2.2   \n",
       "44            110.27                      2.28   \n",
       "45             54.24                       2.2   \n",
       "..               ...                       ...   \n",
       "3                -48                      1.57   \n",
       "39            41.806                      1.33   \n",
       "40            88.516                       1.6   \n",
       "41              72.1                      2.16   \n",
       "42                53                       1.9   \n",
       "\n",
       "                                  ionization_energies cpk-hex  \n",
       "0                                              [1312]  ffffff  \n",
       "4           [800.6, 2427.1, 3659.7, 25025.8, 32826.7]  ffb5b5  \n",
       "43                                [710.2, 1620, 2747]  248f8f  \n",
       "44                                [719.7, 1740, 2997]  0a7d8c  \n",
       "45                                [804.4, 1870, 3177]    6985  \n",
       "..                                                ...     ...  \n",
       "3                   [899.5, 1757.1, 14848.7, 21006.6]  c2ff00  \n",
       "39              [640.1, 1270, 2218, 3313, 7752, 9500]  94e0e0  \n",
       "40       [652.1, 1380, 2416, 3700, 4877, 9847, 12100]  73c2c9  \n",
       "41  [684.3, 1560, 2618, 4480, 5257, 6640.8, 12125,...  54b5b5  \n",
       "42                                  [702, 1470, 2850]  3b9e9e  \n",
       "\n",
       "[119 rows x 26 columns]"
      ]
     },
     "execution_count": 74,
     "metadata": {},
     "output_type": "execute_result"
    }
   ],
   "source": [
    "periodic_table_df.sort_values('atomic_mass')"
   ]
  },
  {
   "cell_type": "code",
   "execution_count": null,
   "id": "fcadab58",
   "metadata": {},
   "outputs": [],
   "source": []
  }
 ],
 "metadata": {
  "kernelspec": {
   "display_name": "Python 3 (ipykernel)",
   "language": "python",
   "name": "python3"
  },
  "language_info": {
   "codemirror_mode": {
    "name": "ipython",
    "version": 3
   },
   "file_extension": ".py",
   "mimetype": "text/x-python",
   "name": "python",
   "nbconvert_exporter": "python",
   "pygments_lexer": "ipython3",
   "version": "3.10.0"
  }
 },
 "nbformat": 4,
 "nbformat_minor": 5
}
