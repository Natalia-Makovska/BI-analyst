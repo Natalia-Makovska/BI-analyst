{
 "cells": [
  {
   "cell_type": "markdown",
   "id": "a082cf6d",
   "metadata": {},
   "source": [
    "Lesson 9"
   ]
  },
  {
   "cell_type": "markdown",
   "id": "9bada3ae",
   "metadata": {},
   "source": [
    "pandas dates"
   ]
  },
  {
   "cell_type": "markdown",
   "id": "17314707",
   "metadata": {},
   "source": [
    "Timestamp"
   ]
  },
  {
   "cell_type": "code",
   "execution_count": 2,
   "id": "5bacda93",
   "metadata": {},
   "outputs": [],
   "source": [
    "import pandas as pd"
   ]
  },
  {
   "cell_type": "code",
   "execution_count": 3,
   "id": "47ff4cd3",
   "metadata": {},
   "outputs": [
    {
     "data": {
      "text/plain": [
       "Timestamp('2021-10-30 02:12:20.100000')"
      ]
     },
     "execution_count": 3,
     "metadata": {},
     "output_type": "execute_result"
    }
   ],
   "source": [
    "pd.to_datetime('30/10/2021 02:12:20.1000')"
   ]
  },
  {
   "cell_type": "code",
   "execution_count": 5,
   "id": "e6bce2ef",
   "metadata": {},
   "outputs": [
    {
     "data": {
      "text/plain": [
       "Timedelta('0 days 01:00:00')"
      ]
     },
     "execution_count": 5,
     "metadata": {},
     "output_type": "execute_result"
    }
   ],
   "source": [
    "Out[3] - pd.to_datetime('30/10/2021 01:12:20.1000')"
   ]
  },
  {
   "cell_type": "code",
   "execution_count": 6,
   "id": "8f406fab",
   "metadata": {},
   "outputs": [
    {
     "data": {
      "text/plain": [
       "DatetimeIndex(['2020-01-01', '2020-02-01', '2020-03-01', '2020-04-01'], dtype='datetime64[ns]', freq=None)"
      ]
     },
     "execution_count": 6,
     "metadata": {},
     "output_type": "execute_result"
    }
   ],
   "source": [
    "pd.to_datetime(['01/01/2020', '02/01/2020', '03/01/2020', '04/01/2020'])"
   ]
  },
  {
   "cell_type": "code",
   "execution_count": 8,
   "id": "36e1179b",
   "metadata": {},
   "outputs": [
    {
     "data": {
      "text/html": [
       "<div>\n",
       "<style scoped>\n",
       "    .dataframe tbody tr th:only-of-type {\n",
       "        vertical-align: middle;\n",
       "    }\n",
       "\n",
       "    .dataframe tbody tr th {\n",
       "        vertical-align: top;\n",
       "    }\n",
       "\n",
       "    .dataframe thead th {\n",
       "        text-align: right;\n",
       "    }\n",
       "</style>\n",
       "<table border=\"1\" class=\"dataframe\">\n",
       "  <thead>\n",
       "    <tr style=\"text-align: right;\">\n",
       "      <th></th>\n",
       "      <th>name</th>\n",
       "    </tr>\n",
       "  </thead>\n",
       "  <tbody>\n",
       "    <tr>\n",
       "      <th>0</th>\n",
       "      <td>fried rice</td>\n",
       "    </tr>\n",
       "    <tr>\n",
       "      <th>1</th>\n",
       "      <td>mac n cheese</td>\n",
       "    </tr>\n",
       "    <tr>\n",
       "      <th>2</th>\n",
       "      <td>fried fish</td>\n",
       "    </tr>\n",
       "    <tr>\n",
       "      <th>3</th>\n",
       "      <td>fish n chips</td>\n",
       "    </tr>\n",
       "  </tbody>\n",
       "</table>\n",
       "</div>"
      ],
      "text/plain": [
       "           name\n",
       "0    fried rice\n",
       "1  mac n cheese\n",
       "2    fried fish\n",
       "3  fish n chips"
      ]
     },
     "execution_count": 8,
     "metadata": {},
     "output_type": "execute_result"
    }
   ],
   "source": [
    "string_table = pd.DataFrame(data=[['fried rice'], ['mac n cheese'], ['fried fish'], ['fish n chips']], columns=['name'])\n",
    "string_table"
   ]
  },
  {
   "cell_type": "code",
   "execution_count": 9,
   "id": "46c79824",
   "metadata": {},
   "outputs": [
    {
     "data": {
      "text/plain": [
       "0      FRIED RICE\n",
       "1    MAC N CHEESE\n",
       "2      FRIED FISH\n",
       "3    FISH N CHIPS\n",
       "Name: name, dtype: object"
      ]
     },
     "execution_count": 9,
     "metadata": {},
     "output_type": "execute_result"
    }
   ],
   "source": [
    "string_table['name'].str.upper()"
   ]
  },
  {
   "cell_type": "code",
   "execution_count": 10,
   "id": "41d962a8",
   "metadata": {},
   "outputs": [
    {
     "data": {
      "text/plain": [
       "0        fried rice\n",
       "1    mac and cheese\n",
       "2        fried fish\n",
       "3    fish and chips\n",
       "Name: name, dtype: object"
      ]
     },
     "execution_count": 10,
     "metadata": {},
     "output_type": "execute_result"
    }
   ],
   "source": [
    "string_table['name'].str.replace(' n ', ' and ')"
   ]
  },
  {
   "cell_type": "code",
   "execution_count": 11,
   "id": "192e1914",
   "metadata": {},
   "outputs": [
    {
     "data": {
      "text/plain": [
       "0    False\n",
       "1    False\n",
       "2     True\n",
       "3     True\n",
       "Name: name, dtype: bool"
      ]
     },
     "execution_count": 11,
     "metadata": {},
     "output_type": "execute_result"
    }
   ],
   "source": [
    "string_table['name'].str.contains('fish')"
   ]
  },
  {
   "cell_type": "code",
   "execution_count": 12,
   "id": "ce53d87c",
   "metadata": {},
   "outputs": [
    {
     "data": {
      "text/plain": [
       "0      fried rice, yummy!\n",
       "1    mac n cheese, yummy!\n",
       "2      fried fish, yummy!\n",
       "3    fish n chips, yummy!\n",
       "Name: name, dtype: object"
      ]
     },
     "execution_count": 12,
     "metadata": {},
     "output_type": "execute_result"
    }
   ],
   "source": [
    "string_table['name'] + ', yummy!'"
   ]
  },
  {
   "cell_type": "code",
   "execution_count": 14,
   "id": "e67fbcf2",
   "metadata": {},
   "outputs": [
    {
     "data": {
      "text/plain": [
       "0     True\n",
       "1    False\n",
       "2    False\n",
       "3    False\n",
       "Name: name, dtype: bool"
      ]
     },
     "execution_count": 14,
     "metadata": {},
     "output_type": "execute_result"
    }
   ],
   "source": [
    "string_table.name.isin(['fried rice'])"
   ]
  },
  {
   "cell_type": "code",
   "execution_count": 18,
   "id": "14d4fd3a",
   "metadata": {},
   "outputs": [],
   "source": [
    "import numpy as np"
   ]
  },
  {
   "cell_type": "code",
   "execution_count": 19,
   "id": "ae506092",
   "metadata": {},
   "outputs": [
    {
     "data": {
      "text/plain": [
       "array([ 7, 57, 39, 35, 24, 34, 15, 32, 69, 47, 98, 15, 80, 44, 97, 33, 33,\n",
       "       89, 10, 61, 30, 37, 51, 43, 85, 91, 56, 24, 97, 76,  6, 52, 26, 46,\n",
       "       91, 73,  5, 37, 29, 95])"
      ]
     },
     "execution_count": 19,
     "metadata": {},
     "output_type": "execute_result"
    }
   ],
   "source": [
    "marks = np.random.randint(5, 101, size = 40)\n",
    "marks"
   ]
  },
  {
   "cell_type": "code",
   "execution_count": 28,
   "id": "6f5b482a",
   "metadata": {},
   "outputs": [],
   "source": [
    "def to_american_system(number):\n",
    "    if 80 < number <= 100:\n",
    "        return 'A'\n",
    "    elif 60 < number <=80:\n",
    "        return 'B'\n",
    "    elif 40 < number <= 60:\n",
    "        return 'C'\n",
    "    elif 20 < number <= 40:\n",
    "        return 'D'\n",
    "    elif 0 <= number <= 20:\n",
    "        return 'C'"
   ]
  },
  {
   "cell_type": "code",
   "execution_count": 32,
   "id": "e166bee8",
   "metadata": {},
   "outputs": [
    {
     "data": {
      "text/html": [
       "<div>\n",
       "<style scoped>\n",
       "    .dataframe tbody tr th:only-of-type {\n",
       "        vertical-align: middle;\n",
       "    }\n",
       "\n",
       "    .dataframe tbody tr th {\n",
       "        vertical-align: top;\n",
       "    }\n",
       "\n",
       "    .dataframe thead th {\n",
       "        text-align: right;\n",
       "    }\n",
       "</style>\n",
       "<table border=\"1\" class=\"dataframe\">\n",
       "  <thead>\n",
       "    <tr style=\"text-align: right;\">\n",
       "      <th></th>\n",
       "      <th>mark</th>\n",
       "    </tr>\n",
       "  </thead>\n",
       "  <tbody>\n",
       "    <tr>\n",
       "      <th>0</th>\n",
       "      <td>7</td>\n",
       "    </tr>\n",
       "    <tr>\n",
       "      <th>1</th>\n",
       "      <td>57</td>\n",
       "    </tr>\n",
       "    <tr>\n",
       "      <th>2</th>\n",
       "      <td>39</td>\n",
       "    </tr>\n",
       "    <tr>\n",
       "      <th>3</th>\n",
       "      <td>35</td>\n",
       "    </tr>\n",
       "    <tr>\n",
       "      <th>4</th>\n",
       "      <td>24</td>\n",
       "    </tr>\n",
       "    <tr>\n",
       "      <th>5</th>\n",
       "      <td>34</td>\n",
       "    </tr>\n",
       "    <tr>\n",
       "      <th>6</th>\n",
       "      <td>15</td>\n",
       "    </tr>\n",
       "    <tr>\n",
       "      <th>7</th>\n",
       "      <td>32</td>\n",
       "    </tr>\n",
       "    <tr>\n",
       "      <th>8</th>\n",
       "      <td>69</td>\n",
       "    </tr>\n",
       "    <tr>\n",
       "      <th>9</th>\n",
       "      <td>47</td>\n",
       "    </tr>\n",
       "    <tr>\n",
       "      <th>10</th>\n",
       "      <td>98</td>\n",
       "    </tr>\n",
       "    <tr>\n",
       "      <th>11</th>\n",
       "      <td>15</td>\n",
       "    </tr>\n",
       "    <tr>\n",
       "      <th>12</th>\n",
       "      <td>80</td>\n",
       "    </tr>\n",
       "    <tr>\n",
       "      <th>13</th>\n",
       "      <td>44</td>\n",
       "    </tr>\n",
       "    <tr>\n",
       "      <th>14</th>\n",
       "      <td>97</td>\n",
       "    </tr>\n",
       "    <tr>\n",
       "      <th>15</th>\n",
       "      <td>33</td>\n",
       "    </tr>\n",
       "    <tr>\n",
       "      <th>16</th>\n",
       "      <td>33</td>\n",
       "    </tr>\n",
       "    <tr>\n",
       "      <th>17</th>\n",
       "      <td>89</td>\n",
       "    </tr>\n",
       "    <tr>\n",
       "      <th>18</th>\n",
       "      <td>10</td>\n",
       "    </tr>\n",
       "    <tr>\n",
       "      <th>19</th>\n",
       "      <td>61</td>\n",
       "    </tr>\n",
       "    <tr>\n",
       "      <th>20</th>\n",
       "      <td>30</td>\n",
       "    </tr>\n",
       "    <tr>\n",
       "      <th>21</th>\n",
       "      <td>37</td>\n",
       "    </tr>\n",
       "    <tr>\n",
       "      <th>22</th>\n",
       "      <td>51</td>\n",
       "    </tr>\n",
       "    <tr>\n",
       "      <th>23</th>\n",
       "      <td>43</td>\n",
       "    </tr>\n",
       "    <tr>\n",
       "      <th>24</th>\n",
       "      <td>85</td>\n",
       "    </tr>\n",
       "    <tr>\n",
       "      <th>25</th>\n",
       "      <td>91</td>\n",
       "    </tr>\n",
       "    <tr>\n",
       "      <th>26</th>\n",
       "      <td>56</td>\n",
       "    </tr>\n",
       "    <tr>\n",
       "      <th>27</th>\n",
       "      <td>24</td>\n",
       "    </tr>\n",
       "    <tr>\n",
       "      <th>28</th>\n",
       "      <td>97</td>\n",
       "    </tr>\n",
       "    <tr>\n",
       "      <th>29</th>\n",
       "      <td>76</td>\n",
       "    </tr>\n",
       "    <tr>\n",
       "      <th>30</th>\n",
       "      <td>6</td>\n",
       "    </tr>\n",
       "    <tr>\n",
       "      <th>31</th>\n",
       "      <td>52</td>\n",
       "    </tr>\n",
       "    <tr>\n",
       "      <th>32</th>\n",
       "      <td>26</td>\n",
       "    </tr>\n",
       "    <tr>\n",
       "      <th>33</th>\n",
       "      <td>46</td>\n",
       "    </tr>\n",
       "    <tr>\n",
       "      <th>34</th>\n",
       "      <td>91</td>\n",
       "    </tr>\n",
       "    <tr>\n",
       "      <th>35</th>\n",
       "      <td>73</td>\n",
       "    </tr>\n",
       "    <tr>\n",
       "      <th>36</th>\n",
       "      <td>5</td>\n",
       "    </tr>\n",
       "    <tr>\n",
       "      <th>37</th>\n",
       "      <td>37</td>\n",
       "    </tr>\n",
       "    <tr>\n",
       "      <th>38</th>\n",
       "      <td>29</td>\n",
       "    </tr>\n",
       "    <tr>\n",
       "      <th>39</th>\n",
       "      <td>95</td>\n",
       "    </tr>\n",
       "  </tbody>\n",
       "</table>\n",
       "</div>"
      ],
      "text/plain": [
       "    mark\n",
       "0      7\n",
       "1     57\n",
       "2     39\n",
       "3     35\n",
       "4     24\n",
       "5     34\n",
       "6     15\n",
       "7     32\n",
       "8     69\n",
       "9     47\n",
       "10    98\n",
       "11    15\n",
       "12    80\n",
       "13    44\n",
       "14    97\n",
       "15    33\n",
       "16    33\n",
       "17    89\n",
       "18    10\n",
       "19    61\n",
       "20    30\n",
       "21    37\n",
       "22    51\n",
       "23    43\n",
       "24    85\n",
       "25    91\n",
       "26    56\n",
       "27    24\n",
       "28    97\n",
       "29    76\n",
       "30     6\n",
       "31    52\n",
       "32    26\n",
       "33    46\n",
       "34    91\n",
       "35    73\n",
       "36     5\n",
       "37    37\n",
       "38    29\n",
       "39    95"
      ]
     },
     "execution_count": 32,
     "metadata": {},
     "output_type": "execute_result"
    }
   ],
   "source": [
    "marks_df = pd.DataFrame(marks, columns=['mark'])\n",
    "marks_df"
   ]
  },
  {
   "cell_type": "code",
   "execution_count": 43,
   "id": "72ec4352",
   "metadata": {},
   "outputs": [
    {
     "data": {
      "text/plain": [
       "0     C\n",
       "1     C\n",
       "2     D\n",
       "3     D\n",
       "4     D\n",
       "5     D\n",
       "6     C\n",
       "7     D\n",
       "8     B\n",
       "9     C\n",
       "10    A\n",
       "11    C\n",
       "12    B\n",
       "13    C\n",
       "14    A\n",
       "15    D\n",
       "16    D\n",
       "17    A\n",
       "18    C\n",
       "19    B\n",
       "20    D\n",
       "21    D\n",
       "22    C\n",
       "23    C\n",
       "24    A\n",
       "25    A\n",
       "26    C\n",
       "27    D\n",
       "28    A\n",
       "29    B\n",
       "30    C\n",
       "31    C\n",
       "32    D\n",
       "33    C\n",
       "34    A\n",
       "35    B\n",
       "36    C\n",
       "37    D\n",
       "38    D\n",
       "39    A\n",
       "Name: mark, dtype: object"
      ]
     },
     "execution_count": 43,
     "metadata": {},
     "output_type": "execute_result"
    }
   ],
   "source": [
    "marks_df.mark.apply(to_american_system)"
   ]
  },
  {
   "cell_type": "code",
   "execution_count": 46,
   "id": "c65782df",
   "metadata": {},
   "outputs": [
    {
     "data": {
      "text/html": [
       "<div>\n",
       "<style scoped>\n",
       "    .dataframe tbody tr th:only-of-type {\n",
       "        vertical-align: middle;\n",
       "    }\n",
       "\n",
       "    .dataframe tbody tr th {\n",
       "        vertical-align: top;\n",
       "    }\n",
       "\n",
       "    .dataframe thead th {\n",
       "        text-align: right;\n",
       "    }\n",
       "</style>\n",
       "<table border=\"1\" class=\"dataframe\">\n",
       "  <thead>\n",
       "    <tr style=\"text-align: right;\">\n",
       "      <th></th>\n",
       "      <th>A</th>\n",
       "      <th>B</th>\n",
       "    </tr>\n",
       "  </thead>\n",
       "  <tbody>\n",
       "    <tr>\n",
       "      <th>0</th>\n",
       "      <td>1</td>\n",
       "      <td>5</td>\n",
       "    </tr>\n",
       "    <tr>\n",
       "      <th>1</th>\n",
       "      <td>2</td>\n",
       "      <td>6</td>\n",
       "    </tr>\n",
       "    <tr>\n",
       "      <th>2</th>\n",
       "      <td>3</td>\n",
       "      <td>7</td>\n",
       "    </tr>\n",
       "    <tr>\n",
       "      <th>3</th>\n",
       "      <td>4</td>\n",
       "      <td>8</td>\n",
       "    </tr>\n",
       "    <tr>\n",
       "      <th>0</th>\n",
       "      <td>100</td>\n",
       "      <td>300</td>\n",
       "    </tr>\n",
       "    <tr>\n",
       "      <th>1</th>\n",
       "      <td>150</td>\n",
       "      <td>400</td>\n",
       "    </tr>\n",
       "    <tr>\n",
       "      <th>2</th>\n",
       "      <td>200</td>\n",
       "      <td>500</td>\n",
       "    </tr>\n",
       "  </tbody>\n",
       "</table>\n",
       "</div>"
      ],
      "text/plain": [
       "     A    B\n",
       "0    1    5\n",
       "1    2    6\n",
       "2    3    7\n",
       "3    4    8\n",
       "0  100  300\n",
       "1  150  400\n",
       "2  200  500"
      ]
     },
     "execution_count": 46,
     "metadata": {},
     "output_type": "execute_result"
    }
   ],
   "source": [
    "df1 = pd.DataFrame({'A': [1, 2, 3, 4], 'B': [5, 6, 7, 8]})\n",
    "df2 = pd.DataFrame({'A': [100, 150, 200], 'B': [300, 400, 500]})\n",
    "\n",
    "pd.concat([df1, df2], axis='index')"
   ]
  },
  {
   "cell_type": "code",
   "execution_count": null,
   "id": "dd60ee56",
   "metadata": {},
   "outputs": [],
   "source": []
  }
 ],
 "metadata": {
  "kernelspec": {
   "display_name": "Python 3",
   "language": "python",
   "name": "python3"
  },
  "language_info": {
   "codemirror_mode": {
    "name": "ipython",
    "version": 3
   },
   "file_extension": ".py",
   "mimetype": "text/x-python",
   "name": "python",
   "nbconvert_exporter": "python",
   "pygments_lexer": "ipython3",
   "version": "3.8.8"
  }
 },
 "nbformat": 4,
 "nbformat_minor": 5
}
