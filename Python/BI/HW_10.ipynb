{
 "cells": [
  {
   "cell_type": "markdown",
   "id": "cdc0ed38",
   "metadata": {},
   "source": [
    "# HW_10"
   ]
  },
  {
   "cell_type": "markdown",
   "id": "85887070",
   "metadata": {},
   "source": [
    "1.Which parameter can be used to choose the shape in scatter plots?"
   ]
  },
  {
   "cell_type": "markdown",
   "id": "d57f49f0",
   "metadata": {},
   "source": [
    "a) size"
   ]
  },
  {
   "cell_type": "markdown",
   "id": "8f5ed4a3",
   "metadata": {},
   "source": [
    "2.Which is the correct way to create a plot with 6 subplots: 2 rows, each with 3 columns?"
   ]
  },
  {
   "cell_type": "markdown",
   "id": "555efa17",
   "metadata": {},
   "source": [
    " d.subplots(2, 3)"
   ]
  },
  {
   "cell_type": "markdown",
   "id": "ea44c632",
   "metadata": {},
   "source": [
    "3.Is it possible to plot a line plot and a scatter plot ​on the same subplot​?"
   ]
  },
  {
   "cell_type": "markdown",
   "id": "0663510b",
   "metadata": {},
   "source": [
    "Yes"
   ]
  },
  {
   "cell_type": "markdown",
   "id": "5f4ebf23",
   "metadata": {},
   "source": [
    "4.Which method can be used to define the plot viewing area?"
   ]
  },
  {
   "cell_type": "markdown",
   "id": "16337b9d",
   "metadata": {},
   "source": [
    "b.set_xticks, set_yticks"
   ]
  },
  {
   "cell_type": "markdown",
   "id": "15d79198",
   "metadata": {},
   "source": [
    "5.What is the difference between “hist” and “hist2d”?"
   ]
  },
  {
   "cell_type": "markdown",
   "id": "026aeae6",
   "metadata": {},
   "source": [
    "a.“hist” is appropriate for displaying the histogram of a single variable only, while“hist2d” displays the histograms of 2 or more variables."
   ]
  },
  {
   "cell_type": "code",
   "execution_count": null,
   "id": "034b9fa8",
   "metadata": {},
   "outputs": [],
   "source": []
  }
 ],
 "metadata": {
  "kernelspec": {
   "display_name": "Python 3 (ipykernel)",
   "language": "python",
   "name": "python3"
  },
  "language_info": {
   "codemirror_mode": {
    "name": "ipython",
    "version": 3
   },
   "file_extension": ".py",
   "mimetype": "text/x-python",
   "name": "python",
   "nbconvert_exporter": "python",
   "pygments_lexer": "ipython3",
   "version": "3.10.0"
  }
 },
 "nbformat": 4,
 "nbformat_minor": 5
}
