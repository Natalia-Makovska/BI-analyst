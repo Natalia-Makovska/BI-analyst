{
 "cells": [
  {
   "cell_type": "code",
   "execution_count": 13,
   "id": "1ff7ce7a-e075-44c0-a935-6cf9419cd931",
   "metadata": {},
   "outputs": [],
   "source": [
    "items = ['Megan', 'Charlie', 'Edward', 'Caroline', 'Steve']"
   ]
  },
  {
   "cell_type": "code",
   "execution_count": 14,
   "id": "c61c44ba-7eb3-4997-9d71-2469fb3fee02",
   "metadata": {},
   "outputs": [],
   "source": [
    "def is_near(items_list, x, y):\n",
    "    return abs(items_list.index(x) - items_list.index(y)) == 1"
   ]
  },
  {
   "cell_type": "code",
   "execution_count": 15,
   "id": "3e57480c-00ba-48b5-a2e7-498291d5e9bb",
   "metadata": {},
   "outputs": [],
   "source": [
    "def is_not_near(items_list, x, y):\n",
    "    return not is_near(items_list, x, y)"
   ]
  },
  {
   "cell_type": "code",
   "execution_count": 16,
   "id": "f64a8f57-c5cf-49e8-bd64-b4326334ba7f",
   "metadata": {},
   "outputs": [],
   "source": [
    "rules = [\n",
    "    ('Megan', 'Steve', is_not_near),\n",
    "    ('Megan', 'Charlie', is_near),\n",
    "    ('Edward', 'Caroline', is_near),\n",
    "    ('Carolin', 'Charlie', is_not_near)\n",
    "]"
   ]
  },
  {
   "cell_type": "code",
   "execution_count": 17,
   "id": "9a7c2b1d-292b-4b17-8b86-54a96b40c082",
   "metadata": {},
   "outputs": [],
   "source": [
    "def is_valid_by_rules(items_list, list_rules):\n",
    "    for rule in list_rules:\n",
    "        item_1 = rule[0]\n",
    "        item_2 = rule[1]\n",
    "        check = rule[2]\n",
    "        \n",
    "        if not check(items_list, item_1, item_2):\n",
    "            return False\n",
    "        \n",
    "    return True"
   ]
  },
  {
   "cell_type": "code",
   "execution_count": 18,
   "id": "10549de8-838f-4515-8d96-2bcb3876252f",
   "metadata": {},
   "outputs": [],
   "source": [
    "from itertools import permutations"
   ]
  },
  {
   "cell_type": "code",
   "execution_count": 19,
   "id": "cd6b9963-85d6-46d0-8ab8-5b04c0f04e5f",
   "metadata": {},
   "outputs": [],
   "source": [
    "p = permutations(items)"
   ]
  },
  {
   "cell_type": "code",
   "execution_count": 20,
   "id": "54b1e1e2-9f38-4854-b957-3ba0309d6bf5",
   "metadata": {},
   "outputs": [
    {
     "ename": "ValueError",
     "evalue": "tuple.index(x): x not in tuple",
     "output_type": "error",
     "traceback": [
      "\u001b[1;31m---------------------------------------------------------------------------\u001b[0m",
      "\u001b[1;31mValueError\u001b[0m                                Traceback (most recent call last)",
      "\u001b[1;32mC:\\Temp/ipykernel_9192/440633075.py\u001b[0m in \u001b[0;36m<module>\u001b[1;34m\u001b[0m\n\u001b[0;32m      2\u001b[0m \u001b[1;33m\u001b[0m\u001b[0m\n\u001b[0;32m      3\u001b[0m \u001b[1;32mfor\u001b[0m \u001b[0mvariant\u001b[0m \u001b[1;32min\u001b[0m \u001b[0mp\u001b[0m\u001b[1;33m:\u001b[0m\u001b[1;33m\u001b[0m\u001b[1;33m\u001b[0m\u001b[0m\n\u001b[1;32m----> 4\u001b[1;33m     \u001b[1;32mif\u001b[0m \u001b[0mis_valid_by_rules\u001b[0m\u001b[1;33m(\u001b[0m\u001b[0mvariant\u001b[0m\u001b[1;33m,\u001b[0m \u001b[0mrules\u001b[0m\u001b[1;33m)\u001b[0m\u001b[1;33m:\u001b[0m\u001b[1;33m\u001b[0m\u001b[1;33m\u001b[0m\u001b[0m\n\u001b[0m\u001b[0;32m      5\u001b[0m         \u001b[0mresults\u001b[0m\u001b[1;33m.\u001b[0m\u001b[0mappend\u001b[0m\u001b[1;33m(\u001b[0m\u001b[0mvariant\u001b[0m\u001b[1;33m)\u001b[0m\u001b[1;33m\u001b[0m\u001b[1;33m\u001b[0m\u001b[0m\n\u001b[0;32m      6\u001b[0m \u001b[1;33m\u001b[0m\u001b[0m\n",
      "\u001b[1;32mC:\\Temp/ipykernel_9192/2126016798.py\u001b[0m in \u001b[0;36mis_valid_by_rules\u001b[1;34m(items_list, list_rules)\u001b[0m\n\u001b[0;32m      5\u001b[0m         \u001b[0mcheck\u001b[0m \u001b[1;33m=\u001b[0m \u001b[0mrule\u001b[0m\u001b[1;33m[\u001b[0m\u001b[1;36m2\u001b[0m\u001b[1;33m]\u001b[0m\u001b[1;33m\u001b[0m\u001b[1;33m\u001b[0m\u001b[0m\n\u001b[0;32m      6\u001b[0m \u001b[1;33m\u001b[0m\u001b[0m\n\u001b[1;32m----> 7\u001b[1;33m         \u001b[1;32mif\u001b[0m \u001b[1;32mnot\u001b[0m \u001b[0mcheck\u001b[0m\u001b[1;33m(\u001b[0m\u001b[0mitems_list\u001b[0m\u001b[1;33m,\u001b[0m \u001b[0mitem_1\u001b[0m\u001b[1;33m,\u001b[0m \u001b[0mitem_2\u001b[0m\u001b[1;33m)\u001b[0m\u001b[1;33m:\u001b[0m\u001b[1;33m\u001b[0m\u001b[1;33m\u001b[0m\u001b[0m\n\u001b[0m\u001b[0;32m      8\u001b[0m             \u001b[1;32mreturn\u001b[0m \u001b[1;32mFalse\u001b[0m\u001b[1;33m\u001b[0m\u001b[1;33m\u001b[0m\u001b[0m\n\u001b[0;32m      9\u001b[0m \u001b[1;33m\u001b[0m\u001b[0m\n",
      "\u001b[1;32mC:\\Temp/ipykernel_9192/2998373054.py\u001b[0m in \u001b[0;36mis_not_near\u001b[1;34m(items_list, x, y)\u001b[0m\n\u001b[0;32m      1\u001b[0m \u001b[1;32mdef\u001b[0m \u001b[0mis_not_near\u001b[0m\u001b[1;33m(\u001b[0m\u001b[0mitems_list\u001b[0m\u001b[1;33m,\u001b[0m \u001b[0mx\u001b[0m\u001b[1;33m,\u001b[0m \u001b[0my\u001b[0m\u001b[1;33m)\u001b[0m\u001b[1;33m:\u001b[0m\u001b[1;33m\u001b[0m\u001b[1;33m\u001b[0m\u001b[0m\n\u001b[1;32m----> 2\u001b[1;33m     \u001b[1;32mreturn\u001b[0m \u001b[1;32mnot\u001b[0m \u001b[0mis_near\u001b[0m\u001b[1;33m(\u001b[0m\u001b[0mitems_list\u001b[0m\u001b[1;33m,\u001b[0m \u001b[0mx\u001b[0m\u001b[1;33m,\u001b[0m \u001b[0my\u001b[0m\u001b[1;33m)\u001b[0m\u001b[1;33m\u001b[0m\u001b[1;33m\u001b[0m\u001b[0m\n\u001b[0m",
      "\u001b[1;32mC:\\Temp/ipykernel_9192/4131824920.py\u001b[0m in \u001b[0;36mis_near\u001b[1;34m(items_list, x, y)\u001b[0m\n\u001b[0;32m      1\u001b[0m \u001b[1;32mdef\u001b[0m \u001b[0mis_near\u001b[0m\u001b[1;33m(\u001b[0m\u001b[0mitems_list\u001b[0m\u001b[1;33m,\u001b[0m \u001b[0mx\u001b[0m\u001b[1;33m,\u001b[0m \u001b[0my\u001b[0m\u001b[1;33m)\u001b[0m\u001b[1;33m:\u001b[0m\u001b[1;33m\u001b[0m\u001b[1;33m\u001b[0m\u001b[0m\n\u001b[1;32m----> 2\u001b[1;33m     \u001b[1;32mreturn\u001b[0m \u001b[0mabs\u001b[0m\u001b[1;33m(\u001b[0m\u001b[0mitems_list\u001b[0m\u001b[1;33m.\u001b[0m\u001b[0mindex\u001b[0m\u001b[1;33m(\u001b[0m\u001b[0mx\u001b[0m\u001b[1;33m)\u001b[0m \u001b[1;33m-\u001b[0m \u001b[0mitems_list\u001b[0m\u001b[1;33m.\u001b[0m\u001b[0mindex\u001b[0m\u001b[1;33m(\u001b[0m\u001b[0my\u001b[0m\u001b[1;33m)\u001b[0m\u001b[1;33m)\u001b[0m \u001b[1;33m==\u001b[0m \u001b[1;36m1\u001b[0m\u001b[1;33m\u001b[0m\u001b[1;33m\u001b[0m\u001b[0m\n\u001b[0m",
      "\u001b[1;31mValueError\u001b[0m: tuple.index(x): x not in tuple"
     ]
    }
   ],
   "source": [
    "results = []\n",
    "\n",
    "for variant in p:\n",
    "    if is_valid_by_rules(variant, rules):\n",
    "        results.append(variant)\n",
    "        \n",
    "results"
   ]
  },
  {
   "cell_type": "code",
   "execution_count": null,
   "id": "59afe9f8-e8c5-41a8-855f-f1cea731165b",
   "metadata": {},
   "outputs": [],
   "source": []
  }
 ],
 "metadata": {
  "kernelspec": {
   "display_name": "Python 3 (ipykernel)",
   "language": "python",
   "name": "python3"
  },
  "language_info": {
   "codemirror_mode": {
    "name": "ipython",
    "version": 3
   },
   "file_extension": ".py",
   "mimetype": "text/x-python",
   "name": "python",
   "nbconvert_exporter": "python",
   "pygments_lexer": "ipython3",
   "version": "3.10.0"
  }
 },
 "nbformat": 4,
 "nbformat_minor": 5
}
