{
 "cells": [
  {
   "cell_type": "code",
   "execution_count": 1,
   "id": "20b0053b-ccd2-4b03-8935-8bfbb31506e3",
   "metadata": {},
   "outputs": [],
   "source": [
    "# [31, 28, 31, 30, 31, 30, 31, 31, 30, 31, 30, 31]"
   ]
  },
  {
   "cell_type": "code",
   "execution_count": 2,
   "id": "fb1fadb0-c74c-4a1d-9b5c-b957ecc00b64",
   "metadata": {},
   "outputs": [],
   "source": [
    "# 31, 30, 31, 30, 31, 30, 31, 31, 30, 31, 30, 31"
   ]
  },
  {
   "cell_type": "code",
   "execution_count": 3,
   "id": "ef6c893d-465e-4473-8eb4-5e58a9397bd6",
   "metadata": {},
   "outputs": [],
   "source": [
    "# 31, 30, 31, 30, 31, 30, 31"
   ]
  },
  {
   "cell_type": "code",
   "execution_count": 4,
   "id": "6b703486-eccc-4267-a0db-51107684cebb",
   "metadata": {},
   "outputs": [],
   "source": [
    "#  0,  1, 2,  3,  4,  5,  6"
   ]
  },
  {
   "cell_type": "code",
   "execution_count": 14,
   "id": "c7dd06e8-50ac-4812-beff-25c8db0ad647",
   "metadata": {},
   "outputs": [
    {
     "name": "stdout",
     "output_type": "stream",
     "text": [
      "31\n",
      "28\n",
      "31\n"
     ]
    }
   ],
   "source": [
    "def get_days(index):\n",
    "    return 31 - (index % 7 % 2) - int(index == 1) * 2\n",
    "\n",
    "print(get_days(0))\n",
    "print(get_days(1))\n",
    "print(get_days(2))"
   ]
  },
  {
   "cell_type": "code",
   "execution_count": 15,
   "id": "317bb867-e992-4cd6-a261-f41227510d6c",
   "metadata": {},
   "outputs": [
    {
     "name": "stdout",
     "output_type": "stream",
     "text": [
      "0 31\n",
      "1 28\n",
      "2 31\n",
      "3 30\n",
      "4 31\n",
      "5 30\n",
      "6 31\n",
      "7 31\n",
      "8 30\n",
      "9 31\n",
      "10 30\n",
      "11 31\n"
     ]
    }
   ],
   "source": [
    "for i in range(12):\n",
    "    print(i, get_days(i))"
   ]
  },
  {
   "cell_type": "code",
   "execution_count": null,
   "id": "ebff5636-d55c-40d4-a642-438370fd0adf",
   "metadata": {},
   "outputs": [],
   "source": []
  }
 ],
 "metadata": {
  "kernelspec": {
   "display_name": "Python 3",
   "language": "python",
   "name": "python3"
  },
  "language_info": {
   "codemirror_mode": {
    "name": "ipython",
    "version": 3
   },
   "file_extension": ".py",
   "mimetype": "text/x-python",
   "name": "python",
   "nbconvert_exporter": "python",
   "pygments_lexer": "ipython3",
   "version": "3.8.8"
  }
 },
 "nbformat": 4,
 "nbformat_minor": 5
}
