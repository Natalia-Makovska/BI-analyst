{
 "cells": [
  {
   "cell_type": "markdown",
   "id": "a27292f7",
   "metadata": {},
   "source": [
    "## Lesson 8"
   ]
  },
  {
   "cell_type": "code",
   "execution_count": 3,
   "id": "206b7e88",
   "metadata": {},
   "outputs": [
    {
     "data": {
      "text/plain": [
       "array([ 0,  1,  2,  3,  4,  5,  6,  7,  8,  9, 10, 11, 12, 13, 14, 15, 16,\n",
       "       17, 18, 19])"
      ]
     },
     "execution_count": 3,
     "metadata": {},
     "output_type": "execute_result"
    }
   ],
   "source": [
    "import numpy as np\n",
    "linear_range = np.arange(20)\n",
    "linear_range"
   ]
  },
  {
   "cell_type": "code",
   "execution_count": 4,
   "id": "9a8ea206",
   "metadata": {},
   "outputs": [
    {
     "data": {
      "text/plain": [
       "array([ True,  True,  True,  True,  True,  True,  True,  True,  True,\n",
       "        True, False, False, False, False, False, False, False, False,\n",
       "       False, False])"
      ]
     },
     "execution_count": 4,
     "metadata": {},
     "output_type": "execute_result"
    }
   ],
   "source": [
    "linear_range < 10"
   ]
  },
  {
   "cell_type": "code",
   "execution_count": 5,
   "id": "1446662d",
   "metadata": {},
   "outputs": [
    {
     "data": {
      "text/plain": [
       "array([False, False, False, False, False, False, False, False, False,\n",
       "       False, False,  True,  True,  True,  True,  True,  True,  True,\n",
       "        True,  True])"
      ]
     },
     "execution_count": 5,
     "metadata": {},
     "output_type": "execute_result"
    }
   ],
   "source": [
    "linear_range > 10"
   ]
  },
  {
   "cell_type": "code",
   "execution_count": 7,
   "id": "4873bd0a",
   "metadata": {},
   "outputs": [
    {
     "data": {
      "text/plain": [
       "array([0, 1, 2, 3, 4, 5, 6, 7, 8, 9])"
      ]
     },
     "execution_count": 7,
     "metadata": {},
     "output_type": "execute_result"
    }
   ],
   "source": [
    "linear_range[linear_range < 10]"
   ]
  },
  {
   "cell_type": "code",
   "execution_count": 9,
   "id": "26c84cec",
   "metadata": {},
   "outputs": [
    {
     "data": {
      "text/plain": [
       "array([1, 3])"
      ]
     },
     "execution_count": 9,
     "metadata": {},
     "output_type": "execute_result"
    }
   ],
   "source": [
    "arr = np.array([1, 2, 3, 4, 5])\n",
    "bool_arr = np.array ([True, False, True, False, False])\n",
    "arr[bool_arr]"
   ]
  },
  {
   "cell_type": "code",
   "execution_count": 12,
   "id": "ab7683b4",
   "metadata": {},
   "outputs": [
    {
     "data": {
      "text/plain": [
       "array([0, 2, 4, 6, 8])"
      ]
     },
     "execution_count": 12,
     "metadata": {},
     "output_type": "execute_result"
    }
   ],
   "source": [
    "linear_range[(linear_range < 10) * (linear_range % 2 == 0)] "
   ]
  },
  {
   "cell_type": "code",
   "execution_count": 13,
   "id": "4a6a3ab1",
   "metadata": {},
   "outputs": [
    {
     "data": {
      "text/plain": [
       "array([[1., 1., 1., 1., 1.],\n",
       "       [1., 1., 1., 1., 1.],\n",
       "       [1., 1., 1., 1., 1.]])"
      ]
     },
     "execution_count": 13,
     "metadata": {},
     "output_type": "execute_result"
    }
   ],
   "source": [
    "first_shape = np.ones((3, 5))\n",
    "first_shape"
   ]
  },
  {
   "cell_type": "code",
   "execution_count": 14,
   "id": "19a4feb8",
   "metadata": {},
   "outputs": [
    {
     "data": {
      "text/plain": [
       "array([[3., 3., 3., 3., 3., 3., 3.],\n",
       "       [3., 3., 3., 3., 3., 3., 3.]])"
      ]
     },
     "execution_count": 14,
     "metadata": {},
     "output_type": "execute_result"
    }
   ],
   "source": [
    "second_shape = np.ones((2, 7)) * 3\n",
    "second_shape"
   ]
  },
  {
   "cell_type": "code",
   "execution_count": 20,
   "id": "8315d2e4",
   "metadata": {},
   "outputs": [
    {
     "data": {
      "text/plain": [
       "array([1, 2, 3, 4, 5])"
      ]
     },
     "execution_count": 20,
     "metadata": {},
     "output_type": "execute_result"
    }
   ],
   "source": [
    "#third_shape = np.ones(5) *  2\n",
    "third_shape = np.array([1, 2, 3, 4, 5])\n",
    "third_shape"
   ]
  },
  {
   "cell_type": "code",
   "execution_count": 17,
   "id": "ca0f8d02",
   "metadata": {},
   "outputs": [
    {
     "ename": "ValueError",
     "evalue": "operands could not be broadcast together with shapes (3,5) (2,7) ",
     "output_type": "error",
     "traceback": [
      "\u001b[1;31m---------------------------------------------------------------------------\u001b[0m",
      "\u001b[1;31mValueError\u001b[0m                                Traceback (most recent call last)",
      "\u001b[1;32mC:\\Temp/ipykernel_10284/3485250670.py\u001b[0m in \u001b[0;36m<module>\u001b[1;34m\u001b[0m\n\u001b[1;32m----> 1\u001b[1;33m \u001b[0mfirst_shape\u001b[0m \u001b[1;33m+\u001b[0m \u001b[0msecond_shape\u001b[0m\u001b[1;33m\u001b[0m\u001b[1;33m\u001b[0m\u001b[0m\n\u001b[0m",
      "\u001b[1;31mValueError\u001b[0m: operands could not be broadcast together with shapes (3,5) (2,7) "
     ]
    }
   ],
   "source": [
    "# first_shape + second_shape - форми масиву різні, numpy не розуміє як об'єднати"
   ]
  },
  {
   "cell_type": "code",
   "execution_count": 21,
   "id": "73ea15e1",
   "metadata": {},
   "outputs": [
    {
     "data": {
      "text/plain": [
       "array([[2., 3., 4., 5., 6.],\n",
       "       [2., 3., 4., 5., 6.],\n",
       "       [2., 3., 4., 5., 6.]])"
      ]
     },
     "execution_count": 21,
     "metadata": {},
     "output_type": "execute_result"
    }
   ],
   "source": [
    "first_shape + third_shape"
   ]
  },
  {
   "cell_type": "code",
   "execution_count": 22,
   "id": "386d11d2",
   "metadata": {},
   "outputs": [
    {
     "data": {
      "text/plain": [
       "array([2., 2., 2.])"
      ]
     },
     "execution_count": 22,
     "metadata": {},
     "output_type": "execute_result"
    }
   ],
   "source": [
    "four_shape = np.ones(3) * 2\n",
    "four_shape"
   ]
  },
  {
   "cell_type": "code",
   "execution_count": 24,
   "id": "14c5c1cb",
   "metadata": {
    "scrolled": true
   },
   "outputs": [
    {
     "ename": "ValueError",
     "evalue": "operands could not be broadcast together with shapes (3,) (3,5) ",
     "output_type": "error",
     "traceback": [
      "\u001b[1;31m---------------------------------------------------------------------------\u001b[0m",
      "\u001b[1;31mValueError\u001b[0m                                Traceback (most recent call last)",
      "\u001b[1;32mC:\\Temp/ipykernel_10284/3326917646.py\u001b[0m in \u001b[0;36m<module>\u001b[1;34m\u001b[0m\n\u001b[1;32m----> 1\u001b[1;33m \u001b[0mfour_shape\u001b[0m \u001b[1;33m+\u001b[0m \u001b[0mfirst_shape\u001b[0m\u001b[1;33m\u001b[0m\u001b[1;33m\u001b[0m\u001b[0m\n\u001b[0m",
      "\u001b[1;31mValueError\u001b[0m: operands could not be broadcast together with shapes (3,) (3,5) "
     ]
    }
   ],
   "source": [
    "# four_shape + first_shape"
   ]
  },
  {
   "cell_type": "markdown",
   "id": "c2c66a52",
   "metadata": {},
   "source": [
    "Генерація випадкових чисел"
   ]
  },
  {
   "cell_type": "code",
   "execution_count": 26,
   "id": "0554af80",
   "metadata": {
    "scrolled": false
   },
   "outputs": [
    {
     "data": {
      "text/plain": [
       "array([[0.28095451, 0.61751444, 0.24831711, 0.59705946, 0.9256055 ],\n",
       "       [0.55558949, 0.9039048 , 0.28653497, 0.15643637, 0.53000876],\n",
       "       [0.02572315, 0.28561297, 0.87836132, 0.34540209, 0.34691177],\n",
       "       [0.16317543, 0.0017911 , 0.49162925, 0.10806368, 0.88180191],\n",
       "       [0.38019662, 0.27970502, 0.04765123, 0.50455827, 0.95575441]])"
      ]
     },
     "execution_count": 26,
     "metadata": {},
     "output_type": "execute_result"
    }
   ],
   "source": [
    "np.random.random(size=(5, 5))"
   ]
  },
  {
   "cell_type": "code",
   "execution_count": 27,
   "id": "f4ae9b64",
   "metadata": {},
   "outputs": [
    {
     "data": {
      "text/plain": [
       "array([97.33376342, 87.37536254, 25.2238391 , 60.88098366, 39.46909563,\n",
       "       60.95186763, 11.3017909 , 68.69315493, 49.471012  , 63.92084731])"
      ]
     },
     "execution_count": 27,
     "metadata": {},
     "output_type": "execute_result"
    }
   ],
   "source": [
    "np.random.random(size=10) * 90 + 10"
   ]
  },
  {
   "cell_type": "code",
   "execution_count": 28,
   "id": "ff0abe61",
   "metadata": {},
   "outputs": [],
   "source": [
    "np.random.random? #підказка по функції"
   ]
  },
  {
   "cell_type": "code",
   "execution_count": 29,
   "id": "8d59e5b9",
   "metadata": {},
   "outputs": [],
   "source": [
    "np.array?? # підказка, яка може показати також і код"
   ]
  },
  {
   "cell_type": "code",
   "execution_count": 30,
   "id": "4ac43f27",
   "metadata": {},
   "outputs": [],
   "source": [
    "np.arr*? # підказка які ще є методи, змінні, атрибути"
   ]
  },
  {
   "cell_type": "code",
   "execution_count": 31,
   "id": "c90b489e",
   "metadata": {},
   "outputs": [],
   "source": [
    "np.random.*dom? # підказка"
   ]
  },
  {
   "cell_type": "code",
   "execution_count": 32,
   "id": "4a1e80c6",
   "metadata": {},
   "outputs": [
    {
     "data": {
      "text/plain": [
       "array([[6, 5, 7, 6, 6],\n",
       "       [7, 6, 5, 5, 6],\n",
       "       [5, 9, 7, 7, 5],\n",
       "       [9, 9, 8, 9, 5],\n",
       "       [7, 8, 8, 6, 9]])"
      ]
     },
     "execution_count": 32,
     "metadata": {},
     "output_type": "execute_result"
    }
   ],
   "source": [
    "np.random.randint(5, 10, size=(5, 5))"
   ]
  },
  {
   "cell_type": "code",
   "execution_count": 33,
   "id": "b8104460",
   "metadata": {},
   "outputs": [
    {
     "data": {
      "text/plain": [
       "array([[ True,  True,  True, False,  True],\n",
       "       [ True,  True, False,  True, False],\n",
       "       [False,  True,  True, False,  True],\n",
       "       [False,  True,  True,  True,  True],\n",
       "       [ True,  True,  True,  True,  True]])"
      ]
     },
     "execution_count": 33,
     "metadata": {},
     "output_type": "execute_result"
    }
   ],
   "source": [
    "np.random.randint(5, 10, size=(5, 5)) > 5"
   ]
  },
  {
   "cell_type": "markdown",
   "id": "a97bbe9a",
   "metadata": {},
   "source": [
    "Методи armin, argmax, argsort"
   ]
  },
  {
   "cell_type": "code",
   "execution_count": 60,
   "id": "b87595c9",
   "metadata": {},
   "outputs": [
    {
     "data": {
      "text/plain": [
       "array([  0,   5,  10,  15,  20,  25,  30,  35,  40,  45,  50,  55,  60,\n",
       "        65,  70,  75,  80,  85,  90,  95, 100, 105, 110, 115, 120, 125,\n",
       "       130])"
      ]
     },
     "execution_count": 60,
     "metadata": {},
     "output_type": "execute_result"
    }
   ],
   "source": [
    "a = np.arange(27)*5\n",
    "a"
   ]
  },
  {
   "cell_type": "code",
   "execution_count": 61,
   "id": "45a0a5da",
   "metadata": {},
   "outputs": [
    {
     "data": {
      "text/plain": [
       "0"
      ]
     },
     "execution_count": 61,
     "metadata": {},
     "output_type": "execute_result"
    }
   ],
   "source": [
    "np.argmin(a)"
   ]
  },
  {
   "cell_type": "code",
   "execution_count": 62,
   "id": "4dff820f",
   "metadata": {},
   "outputs": [
    {
     "data": {
      "text/plain": [
       "26"
      ]
     },
     "execution_count": 62,
     "metadata": {},
     "output_type": "execute_result"
    }
   ],
   "source": [
    "np.argmax(a)"
   ]
  },
  {
   "cell_type": "code",
   "execution_count": 63,
   "id": "2a75aa33",
   "metadata": {},
   "outputs": [
    {
     "data": {
      "text/plain": [
       "array([ 0,  1,  2,  3,  4,  5,  6,  7,  8,  9, 10, 11, 12, 13, 14, 15, 16,\n",
       "       17, 18, 19, 20, 21, 22, 23, 24, 25, 26], dtype=int64)"
      ]
     },
     "execution_count": 63,
     "metadata": {},
     "output_type": "execute_result"
    }
   ],
   "source": [
    "np.argsort(a)"
   ]
  },
  {
   "cell_type": "code",
   "execution_count": 69,
   "id": "99aee401",
   "metadata": {},
   "outputs": [
    {
     "data": {
      "text/plain": [
       "array([[59, 83, 88, 74, 98],\n",
       "       [27, 46, 35, 59, 87],\n",
       "       [68, 88, 88, 28, 16],\n",
       "       [22, 89, 24, 24, 76],\n",
       "       [46, 38, 97, 32, 86]])"
      ]
     },
     "execution_count": 69,
     "metadata": {},
     "output_type": "execute_result"
    }
   ],
   "source": [
    "randin_arr = np.random.randint(10, 100, size=(5, 5))\n",
    "randin_arr"
   ]
  },
  {
   "cell_type": "code",
   "execution_count": 74,
   "id": "ce49bfde",
   "metadata": {},
   "outputs": [
    {
     "data": {
      "text/plain": [
       "array([3, 4, 3, 3, 2], dtype=int64)"
      ]
     },
     "execution_count": 74,
     "metadata": {},
     "output_type": "execute_result"
    }
   ],
   "source": [
    "randin_arr.argmin(axis=0)"
   ]
  },
  {
   "cell_type": "code",
   "execution_count": 75,
   "id": "010c5051",
   "metadata": {},
   "outputs": [
    {
     "data": {
      "text/plain": [
       "array([0, 0, 4, 0, 3], dtype=int64)"
      ]
     },
     "execution_count": 75,
     "metadata": {},
     "output_type": "execute_result"
    }
   ],
   "source": [
    "randin_arr.argmin(axis=1)"
   ]
  },
  {
   "cell_type": "code",
   "execution_count": 76,
   "id": "ad6b3a48",
   "metadata": {},
   "outputs": [
    {
     "data": {
      "text/plain": [
       "array([2, 3, 4, 0, 0], dtype=int64)"
      ]
     },
     "execution_count": 76,
     "metadata": {},
     "output_type": "execute_result"
    }
   ],
   "source": [
    "randin_arr.argmax(axis=0)"
   ]
  },
  {
   "cell_type": "code",
   "execution_count": 77,
   "id": "fd144269",
   "metadata": {},
   "outputs": [
    {
     "data": {
      "text/plain": [
       "array([4, 4, 1, 1, 2], dtype=int64)"
      ]
     },
     "execution_count": 77,
     "metadata": {},
     "output_type": "execute_result"
    }
   ],
   "source": [
    "randin_arr.argmax(axis=1)"
   ]
  },
  {
   "cell_type": "code",
   "execution_count": 80,
   "id": "c75b295f",
   "metadata": {},
   "outputs": [
    {
     "data": {
      "text/plain": [
       "array([[3, 4, 3, 3, 2],\n",
       "       [1, 1, 1, 2, 3],\n",
       "       [4, 0, 0, 4, 4],\n",
       "       [0, 2, 2, 1, 1],\n",
       "       [2, 3, 4, 0, 0]], dtype=int64)"
      ]
     },
     "execution_count": 80,
     "metadata": {},
     "output_type": "execute_result"
    }
   ],
   "source": [
    "randin_arr.argsort(axis = 0)"
   ]
  },
  {
   "cell_type": "code",
   "execution_count": 81,
   "id": "1a5ccb06",
   "metadata": {},
   "outputs": [
    {
     "data": {
      "text/plain": [
       "array([[0, 3, 1, 2, 4],\n",
       "       [0, 2, 1, 3, 4],\n",
       "       [4, 3, 0, 1, 2],\n",
       "       [0, 2, 3, 4, 1],\n",
       "       [3, 1, 0, 4, 2]], dtype=int64)"
      ]
     },
     "execution_count": 81,
     "metadata": {},
     "output_type": "execute_result"
    }
   ],
   "source": [
    "randin_arr.argsort(axis = 1)"
   ]
  },
  {
   "cell_type": "code",
   "execution_count": 82,
   "id": "c9b008f4",
   "metadata": {},
   "outputs": [
    {
     "data": {
      "text/plain": [
       "array([[0, 3, 1, 2, 4],\n",
       "       [0, 2, 1, 3, 4],\n",
       "       [4, 3, 0, 1, 2],\n",
       "       [0, 2, 3, 4, 1],\n",
       "       [3, 1, 0, 4, 2]], dtype=int64)"
      ]
     },
     "execution_count": 82,
     "metadata": {},
     "output_type": "execute_result"
    }
   ],
   "source": [
    "randin_arr.argsort()"
   ]
  },
  {
   "cell_type": "markdown",
   "id": "58a6f6d9",
   "metadata": {},
   "source": [
    "Percentile (Процентиль)"
   ]
  },
  {
   "cell_type": "code",
   "execution_count": 83,
   "id": "8c7c2e2c",
   "metadata": {},
   "outputs": [
    {
     "data": {
      "text/plain": [
       "array([   5,    1,    5,    6,    6,    9,    3,    7,    8,    1,    5,\n",
       "          3,    8,    6,    7,    8,    2,    4,    3,    9, 1000])"
      ]
     },
     "execution_count": 83,
     "metadata": {},
     "output_type": "execute_result"
    }
   ],
   "source": [
    "randint_arr = np.array([*np.random.randint(0, 10, size=20), 1000])\n",
    "randint_arr"
   ]
  },
  {
   "cell_type": "code",
   "execution_count": 85,
   "id": "3917e200",
   "metadata": {},
   "outputs": [
    {
     "data": {
      "text/plain": [
       "2.0"
      ]
     },
     "execution_count": 85,
     "metadata": {},
     "output_type": "execute_result"
    }
   ],
   "source": [
    "np.percentile(randint_arr, 10)"
   ]
  },
  {
   "cell_type": "code",
   "execution_count": 86,
   "id": "c163c22e",
   "metadata": {},
   "outputs": [
    {
     "data": {
      "text/plain": [
       "8.0"
      ]
     },
     "execution_count": 86,
     "metadata": {},
     "output_type": "execute_result"
    }
   ],
   "source": [
    "np.percentile(randint_arr, 75)"
   ]
  },
  {
   "cell_type": "code",
   "execution_count": 87,
   "id": "244eff5d",
   "metadata": {},
   "outputs": [
    {
     "data": {
      "text/plain": [
       "6.0"
      ]
     },
     "execution_count": 87,
     "metadata": {},
     "output_type": "execute_result"
    }
   ],
   "source": [
    "np.percentile(randint_arr, 50)"
   ]
  },
  {
   "cell_type": "code",
   "execution_count": 89,
   "id": "ba890b00",
   "metadata": {},
   "outputs": [
    {
     "data": {
      "text/plain": [
       "6.0"
      ]
     },
     "execution_count": 89,
     "metadata": {},
     "output_type": "execute_result"
    }
   ],
   "source": [
    "np.median(randint_arr)"
   ]
  },
  {
   "cell_type": "code",
   "execution_count": 90,
   "id": "6dde07ab",
   "metadata": {},
   "outputs": [
    {
     "data": {
      "text/plain": [
       "1000.0"
      ]
     },
     "execution_count": 90,
     "metadata": {},
     "output_type": "execute_result"
    }
   ],
   "source": [
    "np.percentile(randint_arr, 100)"
   ]
  },
  {
   "cell_type": "code",
   "execution_count": 91,
   "id": "d854160b",
   "metadata": {},
   "outputs": [
    {
     "data": {
      "text/plain": [
       "array([5, 1, 5, 6, 6, 9, 3, 7, 8, 1, 5, 3, 8, 6, 7, 8, 2, 4, 3, 9])"
      ]
     },
     "execution_count": 91,
     "metadata": {},
     "output_type": "execute_result"
    }
   ],
   "source": [
    "randint_arr[randint_arr <= np.percentile(randint_arr, 99)]"
   ]
  },
  {
   "cell_type": "code",
   "execution_count": 92,
   "id": "aaac1e85",
   "metadata": {},
   "outputs": [
    {
     "data": {
      "text/plain": [
       "array([   1,    3,    7,    6,    8,    4,    3,    5,    4,    8,    5,\n",
       "          4,    0,    4,    6,    6,    2,    4,    6,    1, 1000, 1000,\n",
       "       1000, 1000])"
      ]
     },
     "execution_count": 92,
     "metadata": {},
     "output_type": "execute_result"
    }
   ],
   "source": [
    "randint_arr2 = np.array([*np.random.randint(0, 10, size=20), 1000, 1000, 1000, 1000])\n",
    "randint_arr2"
   ]
  },
  {
   "cell_type": "code",
   "execution_count": 93,
   "id": "01a6c80f",
   "metadata": {},
   "outputs": [
    {
     "data": {
      "text/plain": [
       "array([   1,    3,    7,    6,    8,    4,    3,    5,    4,    8,    5,\n",
       "          4,    0,    4,    6,    6,    2,    4,    6,    1, 1000, 1000,\n",
       "       1000, 1000])"
      ]
     },
     "execution_count": 93,
     "metadata": {},
     "output_type": "execute_result"
    }
   ],
   "source": [
    "randint_arr2[randint_arr2 <= np.percentile(randint_arr2, 99)]"
   ]
  },
  {
   "cell_type": "code",
   "execution_count": 99,
   "id": "818448f9",
   "metadata": {},
   "outputs": [
    {
     "data": {
      "text/plain": [
       "array([0, 1, 2, 3, 4, 5, 6, 7, 8, 9])"
      ]
     },
     "execution_count": 99,
     "metadata": {},
     "output_type": "execute_result"
    }
   ],
   "source": [
    "x = np.arange(10)\n",
    "x"
   ]
  },
  {
   "cell_type": "code",
   "execution_count": 100,
   "id": "806cd704",
   "metadata": {},
   "outputs": [],
   "source": [
    "np.save('array_file.npy', x)"
   ]
  },
  {
   "cell_type": "code",
   "execution_count": 101,
   "id": "b30bb6b5",
   "metadata": {},
   "outputs": [
    {
     "data": {
      "text/plain": [
       "array([0, 1, 2, 3, 4, 5, 6, 7, 8, 9])"
      ]
     },
     "execution_count": 101,
     "metadata": {},
     "output_type": "execute_result"
    }
   ],
   "source": [
    "y = np.load('array_file.npy')\n",
    "y # "
   ]
  },
  {
   "cell_type": "markdown",
   "id": "b5419cc4",
   "metadata": {},
   "source": [
    "Обов'язково при завантаженні вказувати розширення npy. Завантажує в бінарних даних"
   ]
  },
  {
   "cell_type": "code",
   "execution_count": null,
   "id": "3c81d79b",
   "metadata": {},
   "outputs": [],
   "source": []
  }
 ],
 "metadata": {
  "kernelspec": {
   "display_name": "Python 3 (ipykernel)",
   "language": "python",
   "name": "python3"
  },
  "language_info": {
   "codemirror_mode": {
    "name": "ipython",
    "version": 3
   },
   "file_extension": ".py",
   "mimetype": "text/x-python",
   "name": "python",
   "nbconvert_exporter": "python",
   "pygments_lexer": "ipython3",
   "version": "3.10.0"
  }
 },
 "nbformat": 4,
 "nbformat_minor": 5
}
