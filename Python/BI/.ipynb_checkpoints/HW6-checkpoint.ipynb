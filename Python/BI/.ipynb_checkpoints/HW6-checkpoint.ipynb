{
 "cells": [
  {
   "cell_type": "code",
   "execution_count": 1,
   "id": "1ff7ce7a-e075-44c0-a935-6cf9419cd931",
   "metadata": {},
   "outputs": [],
   "source": [
    "items = ['1', '2', '3', '4', '5']"
   ]
  },
  {
   "cell_type": "code",
   "execution_count": 8,
   "id": "c61c44ba-7eb3-4997-9d71-2469fb3fee02",
   "metadata": {},
   "outputs": [],
   "source": [
    "def is_near(items_list, x, y):\n",
    "    return abs(items_list.index(x) - items_list.index(y)) == 1"
   ]
  },
  {
   "cell_type": "code",
   "execution_count": 12,
   "id": "3e57480c-00ba-48b5-a2e7-498291d5e9bb",
   "metadata": {},
   "outputs": [],
   "source": [
    "def is_not_near(items_list, x, y):\n",
    "    return not is_near(items_list, x, y)"
   ]
  },
  {
   "cell_type": "code",
   "execution_count": 13,
   "id": "f64a8f57-c5cf-49e8-bd64-b4326334ba7f",
   "metadata": {},
   "outputs": [],
   "source": [
    "rules = [\n",
    "    ('1', '2', is_not_near),\n",
    "    ('1', '3', is_near),\n",
    "]"
   ]
  },
  {
   "cell_type": "code",
   "execution_count": 23,
   "id": "9a7c2b1d-292b-4b17-8b86-54a96b40c082",
   "metadata": {},
   "outputs": [],
   "source": [
    "def is_valid_by_rules(items_list, list_rules):\n",
    "    for rule in list_rules:\n",
    "        item_1 = rule[0]\n",
    "        item_2 = rule[1]\n",
    "        check = rule[2]\n",
    "        \n",
    "        if not check(items_list, item_1, item_2):\n",
    "            return False\n",
    "        \n",
    "    return True"
   ]
  },
  {
   "cell_type": "code",
   "execution_count": 15,
   "id": "10549de8-838f-4515-8d96-2bcb3876252f",
   "metadata": {},
   "outputs": [],
   "source": [
    "from itertools import permutations"
   ]
  },
  {
   "cell_type": "code",
   "execution_count": 26,
   "id": "cd6b9963-85d6-46d0-8ab8-5b04c0f04e5f",
   "metadata": {},
   "outputs": [],
   "source": [
    "p = permutations(items)"
   ]
  },
  {
   "cell_type": "code",
   "execution_count": 27,
   "id": "54b1e1e2-9f38-4854-b957-3ba0309d6bf5",
   "metadata": {},
   "outputs": [
    {
     "data": {
      "text/plain": [
       "[('1', '3', '2', '4', '5'),\n",
       " ('1', '3', '2', '5', '4'),\n",
       " ('1', '3', '4', '2', '5'),\n",
       " ('1', '3', '4', '5', '2'),\n",
       " ('1', '3', '5', '2', '4'),\n",
       " ('1', '3', '5', '4', '2'),\n",
       " ('2', '3', '1', '4', '5'),\n",
       " ('2', '3', '1', '5', '4'),\n",
       " ('2', '4', '1', '3', '5'),\n",
       " ('2', '4', '3', '1', '5'),\n",
       " ('2', '4', '5', '1', '3'),\n",
       " ('2', '4', '5', '3', '1'),\n",
       " ('2', '5', '1', '3', '4'),\n",
       " ('2', '5', '3', '1', '4'),\n",
       " ('2', '5', '4', '1', '3'),\n",
       " ('2', '5', '4', '3', '1'),\n",
       " ('3', '1', '4', '2', '5'),\n",
       " ('3', '1', '4', '5', '2'),\n",
       " ('3', '1', '5', '2', '4'),\n",
       " ('3', '1', '5', '4', '2'),\n",
       " ('4', '1', '3', '2', '5'),\n",
       " ('4', '1', '3', '5', '2'),\n",
       " ('4', '2', '3', '1', '5'),\n",
       " ('4', '2', '5', '1', '3'),\n",
       " ('4', '2', '5', '3', '1'),\n",
       " ('4', '3', '1', '5', '2'),\n",
       " ('4', '5', '1', '3', '2'),\n",
       " ('4', '5', '2', '3', '1'),\n",
       " ('5', '1', '3', '2', '4'),\n",
       " ('5', '1', '3', '4', '2'),\n",
       " ('5', '2', '3', '1', '4'),\n",
       " ('5', '2', '4', '1', '3'),\n",
       " ('5', '2', '4', '3', '1'),\n",
       " ('5', '3', '1', '4', '2'),\n",
       " ('5', '4', '1', '3', '2'),\n",
       " ('5', '4', '2', '3', '1')]"
      ]
     },
     "execution_count": 27,
     "metadata": {},
     "output_type": "execute_result"
    }
   ],
   "source": [
    "results = []\n",
    "\n",
    "for variant in p:\n",
    "    if is_valid_by_rules(variant, rules):\n",
    "        results.append(variant)\n",
    "        \n",
    "results"
   ]
  },
  {
   "cell_type": "code",
   "execution_count": null,
   "id": "59afe9f8-e8c5-41a8-855f-f1cea731165b",
   "metadata": {},
   "outputs": [],
   "source": []
  }
 ],
 "metadata": {
  "kernelspec": {
   "display_name": "Python 3 (ipykernel)",
   "language": "python",
   "name": "python3"
  },
  "language_info": {
   "codemirror_mode": {
    "name": "ipython",
    "version": 3
   },
   "file_extension": ".py",
   "mimetype": "text/x-python",
   "name": "python",
   "nbconvert_exporter": "python",
   "pygments_lexer": "ipython3",
   "version": "3.10.0"
  }
 },
 "nbformat": 4,
 "nbformat_minor": 5
}
