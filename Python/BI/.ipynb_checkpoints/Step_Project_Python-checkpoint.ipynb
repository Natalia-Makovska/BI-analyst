{
 "cells": [
  {
   "cell_type": "code",
   "execution_count": 1,
   "id": "4e9a21bf",
   "metadata": {},
   "outputs": [],
   "source": [
    "import numpy as np\n",
    "import pandas as pd\n",
    "import matplotlib.pyplot as plt\n",
    "import seaborn as sns\n",
    "from sklearn.preprocessing import LabelEncoder"
   ]
  },
  {
   "cell_type": "code",
   "execution_count": 2,
   "id": "2ae13cbf",
   "metadata": {},
   "outputs": [],
   "source": [
    "link = \"https://raw.githubusercontent.com/rfordatascience/tidytuesday/master/data/2020/2020-11-03/ikea.csv\""
   ]
  },
  {
   "cell_type": "code",
   "execution_count": 3,
   "id": "2ff22003",
   "metadata": {
    "scrolled": false
   },
   "outputs": [
    {
     "data": {
      "text/html": [
       "<div>\n",
       "<style scoped>\n",
       "    .dataframe tbody tr th:only-of-type {\n",
       "        vertical-align: middle;\n",
       "    }\n",
       "\n",
       "    .dataframe tbody tr th {\n",
       "        vertical-align: top;\n",
       "    }\n",
       "\n",
       "    .dataframe thead th {\n",
       "        text-align: right;\n",
       "    }\n",
       "</style>\n",
       "<table border=\"1\" class=\"dataframe\">\n",
       "  <thead>\n",
       "    <tr style=\"text-align: right;\">\n",
       "      <th></th>\n",
       "      <th>Unnamed: 0</th>\n",
       "      <th>item_id</th>\n",
       "      <th>name</th>\n",
       "      <th>category</th>\n",
       "      <th>price</th>\n",
       "      <th>old_price</th>\n",
       "      <th>sellable_online</th>\n",
       "      <th>link</th>\n",
       "      <th>other_colors</th>\n",
       "      <th>short_description</th>\n",
       "      <th>designer</th>\n",
       "      <th>depth</th>\n",
       "      <th>height</th>\n",
       "      <th>width</th>\n",
       "    </tr>\n",
       "  </thead>\n",
       "  <tbody>\n",
       "    <tr>\n",
       "      <th>0</th>\n",
       "      <td>0</td>\n",
       "      <td>90420332</td>\n",
       "      <td>FREKVENS</td>\n",
       "      <td>Bar furniture</td>\n",
       "      <td>265.0</td>\n",
       "      <td>No old price</td>\n",
       "      <td>True</td>\n",
       "      <td>https://www.ikea.com/sa/en/p/frekvens-bar-tabl...</td>\n",
       "      <td>No</td>\n",
       "      <td>Bar table, in/outdoor,          51x51 cm</td>\n",
       "      <td>Nicholai Wiig Hansen</td>\n",
       "      <td>NaN</td>\n",
       "      <td>99.0</td>\n",
       "      <td>51.0</td>\n",
       "    </tr>\n",
       "    <tr>\n",
       "      <th>1</th>\n",
       "      <td>1</td>\n",
       "      <td>368814</td>\n",
       "      <td>NORDVIKEN</td>\n",
       "      <td>Bar furniture</td>\n",
       "      <td>995.0</td>\n",
       "      <td>No old price</td>\n",
       "      <td>False</td>\n",
       "      <td>https://www.ikea.com/sa/en/p/nordviken-bar-tab...</td>\n",
       "      <td>No</td>\n",
       "      <td>Bar table,          140x80 cm</td>\n",
       "      <td>Francis Cayouette</td>\n",
       "      <td>NaN</td>\n",
       "      <td>105.0</td>\n",
       "      <td>80.0</td>\n",
       "    </tr>\n",
       "    <tr>\n",
       "      <th>2</th>\n",
       "      <td>2</td>\n",
       "      <td>9333523</td>\n",
       "      <td>NORDVIKEN / NORDVIKEN</td>\n",
       "      <td>Bar furniture</td>\n",
       "      <td>2095.0</td>\n",
       "      <td>No old price</td>\n",
       "      <td>False</td>\n",
       "      <td>https://www.ikea.com/sa/en/p/nordviken-nordvik...</td>\n",
       "      <td>No</td>\n",
       "      <td>Bar table and 4 bar stools</td>\n",
       "      <td>Francis Cayouette</td>\n",
       "      <td>NaN</td>\n",
       "      <td>NaN</td>\n",
       "      <td>NaN</td>\n",
       "    </tr>\n",
       "    <tr>\n",
       "      <th>3</th>\n",
       "      <td>3</td>\n",
       "      <td>80155205</td>\n",
       "      <td>STIG</td>\n",
       "      <td>Bar furniture</td>\n",
       "      <td>69.0</td>\n",
       "      <td>No old price</td>\n",
       "      <td>True</td>\n",
       "      <td>https://www.ikea.com/sa/en/p/stig-bar-stool-wi...</td>\n",
       "      <td>Yes</td>\n",
       "      <td>Bar stool with backrest,          74 cm</td>\n",
       "      <td>Henrik Preutz</td>\n",
       "      <td>50.0</td>\n",
       "      <td>100.0</td>\n",
       "      <td>60.0</td>\n",
       "    </tr>\n",
       "    <tr>\n",
       "      <th>4</th>\n",
       "      <td>4</td>\n",
       "      <td>30180504</td>\n",
       "      <td>NORBERG</td>\n",
       "      <td>Bar furniture</td>\n",
       "      <td>225.0</td>\n",
       "      <td>No old price</td>\n",
       "      <td>True</td>\n",
       "      <td>https://www.ikea.com/sa/en/p/norberg-wall-moun...</td>\n",
       "      <td>No</td>\n",
       "      <td>Wall-mounted drop-leaf table,         ...</td>\n",
       "      <td>Marcus Arvonen</td>\n",
       "      <td>60.0</td>\n",
       "      <td>43.0</td>\n",
       "      <td>74.0</td>\n",
       "    </tr>\n",
       "    <tr>\n",
       "      <th>5</th>\n",
       "      <td>5</td>\n",
       "      <td>10122647</td>\n",
       "      <td>INGOLF</td>\n",
       "      <td>Bar furniture</td>\n",
       "      <td>345.0</td>\n",
       "      <td>No old price</td>\n",
       "      <td>True</td>\n",
       "      <td>https://www.ikea.com/sa/en/p/ingolf-bar-stool-...</td>\n",
       "      <td>No</td>\n",
       "      <td>Bar stool with backrest,          63 cm</td>\n",
       "      <td>Carina Bengs</td>\n",
       "      <td>45.0</td>\n",
       "      <td>91.0</td>\n",
       "      <td>40.0</td>\n",
       "    </tr>\n",
       "    <tr>\n",
       "      <th>6</th>\n",
       "      <td>6</td>\n",
       "      <td>70404875</td>\n",
       "      <td>FRANKLIN</td>\n",
       "      <td>Bar furniture</td>\n",
       "      <td>129.0</td>\n",
       "      <td>No old price</td>\n",
       "      <td>True</td>\n",
       "      <td>https://www.ikea.com/sa/en/p/franklin-bar-stoo...</td>\n",
       "      <td>No</td>\n",
       "      <td>Bar stool with backrest, foldable,    ...</td>\n",
       "      <td>K Hagberg/M Hagberg</td>\n",
       "      <td>44.0</td>\n",
       "      <td>95.0</td>\n",
       "      <td>50.0</td>\n",
       "    </tr>\n",
       "    <tr>\n",
       "      <th>7</th>\n",
       "      <td>7</td>\n",
       "      <td>60155602</td>\n",
       "      <td>DALFRED</td>\n",
       "      <td>Bar furniture</td>\n",
       "      <td>195.0</td>\n",
       "      <td>No old price</td>\n",
       "      <td>True</td>\n",
       "      <td>https://www.ikea.com/sa/en/p/dalfred-bar-stool...</td>\n",
       "      <td>No</td>\n",
       "      <td>Bar stool,          63-74 cm</td>\n",
       "      <td>Sarah Fager</td>\n",
       "      <td>50.0</td>\n",
       "      <td>NaN</td>\n",
       "      <td>50.0</td>\n",
       "    </tr>\n",
       "    <tr>\n",
       "      <th>8</th>\n",
       "      <td>8</td>\n",
       "      <td>50406465</td>\n",
       "      <td>FRANKLIN</td>\n",
       "      <td>Bar furniture</td>\n",
       "      <td>129.0</td>\n",
       "      <td>No old price</td>\n",
       "      <td>True</td>\n",
       "      <td>https://www.ikea.com/sa/en/p/franklin-bar-stoo...</td>\n",
       "      <td>No</td>\n",
       "      <td>Bar stool with backrest, foldable,    ...</td>\n",
       "      <td>K Hagberg/M Hagberg</td>\n",
       "      <td>44.0</td>\n",
       "      <td>95.0</td>\n",
       "      <td>50.0</td>\n",
       "    </tr>\n",
       "    <tr>\n",
       "      <th>9</th>\n",
       "      <td>9</td>\n",
       "      <td>69304221</td>\n",
       "      <td>EKEDALEN / EKEDALEN</td>\n",
       "      <td>Bar furniture</td>\n",
       "      <td>2176.0</td>\n",
       "      <td>SR 2,375</td>\n",
       "      <td>True</td>\n",
       "      <td>https://www.ikea.com/sa/en/p/ekedalen-ekedalen...</td>\n",
       "      <td>No</td>\n",
       "      <td>Bar table and 4 bar stools</td>\n",
       "      <td>Ehlén Johansson</td>\n",
       "      <td>NaN</td>\n",
       "      <td>NaN</td>\n",
       "      <td>NaN</td>\n",
       "    </tr>\n",
       "  </tbody>\n",
       "</table>\n",
       "</div>"
      ],
      "text/plain": [
       "   Unnamed: 0   item_id                   name       category   price  \\\n",
       "0           0  90420332               FREKVENS  Bar furniture   265.0   \n",
       "1           1    368814              NORDVIKEN  Bar furniture   995.0   \n",
       "2           2   9333523  NORDVIKEN / NORDVIKEN  Bar furniture  2095.0   \n",
       "3           3  80155205                   STIG  Bar furniture    69.0   \n",
       "4           4  30180504                NORBERG  Bar furniture   225.0   \n",
       "5           5  10122647                 INGOLF  Bar furniture   345.0   \n",
       "6           6  70404875               FRANKLIN  Bar furniture   129.0   \n",
       "7           7  60155602                DALFRED  Bar furniture   195.0   \n",
       "8           8  50406465               FRANKLIN  Bar furniture   129.0   \n",
       "9           9  69304221    EKEDALEN / EKEDALEN  Bar furniture  2176.0   \n",
       "\n",
       "      old_price  sellable_online  \\\n",
       "0  No old price             True   \n",
       "1  No old price            False   \n",
       "2  No old price            False   \n",
       "3  No old price             True   \n",
       "4  No old price             True   \n",
       "5  No old price             True   \n",
       "6  No old price             True   \n",
       "7  No old price             True   \n",
       "8  No old price             True   \n",
       "9      SR 2,375             True   \n",
       "\n",
       "                                                link other_colors  \\\n",
       "0  https://www.ikea.com/sa/en/p/frekvens-bar-tabl...           No   \n",
       "1  https://www.ikea.com/sa/en/p/nordviken-bar-tab...           No   \n",
       "2  https://www.ikea.com/sa/en/p/nordviken-nordvik...           No   \n",
       "3  https://www.ikea.com/sa/en/p/stig-bar-stool-wi...          Yes   \n",
       "4  https://www.ikea.com/sa/en/p/norberg-wall-moun...           No   \n",
       "5  https://www.ikea.com/sa/en/p/ingolf-bar-stool-...           No   \n",
       "6  https://www.ikea.com/sa/en/p/franklin-bar-stoo...           No   \n",
       "7  https://www.ikea.com/sa/en/p/dalfred-bar-stool...           No   \n",
       "8  https://www.ikea.com/sa/en/p/franklin-bar-stoo...           No   \n",
       "9  https://www.ikea.com/sa/en/p/ekedalen-ekedalen...           No   \n",
       "\n",
       "                                   short_description              designer  \\\n",
       "0           Bar table, in/outdoor,          51x51 cm  Nicholai Wiig Hansen   \n",
       "1                      Bar table,          140x80 cm     Francis Cayouette   \n",
       "2                         Bar table and 4 bar stools     Francis Cayouette   \n",
       "3            Bar stool with backrest,          74 cm         Henrik Preutz   \n",
       "4          Wall-mounted drop-leaf table,         ...        Marcus Arvonen   \n",
       "5            Bar stool with backrest,          63 cm          Carina Bengs   \n",
       "6          Bar stool with backrest, foldable,    ...   K Hagberg/M Hagberg   \n",
       "7                       Bar stool,          63-74 cm           Sarah Fager   \n",
       "8          Bar stool with backrest, foldable,    ...   K Hagberg/M Hagberg   \n",
       "9                         Bar table and 4 bar stools       Ehlén Johansson   \n",
       "\n",
       "   depth  height  width  \n",
       "0    NaN    99.0   51.0  \n",
       "1    NaN   105.0   80.0  \n",
       "2    NaN     NaN    NaN  \n",
       "3   50.0   100.0   60.0  \n",
       "4   60.0    43.0   74.0  \n",
       "5   45.0    91.0   40.0  \n",
       "6   44.0    95.0   50.0  \n",
       "7   50.0     NaN   50.0  \n",
       "8   44.0    95.0   50.0  \n",
       "9    NaN     NaN    NaN  "
      ]
     },
     "execution_count": 3,
     "metadata": {},
     "output_type": "execute_result"
    }
   ],
   "source": [
    "ikea_df = pd.read_csv(link)\n",
    "ikea_df.head(10)"
   ]
  },
  {
   "cell_type": "markdown",
   "id": "4477297e",
   "metadata": {},
   "source": [
    "I. Виведемо загальну інформацію про датасет"
   ]
  },
  {
   "cell_type": "code",
   "execution_count": 4,
   "id": "1385054f",
   "metadata": {
    "scrolled": false
   },
   "outputs": [
    {
     "name": "stdout",
     "output_type": "stream",
     "text": [
      "<class 'pandas.core.frame.DataFrame'>\n",
      "RangeIndex: 3694 entries, 0 to 3693\n",
      "Data columns (total 14 columns):\n",
      " #   Column             Non-Null Count  Dtype  \n",
      "---  ------             --------------  -----  \n",
      " 0   Unnamed: 0         3694 non-null   int64  \n",
      " 1   item_id            3694 non-null   int64  \n",
      " 2   name               3694 non-null   object \n",
      " 3   category           3694 non-null   object \n",
      " 4   price              3694 non-null   float64\n",
      " 5   old_price          3694 non-null   object \n",
      " 6   sellable_online    3694 non-null   bool   \n",
      " 7   link               3694 non-null   object \n",
      " 8   other_colors       3694 non-null   object \n",
      " 9   short_description  3694 non-null   object \n",
      " 10  designer           3694 non-null   object \n",
      " 11  depth              2231 non-null   float64\n",
      " 12  height             2706 non-null   float64\n",
      " 13  width              3105 non-null   float64\n",
      "dtypes: bool(1), float64(4), int64(2), object(7)\n",
      "memory usage: 378.9+ KB\n"
     ]
    }
   ],
   "source": [
    "ikea_df.info()"
   ]
  },
  {
   "cell_type": "code",
   "execution_count": 5,
   "id": "897d9d04",
   "metadata": {
    "scrolled": true
   },
   "outputs": [
    {
     "data": {
      "text/html": [
       "<div>\n",
       "<style scoped>\n",
       "    .dataframe tbody tr th:only-of-type {\n",
       "        vertical-align: middle;\n",
       "    }\n",
       "\n",
       "    .dataframe tbody tr th {\n",
       "        vertical-align: top;\n",
       "    }\n",
       "\n",
       "    .dataframe thead th {\n",
       "        text-align: right;\n",
       "    }\n",
       "</style>\n",
       "<table border=\"1\" class=\"dataframe\">\n",
       "  <thead>\n",
       "    <tr style=\"text-align: right;\">\n",
       "      <th></th>\n",
       "      <th>Unnamed: 0</th>\n",
       "      <th>item_id</th>\n",
       "      <th>price</th>\n",
       "      <th>depth</th>\n",
       "      <th>height</th>\n",
       "      <th>width</th>\n",
       "    </tr>\n",
       "  </thead>\n",
       "  <tbody>\n",
       "    <tr>\n",
       "      <th>count</th>\n",
       "      <td>3694.000000</td>\n",
       "      <td>3.694000e+03</td>\n",
       "      <td>3694.000000</td>\n",
       "      <td>2231.000000</td>\n",
       "      <td>2706.000000</td>\n",
       "      <td>3105.000000</td>\n",
       "    </tr>\n",
       "    <tr>\n",
       "      <th>mean</th>\n",
       "      <td>1846.500000</td>\n",
       "      <td>4.863240e+07</td>\n",
       "      <td>1078.208419</td>\n",
       "      <td>54.379202</td>\n",
       "      <td>101.679970</td>\n",
       "      <td>104.470853</td>\n",
       "    </tr>\n",
       "    <tr>\n",
       "      <th>std</th>\n",
       "      <td>1066.510275</td>\n",
       "      <td>2.888709e+07</td>\n",
       "      <td>1374.652494</td>\n",
       "      <td>29.958351</td>\n",
       "      <td>61.097585</td>\n",
       "      <td>71.133771</td>\n",
       "    </tr>\n",
       "    <tr>\n",
       "      <th>min</th>\n",
       "      <td>0.000000</td>\n",
       "      <td>5.848700e+04</td>\n",
       "      <td>3.000000</td>\n",
       "      <td>1.000000</td>\n",
       "      <td>1.000000</td>\n",
       "      <td>1.000000</td>\n",
       "    </tr>\n",
       "    <tr>\n",
       "      <th>25%</th>\n",
       "      <td>923.250000</td>\n",
       "      <td>2.039057e+07</td>\n",
       "      <td>180.900000</td>\n",
       "      <td>38.000000</td>\n",
       "      <td>67.000000</td>\n",
       "      <td>60.000000</td>\n",
       "    </tr>\n",
       "    <tr>\n",
       "      <th>50%</th>\n",
       "      <td>1846.500000</td>\n",
       "      <td>4.928808e+07</td>\n",
       "      <td>544.700000</td>\n",
       "      <td>47.000000</td>\n",
       "      <td>83.000000</td>\n",
       "      <td>80.000000</td>\n",
       "    </tr>\n",
       "    <tr>\n",
       "      <th>75%</th>\n",
       "      <td>2769.750000</td>\n",
       "      <td>7.040357e+07</td>\n",
       "      <td>1429.500000</td>\n",
       "      <td>60.000000</td>\n",
       "      <td>124.000000</td>\n",
       "      <td>140.000000</td>\n",
       "    </tr>\n",
       "    <tr>\n",
       "      <th>max</th>\n",
       "      <td>3693.000000</td>\n",
       "      <td>9.993262e+07</td>\n",
       "      <td>9585.000000</td>\n",
       "      <td>257.000000</td>\n",
       "      <td>700.000000</td>\n",
       "      <td>420.000000</td>\n",
       "    </tr>\n",
       "  </tbody>\n",
       "</table>\n",
       "</div>"
      ],
      "text/plain": [
       "        Unnamed: 0       item_id        price        depth       height  \\\n",
       "count  3694.000000  3.694000e+03  3694.000000  2231.000000  2706.000000   \n",
       "mean   1846.500000  4.863240e+07  1078.208419    54.379202   101.679970   \n",
       "std    1066.510275  2.888709e+07  1374.652494    29.958351    61.097585   \n",
       "min       0.000000  5.848700e+04     3.000000     1.000000     1.000000   \n",
       "25%     923.250000  2.039057e+07   180.900000    38.000000    67.000000   \n",
       "50%    1846.500000  4.928808e+07   544.700000    47.000000    83.000000   \n",
       "75%    2769.750000  7.040357e+07  1429.500000    60.000000   124.000000   \n",
       "max    3693.000000  9.993262e+07  9585.000000   257.000000   700.000000   \n",
       "\n",
       "             width  \n",
       "count  3105.000000  \n",
       "mean    104.470853  \n",
       "std      71.133771  \n",
       "min       1.000000  \n",
       "25%      60.000000  \n",
       "50%      80.000000  \n",
       "75%     140.000000  \n",
       "max     420.000000  "
      ]
     },
     "execution_count": 5,
     "metadata": {},
     "output_type": "execute_result"
    }
   ],
   "source": [
    "ikea_df.describe()"
   ]
  },
  {
   "cell_type": "markdown",
   "id": "2376eda4",
   "metadata": {},
   "source": [
    "Приберемо із таблиці зайву інформацію. Відсортуємо датасет за ціною"
   ]
  },
  {
   "cell_type": "code",
   "execution_count": 6,
   "id": "1e108b44",
   "metadata": {
    "scrolled": false
   },
   "outputs": [
    {
     "data": {
      "text/html": [
       "<div>\n",
       "<style scoped>\n",
       "    .dataframe tbody tr th:only-of-type {\n",
       "        vertical-align: middle;\n",
       "    }\n",
       "\n",
       "    .dataframe tbody tr th {\n",
       "        vertical-align: top;\n",
       "    }\n",
       "\n",
       "    .dataframe thead th {\n",
       "        text-align: right;\n",
       "    }\n",
       "</style>\n",
       "<table border=\"1\" class=\"dataframe\">\n",
       "  <thead>\n",
       "    <tr style=\"text-align: right;\">\n",
       "      <th></th>\n",
       "      <th>category</th>\n",
       "      <th>name</th>\n",
       "      <th>price</th>\n",
       "      <th>sellable_online</th>\n",
       "      <th>designer</th>\n",
       "      <th>depth</th>\n",
       "      <th>height</th>\n",
       "      <th>width</th>\n",
       "    </tr>\n",
       "  </thead>\n",
       "  <tbody>\n",
       "    <tr>\n",
       "      <th>2344</th>\n",
       "      <td>Sofas &amp; armchairs</td>\n",
       "      <td>LIDHULT</td>\n",
       "      <td>9585.0</td>\n",
       "      <td>True</td>\n",
       "      <td>Henrik Preutz/IKEA of Sweden</td>\n",
       "      <td>164.0</td>\n",
       "      <td>102.0</td>\n",
       "      <td>387.0</td>\n",
       "    </tr>\n",
       "    <tr>\n",
       "      <th>190</th>\n",
       "      <td>Beds</td>\n",
       "      <td>LIDHULT</td>\n",
       "      <td>9585.0</td>\n",
       "      <td>True</td>\n",
       "      <td>Henrik Preutz/IKEA of Sweden</td>\n",
       "      <td>164.0</td>\n",
       "      <td>102.0</td>\n",
       "      <td>387.0</td>\n",
       "    </tr>\n",
       "    <tr>\n",
       "      <th>2559</th>\n",
       "      <td>Sofas &amp; armchairs</td>\n",
       "      <td>GRÖNLID</td>\n",
       "      <td>8900.0</td>\n",
       "      <td>True</td>\n",
       "      <td>Francis Cayouette</td>\n",
       "      <td>252.0</td>\n",
       "      <td>104.0</td>\n",
       "      <td>327.0</td>\n",
       "    </tr>\n",
       "    <tr>\n",
       "      <th>118</th>\n",
       "      <td>Beds</td>\n",
       "      <td>KONGSFJORD</td>\n",
       "      <td>8551.0</td>\n",
       "      <td>True</td>\n",
       "      <td>Ola Wihlborg/IKEA of Sweden/Synnöve Mork</td>\n",
       "      <td>NaN</td>\n",
       "      <td>135.0</td>\n",
       "      <td>180.0</td>\n",
       "    </tr>\n",
       "    <tr>\n",
       "      <th>2455</th>\n",
       "      <td>Sofas &amp; armchairs</td>\n",
       "      <td>LANDSKRONA</td>\n",
       "      <td>8495.0</td>\n",
       "      <td>True</td>\n",
       "      <td>IKEA of Sweden/Tord Björklund</td>\n",
       "      <td>NaN</td>\n",
       "      <td>78.0</td>\n",
       "      <td>360.0</td>\n",
       "    </tr>\n",
       "    <tr>\n",
       "      <th>2387</th>\n",
       "      <td>Sofas &amp; armchairs</td>\n",
       "      <td>VIMLE</td>\n",
       "      <td>8395.0</td>\n",
       "      <td>True</td>\n",
       "      <td>Ehlén Johansson</td>\n",
       "      <td>249.0</td>\n",
       "      <td>83.0</td>\n",
       "      <td>327.0</td>\n",
       "    </tr>\n",
       "    <tr>\n",
       "      <th>3522</th>\n",
       "      <td>Wardrobes</td>\n",
       "      <td>PAX</td>\n",
       "      <td>8380.0</td>\n",
       "      <td>True</td>\n",
       "      <td>Ehlén Johansson/IKEA of Sweden</td>\n",
       "      <td>NaN</td>\n",
       "      <td>236.0</td>\n",
       "      <td>310.0</td>\n",
       "    </tr>\n",
       "    <tr>\n",
       "      <th>205</th>\n",
       "      <td>Beds</td>\n",
       "      <td>KONGSFJORD</td>\n",
       "      <td>8356.0</td>\n",
       "      <td>True</td>\n",
       "      <td>Ola Wihlborg/Synnöve Mork/IKEA of Sweden</td>\n",
       "      <td>NaN</td>\n",
       "      <td>135.0</td>\n",
       "      <td>180.0</td>\n",
       "    </tr>\n",
       "    <tr>\n",
       "      <th>2289</th>\n",
       "      <td>Sofas &amp; armchairs</td>\n",
       "      <td>KIVIK</td>\n",
       "      <td>8295.0</td>\n",
       "      <td>True</td>\n",
       "      <td>Ola Wihlborg</td>\n",
       "      <td>257.0</td>\n",
       "      <td>83.0</td>\n",
       "      <td>368.0</td>\n",
       "    </tr>\n",
       "    <tr>\n",
       "      <th>2445</th>\n",
       "      <td>Sofas &amp; armchairs</td>\n",
       "      <td>LIDHULT</td>\n",
       "      <td>8240.0</td>\n",
       "      <td>True</td>\n",
       "      <td>Henrik Preutz</td>\n",
       "      <td>164.0</td>\n",
       "      <td>102.0</td>\n",
       "      <td>367.0</td>\n",
       "    </tr>\n",
       "    <tr>\n",
       "      <th>2414</th>\n",
       "      <td>Sofas &amp; armchairs</td>\n",
       "      <td>VALLENTUNA</td>\n",
       "      <td>7988.0</td>\n",
       "      <td>True</td>\n",
       "      <td>Ehlén Johansson/Fredriksson/L Löwenhielm/Hilland</td>\n",
       "      <td>NaN</td>\n",
       "      <td>84.0</td>\n",
       "      <td>346.0</td>\n",
       "    </tr>\n",
       "    <tr>\n",
       "      <th>2589</th>\n",
       "      <td>Sofas &amp; armchairs</td>\n",
       "      <td>LIDHULT</td>\n",
       "      <td>7873.0</td>\n",
       "      <td>True</td>\n",
       "      <td>Henrik Preutz/IKEA of Sweden</td>\n",
       "      <td>164.0</td>\n",
       "      <td>102.0</td>\n",
       "      <td>298.0</td>\n",
       "    </tr>\n",
       "    <tr>\n",
       "      <th>251</th>\n",
       "      <td>Beds</td>\n",
       "      <td>LIDHULT</td>\n",
       "      <td>7873.0</td>\n",
       "      <td>True</td>\n",
       "      <td>Henrik Preutz/IKEA of Sweden</td>\n",
       "      <td>164.0</td>\n",
       "      <td>102.0</td>\n",
       "      <td>298.0</td>\n",
       "    </tr>\n",
       "    <tr>\n",
       "      <th>146</th>\n",
       "      <td>Beds</td>\n",
       "      <td>VALLENTUNA</td>\n",
       "      <td>7796.0</td>\n",
       "      <td>True</td>\n",
       "      <td>Fredriksson/L Löwenhielm/Hilland/IKEA of Sweden</td>\n",
       "      <td>NaN</td>\n",
       "      <td>84.0</td>\n",
       "      <td>346.0</td>\n",
       "    </tr>\n",
       "    <tr>\n",
       "      <th>2397</th>\n",
       "      <td>Sofas &amp; armchairs</td>\n",
       "      <td>LIDHULT</td>\n",
       "      <td>7785.0</td>\n",
       "      <td>True</td>\n",
       "      <td>IKEA of Sweden/Henrik Preutz</td>\n",
       "      <td>98.0</td>\n",
       "      <td>102.0</td>\n",
       "      <td>294.0</td>\n",
       "    </tr>\n",
       "  </tbody>\n",
       "</table>\n",
       "</div>"
      ],
      "text/plain": [
       "               category        name   price  sellable_online  \\\n",
       "2344  Sofas & armchairs     LIDHULT  9585.0             True   \n",
       "190                Beds     LIDHULT  9585.0             True   \n",
       "2559  Sofas & armchairs     GRÖNLID  8900.0             True   \n",
       "118                Beds  KONGSFJORD  8551.0             True   \n",
       "2455  Sofas & armchairs  LANDSKRONA  8495.0             True   \n",
       "2387  Sofas & armchairs       VIMLE  8395.0             True   \n",
       "3522          Wardrobes         PAX  8380.0             True   \n",
       "205                Beds  KONGSFJORD  8356.0             True   \n",
       "2289  Sofas & armchairs       KIVIK  8295.0             True   \n",
       "2445  Sofas & armchairs     LIDHULT  8240.0             True   \n",
       "2414  Sofas & armchairs  VALLENTUNA  7988.0             True   \n",
       "2589  Sofas & armchairs     LIDHULT  7873.0             True   \n",
       "251                Beds     LIDHULT  7873.0             True   \n",
       "146                Beds  VALLENTUNA  7796.0             True   \n",
       "2397  Sofas & armchairs     LIDHULT  7785.0             True   \n",
       "\n",
       "                                              designer  depth  height  width  \n",
       "2344                      Henrik Preutz/IKEA of Sweden  164.0   102.0  387.0  \n",
       "190                       Henrik Preutz/IKEA of Sweden  164.0   102.0  387.0  \n",
       "2559                                 Francis Cayouette  252.0   104.0  327.0  \n",
       "118           Ola Wihlborg/IKEA of Sweden/Synnöve Mork    NaN   135.0  180.0  \n",
       "2455                     IKEA of Sweden/Tord Björklund    NaN    78.0  360.0  \n",
       "2387                                   Ehlén Johansson  249.0    83.0  327.0  \n",
       "3522                    Ehlén Johansson/IKEA of Sweden    NaN   236.0  310.0  \n",
       "205           Ola Wihlborg/Synnöve Mork/IKEA of Sweden    NaN   135.0  180.0  \n",
       "2289                                      Ola Wihlborg  257.0    83.0  368.0  \n",
       "2445                                     Henrik Preutz  164.0   102.0  367.0  \n",
       "2414  Ehlén Johansson/Fredriksson/L Löwenhielm/Hilland    NaN    84.0  346.0  \n",
       "2589                      Henrik Preutz/IKEA of Sweden  164.0   102.0  298.0  \n",
       "251                       Henrik Preutz/IKEA of Sweden  164.0   102.0  298.0  \n",
       "146    Fredriksson/L Löwenhielm/Hilland/IKEA of Sweden    NaN    84.0  346.0  \n",
       "2397                      IKEA of Sweden/Henrik Preutz   98.0   102.0  294.0  "
      ]
     },
     "execution_count": 6,
     "metadata": {},
     "output_type": "execute_result"
    }
   ],
   "source": [
    "ikea_df_new = ikea_df[[\"category\",\"name\", \"price\", \"sellable_online\",\"designer\", \"depth\", \"height\", \"width\"]]\n",
    "ikea_df_new = ikea_df_new.sort_values('price', ascending=False)\n",
    "ikea_df_new.head(15)"
   ]
  },
  {
   "cell_type": "markdown",
   "id": "26c7961b",
   "metadata": {},
   "source": [
    "Аналіз кількості номенклатури за категоріями. \n",
    "\n",
    "За результатами аналізу ми можемо побачити розподіл номенклатури за категоріями. Визначити категорії з високим і низьким попитом"
   ]
  },
  {
   "cell_type": "code",
   "execution_count": 7,
   "id": "6223e27d",
   "metadata": {},
   "outputs": [
    {
     "data": {
      "text/plain": [
       "(3694, 8)"
      ]
     },
     "execution_count": 7,
     "metadata": {},
     "output_type": "execute_result"
    }
   ],
   "source": [
    "ikea_df_new.shape"
   ]
  },
  {
   "cell_type": "code",
   "execution_count": 8,
   "id": "045ac423",
   "metadata": {},
   "outputs": [
    {
     "name": "stdout",
     "output_type": "stream",
     "text": [
      "База даних містить 607 найменувань\n"
     ]
    }
   ],
   "source": [
    "name_count=len(ikea_df_new['name'].unique())\n",
    "print('База даних містить', name_count, 'найменувань')"
   ]
  },
  {
   "cell_type": "code",
   "execution_count": 9,
   "id": "686c7e6a",
   "metadata": {},
   "outputs": [
    {
     "name": "stdout",
     "output_type": "stream",
     "text": [
      "База даних містить 17 категорій\n"
     ]
    }
   ],
   "source": [
    "category_count=len(ikea_df_new['category'].unique())\n",
    "print('База даних містить', category_count, 'категорій')"
   ]
  },
  {
   "cell_type": "code",
   "execution_count": 10,
   "id": "528129e0",
   "metadata": {},
   "outputs": [
    {
     "data": {
      "text/plain": [
       "Tables & desks                          612\n",
       "Bookcases & shelving units              548\n",
       "Chairs                                  481\n",
       "Sofas & armchairs                       428\n",
       "Cabinets & cupboards                    292\n",
       "Wardrobes                               236\n",
       "Outdoor furniture                       216\n",
       "Beds                                    208\n",
       "TV & media furniture                    190\n",
       "Chests of drawers & drawer units        125\n",
       "Children's furniture                    124\n",
       "Nursery furniture                        97\n",
       "Bar furniture                            47\n",
       "Trolleys                                 28\n",
       "Café furniture                           26\n",
       "Sideboards, buffets & console tables     23\n",
       "Room dividers                            13\n",
       "Name: category, dtype: int64"
      ]
     },
     "execution_count": 10,
     "metadata": {},
     "output_type": "execute_result"
    }
   ],
   "source": [
    "product_by_category = ikea_df_new['category'].value_counts()\n",
    "product_by_category"
   ]
  },
  {
   "cell_type": "code",
   "execution_count": 11,
   "id": "487d5589",
   "metadata": {
    "scrolled": false
   },
   "outputs": [
    {
     "data": {
      "image/png": "[encoded data removed]",
      "text/plain": [
       "<Figure size 720x576 with 1 Axes>"
      ]
     },
     "metadata": {},
     "output_type": "display_data"
    }
   ],
   "source": [
    "plt.style.use('ggplot')\n",
    "product_by_category.plot(kind='bar',figsize=(10,8),alpha=0.5,rot=45,color='b')\n",
    "plt.xticks(fontsize=14)\n",
    "plt.xlabel('name',fontsize=14,labelpad=12)\n",
    "plt.ylabel('counts',fontsize=14,labelpad=12)\n",
    "plt.title('Product by category',fontsize=14,pad=12)\n",
    "\n",
    "for i,j in zip(range(len(product_by_category)),product_by_category):\n",
    "    plt.text(i,j+0.5,j,ha='center',va='bottom',fontsize=10)"
   ]
  },
  {
   "cell_type": "markdown",
   "id": "cf5df1db",
   "metadata": {},
   "source": [
    "Співвідношення кількості продажів online(True) i offline(False). "
   ]
  },
  {
   "cell_type": "code",
   "execution_count": 12,
   "id": "8d31327c",
   "metadata": {
    "scrolled": true
   },
   "outputs": [
    {
     "data": {
      "text/plain": [
       "True     0.99242\n",
       "False    0.00758\n",
       "Name: sellable_online, dtype: float64"
      ]
     },
     "execution_count": 12,
     "metadata": {},
     "output_type": "execute_result"
    }
   ],
   "source": [
    "ikea_df_new['sellable_online'].value_counts(normalize=True) # в відсотковому виразі"
   ]
  },
  {
   "cell_type": "code",
   "execution_count": 13,
   "id": "81721259",
   "metadata": {},
   "outputs": [
    {
     "data": {
      "text/plain": [
       "True     3666\n",
       "False      28\n",
       "Name: sellable_online, dtype: int64"
      ]
     },
     "execution_count": 13,
     "metadata": {},
     "output_type": "execute_result"
    }
   ],
   "source": [
    "ikea_df_new['sellable_online'].value_counts() # в числовому виразі"
   ]
  },
  {
   "cell_type": "code",
   "execution_count": 14,
   "id": "886ea9f7",
   "metadata": {
    "scrolled": false
   },
   "outputs": [
    {
     "data": {
      "text/plain": [
       "<seaborn.axisgrid.FacetGrid at 0x293b31ed040>"
      ]
     },
     "execution_count": 14,
     "metadata": {},
     "output_type": "execute_result"
    },
    {
     "data": {
      "image/png": "[encoded data removed]",
      "text/plain": [
       "<Figure size 360x360 with 1 Axes>"
      ]
     },
     "metadata": {},
     "output_type": "display_data"
    }
   ],
   "source": [
    "sns.catplot(x=\"sellable_online\", kind=\"count\", data= ikea_df_new)"
   ]
  },
  {
   "cell_type": "markdown",
   "id": "c047c7ea",
   "metadata": {},
   "source": [
    "Загальні показники: Percentile, Mean, Median, STD, номенклатура із максимальною та мінімальною ціною "
   ]
  },
  {
   "cell_type": "code",
   "execution_count": 15,
   "id": "6ae0b8b4",
   "metadata": {
    "scrolled": true
   },
   "outputs": [
    {
     "name": "stdout",
     "output_type": "stream",
     "text": [
      "10%: 50.0\n",
      "25%: 180.9\n",
      "50%: 544.7\n",
      "75%: 1429.5\n",
      "95%: 4060.2499999999986\n",
      "Mean: 1078.208419057932\n",
      "Median: 544.7\n",
      "STD: 1374.652494151622\n"
     ]
    }
   ],
   "source": [
    "print('10%:', np.percentile(ikea_df_new['price'], 10))\n",
    "print('25%:', np.percentile(ikea_df_new['price'], 25))\n",
    "print('50%:', np.percentile(ikea_df_new['price'], 50))\n",
    "print('75%:',np.percentile(ikea_df_new['price'], 75))\n",
    "print('95%:',np.percentile(ikea_df_new['price'], 95))\n",
    "print('Mean:', ikea_df_new['price'].mean())\n",
    "print('Median:', ikea_df_new['price'].median())\n",
    "print('STD:', ikea_df_new['price'].std())"
   ]
  },
  {
   "cell_type": "markdown",
   "id": "fbba63a9",
   "metadata": {},
   "source": [
    "Подивимося на розподіл значення Price. Вертикальна лінія в середині ящика показує медіану, яка у нас на рівні 544.7. Окремі точки на графіку відповідають викидам. Як бачимо, їх виявилося чимало."
   ]
  },
  {
   "cell_type": "code",
   "execution_count": 16,
   "id": "a1412edd",
   "metadata": {},
   "outputs": [
    {
     "name": "stderr",
     "output_type": "stream",
     "text": [
      "C:\\Users\\Natalia\\anaconda3\\lib\\site-packages\\seaborn\\_decorators.py:36: FutureWarning: Pass the following variable as a keyword arg: x. From version 0.12, the only valid positional argument will be `data`, and passing other arguments without an explicit keyword will result in an error or misinterpretation.\n",
      "  warnings.warn(\n"
     ]
    },
    {
     "data": {
      "text/plain": [
       "<AxesSubplot:xlabel='price'>"
      ]
     },
     "execution_count": 16,
     "metadata": {},
     "output_type": "execute_result"
    },
    {
     "data": {
      "image/png": "[encoded data removed]",
      "text/plain": [
       "<Figure size 432x288 with 1 Axes>"
      ]
     },
     "metadata": {},
     "output_type": "display_data"
    }
   ],
   "source": [
    "sns.boxplot(ikea_df_new['price'])"
   ]
  },
  {
   "cell_type": "markdown",
   "id": "b7de880b",
   "metadata": {},
   "source": [
    "Відповідно до отриманої візуалізації, виведемо товар із максимальною та мінімальною ціною"
   ]
  },
  {
   "cell_type": "code",
   "execution_count": 17,
   "id": "07fdbfaa",
   "metadata": {
    "scrolled": true
   },
   "outputs": [
    {
     "data": {
      "text/plain": [
       "category                   Wardrobes\n",
       "name               ÖVRARYD / JANINGE\n",
       "price                         9585.0\n",
       "sellable_online                 True\n",
       "designer              Wiebke Braasch\n",
       "depth                          257.0\n",
       "height                         700.0\n",
       "width                          420.0\n",
       "dtype: object"
      ]
     },
     "execution_count": 17,
     "metadata": {},
     "output_type": "execute_result"
    }
   ],
   "source": [
    "ikea_df_max_price = ikea_df_new.max()\n",
    "ikea_df_max_price"
   ]
  },
  {
   "cell_type": "code",
   "execution_count": 18,
   "id": "62441ade",
   "metadata": {},
   "outputs": [
    {
     "data": {
      "text/plain": [
       "category                                               Bar furniture\n",
       "name                                                            ADDE\n",
       "price                                                            3.0\n",
       "sellable_online                                                False\n",
       "designer           002.756.74 Adjustable hinges allow you to adju...\n",
       "depth                                                            1.0\n",
       "height                                                           1.0\n",
       "width                                                            1.0\n",
       "dtype: object"
      ]
     },
     "execution_count": 18,
     "metadata": {},
     "output_type": "execute_result"
    }
   ],
   "source": [
    "ikea_df_min_price = ikea_df_new.min()\n",
    "ikea_df_min_price"
   ]
  },
  {
   "cell_type": "markdown",
   "id": "e296f7bd",
   "metadata": {},
   "source": [
    "Аналіз цін за категоріями. Виведено наступні показники: максимальну ціну, мінімальну ціну, середню ціну, медіану за категоріями. "
   ]
  },
  {
   "cell_type": "code",
   "execution_count": 19,
   "id": "aba19dba",
   "metadata": {
    "scrolled": false
   },
   "outputs": [
    {
     "data": {
      "text/html": [
       "<div>\n",
       "<style scoped>\n",
       "    .dataframe tbody tr th:only-of-type {\n",
       "        vertical-align: middle;\n",
       "    }\n",
       "\n",
       "    .dataframe tbody tr th {\n",
       "        vertical-align: top;\n",
       "    }\n",
       "\n",
       "    .dataframe thead th {\n",
       "        text-align: right;\n",
       "    }\n",
       "</style>\n",
       "<table border=\"1\" class=\"dataframe\">\n",
       "  <thead>\n",
       "    <tr style=\"text-align: right;\">\n",
       "      <th></th>\n",
       "      <th>max_price</th>\n",
       "      <th>min_price</th>\n",
       "      <th>mean_price</th>\n",
       "      <th>median_price</th>\n",
       "    </tr>\n",
       "    <tr>\n",
       "      <th>category</th>\n",
       "      <th></th>\n",
       "      <th></th>\n",
       "      <th></th>\n",
       "      <th></th>\n",
       "    </tr>\n",
       "  </thead>\n",
       "  <tbody>\n",
       "    <tr>\n",
       "      <th>Bar furniture</th>\n",
       "      <td>2375.0</td>\n",
       "      <td>40.0</td>\n",
       "      <td>679.553191</td>\n",
       "      <td>445.0</td>\n",
       "    </tr>\n",
       "    <tr>\n",
       "      <th>Beds</th>\n",
       "      <td>9585.0</td>\n",
       "      <td>30.0</td>\n",
       "      <td>1647.432692</td>\n",
       "      <td>1093.5</td>\n",
       "    </tr>\n",
       "    <tr>\n",
       "      <th>Bookcases &amp; shelving units</th>\n",
       "      <td>4335.0</td>\n",
       "      <td>3.0</td>\n",
       "      <td>519.416058</td>\n",
       "      <td>310.0</td>\n",
       "    </tr>\n",
       "    <tr>\n",
       "      <th>Cabinets &amp; cupboards</th>\n",
       "      <td>6480.0</td>\n",
       "      <td>3.0</td>\n",
       "      <td>789.015753</td>\n",
       "      <td>402.0</td>\n",
       "    </tr>\n",
       "    <tr>\n",
       "      <th>Café furniture</th>\n",
       "      <td>1385.0</td>\n",
       "      <td>145.0</td>\n",
       "      <td>553.884615</td>\n",
       "      <td>424.5</td>\n",
       "    </tr>\n",
       "    <tr>\n",
       "      <th>Chairs</th>\n",
       "      <td>6965.0</td>\n",
       "      <td>11.4</td>\n",
       "      <td>1048.932640</td>\n",
       "      <td>425.0</td>\n",
       "    </tr>\n",
       "    <tr>\n",
       "      <th>Chests of drawers &amp; drawer units</th>\n",
       "      <td>1880.0</td>\n",
       "      <td>49.0</td>\n",
       "      <td>612.180000</td>\n",
       "      <td>460.0</td>\n",
       "    </tr>\n",
       "    <tr>\n",
       "      <th>Children's furniture</th>\n",
       "      <td>1545.0</td>\n",
       "      <td>5.0</td>\n",
       "      <td>272.758065</td>\n",
       "      <td>202.5</td>\n",
       "    </tr>\n",
       "    <tr>\n",
       "      <th>Nursery furniture</th>\n",
       "      <td>1545.0</td>\n",
       "      <td>5.0</td>\n",
       "      <td>393.659794</td>\n",
       "      <td>350.0</td>\n",
       "    </tr>\n",
       "    <tr>\n",
       "      <th>Outdoor furniture</th>\n",
       "      <td>5144.0</td>\n",
       "      <td>9.0</td>\n",
       "      <td>859.826852</td>\n",
       "      <td>313.7</td>\n",
       "    </tr>\n",
       "    <tr>\n",
       "      <th>Room dividers</th>\n",
       "      <td>2397.0</td>\n",
       "      <td>189.0</td>\n",
       "      <td>932.000000</td>\n",
       "      <td>725.0</td>\n",
       "    </tr>\n",
       "    <tr>\n",
       "      <th>Sideboards, buffets &amp; console tables</th>\n",
       "      <td>2100.0</td>\n",
       "      <td>295.0</td>\n",
       "      <td>1068.086957</td>\n",
       "      <td>965.0</td>\n",
       "    </tr>\n",
       "    <tr>\n",
       "      <th>Sofas &amp; armchairs</th>\n",
       "      <td>9585.0</td>\n",
       "      <td>27.0</td>\n",
       "      <td>2004.016355</td>\n",
       "      <td>1268.5</td>\n",
       "    </tr>\n",
       "    <tr>\n",
       "      <th>TV &amp; media furniture</th>\n",
       "      <td>4260.0</td>\n",
       "      <td>3.0</td>\n",
       "      <td>659.050526</td>\n",
       "      <td>175.0</td>\n",
       "    </tr>\n",
       "    <tr>\n",
       "      <th>Tables &amp; desks</th>\n",
       "      <td>6965.0</td>\n",
       "      <td>9.0</td>\n",
       "      <td>1129.395425</td>\n",
       "      <td>595.0</td>\n",
       "    </tr>\n",
       "    <tr>\n",
       "      <th>Trolleys</th>\n",
       "      <td>2295.0</td>\n",
       "      <td>39.0</td>\n",
       "      <td>678.517857</td>\n",
       "      <td>447.5</td>\n",
       "    </tr>\n",
       "    <tr>\n",
       "      <th>Wardrobes</th>\n",
       "      <td>8380.0</td>\n",
       "      <td>45.0</td>\n",
       "      <td>2162.141949</td>\n",
       "      <td>1870.0</td>\n",
       "    </tr>\n",
       "  </tbody>\n",
       "</table>\n",
       "</div>"
      ],
      "text/plain": [
       "                                      max_price  min_price   mean_price  \\\n",
       "category                                                                  \n",
       "Bar furniture                            2375.0       40.0   679.553191   \n",
       "Beds                                     9585.0       30.0  1647.432692   \n",
       "Bookcases & shelving units               4335.0        3.0   519.416058   \n",
       "Cabinets & cupboards                     6480.0        3.0   789.015753   \n",
       "Café furniture                           1385.0      145.0   553.884615   \n",
       "Chairs                                   6965.0       11.4  1048.932640   \n",
       "Chests of drawers & drawer units         1880.0       49.0   612.180000   \n",
       "Children's furniture                     1545.0        5.0   272.758065   \n",
       "Nursery furniture                        1545.0        5.0   393.659794   \n",
       "Outdoor furniture                        5144.0        9.0   859.826852   \n",
       "Room dividers                            2397.0      189.0   932.000000   \n",
       "Sideboards, buffets & console tables     2100.0      295.0  1068.086957   \n",
       "Sofas & armchairs                        9585.0       27.0  2004.016355   \n",
       "TV & media furniture                     4260.0        3.0   659.050526   \n",
       "Tables & desks                           6965.0        9.0  1129.395425   \n",
       "Trolleys                                 2295.0       39.0   678.517857   \n",
       "Wardrobes                                8380.0       45.0  2162.141949   \n",
       "\n",
       "                                      median_price  \n",
       "category                                            \n",
       "Bar furniture                                445.0  \n",
       "Beds                                        1093.5  \n",
       "Bookcases & shelving units                   310.0  \n",
       "Cabinets & cupboards                         402.0  \n",
       "Café furniture                               424.5  \n",
       "Chairs                                       425.0  \n",
       "Chests of drawers & drawer units             460.0  \n",
       "Children's furniture                         202.5  \n",
       "Nursery furniture                            350.0  \n",
       "Outdoor furniture                            313.7  \n",
       "Room dividers                                725.0  \n",
       "Sideboards, buffets & console tables         965.0  \n",
       "Sofas & armchairs                           1268.5  \n",
       "TV & media furniture                         175.0  \n",
       "Tables & desks                               595.0  \n",
       "Trolleys                                     447.5  \n",
       "Wardrobes                                   1870.0  "
      ]
     },
     "execution_count": 19,
     "metadata": {},
     "output_type": "execute_result"
    }
   ],
   "source": [
    "ikea_df_group = ikea_df_new.groupby(['category']).agg(max_price=('price','max'), \n",
    "                                                      min_price=('price', 'min'), \n",
    "                                                      mean_price=('price','mean'), \n",
    "                                                      median_price=('price','median'))\n",
    "ikea_df_group"
   ]
  },
  {
   "cell_type": "code",
   "execution_count": 20,
   "id": "491762a8",
   "metadata": {},
   "outputs": [
    {
     "data": {
      "text/plain": [
       "<seaborn.axisgrid.PairGrid at 0x293b32a9fd0>"
      ]
     },
     "execution_count": 20,
     "metadata": {},
     "output_type": "execute_result"
    },
    {
     "data": {
      "image/png": "[encoded data removed]",
      "text/plain": [
       "<Figure size 720x720 with 20 Axes>"
      ]
     },
     "metadata": {},
     "output_type": "display_data"
    }
   ],
   "source": [
    "sns.pairplot(ikea_df_group)"
   ]
  },
  {
   "cell_type": "markdown",
   "id": "818885d5",
   "metadata": {},
   "source": [
    "Виведемо середню ціну за кожною категорією товару. Як бачимо найвища середня ціна у категорії Wardrobes. В основному середня ціна на товар за категоріями знаходиться в межах від 500 до 1000"
   ]
  },
  {
   "cell_type": "code",
   "execution_count": 21,
   "id": "94b268e9",
   "metadata": {
    "scrolled": false
   },
   "outputs": [
    {
     "data": {
      "image/png": "[encoded data removed]",
      "text/plain": [
       "<Figure size 432x288 with 1 Axes>"
      ]
     },
     "metadata": {},
     "output_type": "display_data"
    }
   ],
   "source": [
    "ikea_df_new.groupby('category')['price'].mean().plot(kind='bar') \n",
    "plt.ylabel('price') \n",
    "plt.show()"
   ]
  },
  {
   "cell_type": "markdown",
   "id": "348b5ba5",
   "metadata": {},
   "source": [
    "Виведемо медіану за кожною категорією товару. "
   ]
  },
  {
   "cell_type": "code",
   "execution_count": 22,
   "id": "b4ea30e7",
   "metadata": {
    "scrolled": false
   },
   "outputs": [
    {
     "data": {
      "image/png": "[encoded data removed]",
      "text/plain": [
       "<Figure size 432x288 with 1 Axes>"
      ]
     },
     "metadata": {},
     "output_type": "display_data"
    }
   ],
   "source": [
    "ikea_df_new.groupby('category')['price'].median().plot(kind='bar') \n",
    "plt.ylabel('price') \n",
    "plt.show()"
   ]
  },
  {
   "cell_type": "markdown",
   "id": "cc94cd45",
   "metadata": {},
   "source": [
    "Виведемо максимальну ціну за кожною категорією товару. Як видно з графіку Sofas & armchairs, Beds та Wardrobes категорії із найдороговартісним товаром"
   ]
  },
  {
   "cell_type": "code",
   "execution_count": 23,
   "id": "d301aa5f",
   "metadata": {
    "scrolled": false
   },
   "outputs": [
    {
     "data": {
      "image/png": "[encoded data removed]",
      "text/plain": [
       "<Figure size 432x288 with 1 Axes>"
      ]
     },
     "metadata": {},
     "output_type": "display_data"
    }
   ],
   "source": [
    "ikea_df_new.groupby('category')['price'].max().plot(kind='bar') \n",
    "plt.ylabel('price') \n",
    "plt.show()"
   ]
  },
  {
   "cell_type": "markdown",
   "id": "0c6e5c69",
   "metadata": {},
   "source": [
    "Виведемо мінімальну ціну за кожною категорією товару."
   ]
  },
  {
   "cell_type": "code",
   "execution_count": 24,
   "id": "b1392bb0",
   "metadata": {},
   "outputs": [
    {
     "data": {
      "image/png": "[encoded data removed]",
      "text/plain": [
       "<Figure size 432x288 with 1 Axes>"
      ]
     },
     "metadata": {},
     "output_type": "display_data"
    }
   ],
   "source": [
    "ikea_df_new.groupby('category')['price'].min().plot(kind='bar') \n",
    "plt.ylabel('price') \n",
    "plt.show()"
   ]
  },
  {
   "cell_type": "markdown",
   "id": "4d99f620",
   "metadata": {},
   "source": [
    "Виведемо ТОР-10 дизайнерів Ikea. За результатами аналiзу, можна зробити висновок що Ikea надає перевагу власним виробникам."
   ]
  },
  {
   "cell_type": "code",
   "execution_count": 25,
   "id": "26e5d533",
   "metadata": {},
   "outputs": [
    {
     "data": {
      "text/plain": [
       "381"
      ]
     },
     "execution_count": 25,
     "metadata": {},
     "output_type": "execute_result"
    }
   ],
   "source": [
    "designer_count=len(ikea_df_new['designer'].unique())\n",
    "designer_count"
   ]
  },
  {
   "cell_type": "code",
   "execution_count": 26,
   "id": "48d49873",
   "metadata": {},
   "outputs": [
    {
     "data": {
      "text/plain": [
       "IKEA of Sweden                    828\n",
       "Ehlén Johansson                   161\n",
       "Francis Cayouette                 151\n",
       "Ola Wihlborg                      134\n",
       "K Hagberg/M Hagberg               122\n",
       "Jon Karlsson                      120\n",
       "Ehlén Johansson/IKEA of Sweden     75\n",
       "Carina Bengs                       75\n",
       "IKEA of Sweden/Ehlén Johansson     70\n",
       "Henrik Preutz                      70\n",
       "Name: designer, dtype: int64"
      ]
     },
     "execution_count": 26,
     "metadata": {},
     "output_type": "execute_result"
    }
   ],
   "source": [
    "designer = ikea_df_new['designer'].value_counts()\n",
    "designer_TOP_10 = designer.head(10)\n",
    "designer_TOP_10"
   ]
  },
  {
   "cell_type": "code",
   "execution_count": 27,
   "id": "8b4b63ba",
   "metadata": {
    "scrolled": false
   },
   "outputs": [
    {
     "data": {
      "image/png": "[encoded data removed]",
      "text/plain": [
       "<Figure size 720x576 with 1 Axes>"
      ]
     },
     "metadata": {},
     "output_type": "display_data"
    }
   ],
   "source": [
    "plt.style.use('ggplot')\n",
    "designer_TOP_10.plot(kind='bar',figsize=(10,8),alpha=0.5,rot=45,color='g')\n",
    "plt.xticks(fontsize=14)\n",
    "plt.xlabel('name',fontsize=14,labelpad=12)\n",
    "plt.ylabel('counts',fontsize=14,labelpad=12)\n",
    "plt.title('TOP 10 Ikea`s designer',fontsize=14,pad=12)\n",
    "\n",
    "for i,j in zip(range(len(designer_TOP_10)),designer_TOP_10):\n",
    "    plt.text(i,j+0.5,j,ha='center',va='bottom',fontsize=10)"
   ]
  },
  {
   "cell_type": "markdown",
   "id": "c9d07cb2",
   "metadata": {},
   "source": [
    "За допомогою jointplot можемо побачити чи є залежність між розміром (об'ємом) виробу та його ціною. Для цього видалимо із датасету значення, які містять NaN. "
   ]
  },
  {
   "cell_type": "code",
   "execution_count": 28,
   "id": "636e4525",
   "metadata": {
    "scrolled": false
   },
   "outputs": [
    {
     "data": {
      "text/html": [
       "<div>\n",
       "<style scoped>\n",
       "    .dataframe tbody tr th:only-of-type {\n",
       "        vertical-align: middle;\n",
       "    }\n",
       "\n",
       "    .dataframe tbody tr th {\n",
       "        vertical-align: top;\n",
       "    }\n",
       "\n",
       "    .dataframe thead th {\n",
       "        text-align: right;\n",
       "    }\n",
       "</style>\n",
       "<table border=\"1\" class=\"dataframe\">\n",
       "  <thead>\n",
       "    <tr style=\"text-align: right;\">\n",
       "      <th></th>\n",
       "      <th>category</th>\n",
       "      <th>name</th>\n",
       "      <th>price</th>\n",
       "      <th>sellable_online</th>\n",
       "      <th>designer</th>\n",
       "      <th>depth</th>\n",
       "      <th>height</th>\n",
       "      <th>width</th>\n",
       "    </tr>\n",
       "  </thead>\n",
       "  <tbody>\n",
       "    <tr>\n",
       "      <th>2344</th>\n",
       "      <td>Sofas &amp; armchairs</td>\n",
       "      <td>LIDHULT</td>\n",
       "      <td>9585.0</td>\n",
       "      <td>True</td>\n",
       "      <td>Henrik Preutz/IKEA of Sweden</td>\n",
       "      <td>164.0</td>\n",
       "      <td>102.0</td>\n",
       "      <td>387.0</td>\n",
       "    </tr>\n",
       "    <tr>\n",
       "      <th>190</th>\n",
       "      <td>Beds</td>\n",
       "      <td>LIDHULT</td>\n",
       "      <td>9585.0</td>\n",
       "      <td>True</td>\n",
       "      <td>Henrik Preutz/IKEA of Sweden</td>\n",
       "      <td>164.0</td>\n",
       "      <td>102.0</td>\n",
       "      <td>387.0</td>\n",
       "    </tr>\n",
       "    <tr>\n",
       "      <th>2559</th>\n",
       "      <td>Sofas &amp; armchairs</td>\n",
       "      <td>GRÖNLID</td>\n",
       "      <td>8900.0</td>\n",
       "      <td>True</td>\n",
       "      <td>Francis Cayouette</td>\n",
       "      <td>252.0</td>\n",
       "      <td>104.0</td>\n",
       "      <td>327.0</td>\n",
       "    </tr>\n",
       "    <tr>\n",
       "      <th>2387</th>\n",
       "      <td>Sofas &amp; armchairs</td>\n",
       "      <td>VIMLE</td>\n",
       "      <td>8395.0</td>\n",
       "      <td>True</td>\n",
       "      <td>Ehlén Johansson</td>\n",
       "      <td>249.0</td>\n",
       "      <td>83.0</td>\n",
       "      <td>327.0</td>\n",
       "    </tr>\n",
       "    <tr>\n",
       "      <th>2289</th>\n",
       "      <td>Sofas &amp; armchairs</td>\n",
       "      <td>KIVIK</td>\n",
       "      <td>8295.0</td>\n",
       "      <td>True</td>\n",
       "      <td>Ola Wihlborg</td>\n",
       "      <td>257.0</td>\n",
       "      <td>83.0</td>\n",
       "      <td>368.0</td>\n",
       "    </tr>\n",
       "    <tr>\n",
       "      <th>...</th>\n",
       "      <td>...</td>\n",
       "      <td>...</td>\n",
       "      <td>...</td>\n",
       "      <td>...</td>\n",
       "      <td>...</td>\n",
       "      <td>...</td>\n",
       "      <td>...</td>\n",
       "      <td>...</td>\n",
       "    </tr>\n",
       "    <tr>\n",
       "      <th>325</th>\n",
       "      <td>Bookcases &amp; shelving units</td>\n",
       "      <td>JONAXEL</td>\n",
       "      <td>15.0</td>\n",
       "      <td>True</td>\n",
       "      <td>IKEA of Sweden</td>\n",
       "      <td>51.0</td>\n",
       "      <td>15.0</td>\n",
       "      <td>25.0</td>\n",
       "    </tr>\n",
       "    <tr>\n",
       "      <th>1839</th>\n",
       "      <td>Children's furniture</td>\n",
       "      <td>TROFAST</td>\n",
       "      <td>10.0</td>\n",
       "      <td>False</td>\n",
       "      <td>404.662.85 Fits in TROFAST frames.Can be stack...</td>\n",
       "      <td>30.0</td>\n",
       "      <td>10.0</td>\n",
       "      <td>42.0</td>\n",
       "    </tr>\n",
       "    <tr>\n",
       "      <th>1946</th>\n",
       "      <td>Nursery furniture</td>\n",
       "      <td>TROFAST</td>\n",
       "      <td>10.0</td>\n",
       "      <td>False</td>\n",
       "      <td>404.662.85 Fits in TROFAST frames.Can be stack...</td>\n",
       "      <td>30.0</td>\n",
       "      <td>10.0</td>\n",
       "      <td>42.0</td>\n",
       "    </tr>\n",
       "    <tr>\n",
       "      <th>2718</th>\n",
       "      <td>Tables &amp; desks</td>\n",
       "      <td>ISBERGET</td>\n",
       "      <td>10.0</td>\n",
       "      <td>True</td>\n",
       "      <td>Sarah Fager</td>\n",
       "      <td>25.0</td>\n",
       "      <td>9.0</td>\n",
       "      <td>25.0</td>\n",
       "    </tr>\n",
       "    <tr>\n",
       "      <th>461</th>\n",
       "      <td>Bookcases &amp; shelving units</td>\n",
       "      <td>SKÅDIS</td>\n",
       "      <td>6.0</td>\n",
       "      <td>True</td>\n",
       "      <td>Eva Lilja Löwenhielm</td>\n",
       "      <td>2.0</td>\n",
       "      <td>4.0</td>\n",
       "      <td>5.0</td>\n",
       "    </tr>\n",
       "  </tbody>\n",
       "</table>\n",
       "<p>1899 rows × 8 columns</p>\n",
       "</div>"
      ],
      "text/plain": [
       "                        category      name   price  sellable_online  \\\n",
       "2344           Sofas & armchairs   LIDHULT  9585.0             True   \n",
       "190                         Beds   LIDHULT  9585.0             True   \n",
       "2559           Sofas & armchairs   GRÖNLID  8900.0             True   \n",
       "2387           Sofas & armchairs     VIMLE  8395.0             True   \n",
       "2289           Sofas & armchairs     KIVIK  8295.0             True   \n",
       "...                          ...       ...     ...              ...   \n",
       "325   Bookcases & shelving units   JONAXEL    15.0             True   \n",
       "1839        Children's furniture   TROFAST    10.0            False   \n",
       "1946           Nursery furniture   TROFAST    10.0            False   \n",
       "2718              Tables & desks  ISBERGET    10.0             True   \n",
       "461   Bookcases & shelving units    SKÅDIS     6.0             True   \n",
       "\n",
       "                                               designer  depth  height  width  \n",
       "2344                       Henrik Preutz/IKEA of Sweden  164.0   102.0  387.0  \n",
       "190                        Henrik Preutz/IKEA of Sweden  164.0   102.0  387.0  \n",
       "2559                                  Francis Cayouette  252.0   104.0  327.0  \n",
       "2387                                    Ehlén Johansson  249.0    83.0  327.0  \n",
       "2289                                       Ola Wihlborg  257.0    83.0  368.0  \n",
       "...                                                 ...    ...     ...    ...  \n",
       "325                                      IKEA of Sweden   51.0    15.0   25.0  \n",
       "1839  404.662.85 Fits in TROFAST frames.Can be stack...   30.0    10.0   42.0  \n",
       "1946  404.662.85 Fits in TROFAST frames.Can be stack...   30.0    10.0   42.0  \n",
       "2718                                        Sarah Fager   25.0     9.0   25.0  \n",
       "461                                Eva Lilja Löwenhielm    2.0     4.0    5.0  \n",
       "\n",
       "[1899 rows x 8 columns]"
      ]
     },
     "execution_count": 28,
     "metadata": {},
     "output_type": "execute_result"
    }
   ],
   "source": [
    "droped_ikea_df = ikea_df_new.dropna()\n",
    "droped_ikea_df"
   ]
  },
  {
   "cell_type": "code",
   "execution_count": 29,
   "id": "8b28bae5",
   "metadata": {},
   "outputs": [
    {
     "name": "stderr",
     "output_type": "stream",
     "text": [
      "<ipython-input-29-d56dd9621360>:1: SettingWithCopyWarning: \n",
      "A value is trying to be set on a copy of a slice from a DataFrame.\n",
      "Try using .loc[row_indexer,col_indexer] = value instead\n",
      "\n",
      "See the caveats in the documentation: https://pandas.pydata.org/pandas-docs/stable/user_guide/indexing.html#returning-a-view-versus-a-copy\n",
      "  droped_ikea_df['volume_cm3'] = droped_ikea_df.depth * droped_ikea_df.height * droped_ikea_df.width\n"
     ]
    },
    {
     "data": {
      "text/html": [
       "<div>\n",
       "<style scoped>\n",
       "    .dataframe tbody tr th:only-of-type {\n",
       "        vertical-align: middle;\n",
       "    }\n",
       "\n",
       "    .dataframe tbody tr th {\n",
       "        vertical-align: top;\n",
       "    }\n",
       "\n",
       "    .dataframe thead th {\n",
       "        text-align: right;\n",
       "    }\n",
       "</style>\n",
       "<table border=\"1\" class=\"dataframe\">\n",
       "  <thead>\n",
       "    <tr style=\"text-align: right;\">\n",
       "      <th></th>\n",
       "      <th>category</th>\n",
       "      <th>name</th>\n",
       "      <th>price</th>\n",
       "      <th>sellable_online</th>\n",
       "      <th>designer</th>\n",
       "      <th>depth</th>\n",
       "      <th>height</th>\n",
       "      <th>width</th>\n",
       "      <th>volume_cm3</th>\n",
       "    </tr>\n",
       "  </thead>\n",
       "  <tbody>\n",
       "    <tr>\n",
       "      <th>2344</th>\n",
       "      <td>Sofas &amp; armchairs</td>\n",
       "      <td>LIDHULT</td>\n",
       "      <td>9585.0</td>\n",
       "      <td>True</td>\n",
       "      <td>Henrik Preutz/IKEA of Sweden</td>\n",
       "      <td>164.0</td>\n",
       "      <td>102.0</td>\n",
       "      <td>387.0</td>\n",
       "      <td>6473736.0</td>\n",
       "    </tr>\n",
       "    <tr>\n",
       "      <th>190</th>\n",
       "      <td>Beds</td>\n",
       "      <td>LIDHULT</td>\n",
       "      <td>9585.0</td>\n",
       "      <td>True</td>\n",
       "      <td>Henrik Preutz/IKEA of Sweden</td>\n",
       "      <td>164.0</td>\n",
       "      <td>102.0</td>\n",
       "      <td>387.0</td>\n",
       "      <td>6473736.0</td>\n",
       "    </tr>\n",
       "    <tr>\n",
       "      <th>2559</th>\n",
       "      <td>Sofas &amp; armchairs</td>\n",
       "      <td>GRÖNLID</td>\n",
       "      <td>8900.0</td>\n",
       "      <td>True</td>\n",
       "      <td>Francis Cayouette</td>\n",
       "      <td>252.0</td>\n",
       "      <td>104.0</td>\n",
       "      <td>327.0</td>\n",
       "      <td>8570016.0</td>\n",
       "    </tr>\n",
       "    <tr>\n",
       "      <th>2387</th>\n",
       "      <td>Sofas &amp; armchairs</td>\n",
       "      <td>VIMLE</td>\n",
       "      <td>8395.0</td>\n",
       "      <td>True</td>\n",
       "      <td>Ehlén Johansson</td>\n",
       "      <td>249.0</td>\n",
       "      <td>83.0</td>\n",
       "      <td>327.0</td>\n",
       "      <td>6758109.0</td>\n",
       "    </tr>\n",
       "    <tr>\n",
       "      <th>2289</th>\n",
       "      <td>Sofas &amp; armchairs</td>\n",
       "      <td>KIVIK</td>\n",
       "      <td>8295.0</td>\n",
       "      <td>True</td>\n",
       "      <td>Ola Wihlborg</td>\n",
       "      <td>257.0</td>\n",
       "      <td>83.0</td>\n",
       "      <td>368.0</td>\n",
       "      <td>7849808.0</td>\n",
       "    </tr>\n",
       "    <tr>\n",
       "      <th>2445</th>\n",
       "      <td>Sofas &amp; armchairs</td>\n",
       "      <td>LIDHULT</td>\n",
       "      <td>8240.0</td>\n",
       "      <td>True</td>\n",
       "      <td>Henrik Preutz</td>\n",
       "      <td>164.0</td>\n",
       "      <td>102.0</td>\n",
       "      <td>367.0</td>\n",
       "      <td>6139176.0</td>\n",
       "    </tr>\n",
       "    <tr>\n",
       "      <th>2589</th>\n",
       "      <td>Sofas &amp; armchairs</td>\n",
       "      <td>LIDHULT</td>\n",
       "      <td>7873.0</td>\n",
       "      <td>True</td>\n",
       "      <td>Henrik Preutz/IKEA of Sweden</td>\n",
       "      <td>164.0</td>\n",
       "      <td>102.0</td>\n",
       "      <td>298.0</td>\n",
       "      <td>4984944.0</td>\n",
       "    </tr>\n",
       "    <tr>\n",
       "      <th>251</th>\n",
       "      <td>Beds</td>\n",
       "      <td>LIDHULT</td>\n",
       "      <td>7873.0</td>\n",
       "      <td>True</td>\n",
       "      <td>Henrik Preutz/IKEA of Sweden</td>\n",
       "      <td>164.0</td>\n",
       "      <td>102.0</td>\n",
       "      <td>298.0</td>\n",
       "      <td>4984944.0</td>\n",
       "    </tr>\n",
       "    <tr>\n",
       "      <th>2397</th>\n",
       "      <td>Sofas &amp; armchairs</td>\n",
       "      <td>LIDHULT</td>\n",
       "      <td>7785.0</td>\n",
       "      <td>True</td>\n",
       "      <td>IKEA of Sweden/Henrik Preutz</td>\n",
       "      <td>98.0</td>\n",
       "      <td>102.0</td>\n",
       "      <td>294.0</td>\n",
       "      <td>2938824.0</td>\n",
       "    </tr>\n",
       "    <tr>\n",
       "      <th>214</th>\n",
       "      <td>Beds</td>\n",
       "      <td>LIDHULT</td>\n",
       "      <td>7785.0</td>\n",
       "      <td>True</td>\n",
       "      <td>IKEA of Sweden/Henrik Preutz</td>\n",
       "      <td>98.0</td>\n",
       "      <td>102.0</td>\n",
       "      <td>294.0</td>\n",
       "      <td>2938824.0</td>\n",
       "    </tr>\n",
       "  </tbody>\n",
       "</table>\n",
       "</div>"
      ],
      "text/plain": [
       "               category     name   price  sellable_online  \\\n",
       "2344  Sofas & armchairs  LIDHULT  9585.0             True   \n",
       "190                Beds  LIDHULT  9585.0             True   \n",
       "2559  Sofas & armchairs  GRÖNLID  8900.0             True   \n",
       "2387  Sofas & armchairs    VIMLE  8395.0             True   \n",
       "2289  Sofas & armchairs    KIVIK  8295.0             True   \n",
       "2445  Sofas & armchairs  LIDHULT  8240.0             True   \n",
       "2589  Sofas & armchairs  LIDHULT  7873.0             True   \n",
       "251                Beds  LIDHULT  7873.0             True   \n",
       "2397  Sofas & armchairs  LIDHULT  7785.0             True   \n",
       "214                Beds  LIDHULT  7785.0             True   \n",
       "\n",
       "                          designer  depth  height  width  volume_cm3  \n",
       "2344  Henrik Preutz/IKEA of Sweden  164.0   102.0  387.0   6473736.0  \n",
       "190   Henrik Preutz/IKEA of Sweden  164.0   102.0  387.0   6473736.0  \n",
       "2559             Francis Cayouette  252.0   104.0  327.0   8570016.0  \n",
       "2387               Ehlén Johansson  249.0    83.0  327.0   6758109.0  \n",
       "2289                  Ola Wihlborg  257.0    83.0  368.0   7849808.0  \n",
       "2445                 Henrik Preutz  164.0   102.0  367.0   6139176.0  \n",
       "2589  Henrik Preutz/IKEA of Sweden  164.0   102.0  298.0   4984944.0  \n",
       "251   Henrik Preutz/IKEA of Sweden  164.0   102.0  298.0   4984944.0  \n",
       "2397  IKEA of Sweden/Henrik Preutz   98.0   102.0  294.0   2938824.0  \n",
       "214   IKEA of Sweden/Henrik Preutz   98.0   102.0  294.0   2938824.0  "
      ]
     },
     "execution_count": 29,
     "metadata": {},
     "output_type": "execute_result"
    }
   ],
   "source": [
    "droped_ikea_df['volume_cm3'] = droped_ikea_df.depth * droped_ikea_df.height * droped_ikea_df.width\n",
    "droped_ikea_df.head(10)"
   ]
  },
  {
   "cell_type": "code",
   "execution_count": 30,
   "id": "479278a6",
   "metadata": {},
   "outputs": [
    {
     "data": {
      "text/plain": [
       "<seaborn.axisgrid.JointGrid at 0x293b4020580>"
      ]
     },
     "execution_count": 30,
     "metadata": {},
     "output_type": "execute_result"
    },
    {
     "data": {
      "image/png": "[encoded data removed]",
      "text/plain": [
       "<Figure size 432x432 with 3 Axes>"
      ]
     },
     "metadata": {},
     "output_type": "display_data"
    }
   ],
   "source": [
    "sns.jointplot(x='price', y='volume_cm3', data=droped_ikea_df)"
   ]
  },
  {
   "cell_type": "markdown",
   "id": "2211cabc",
   "metadata": {},
   "source": [
    "Як бачимо, в основному розмір товару (об'єм) значно не впливає на ціноутворення. Є деякі виключення."
   ]
  },
  {
   "cell_type": "markdown",
   "id": "db0c8d0f",
   "metadata": {},
   "source": [
    "II. Проаналізувавши наш датасет можна виявити чи є взаємозвязок між категорією і ціною.\n",
    "\n",
    "Ще однією характеристикою для оцінки ціноутворення є виробник (designer). \n",
    "\n",
    "Виникає питання чи впливає назва бренду на формування ціни. \n",
    "\n",
    "Можна перевірити це відносто середньої ціни на товар.\n",
    "\n",
    "Нульовою гіпотезою вважається результат, коли ціна на один і той же товар буде ідентичною у різних виробників.\n",
    "\n",
    "Альтернативною є гіпотеза, що на формування ціни товару впливає назва бренду. Ціна на ідентичний товар у одного виробника буде вищою, ніж у іншого.\n"
   ]
  },
  {
   "cell_type": "markdown",
   "id": "4b87e8b6",
   "metadata": {},
   "source": [
    "Використаємо очищений датасет, в якому ми сформуємо вибірку із чистими даними "
   ]
  },
  {
   "cell_type": "code",
   "execution_count": 31,
   "id": "780d43d9",
   "metadata": {
    "scrolled": false
   },
   "outputs": [
    {
     "data": {
      "text/html": [
       "<div>\n",
       "<style scoped>\n",
       "    .dataframe tbody tr th:only-of-type {\n",
       "        vertical-align: middle;\n",
       "    }\n",
       "\n",
       "    .dataframe tbody tr th {\n",
       "        vertical-align: top;\n",
       "    }\n",
       "\n",
       "    .dataframe thead th {\n",
       "        text-align: right;\n",
       "    }\n",
       "</style>\n",
       "<table border=\"1\" class=\"dataframe\">\n",
       "  <thead>\n",
       "    <tr style=\"text-align: right;\">\n",
       "      <th></th>\n",
       "      <th>category</th>\n",
       "      <th>name</th>\n",
       "      <th>price</th>\n",
       "      <th>sellable_online</th>\n",
       "      <th>designer</th>\n",
       "      <th>depth</th>\n",
       "      <th>height</th>\n",
       "      <th>width</th>\n",
       "      <th>volume_cm3</th>\n",
       "    </tr>\n",
       "  </thead>\n",
       "  <tbody>\n",
       "    <tr>\n",
       "      <th>2344</th>\n",
       "      <td>Sofas &amp; armchairs</td>\n",
       "      <td>LIDHULT</td>\n",
       "      <td>9585.0</td>\n",
       "      <td>True</td>\n",
       "      <td>Henrik Preutz/IKEA of Sweden</td>\n",
       "      <td>164.0</td>\n",
       "      <td>102.0</td>\n",
       "      <td>387.0</td>\n",
       "      <td>6473736.0</td>\n",
       "    </tr>\n",
       "    <tr>\n",
       "      <th>190</th>\n",
       "      <td>Beds</td>\n",
       "      <td>LIDHULT</td>\n",
       "      <td>9585.0</td>\n",
       "      <td>True</td>\n",
       "      <td>Henrik Preutz/IKEA of Sweden</td>\n",
       "      <td>164.0</td>\n",
       "      <td>102.0</td>\n",
       "      <td>387.0</td>\n",
       "      <td>6473736.0</td>\n",
       "    </tr>\n",
       "    <tr>\n",
       "      <th>2559</th>\n",
       "      <td>Sofas &amp; armchairs</td>\n",
       "      <td>GRÖNLID</td>\n",
       "      <td>8900.0</td>\n",
       "      <td>True</td>\n",
       "      <td>Francis Cayouette</td>\n",
       "      <td>252.0</td>\n",
       "      <td>104.0</td>\n",
       "      <td>327.0</td>\n",
       "      <td>8570016.0</td>\n",
       "    </tr>\n",
       "    <tr>\n",
       "      <th>2387</th>\n",
       "      <td>Sofas &amp; armchairs</td>\n",
       "      <td>VIMLE</td>\n",
       "      <td>8395.0</td>\n",
       "      <td>True</td>\n",
       "      <td>Ehlén Johansson</td>\n",
       "      <td>249.0</td>\n",
       "      <td>83.0</td>\n",
       "      <td>327.0</td>\n",
       "      <td>6758109.0</td>\n",
       "    </tr>\n",
       "    <tr>\n",
       "      <th>2289</th>\n",
       "      <td>Sofas &amp; armchairs</td>\n",
       "      <td>KIVIK</td>\n",
       "      <td>8295.0</td>\n",
       "      <td>True</td>\n",
       "      <td>Ola Wihlborg</td>\n",
       "      <td>257.0</td>\n",
       "      <td>83.0</td>\n",
       "      <td>368.0</td>\n",
       "      <td>7849808.0</td>\n",
       "    </tr>\n",
       "    <tr>\n",
       "      <th>...</th>\n",
       "      <td>...</td>\n",
       "      <td>...</td>\n",
       "      <td>...</td>\n",
       "      <td>...</td>\n",
       "      <td>...</td>\n",
       "      <td>...</td>\n",
       "      <td>...</td>\n",
       "      <td>...</td>\n",
       "      <td>...</td>\n",
       "    </tr>\n",
       "    <tr>\n",
       "      <th>325</th>\n",
       "      <td>Bookcases &amp; shelving units</td>\n",
       "      <td>JONAXEL</td>\n",
       "      <td>15.0</td>\n",
       "      <td>True</td>\n",
       "      <td>IKEA of Sweden</td>\n",
       "      <td>51.0</td>\n",
       "      <td>15.0</td>\n",
       "      <td>25.0</td>\n",
       "      <td>19125.0</td>\n",
       "    </tr>\n",
       "    <tr>\n",
       "      <th>1839</th>\n",
       "      <td>Children's furniture</td>\n",
       "      <td>TROFAST</td>\n",
       "      <td>10.0</td>\n",
       "      <td>False</td>\n",
       "      <td>404.662.85 Fits in TROFAST frames.Can be stack...</td>\n",
       "      <td>30.0</td>\n",
       "      <td>10.0</td>\n",
       "      <td>42.0</td>\n",
       "      <td>12600.0</td>\n",
       "    </tr>\n",
       "    <tr>\n",
       "      <th>1946</th>\n",
       "      <td>Nursery furniture</td>\n",
       "      <td>TROFAST</td>\n",
       "      <td>10.0</td>\n",
       "      <td>False</td>\n",
       "      <td>404.662.85 Fits in TROFAST frames.Can be stack...</td>\n",
       "      <td>30.0</td>\n",
       "      <td>10.0</td>\n",
       "      <td>42.0</td>\n",
       "      <td>12600.0</td>\n",
       "    </tr>\n",
       "    <tr>\n",
       "      <th>2718</th>\n",
       "      <td>Tables &amp; desks</td>\n",
       "      <td>ISBERGET</td>\n",
       "      <td>10.0</td>\n",
       "      <td>True</td>\n",
       "      <td>Sarah Fager</td>\n",
       "      <td>25.0</td>\n",
       "      <td>9.0</td>\n",
       "      <td>25.0</td>\n",
       "      <td>5625.0</td>\n",
       "    </tr>\n",
       "    <tr>\n",
       "      <th>461</th>\n",
       "      <td>Bookcases &amp; shelving units</td>\n",
       "      <td>SKÅDIS</td>\n",
       "      <td>6.0</td>\n",
       "      <td>True</td>\n",
       "      <td>Eva Lilja Löwenhielm</td>\n",
       "      <td>2.0</td>\n",
       "      <td>4.0</td>\n",
       "      <td>5.0</td>\n",
       "      <td>40.0</td>\n",
       "    </tr>\n",
       "  </tbody>\n",
       "</table>\n",
       "<p>1899 rows × 9 columns</p>\n",
       "</div>"
      ],
      "text/plain": [
       "                        category      name   price  sellable_online  \\\n",
       "2344           Sofas & armchairs   LIDHULT  9585.0             True   \n",
       "190                         Beds   LIDHULT  9585.0             True   \n",
       "2559           Sofas & armchairs   GRÖNLID  8900.0             True   \n",
       "2387           Sofas & armchairs     VIMLE  8395.0             True   \n",
       "2289           Sofas & armchairs     KIVIK  8295.0             True   \n",
       "...                          ...       ...     ...              ...   \n",
       "325   Bookcases & shelving units   JONAXEL    15.0             True   \n",
       "1839        Children's furniture   TROFAST    10.0            False   \n",
       "1946           Nursery furniture   TROFAST    10.0            False   \n",
       "2718              Tables & desks  ISBERGET    10.0             True   \n",
       "461   Bookcases & shelving units    SKÅDIS     6.0             True   \n",
       "\n",
       "                                               designer  depth  height  width  \\\n",
       "2344                       Henrik Preutz/IKEA of Sweden  164.0   102.0  387.0   \n",
       "190                        Henrik Preutz/IKEA of Sweden  164.0   102.0  387.0   \n",
       "2559                                  Francis Cayouette  252.0   104.0  327.0   \n",
       "2387                                    Ehlén Johansson  249.0    83.0  327.0   \n",
       "2289                                       Ola Wihlborg  257.0    83.0  368.0   \n",
       "...                                                 ...    ...     ...    ...   \n",
       "325                                      IKEA of Sweden   51.0    15.0   25.0   \n",
       "1839  404.662.85 Fits in TROFAST frames.Can be stack...   30.0    10.0   42.0   \n",
       "1946  404.662.85 Fits in TROFAST frames.Can be stack...   30.0    10.0   42.0   \n",
       "2718                                        Sarah Fager   25.0     9.0   25.0   \n",
       "461                                Eva Lilja Löwenhielm    2.0     4.0    5.0   \n",
       "\n",
       "      volume_cm3  \n",
       "2344   6473736.0  \n",
       "190    6473736.0  \n",
       "2559   8570016.0  \n",
       "2387   6758109.0  \n",
       "2289   7849808.0  \n",
       "...          ...  \n",
       "325      19125.0  \n",
       "1839     12600.0  \n",
       "1946     12600.0  \n",
       "2718      5625.0  \n",
       "461         40.0  \n",
       "\n",
       "[1899 rows x 9 columns]"
      ]
     },
     "execution_count": 31,
     "metadata": {},
     "output_type": "execute_result"
    }
   ],
   "source": [
    "droped_ikea_df"
   ]
  },
  {
   "cell_type": "markdown",
   "id": "b0ba5e36",
   "metadata": {},
   "source": [
    "Ще одним варіантом тестування є взаємозв'язок ціни та категорії."
   ]
  },
  {
   "cell_type": "code",
   "execution_count": 32,
   "id": "3afffff3",
   "metadata": {},
   "outputs": [
    {
     "data": {
      "text/plain": [
       "array([['Sofas & armchairs'],\n",
       "       ['Beds'],\n",
       "       ['Sofas & armchairs'],\n",
       "       ...,\n",
       "       ['Nursery furniture'],\n",
       "       ['Tables & desks'],\n",
       "       ['Bookcases & shelving units']], dtype=object)"
      ]
     },
     "execution_count": 32,
     "metadata": {},
     "output_type": "execute_result"
    }
   ],
   "source": [
    "x = droped_ikea_df[['category']].values\n",
    "x"
   ]
  },
  {
   "cell_type": "code",
   "execution_count": 33,
   "id": "2e0383e9",
   "metadata": {},
   "outputs": [
    {
     "data": {
      "text/plain": [
       "array([[12],\n",
       "       [1],\n",
       "       [12],\n",
       "       ...,\n",
       "       [8],\n",
       "       [14],\n",
       "       [2]], dtype=object)"
      ]
     },
     "execution_count": 33,
     "metadata": {},
     "output_type": "execute_result"
    }
   ],
   "source": [
    "le = LabelEncoder()\n",
    "\n",
    "for i in range(len(x[0])):\n",
    "    x[:, i] = le.fit_transform(x[:, i])\n",
    "    \n",
    "x"
   ]
  },
  {
   "cell_type": "code",
   "execution_count": 34,
   "id": "01d1ac79",
   "metadata": {
    "scrolled": false
   },
   "outputs": [
    {
     "data": {
      "text/html": [
       "<div>\n",
       "<style scoped>\n",
       "    .dataframe tbody tr th:only-of-type {\n",
       "        vertical-align: middle;\n",
       "    }\n",
       "\n",
       "    .dataframe tbody tr th {\n",
       "        vertical-align: top;\n",
       "    }\n",
       "\n",
       "    .dataframe thead th {\n",
       "        text-align: right;\n",
       "    }\n",
       "</style>\n",
       "<table border=\"1\" class=\"dataframe\">\n",
       "  <thead>\n",
       "    <tr style=\"text-align: right;\">\n",
       "      <th></th>\n",
       "      <th>price</th>\n",
       "    </tr>\n",
       "  </thead>\n",
       "  <tbody>\n",
       "    <tr>\n",
       "      <th>2344</th>\n",
       "      <td>9585.0</td>\n",
       "    </tr>\n",
       "    <tr>\n",
       "      <th>190</th>\n",
       "      <td>9585.0</td>\n",
       "    </tr>\n",
       "    <tr>\n",
       "      <th>2559</th>\n",
       "      <td>8900.0</td>\n",
       "    </tr>\n",
       "    <tr>\n",
       "      <th>2387</th>\n",
       "      <td>8395.0</td>\n",
       "    </tr>\n",
       "    <tr>\n",
       "      <th>2289</th>\n",
       "      <td>8295.0</td>\n",
       "    </tr>\n",
       "    <tr>\n",
       "      <th>...</th>\n",
       "      <td>...</td>\n",
       "    </tr>\n",
       "    <tr>\n",
       "      <th>325</th>\n",
       "      <td>15.0</td>\n",
       "    </tr>\n",
       "    <tr>\n",
       "      <th>1839</th>\n",
       "      <td>10.0</td>\n",
       "    </tr>\n",
       "    <tr>\n",
       "      <th>1946</th>\n",
       "      <td>10.0</td>\n",
       "    </tr>\n",
       "    <tr>\n",
       "      <th>2718</th>\n",
       "      <td>10.0</td>\n",
       "    </tr>\n",
       "    <tr>\n",
       "      <th>461</th>\n",
       "      <td>6.0</td>\n",
       "    </tr>\n",
       "  </tbody>\n",
       "</table>\n",
       "<p>1899 rows × 1 columns</p>\n",
       "</div>"
      ],
      "text/plain": [
       "       price\n",
       "2344  9585.0\n",
       "190   9585.0\n",
       "2559  8900.0\n",
       "2387  8395.0\n",
       "2289  8295.0\n",
       "...      ...\n",
       "325     15.0\n",
       "1839    10.0\n",
       "1946    10.0\n",
       "2718    10.0\n",
       "461      6.0\n",
       "\n",
       "[1899 rows x 1 columns]"
      ]
     },
     "execution_count": 34,
     "metadata": {},
     "output_type": "execute_result"
    }
   ],
   "source": [
    "y = droped_ikea_df[['price']]\n",
    "y "
   ]
  },
  {
   "cell_type": "code",
   "execution_count": 35,
   "id": "c7adf197",
   "metadata": {
    "scrolled": true
   },
   "outputs": [
    {
     "data": {
      "text/plain": [
       "array([2.80063806e-258])"
      ]
     },
     "execution_count": 35,
     "metadata": {},
     "output_type": "execute_result"
    }
   ],
   "source": [
    "from scipy.stats import f_oneway\n",
    "f_oneway(x, y).pvalue"
   ]
  },
  {
   "cell_type": "markdown",
   "id": "c7e3bec1",
   "metadata": {},
   "source": [
    "Як бачимо ціна та категорії не залежать одна від одної"
   ]
  },
  {
   "cell_type": "code",
   "execution_count": 36,
   "id": "356c7228",
   "metadata": {},
   "outputs": [
    {
     "data": {
      "text/html": [
       "<div>\n",
       "<style scoped>\n",
       "    .dataframe tbody tr th:only-of-type {\n",
       "        vertical-align: middle;\n",
       "    }\n",
       "\n",
       "    .dataframe tbody tr th {\n",
       "        vertical-align: top;\n",
       "    }\n",
       "\n",
       "    .dataframe thead th {\n",
       "        text-align: right;\n",
       "    }\n",
       "</style>\n",
       "<table border=\"1\" class=\"dataframe\">\n",
       "  <thead>\n",
       "    <tr style=\"text-align: right;\">\n",
       "      <th></th>\n",
       "      <th>volume_cm3</th>\n",
       "    </tr>\n",
       "  </thead>\n",
       "  <tbody>\n",
       "    <tr>\n",
       "      <th>2344</th>\n",
       "      <td>6473736.0</td>\n",
       "    </tr>\n",
       "    <tr>\n",
       "      <th>190</th>\n",
       "      <td>6473736.0</td>\n",
       "    </tr>\n",
       "    <tr>\n",
       "      <th>2559</th>\n",
       "      <td>8570016.0</td>\n",
       "    </tr>\n",
       "    <tr>\n",
       "      <th>2387</th>\n",
       "      <td>6758109.0</td>\n",
       "    </tr>\n",
       "    <tr>\n",
       "      <th>2289</th>\n",
       "      <td>7849808.0</td>\n",
       "    </tr>\n",
       "    <tr>\n",
       "      <th>...</th>\n",
       "      <td>...</td>\n",
       "    </tr>\n",
       "    <tr>\n",
       "      <th>325</th>\n",
       "      <td>19125.0</td>\n",
       "    </tr>\n",
       "    <tr>\n",
       "      <th>1839</th>\n",
       "      <td>12600.0</td>\n",
       "    </tr>\n",
       "    <tr>\n",
       "      <th>1946</th>\n",
       "      <td>12600.0</td>\n",
       "    </tr>\n",
       "    <tr>\n",
       "      <th>2718</th>\n",
       "      <td>5625.0</td>\n",
       "    </tr>\n",
       "    <tr>\n",
       "      <th>461</th>\n",
       "      <td>40.0</td>\n",
       "    </tr>\n",
       "  </tbody>\n",
       "</table>\n",
       "<p>1899 rows × 1 columns</p>\n",
       "</div>"
      ],
      "text/plain": [
       "      volume_cm3\n",
       "2344   6473736.0\n",
       "190    6473736.0\n",
       "2559   8570016.0\n",
       "2387   6758109.0\n",
       "2289   7849808.0\n",
       "...          ...\n",
       "325      19125.0\n",
       "1839     12600.0\n",
       "1946     12600.0\n",
       "2718      5625.0\n",
       "461         40.0\n",
       "\n",
       "[1899 rows x 1 columns]"
      ]
     },
     "execution_count": 36,
     "metadata": {},
     "output_type": "execute_result"
    }
   ],
   "source": [
    "a = droped_ikea_df[['volume_cm3']]\n",
    "a"
   ]
  },
  {
   "cell_type": "code",
   "execution_count": 37,
   "id": "d0b2d49b",
   "metadata": {},
   "outputs": [
    {
     "data": {
      "text/html": [
       "<div>\n",
       "<style scoped>\n",
       "    .dataframe tbody tr th:only-of-type {\n",
       "        vertical-align: middle;\n",
       "    }\n",
       "\n",
       "    .dataframe tbody tr th {\n",
       "        vertical-align: top;\n",
       "    }\n",
       "\n",
       "    .dataframe thead th {\n",
       "        text-align: right;\n",
       "    }\n",
       "</style>\n",
       "<table border=\"1\" class=\"dataframe\">\n",
       "  <thead>\n",
       "    <tr style=\"text-align: right;\">\n",
       "      <th></th>\n",
       "      <th>price</th>\n",
       "    </tr>\n",
       "  </thead>\n",
       "  <tbody>\n",
       "    <tr>\n",
       "      <th>2344</th>\n",
       "      <td>9585.0</td>\n",
       "    </tr>\n",
       "    <tr>\n",
       "      <th>190</th>\n",
       "      <td>9585.0</td>\n",
       "    </tr>\n",
       "    <tr>\n",
       "      <th>2559</th>\n",
       "      <td>8900.0</td>\n",
       "    </tr>\n",
       "    <tr>\n",
       "      <th>2387</th>\n",
       "      <td>8395.0</td>\n",
       "    </tr>\n",
       "    <tr>\n",
       "      <th>2289</th>\n",
       "      <td>8295.0</td>\n",
       "    </tr>\n",
       "    <tr>\n",
       "      <th>...</th>\n",
       "      <td>...</td>\n",
       "    </tr>\n",
       "    <tr>\n",
       "      <th>325</th>\n",
       "      <td>15.0</td>\n",
       "    </tr>\n",
       "    <tr>\n",
       "      <th>1839</th>\n",
       "      <td>10.0</td>\n",
       "    </tr>\n",
       "    <tr>\n",
       "      <th>1946</th>\n",
       "      <td>10.0</td>\n",
       "    </tr>\n",
       "    <tr>\n",
       "      <th>2718</th>\n",
       "      <td>10.0</td>\n",
       "    </tr>\n",
       "    <tr>\n",
       "      <th>461</th>\n",
       "      <td>6.0</td>\n",
       "    </tr>\n",
       "  </tbody>\n",
       "</table>\n",
       "<p>1899 rows × 1 columns</p>\n",
       "</div>"
      ],
      "text/plain": [
       "       price\n",
       "2344  9585.0\n",
       "190   9585.0\n",
       "2559  8900.0\n",
       "2387  8395.0\n",
       "2289  8295.0\n",
       "...      ...\n",
       "325     15.0\n",
       "1839    10.0\n",
       "1946    10.0\n",
       "2718    10.0\n",
       "461      6.0\n",
       "\n",
       "[1899 rows x 1 columns]"
      ]
     },
     "execution_count": 37,
     "metadata": {},
     "output_type": "execute_result"
    }
   ],
   "source": [
    "b = droped_ikea_df[['price']]\n",
    "b "
   ]
  },
  {
   "cell_type": "code",
   "execution_count": 38,
   "id": "5b33c322",
   "metadata": {},
   "outputs": [
    {
     "data": {
      "text/plain": [
       "array([7.34438282e-241])"
      ]
     },
     "execution_count": 38,
     "metadata": {},
     "output_type": "execute_result"
    }
   ],
   "source": [
    "from scipy.stats import f_oneway\n",
    "f_oneway(b, a).pvalue"
   ]
  },
  {
   "cell_type": "markdown",
   "id": "8045ba8d",
   "metadata": {},
   "source": [
    "Ціна на товар не залежить від його розміру."
   ]
  },
  {
   "cell_type": "markdown",
   "id": "30aa086e",
   "metadata": {},
   "source": [
    "ІІІ. Не варто включати в модель стовпці, які містять інформацію стосовно назви товару, дизайнер, інформацію про сайт та опис номенклатури.\n",
    "В нашому випадку оптимальним варіантом для прогнозування ціни є розміри меблів та категорія. \n",
    "\n",
    "Взагальному, при прогнозуванні ціни головну роль відіграє собівартість одиниці товару, в яку входить і матеріали, і оплата праці, і бренд та інші додаткові витрати. На основі таких даних ми могли б навчити модель формувати більш реальну ціну на меблі. "
   ]
  },
  {
   "cell_type": "code",
   "execution_count": 39,
   "id": "6d1cef92",
   "metadata": {},
   "outputs": [],
   "source": [
    "from sklearn.pipeline import Pipeline\n",
    "from sklearn.impute import SimpleImputer\n",
    "from sklearn.preprocessing import OneHotEncoder, StandardScaler\n",
    "from sklearn.neighbors import KNeighborsClassifier, KNeighborsRegressor\n",
    "from sklearn.model_selection import train_test_split\n",
    "from sklearn.metrics import accuracy_score, mean_squared_error\n",
    "from sklearn.compose import ColumnTransformer\n",
    "from sklearn.tree import DecisionTreeRegressor"
   ]
  },
  {
   "cell_type": "code",
   "execution_count": 40,
   "id": "53f7d1ee",
   "metadata": {
    "scrolled": false
   },
   "outputs": [
    {
     "data": {
      "text/html": [
       "<div>\n",
       "<style scoped>\n",
       "    .dataframe tbody tr th:only-of-type {\n",
       "        vertical-align: middle;\n",
       "    }\n",
       "\n",
       "    .dataframe tbody tr th {\n",
       "        vertical-align: top;\n",
       "    }\n",
       "\n",
       "    .dataframe thead th {\n",
       "        text-align: right;\n",
       "    }\n",
       "</style>\n",
       "<table border=\"1\" class=\"dataframe\">\n",
       "  <thead>\n",
       "    <tr style=\"text-align: right;\">\n",
       "      <th></th>\n",
       "      <th>category</th>\n",
       "      <th>name</th>\n",
       "      <th>price</th>\n",
       "      <th>sellable_online</th>\n",
       "      <th>designer</th>\n",
       "      <th>depth</th>\n",
       "      <th>height</th>\n",
       "      <th>width</th>\n",
       "      <th>volume_cm3</th>\n",
       "    </tr>\n",
       "  </thead>\n",
       "  <tbody>\n",
       "    <tr>\n",
       "      <th>2344</th>\n",
       "      <td>Sofas &amp; armchairs</td>\n",
       "      <td>LIDHULT</td>\n",
       "      <td>9585.0</td>\n",
       "      <td>True</td>\n",
       "      <td>Henrik Preutz/IKEA of Sweden</td>\n",
       "      <td>164.0</td>\n",
       "      <td>102.0</td>\n",
       "      <td>387.0</td>\n",
       "      <td>6473736.0</td>\n",
       "    </tr>\n",
       "    <tr>\n",
       "      <th>190</th>\n",
       "      <td>Beds</td>\n",
       "      <td>LIDHULT</td>\n",
       "      <td>9585.0</td>\n",
       "      <td>True</td>\n",
       "      <td>Henrik Preutz/IKEA of Sweden</td>\n",
       "      <td>164.0</td>\n",
       "      <td>102.0</td>\n",
       "      <td>387.0</td>\n",
       "      <td>6473736.0</td>\n",
       "    </tr>\n",
       "    <tr>\n",
       "      <th>2559</th>\n",
       "      <td>Sofas &amp; armchairs</td>\n",
       "      <td>GRÖNLID</td>\n",
       "      <td>8900.0</td>\n",
       "      <td>True</td>\n",
       "      <td>Francis Cayouette</td>\n",
       "      <td>252.0</td>\n",
       "      <td>104.0</td>\n",
       "      <td>327.0</td>\n",
       "      <td>8570016.0</td>\n",
       "    </tr>\n",
       "    <tr>\n",
       "      <th>2387</th>\n",
       "      <td>Sofas &amp; armchairs</td>\n",
       "      <td>VIMLE</td>\n",
       "      <td>8395.0</td>\n",
       "      <td>True</td>\n",
       "      <td>Ehlén Johansson</td>\n",
       "      <td>249.0</td>\n",
       "      <td>83.0</td>\n",
       "      <td>327.0</td>\n",
       "      <td>6758109.0</td>\n",
       "    </tr>\n",
       "    <tr>\n",
       "      <th>2289</th>\n",
       "      <td>Sofas &amp; armchairs</td>\n",
       "      <td>KIVIK</td>\n",
       "      <td>8295.0</td>\n",
       "      <td>True</td>\n",
       "      <td>Ola Wihlborg</td>\n",
       "      <td>257.0</td>\n",
       "      <td>83.0</td>\n",
       "      <td>368.0</td>\n",
       "      <td>7849808.0</td>\n",
       "    </tr>\n",
       "    <tr>\n",
       "      <th>...</th>\n",
       "      <td>...</td>\n",
       "      <td>...</td>\n",
       "      <td>...</td>\n",
       "      <td>...</td>\n",
       "      <td>...</td>\n",
       "      <td>...</td>\n",
       "      <td>...</td>\n",
       "      <td>...</td>\n",
       "      <td>...</td>\n",
       "    </tr>\n",
       "    <tr>\n",
       "      <th>325</th>\n",
       "      <td>Bookcases &amp; shelving units</td>\n",
       "      <td>JONAXEL</td>\n",
       "      <td>15.0</td>\n",
       "      <td>True</td>\n",
       "      <td>IKEA of Sweden</td>\n",
       "      <td>51.0</td>\n",
       "      <td>15.0</td>\n",
       "      <td>25.0</td>\n",
       "      <td>19125.0</td>\n",
       "    </tr>\n",
       "    <tr>\n",
       "      <th>1839</th>\n",
       "      <td>Children's furniture</td>\n",
       "      <td>TROFAST</td>\n",
       "      <td>10.0</td>\n",
       "      <td>False</td>\n",
       "      <td>404.662.85 Fits in TROFAST frames.Can be stack...</td>\n",
       "      <td>30.0</td>\n",
       "      <td>10.0</td>\n",
       "      <td>42.0</td>\n",
       "      <td>12600.0</td>\n",
       "    </tr>\n",
       "    <tr>\n",
       "      <th>1946</th>\n",
       "      <td>Nursery furniture</td>\n",
       "      <td>TROFAST</td>\n",
       "      <td>10.0</td>\n",
       "      <td>False</td>\n",
       "      <td>404.662.85 Fits in TROFAST frames.Can be stack...</td>\n",
       "      <td>30.0</td>\n",
       "      <td>10.0</td>\n",
       "      <td>42.0</td>\n",
       "      <td>12600.0</td>\n",
       "    </tr>\n",
       "    <tr>\n",
       "      <th>2718</th>\n",
       "      <td>Tables &amp; desks</td>\n",
       "      <td>ISBERGET</td>\n",
       "      <td>10.0</td>\n",
       "      <td>True</td>\n",
       "      <td>Sarah Fager</td>\n",
       "      <td>25.0</td>\n",
       "      <td>9.0</td>\n",
       "      <td>25.0</td>\n",
       "      <td>5625.0</td>\n",
       "    </tr>\n",
       "    <tr>\n",
       "      <th>461</th>\n",
       "      <td>Bookcases &amp; shelving units</td>\n",
       "      <td>SKÅDIS</td>\n",
       "      <td>6.0</td>\n",
       "      <td>True</td>\n",
       "      <td>Eva Lilja Löwenhielm</td>\n",
       "      <td>2.0</td>\n",
       "      <td>4.0</td>\n",
       "      <td>5.0</td>\n",
       "      <td>40.0</td>\n",
       "    </tr>\n",
       "  </tbody>\n",
       "</table>\n",
       "<p>1899 rows × 9 columns</p>\n",
       "</div>"
      ],
      "text/plain": [
       "                        category      name   price  sellable_online  \\\n",
       "2344           Sofas & armchairs   LIDHULT  9585.0             True   \n",
       "190                         Beds   LIDHULT  9585.0             True   \n",
       "2559           Sofas & armchairs   GRÖNLID  8900.0             True   \n",
       "2387           Sofas & armchairs     VIMLE  8395.0             True   \n",
       "2289           Sofas & armchairs     KIVIK  8295.0             True   \n",
       "...                          ...       ...     ...              ...   \n",
       "325   Bookcases & shelving units   JONAXEL    15.0             True   \n",
       "1839        Children's furniture   TROFAST    10.0            False   \n",
       "1946           Nursery furniture   TROFAST    10.0            False   \n",
       "2718              Tables & desks  ISBERGET    10.0             True   \n",
       "461   Bookcases & shelving units    SKÅDIS     6.0             True   \n",
       "\n",
       "                                               designer  depth  height  width  \\\n",
       "2344                       Henrik Preutz/IKEA of Sweden  164.0   102.0  387.0   \n",
       "190                        Henrik Preutz/IKEA of Sweden  164.0   102.0  387.0   \n",
       "2559                                  Francis Cayouette  252.0   104.0  327.0   \n",
       "2387                                    Ehlén Johansson  249.0    83.0  327.0   \n",
       "2289                                       Ola Wihlborg  257.0    83.0  368.0   \n",
       "...                                                 ...    ...     ...    ...   \n",
       "325                                      IKEA of Sweden   51.0    15.0   25.0   \n",
       "1839  404.662.85 Fits in TROFAST frames.Can be stack...   30.0    10.0   42.0   \n",
       "1946  404.662.85 Fits in TROFAST frames.Can be stack...   30.0    10.0   42.0   \n",
       "2718                                        Sarah Fager   25.0     9.0   25.0   \n",
       "461                                Eva Lilja Löwenhielm    2.0     4.0    5.0   \n",
       "\n",
       "      volume_cm3  \n",
       "2344   6473736.0  \n",
       "190    6473736.0  \n",
       "2559   8570016.0  \n",
       "2387   6758109.0  \n",
       "2289   7849808.0  \n",
       "...          ...  \n",
       "325      19125.0  \n",
       "1839     12600.0  \n",
       "1946     12600.0  \n",
       "2718      5625.0  \n",
       "461         40.0  \n",
       "\n",
       "[1899 rows x 9 columns]"
      ]
     },
     "execution_count": 40,
     "metadata": {},
     "output_type": "execute_result"
    }
   ],
   "source": [
    "droped_ikea_df"
   ]
  },
  {
   "cell_type": "code",
   "execution_count": 41,
   "id": "cff3d9bd",
   "metadata": {},
   "outputs": [],
   "source": [
    "X = droped_ikea_df[['depth', 'width','height', 'category']]\n",
    "y = droped_ikea_df['price']"
   ]
  },
  {
   "cell_type": "code",
   "execution_count": 42,
   "id": "5f081942",
   "metadata": {},
   "outputs": [
    {
     "name": "stdout",
     "output_type": "stream",
     "text": [
      "64732.354538686304\n",
      "57129.05103007825\n",
      "60547.48431070295\n",
      "61453.65507470002\n",
      "54417.11842553\n",
      "60341.44003681641\n",
      "57603.69027758569\n",
      "60429.52004523368\n",
      "57608.640839222215\n",
      "61257.92986768301\n",
      "61773.44979770961\n",
      "62396.34926490517\n",
      "56798.371197015695\n",
      "56710.80027796455\n",
      "47139.06097759759\n",
      "62597.1504492114\n",
      "59562.069330846854\n",
      "62572.64595525598\n",
      "63315.98548204185\n",
      "62766.82750937866\n",
      "Mean: 407124.28277999477\n"
     ]
    }
   ],
   "source": [
    "numeric_pipeline = Pipeline(steps=[\n",
    "    ('impute', SimpleImputer(strategy='most_frequent')),\n",
    "    ('scale', StandardScaler())\n",
    "])\n",
    "\n",
    "categorical_pipeline = Pipeline(steps=[\n",
    "    ('impute', SimpleImputer(strategy='most_frequent')),\n",
    "    ('onehot', OneHotEncoder(handle_unknown = 'ignore')),\n",
    "])\n",
    "\n",
    "preprocessing = ColumnTransformer(transformers=[\n",
    "    ('numeric_pipeline', numeric_pipeline, ['depth', 'width', 'height']),\n",
    "    ('categorical_pipeline', categorical_pipeline, ['category']),\n",
    "])\n",
    "\n",
    "model = Pipeline(steps=[\n",
    "    ('preprocessing', preprocessing),\n",
    "    ('regression', DecisionTreeRegressor()),\n",
    "])\n",
    "\n",
    "results = []\n",
    "\n",
    "for _ in range(20):\n",
    "    X_train, X_test, y_train, y_test = train_test_split(X, y, test_size=.1)\n",
    "    model.fit(X_train, y_train)\n",
    "\n",
    "    model.score(X_test, y_test)\n",
    "    y_predict = model.predict(X_test)\n",
    "    print(mean_squared_error(y_train, model.predict(X_train)))\n",
    "    result = mean_squared_error(y_test, y_predict)\n",
    "    results.append(result)\n",
    "    \n",
    "print('Mean:', np.mean(results))"
   ]
  },
  {
   "cell_type": "code",
   "execution_count": 43,
   "id": "0f08aabb",
   "metadata": {},
   "outputs": [
    {
     "data": {
      "text/html": [
       "<style  type=\"text/css\" >\n",
       "#T_6c162_row0_col0,#T_6c162_row1_col1,#T_6c162_row2_col2,#T_6c162_row3_col3,#T_6c162_row4_col4,#T_6c162_row5_col5{\n",
       "            background-color:  #b40426;\n",
       "            color:  #f1f1f1;\n",
       "        }#T_6c162_row0_col1,#T_6c162_row1_col0,#T_6c162_row1_col4,#T_6c162_row1_col5,#T_6c162_row2_col1,#T_6c162_row2_col3,#T_6c162_row3_col2,#T_6c162_row5_col1{\n",
       "            background-color:  #3b4cc0;\n",
       "            color:  #f1f1f1;\n",
       "        }#T_6c162_row0_col2{\n",
       "            background-color:  #f6bda2;\n",
       "            color:  #000000;\n",
       "        }#T_6c162_row0_col3{\n",
       "            background-color:  #a7c5fe;\n",
       "            color:  #000000;\n",
       "        }#T_6c162_row0_col4{\n",
       "            background-color:  #f49a7b;\n",
       "            color:  #000000;\n",
       "        }#T_6c162_row0_col5,#T_6c162_row5_col0{\n",
       "            background-color:  #ea7b60;\n",
       "            color:  #000000;\n",
       "        }#T_6c162_row1_col2{\n",
       "            background-color:  #6485ec;\n",
       "            color:  #000000;\n",
       "        }#T_6c162_row1_col3{\n",
       "            background-color:  #6788ee;\n",
       "            color:  #000000;\n",
       "        }#T_6c162_row2_col0{\n",
       "            background-color:  #f2cbb7;\n",
       "            color:  #000000;\n",
       "        }#T_6c162_row2_col4{\n",
       "            background-color:  #b9d0f9;\n",
       "            color:  #000000;\n",
       "        }#T_6c162_row2_col5{\n",
       "            background-color:  #f5c1a9;\n",
       "            color:  #000000;\n",
       "        }#T_6c162_row3_col0{\n",
       "            background-color:  #82a6fb;\n",
       "            color:  #000000;\n",
       "        }#T_6c162_row3_col1{\n",
       "            background-color:  #3e51c5;\n",
       "            color:  #f1f1f1;\n",
       "        }#T_6c162_row3_col4{\n",
       "            background-color:  #90b2fe;\n",
       "            color:  #000000;\n",
       "        }#T_6c162_row3_col5{\n",
       "            background-color:  #c1d4f4;\n",
       "            color:  #000000;\n",
       "        }#T_6c162_row4_col0{\n",
       "            background-color:  #f4987a;\n",
       "            color:  #000000;\n",
       "        }#T_6c162_row4_col1{\n",
       "            background-color:  #4055c8;\n",
       "            color:  #f1f1f1;\n",
       "        }#T_6c162_row4_col2{\n",
       "            background-color:  #d5dbe5;\n",
       "            color:  #000000;\n",
       "        }#T_6c162_row4_col3{\n",
       "            background-color:  #b6cefa;\n",
       "            color:  #000000;\n",
       "        }#T_6c162_row4_col5{\n",
       "            background-color:  #ee8669;\n",
       "            color:  #000000;\n",
       "        }#T_6c162_row5_col2{\n",
       "            background-color:  #f7b396;\n",
       "            color:  #000000;\n",
       "        }#T_6c162_row5_col3{\n",
       "            background-color:  #d8dce2;\n",
       "            color:  #000000;\n",
       "        }#T_6c162_row5_col4{\n",
       "            background-color:  #ef886b;\n",
       "            color:  #000000;\n",
       "        }</style><table id=\"T_6c162_\" ><thead>    <tr>        <th class=\"blank level0\" ></th>        <th class=\"col_heading level0 col0\" >price</th>        <th class=\"col_heading level0 col1\" >sellable_online</th>        <th class=\"col_heading level0 col2\" >depth</th>        <th class=\"col_heading level0 col3\" >height</th>        <th class=\"col_heading level0 col4\" >width</th>        <th class=\"col_heading level0 col5\" >volume_cm3</th>    </tr></thead><tbody>\n",
       "                <tr>\n",
       "                        <th id=\"T_6c162_level0_row0\" class=\"row_heading level0 row0\" >price</th>\n",
       "                        <td id=\"T_6c162_row0_col0\" class=\"data row0 col0\" >1.000000</td>\n",
       "                        <td id=\"T_6c162_row0_col1\" class=\"data row0 col1\" >0.064614</td>\n",
       "                        <td id=\"T_6c162_row0_col2\" class=\"data row0 col2\" >0.624527</td>\n",
       "                        <td id=\"T_6c162_row0_col3\" class=\"data row0 col3\" >0.272564</td>\n",
       "                        <td id=\"T_6c162_row0_col4\" class=\"data row0 col4\" >0.769460</td>\n",
       "                        <td id=\"T_6c162_row0_col5\" class=\"data row0 col5\" >0.830576</td>\n",
       "            </tr>\n",
       "            <tr>\n",
       "                        <th id=\"T_6c162_level0_row1\" class=\"row_heading level0 row1\" >sellable_online</th>\n",
       "                        <td id=\"T_6c162_row1_col0\" class=\"data row1 col0\" >0.064614</td>\n",
       "                        <td id=\"T_6c162_row1_col1\" class=\"data row1 col1\" >1.000000</td>\n",
       "                        <td id=\"T_6c162_row1_col2\" class=\"data row1 col2\" >0.063722</td>\n",
       "                        <td id=\"T_6c162_row1_col3\" class=\"data row1 col3\" >0.073444</td>\n",
       "                        <td id=\"T_6c162_row1_col4\" class=\"data row1 col4\" >0.080909</td>\n",
       "                        <td id=\"T_6c162_row1_col5\" class=\"data row1 col5\" >0.061420</td>\n",
       "            </tr>\n",
       "            <tr>\n",
       "                        <th id=\"T_6c162_level0_row2\" class=\"row_heading level0 row2\" >depth</th>\n",
       "                        <td id=\"T_6c162_row2_col0\" class=\"data row2 col0\" >0.624527</td>\n",
       "                        <td id=\"T_6c162_row2_col1\" class=\"data row2 col1\" >0.063722</td>\n",
       "                        <td id=\"T_6c162_row2_col2\" class=\"data row2 col2\" >1.000000</td>\n",
       "                        <td id=\"T_6c162_row2_col3\" class=\"data row2 col3\" >-0.079860</td>\n",
       "                        <td id=\"T_6c162_row2_col4\" class=\"data row2 col4\" >0.428208</td>\n",
       "                        <td id=\"T_6c162_row2_col5\" class=\"data row2 col5\" >0.657148</td>\n",
       "            </tr>\n",
       "            <tr>\n",
       "                        <th id=\"T_6c162_level0_row3\" class=\"row_heading level0 row3\" >height</th>\n",
       "                        <td id=\"T_6c162_row3_col0\" class=\"data row3 col0\" >0.272564</td>\n",
       "                        <td id=\"T_6c162_row3_col1\" class=\"data row3 col1\" >0.073444</td>\n",
       "                        <td id=\"T_6c162_row3_col2\" class=\"data row3 col2\" >-0.079860</td>\n",
       "                        <td id=\"T_6c162_row3_col3\" class=\"data row3 col3\" >1.000000</td>\n",
       "                        <td id=\"T_6c162_row3_col4\" class=\"data row3 col4\" >0.318152</td>\n",
       "                        <td id=\"T_6c162_row3_col5\" class=\"data row3 col5\" >0.441504</td>\n",
       "            </tr>\n",
       "            <tr>\n",
       "                        <th id=\"T_6c162_level0_row4\" class=\"row_heading level0 row4\" >width</th>\n",
       "                        <td id=\"T_6c162_row4_col0\" class=\"data row4 col0\" >0.769460</td>\n",
       "                        <td id=\"T_6c162_row4_col1\" class=\"data row4 col1\" >0.080909</td>\n",
       "                        <td id=\"T_6c162_row4_col2\" class=\"data row4 col2\" >0.428208</td>\n",
       "                        <td id=\"T_6c162_row4_col3\" class=\"data row4 col3\" >0.318152</td>\n",
       "                        <td id=\"T_6c162_row4_col4\" class=\"data row4 col4\" >1.000000</td>\n",
       "                        <td id=\"T_6c162_row4_col5\" class=\"data row4 col5\" >0.807096</td>\n",
       "            </tr>\n",
       "            <tr>\n",
       "                        <th id=\"T_6c162_level0_row5\" class=\"row_heading level0 row5\" >volume_cm3</th>\n",
       "                        <td id=\"T_6c162_row5_col0\" class=\"data row5 col0\" >0.830576</td>\n",
       "                        <td id=\"T_6c162_row5_col1\" class=\"data row5 col1\" >0.061420</td>\n",
       "                        <td id=\"T_6c162_row5_col2\" class=\"data row5 col2\" >0.657148</td>\n",
       "                        <td id=\"T_6c162_row5_col3\" class=\"data row5 col3\" >0.441504</td>\n",
       "                        <td id=\"T_6c162_row5_col4\" class=\"data row5 col4\" >0.807096</td>\n",
       "                        <td id=\"T_6c162_row5_col5\" class=\"data row5 col5\" >1.000000</td>\n",
       "            </tr>\n",
       "    </tbody></table>"
      ],
      "text/plain": [
       "<pandas.io.formats.style.Styler at 0x293b3f91b20>"
      ]
     },
     "execution_count": 43,
     "metadata": {},
     "output_type": "execute_result"
    }
   ],
   "source": [
    "corr = droped_ikea_df.corr()\n",
    "corr.style.background_gradient(cmap='coolwarm')"
   ]
  },
  {
   "cell_type": "code",
   "execution_count": 100,
   "id": "c749846c",
   "metadata": {},
   "outputs": [],
   "source": []
  }
 ],
 "metadata": {
  "kernelspec": {
   "display_name": "Python 3",
   "language": "python",
   "name": "python3"
  },
  "language_info": {
   "codemirror_mode": {
    "name": "ipython",
    "version": 3
   },
   "file_extension": ".py",
   "mimetype": "text/x-python",
   "name": "python",
   "nbconvert_exporter": "python",
   "pygments_lexer": "ipython3",
   "version": "3.8.8"
  }
 },
 "nbformat": 4,
 "nbformat_minor": 5
}
