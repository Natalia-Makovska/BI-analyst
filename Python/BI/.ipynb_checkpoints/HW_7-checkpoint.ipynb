{
 "cells": [
  {
   "cell_type": "markdown",
   "id": "9793d590",
   "metadata": {},
   "source": [
    "# HW_7"
   ]
  },
  {
   "cell_type": "markdown",
   "id": "c104b0fd",
   "metadata": {},
   "source": [
    "1.Sum of all numbers from 1 to 500"
   ]
  },
  {
   "cell_type": "code",
   "execution_count": 1,
   "id": "93a844d4",
   "metadata": {},
   "outputs": [],
   "source": [
    "import numpy as np"
   ]
  },
  {
   "cell_type": "code",
   "execution_count": 2,
   "id": "9ba6b96a",
   "metadata": {},
   "outputs": [
    {
     "data": {
      "text/plain": [
       "125250"
      ]
     },
     "execution_count": 2,
     "metadata": {},
     "output_type": "execute_result"
    }
   ],
   "source": [
    "numbers = np.arange(1, 501)\n",
    "numbers.sum()"
   ]
  },
  {
   "cell_type": "markdown",
   "id": "25518024",
   "metadata": {},
   "source": [
    "2.Sum of squares of all numbers from 1 to 10"
   ]
  },
  {
   "cell_type": "code",
   "execution_count": 3,
   "id": "c75d865e",
   "metadata": {},
   "outputs": [
    {
     "data": {
      "text/plain": [
       "385"
      ]
     },
     "execution_count": 3,
     "metadata": {},
     "output_type": "execute_result"
    }
   ],
   "source": [
    "numbers = np.arange(1, 11)\n",
    "(numbers**2).sum()"
   ]
  },
  {
   "cell_type": "markdown",
   "id": "0129ec5c",
   "metadata": {},
   "source": [
    "3.Median of squares of all numbers from 1 to 100 "
   ]
  },
  {
   "cell_type": "code",
   "execution_count": 4,
   "id": "a1e5b3ab",
   "metadata": {},
   "outputs": [
    {
     "data": {
      "text/plain": [
       "2550.5"
      ]
     },
     "execution_count": 4,
     "metadata": {},
     "output_type": "execute_result"
    }
   ],
   "source": [
    "numbers = np.arange(1, 101)\n",
    "squares = numbers ** 2\n",
    "np.median(squares)"
   ]
  },
  {
   "cell_type": "markdown",
   "id": "ae4db201",
   "metadata": {},
   "source": [
    "4.Mean of squares of all numbers from 1 to 100"
   ]
  },
  {
   "cell_type": "code",
   "execution_count": 5,
   "id": "82a41ef1",
   "metadata": {},
   "outputs": [
    {
     "data": {
      "text/plain": [
       "3383.5"
      ]
     },
     "execution_count": 5,
     "metadata": {},
     "output_type": "execute_result"
    }
   ],
   "source": [
    "numbers = np.arange(1, 101)\n",
    "squares = numbers ** 2\n",
    "np.mean(squares)"
   ]
  },
  {
   "cell_type": "markdown",
   "id": "c002802c",
   "metadata": {},
   "source": [
    "5.Standard deviation of squares of all numbers from 1 to 100"
   ]
  },
  {
   "cell_type": "code",
   "execution_count": 6,
   "id": "2a772be4",
   "metadata": {},
   "outputs": [
    {
     "data": {
      "text/plain": [
       "3009.1960803510297"
      ]
     },
     "execution_count": 6,
     "metadata": {},
     "output_type": "execute_result"
    }
   ],
   "source": [
    "numbers = np.arange(1, 101)\n",
    "std = numbers ** 2\n",
    "np.std(std)"
   ]
  },
  {
   "cell_type": "markdown",
   "id": "36872141",
   "metadata": {},
   "source": [
    "6.Calculate the standard deviation of an array ​without using​ np.std."
   ]
  },
  {
   "cell_type": "code",
   "execution_count": 7,
   "id": "84a2309d",
   "metadata": {},
   "outputs": [
    {
     "data": {
      "text/plain": [
       "3009.1960803510297"
      ]
     },
     "execution_count": 7,
     "metadata": {},
     "output_type": "execute_result"
    }
   ],
   "source": [
    "numbers = np.arange(1, 101)\n",
    "a = numbers ** 2\n",
    "b = np.mean(a)\n",
    "std = np.sqrt(sum((a - b)**2)/(101-1))\n",
    "std"
   ]
  },
  {
   "cell_type": "markdown",
   "id": "6163ee9e",
   "metadata": {},
   "source": [
    "7.Take as input a real number x. For all integers in the range [100, 200], find the minimum distance to x, the maximum distance to x, and the mean distance to x. "
   ]
  },
  {
   "cell_type": "code",
   "execution_count": 8,
   "id": "40c78006",
   "metadata": {},
   "outputs": [
    {
     "name": "stdout",
     "output_type": "stream",
     "text": [
      "Enter the number:80\n"
     ]
    },
    {
     "data": {
      "text/plain": [
       "array([ 20,  21,  22,  23,  24,  25,  26,  27,  28,  29,  30,  31,  32,\n",
       "        33,  34,  35,  36,  37,  38,  39,  40,  41,  42,  43,  44,  45,\n",
       "        46,  47,  48,  49,  50,  51,  52,  53,  54,  55,  56,  57,  58,\n",
       "        59,  60,  61,  62,  63,  64,  65,  66,  67,  68,  69,  70,  71,\n",
       "        72,  73,  74,  75,  76,  77,  78,  79,  80,  81,  82,  83,  84,\n",
       "        85,  86,  87,  88,  89,  90,  91,  92,  93,  94,  95,  96,  97,\n",
       "        98,  99, 100, 101, 102, 103, 104, 105, 106, 107, 108, 109, 110,\n",
       "       111, 112, 113, 114, 115, 116, 117, 118, 119, 120])"
      ]
     },
     "execution_count": 8,
     "metadata": {},
     "output_type": "execute_result"
    }
   ],
   "source": [
    "x = int(input ('Enter the number:'))\n",
    "i_range = np.arange (100,201)\n",
    "distance = np.abs(x - i_range)\n",
    "\n",
    "distance"
   ]
  },
  {
   "cell_type": "code",
   "execution_count": 9,
   "id": "864bef78",
   "metadata": {},
   "outputs": [
    {
     "data": {
      "text/plain": [
       "20"
      ]
     },
     "execution_count": 9,
     "metadata": {},
     "output_type": "execute_result"
    }
   ],
   "source": [
    "distance.min()"
   ]
  },
  {
   "cell_type": "code",
   "execution_count": 10,
   "id": "695b7f9a",
   "metadata": {},
   "outputs": [
    {
     "data": {
      "text/plain": [
       "120"
      ]
     },
     "execution_count": 10,
     "metadata": {},
     "output_type": "execute_result"
    }
   ],
   "source": [
    "distance.max()"
   ]
  },
  {
   "cell_type": "code",
   "execution_count": 11,
   "id": "d0803e22",
   "metadata": {},
   "outputs": [
    {
     "data": {
      "text/plain": [
       "70.0"
      ]
     },
     "execution_count": 11,
     "metadata": {},
     "output_type": "execute_result"
    }
   ],
   "source": [
    "np.mean(distance)"
   ]
  },
  {
   "cell_type": "markdown",
   "id": "c2d52e0d",
   "metadata": {},
   "source": [
    "8.Create a 2D array with 10 rows and 5 columns, based on the following rules:\n",
    "\n",
    "a.The first cell of the first row is 1.\n",
    "\n",
    "b.Each row’s first cell is twice the previous row’s first cell.\n",
    "\n",
    "c.Each non-first cell’s value is equal to the previous cell’s value (to the left) + 5.\n",
    "\n",
    "Calculate the mean of the square of each row, and the mean of the square of each column."
   ]
  },
  {
   "cell_type": "code",
   "execution_count": 12,
   "id": "dca9a172",
   "metadata": {},
   "outputs": [
    {
     "data": {
      "text/plain": [
       "array([[1., 1., 1., 1., 1.],\n",
       "       [1., 1., 1., 1., 1.],\n",
       "       [1., 1., 1., 1., 1.],\n",
       "       [1., 1., 1., 1., 1.],\n",
       "       [1., 1., 1., 1., 1.],\n",
       "       [1., 1., 1., 1., 1.],\n",
       "       [1., 1., 1., 1., 1.],\n",
       "       [1., 1., 1., 1., 1.],\n",
       "       [1., 1., 1., 1., 1.],\n",
       "       [1., 1., 1., 1., 1.]])"
      ]
     },
     "execution_count": 12,
     "metadata": {},
     "output_type": "execute_result"
    }
   ],
   "source": [
    "array_2D = np.ones((10,5))\n",
    "array_2D"
   ]
  },
  {
   "cell_type": "code",
   "execution_count": 13,
   "id": "25103557",
   "metadata": {},
   "outputs": [
    {
     "data": {
      "text/plain": [
       "array([[  1.,   1.,   1.,   1.,   1.],\n",
       "       [  2.,   1.,   1.,   1.,   1.],\n",
       "       [  4.,   1.,   1.,   1.,   1.],\n",
       "       [  8.,   1.,   1.,   1.,   1.],\n",
       "       [ 16.,   1.,   1.,   1.,   1.],\n",
       "       [ 32.,   1.,   1.,   1.,   1.],\n",
       "       [ 64.,   1.,   1.,   1.,   1.],\n",
       "       [128.,   1.,   1.,   1.,   1.],\n",
       "       [256.,   1.,   1.,   1.,   1.],\n",
       "       [512.,   1.,   1.,   1.,   1.]])"
      ]
     },
     "execution_count": 13,
     "metadata": {},
     "output_type": "execute_result"
    }
   ],
   "source": [
    "first_cell = 1\n",
    "\n",
    "for row in array_2D:\n",
    "    row[0] = first_cell\n",
    "    first_cell = first_cell * 2\n",
    "    \n",
    "array_2D"
   ]
  },
  {
   "cell_type": "code",
   "execution_count": 14,
   "id": "22368aec",
   "metadata": {},
   "outputs": [
    {
     "data": {
      "text/plain": [
       "array([[  1.,   6.,  11.,  16.,  21.],\n",
       "       [  2.,   7.,  12.,  17.,  22.],\n",
       "       [  4.,   9.,  14.,  19.,  24.],\n",
       "       [  8.,  13.,  18.,  23.,  28.],\n",
       "       [ 16.,  21.,  26.,  31.,  36.],\n",
       "       [ 32.,  37.,  42.,  47.,  52.],\n",
       "       [ 64.,  69.,  74.,  79.,  84.],\n",
       "       [128., 133., 138., 143., 148.],\n",
       "       [256., 261., 266., 271., 276.],\n",
       "       [512., 517., 522., 527., 532.]])"
      ]
     },
     "execution_count": 14,
     "metadata": {},
     "output_type": "execute_result"
    }
   ],
   "source": [
    "for row in array_2D:\n",
    "    for index in range(1, len(row)):\n",
    "        row[index] = row[index - 1] + 5\n",
    "    \n",
    "array_2D"
   ]
  },
  {
   "cell_type": "code",
   "execution_count": 15,
   "id": "27f8718c",
   "metadata": {},
   "outputs": [
    {
     "data": {
      "text/plain": [
       "array([[     1,     36,    121,    256,    441],\n",
       "       [     4,     49,    144,    289,    484],\n",
       "       [    16,     81,    196,    361,    576],\n",
       "       [    64,    169,    324,    529,    784],\n",
       "       [   256,    441,    676,    961,   1296],\n",
       "       [  1024,   1369,   1764,   2209,   2704],\n",
       "       [  4096,   4761,   5476,   6241,   7056],\n",
       "       [ 16384,  17689,  19044,  20449,  21904],\n",
       "       [ 65536,  68121,  70756,  73441,  76176],\n",
       "       [262144, 267289, 272484, 277729, 283024]])"
      ]
     },
     "execution_count": 15,
     "metadata": {},
     "output_type": "execute_result"
    }
   ],
   "source": [
    "new_array_2D = np.int32(array_2D**2)\n",
    "new_array_2D"
   ]
  },
  {
   "cell_type": "code",
   "execution_count": 16,
   "id": "c939879c",
   "metadata": {},
   "outputs": [
    {
     "data": {
      "text/plain": [
       "array([34952, 36000, 37098, 38246, 39444])"
      ]
     },
     "execution_count": 16,
     "metadata": {},
     "output_type": "execute_result"
    }
   ],
   "source": [
    "np.int32(new_array_2D.mean(axis=0))"
   ]
  },
  {
   "cell_type": "code",
   "execution_count": 17,
   "id": "293079e6",
   "metadata": {},
   "outputs": [
    {
     "data": {
      "text/plain": [
       "array([   171,    194,    246,    374,    726,   1814,   5526,  19094,\n",
       "        70806, 272534])"
      ]
     },
     "execution_count": 17,
     "metadata": {},
     "output_type": "execute_result"
    }
   ],
   "source": [
    "np.int32(new_array_2D.mean(axis=1))"
   ]
  }
 ],
 "metadata": {
  "kernelspec": {
   "display_name": "Python 3 (ipykernel)",
   "language": "python",
   "name": "python3"
  },
  "language_info": {
   "codemirror_mode": {
    "name": "ipython",
    "version": 3
   },
   "file_extension": ".py",
   "mimetype": "text/x-python",
   "name": "python",
   "nbconvert_exporter": "python",
   "pygments_lexer": "ipython3",
   "version": "3.10.0"
  }
 },
 "nbformat": 4,
 "nbformat_minor": 5
}
