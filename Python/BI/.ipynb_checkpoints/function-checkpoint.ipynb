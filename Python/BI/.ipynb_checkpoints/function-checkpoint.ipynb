{
 "cells": [
  {
   "cell_type": "code",
   "execution_count": 1,
   "id": "88ea7302-a407-455a-bfc4-8768f83348a3",
   "metadata": {},
   "outputs": [
    {
     "data": {
      "text/plain": [
       "'Test'"
      ]
     },
     "execution_count": 1,
     "metadata": {},
     "output_type": "execute_result"
    }
   ],
   "source": [
    "def make_capitalize(string):\n",
    "    return string.capitalize()\n",
    "\n",
    "make_capitalize('test')"
   ]
  },
  {
   "cell_type": "code",
   "execution_count": 21,
   "id": "16afe43f-92b9-4375-b1a9-0a63a15c00e9",
   "metadata": {},
   "outputs": [],
   "source": [
    "items = ['Joe', 'Alice', 'Piter', 'Jason', 'Kate']"
   ]
  },
  {
   "cell_type": "code",
   "execution_count": 45,
   "id": "ea0de4f6-8a23-4ba4-a44e-d74ca6687051",
   "metadata": {},
   "outputs": [],
   "source": [
    "def is_siblings(collection, element_1, element_2):\n",
    "   return abs(collection.index(element_1) - collection.index(element_2)) == 1"
   ]
  },
  {
   "cell_type": "code",
   "execution_count": 49,
   "id": "572d6f3c-db4c-4278-9855-c132ade85187",
   "metadata": {},
   "outputs": [],
   "source": [
    "def is_not_siblings(collection, element_1, element_2):\n",
    "   return abs(collection.index(element_1) - collection.index(element_2)) != 1"
   ]
  },
  {
   "cell_type": "code",
   "execution_count": 46,
   "id": "737a0257-7915-4be8-bd0c-fc3521c3a1d5",
   "metadata": {},
   "outputs": [
    {
     "data": {
      "text/plain": [
       "True"
      ]
     },
     "execution_count": 46,
     "metadata": {},
     "output_type": "execute_result"
    }
   ],
   "source": [
    "is_siblings(items, 'Joe', 'Alice')"
   ]
  },
  {
   "cell_type": "code",
   "execution_count": 50,
   "id": "63e0739a-a5bf-4f56-ad21-5c5be22f7e68",
   "metadata": {},
   "outputs": [
    {
     "data": {
      "text/plain": [
       "False"
      ]
     },
     "execution_count": 50,
     "metadata": {},
     "output_type": "execute_result"
    }
   ],
   "source": [
    "is_siblings(items,'Joe', 'Jason' )"
   ]
  },
  {
   "cell_type": "code",
   "execution_count": 51,
   "id": "bb53361b-db21-4703-82d9-61ef416c5735",
   "metadata": {},
   "outputs": [
    {
     "data": {
      "text/plain": [
       "True"
      ]
     },
     "execution_count": 51,
     "metadata": {},
     "output_type": "execute_result"
    }
   ],
   "source": [
    "is_siblings(items, 'Alice', 'Joe')"
   ]
  },
  {
   "cell_type": "code",
   "execution_count": 53,
   "id": "f1d05ca7-e02b-42bf-a47a-6a54275a8bba",
   "metadata": {},
   "outputs": [
    {
     "data": {
      "text/plain": [
       "True"
      ]
     },
     "execution_count": 53,
     "metadata": {},
     "output_type": "execute_result"
    }
   ],
   "source": [
    "is_not_siblings(items,'Joe', 'Piter')"
   ]
  },
  {
   "cell_type": "code",
   "execution_count": null,
   "id": "d03d0cbe-322c-43b0-95b4-72044c4a94e4",
   "metadata": {},
   "outputs": [],
   "source": []
  }
 ],
 "metadata": {
  "kernelspec": {
   "display_name": "Python 3",
   "language": "python",
   "name": "python3"
  },
  "language_info": {
   "codemirror_mode": {
    "name": "ipython",
    "version": 3
   },
   "file_extension": ".py",
   "mimetype": "text/x-python",
   "name": "python",
   "nbconvert_exporter": "python",
   "pygments_lexer": "ipython3",
   "version": "3.8.8"
  }
 },
 "nbformat": 4,
 "nbformat_minor": 5
}
